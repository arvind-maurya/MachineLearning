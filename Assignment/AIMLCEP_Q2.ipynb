{
  "nbformat": 4,
  "nbformat_minor": 0,
  "metadata": {
    "colab": {
      "name": "AIMLCEP_Q2.ipynb",
      "provenance": [],
      "collapsed_sections": [],
      "include_colab_link": true
    },
    "kernelspec": {
      "name": "python3",
      "display_name": "Python 3"
    },
    "language_info": {
      "name": "python"
    }
  },
  "cells": [
    {
      "cell_type": "markdown",
      "metadata": {
        "id": "view-in-github",
        "colab_type": "text"
      },
      "source": [
        "<a href=\"https://colab.research.google.com/github/arvind-maurya/MachineLearning/blob/master/Assignment/AIMLCEP_Q2.ipynb\" target=\"_parent\"><img src=\"https://colab.research.google.com/assets/colab-badge.svg\" alt=\"Open In Colab\"/></a>"
      ]
    },
    {
      "cell_type": "markdown",
      "metadata": {
        "id": "dE9sqluEjGoz"
      },
      "source": [
        "#Solution to Assignment question (Q2-a)"
      ]
    },
    {
      "cell_type": "markdown",
      "metadata": {
        "id": "ksFVSACCq3wP"
      },
      "source": [
        "In this session, we shall apply logistic regression and look at predictions using it."
      ]
    },
    {
      "cell_type": "code",
      "metadata": {
        "id": "cArLwvFdqyLV"
      },
      "source": [
        "#First, we import the required packages\n",
        "import pandas as pd #the pandas library is useful for data processing \n",
        "import numpy as np #numpy package will be useful for numerical computations\n",
        "import matplotlib.pyplot as plt #the matplotlib library is useful for plotting purposes\n",
        "\n",
        "# The following python directive helps to plot the graph in the notebook directly\n",
        "%matplotlib inline"
      ],
      "execution_count": 31,
      "outputs": []
    },
    {
      "cell_type": "markdown",
      "metadata": {
        "id": "imSI5BjGrNMW"
      },
      "source": [
        "Now let us consider some open source data sets available in the internet."
      ]
    },
    {
      "cell_type": "code",
      "metadata": {
        "colab": {
          "base_uri": "https://localhost:8080/",
          "height": 270
        },
        "id": "pdpI4baerHDw",
        "outputId": "4be3264d-cf2d-43b6-a9a3-8d94461ebc8e"
      },
      "source": [
        "spam_class_train_data = pd.read_excel('https://github.com/arvind-maurya/MachineLearning/blob/master/Assignment/Q2/Q2_classification_train.xlsx?raw=true', index_col=False, header=0)\n",
        "\n",
        "#print the first few rows of the data \n",
        "spam_class_train_data.head()"
      ],
      "execution_count": 32,
      "outputs": [
        {
          "output_type": "execute_result",
          "data": {
            "text/html": [
              "\n",
              "  <div id=\"df-2dfd9aab-9ed0-40d2-a911-86dfbf777263\">\n",
              "    <div class=\"colab-df-container\">\n",
              "      <div>\n",
              "<style scoped>\n",
              "    .dataframe tbody tr th:only-of-type {\n",
              "        vertical-align: middle;\n",
              "    }\n",
              "\n",
              "    .dataframe tbody tr th {\n",
              "        vertical-align: top;\n",
              "    }\n",
              "\n",
              "    .dataframe thead th {\n",
              "        text-align: right;\n",
              "    }\n",
              "</style>\n",
              "<table border=\"1\" class=\"dataframe\">\n",
              "  <thead>\n",
              "    <tr style=\"text-align: right;\">\n",
              "      <th></th>\n",
              "      <th>spam</th>\n",
              "      <th>to_multiple</th>\n",
              "      <th>from</th>\n",
              "      <th>cc</th>\n",
              "      <th>sent_email</th>\n",
              "      <th>image</th>\n",
              "      <th>attach</th>\n",
              "      <th>dollar</th>\n",
              "      <th>winner</th>\n",
              "      <th>inherit</th>\n",
              "      <th>viagra</th>\n",
              "      <th>password</th>\n",
              "      <th>num_char</th>\n",
              "      <th>line_breaks</th>\n",
              "      <th>format</th>\n",
              "      <th>re_subj</th>\n",
              "      <th>exclaim_subj</th>\n",
              "      <th>urgent_subj</th>\n",
              "      <th>exclaim_mess</th>\n",
              "      <th>number</th>\n",
              "    </tr>\n",
              "  </thead>\n",
              "  <tbody>\n",
              "    <tr>\n",
              "      <th>0</th>\n",
              "      <td>0</td>\n",
              "      <td>0</td>\n",
              "      <td>1</td>\n",
              "      <td>0</td>\n",
              "      <td>0</td>\n",
              "      <td>0</td>\n",
              "      <td>0</td>\n",
              "      <td>0</td>\n",
              "      <td>no</td>\n",
              "      <td>0</td>\n",
              "      <td>0</td>\n",
              "      <td>0</td>\n",
              "      <td>11.370</td>\n",
              "      <td>202</td>\n",
              "      <td>1</td>\n",
              "      <td>0</td>\n",
              "      <td>0</td>\n",
              "      <td>0</td>\n",
              "      <td>0</td>\n",
              "      <td>big</td>\n",
              "    </tr>\n",
              "    <tr>\n",
              "      <th>1</th>\n",
              "      <td>0</td>\n",
              "      <td>0</td>\n",
              "      <td>1</td>\n",
              "      <td>0</td>\n",
              "      <td>0</td>\n",
              "      <td>0</td>\n",
              "      <td>0</td>\n",
              "      <td>0</td>\n",
              "      <td>no</td>\n",
              "      <td>0</td>\n",
              "      <td>0</td>\n",
              "      <td>0</td>\n",
              "      <td>10.504</td>\n",
              "      <td>202</td>\n",
              "      <td>1</td>\n",
              "      <td>0</td>\n",
              "      <td>0</td>\n",
              "      <td>0</td>\n",
              "      <td>1</td>\n",
              "      <td>small</td>\n",
              "    </tr>\n",
              "    <tr>\n",
              "      <th>2</th>\n",
              "      <td>0</td>\n",
              "      <td>0</td>\n",
              "      <td>1</td>\n",
              "      <td>0</td>\n",
              "      <td>0</td>\n",
              "      <td>0</td>\n",
              "      <td>0</td>\n",
              "      <td>0</td>\n",
              "      <td>no</td>\n",
              "      <td>0</td>\n",
              "      <td>0</td>\n",
              "      <td>0</td>\n",
              "      <td>13.256</td>\n",
              "      <td>255</td>\n",
              "      <td>1</td>\n",
              "      <td>0</td>\n",
              "      <td>0</td>\n",
              "      <td>0</td>\n",
              "      <td>48</td>\n",
              "      <td>small</td>\n",
              "    </tr>\n",
              "    <tr>\n",
              "      <th>3</th>\n",
              "      <td>0</td>\n",
              "      <td>0</td>\n",
              "      <td>1</td>\n",
              "      <td>0</td>\n",
              "      <td>0</td>\n",
              "      <td>0</td>\n",
              "      <td>0</td>\n",
              "      <td>0</td>\n",
              "      <td>no</td>\n",
              "      <td>0</td>\n",
              "      <td>0</td>\n",
              "      <td>2</td>\n",
              "      <td>1.231</td>\n",
              "      <td>29</td>\n",
              "      <td>0</td>\n",
              "      <td>0</td>\n",
              "      <td>0</td>\n",
              "      <td>0</td>\n",
              "      <td>1</td>\n",
              "      <td>none</td>\n",
              "    </tr>\n",
              "    <tr>\n",
              "      <th>4</th>\n",
              "      <td>0</td>\n",
              "      <td>0</td>\n",
              "      <td>1</td>\n",
              "      <td>0</td>\n",
              "      <td>0</td>\n",
              "      <td>0</td>\n",
              "      <td>0</td>\n",
              "      <td>0</td>\n",
              "      <td>no</td>\n",
              "      <td>0</td>\n",
              "      <td>0</td>\n",
              "      <td>2</td>\n",
              "      <td>1.091</td>\n",
              "      <td>25</td>\n",
              "      <td>0</td>\n",
              "      <td>0</td>\n",
              "      <td>0</td>\n",
              "      <td>0</td>\n",
              "      <td>1</td>\n",
              "      <td>none</td>\n",
              "    </tr>\n",
              "  </tbody>\n",
              "</table>\n",
              "</div>\n",
              "      <button class=\"colab-df-convert\" onclick=\"convertToInteractive('df-2dfd9aab-9ed0-40d2-a911-86dfbf777263')\"\n",
              "              title=\"Convert this dataframe to an interactive table.\"\n",
              "              style=\"display:none;\">\n",
              "        \n",
              "  <svg xmlns=\"http://www.w3.org/2000/svg\" height=\"24px\"viewBox=\"0 0 24 24\"\n",
              "       width=\"24px\">\n",
              "    <path d=\"M0 0h24v24H0V0z\" fill=\"none\"/>\n",
              "    <path d=\"M18.56 5.44l.94 2.06.94-2.06 2.06-.94-2.06-.94-.94-2.06-.94 2.06-2.06.94zm-11 1L8.5 8.5l.94-2.06 2.06-.94-2.06-.94L8.5 2.5l-.94 2.06-2.06.94zm10 10l.94 2.06.94-2.06 2.06-.94-2.06-.94-.94-2.06-.94 2.06-2.06.94z\"/><path d=\"M17.41 7.96l-1.37-1.37c-.4-.4-.92-.59-1.43-.59-.52 0-1.04.2-1.43.59L10.3 9.45l-7.72 7.72c-.78.78-.78 2.05 0 2.83L4 21.41c.39.39.9.59 1.41.59.51 0 1.02-.2 1.41-.59l7.78-7.78 2.81-2.81c.8-.78.8-2.07 0-2.86zM5.41 20L4 18.59l7.72-7.72 1.47 1.35L5.41 20z\"/>\n",
              "  </svg>\n",
              "      </button>\n",
              "      \n",
              "  <style>\n",
              "    .colab-df-container {\n",
              "      display:flex;\n",
              "      flex-wrap:wrap;\n",
              "      gap: 12px;\n",
              "    }\n",
              "\n",
              "    .colab-df-convert {\n",
              "      background-color: #E8F0FE;\n",
              "      border: none;\n",
              "      border-radius: 50%;\n",
              "      cursor: pointer;\n",
              "      display: none;\n",
              "      fill: #1967D2;\n",
              "      height: 32px;\n",
              "      padding: 0 0 0 0;\n",
              "      width: 32px;\n",
              "    }\n",
              "\n",
              "    .colab-df-convert:hover {\n",
              "      background-color: #E2EBFA;\n",
              "      box-shadow: 0px 1px 2px rgba(60, 64, 67, 0.3), 0px 1px 3px 1px rgba(60, 64, 67, 0.15);\n",
              "      fill: #174EA6;\n",
              "    }\n",
              "\n",
              "    [theme=dark] .colab-df-convert {\n",
              "      background-color: #3B4455;\n",
              "      fill: #D2E3FC;\n",
              "    }\n",
              "\n",
              "    [theme=dark] .colab-df-convert:hover {\n",
              "      background-color: #434B5C;\n",
              "      box-shadow: 0px 1px 3px 1px rgba(0, 0, 0, 0.15);\n",
              "      filter: drop-shadow(0px 1px 2px rgba(0, 0, 0, 0.3));\n",
              "      fill: #FFFFFF;\n",
              "    }\n",
              "  </style>\n",
              "\n",
              "      <script>\n",
              "        const buttonEl =\n",
              "          document.querySelector('#df-2dfd9aab-9ed0-40d2-a911-86dfbf777263 button.colab-df-convert');\n",
              "        buttonEl.style.display =\n",
              "          google.colab.kernel.accessAllowed ? 'block' : 'none';\n",
              "\n",
              "        async function convertToInteractive(key) {\n",
              "          const element = document.querySelector('#df-2dfd9aab-9ed0-40d2-a911-86dfbf777263');\n",
              "          const dataTable =\n",
              "            await google.colab.kernel.invokeFunction('convertToInteractive',\n",
              "                                                     [key], {});\n",
              "          if (!dataTable) return;\n",
              "\n",
              "          const docLinkHtml = 'Like what you see? Visit the ' +\n",
              "            '<a target=\"_blank\" href=https://colab.research.google.com/notebooks/data_table.ipynb>data table notebook</a>'\n",
              "            + ' to learn more about interactive tables.';\n",
              "          element.innerHTML = '';\n",
              "          dataTable['output_type'] = 'display_data';\n",
              "          await google.colab.output.renderOutput(dataTable, element);\n",
              "          const docLink = document.createElement('div');\n",
              "          docLink.innerHTML = docLinkHtml;\n",
              "          element.appendChild(docLink);\n",
              "        }\n",
              "      </script>\n",
              "    </div>\n",
              "  </div>\n",
              "  "
            ],
            "text/plain": [
              "   spam  to_multiple  from  cc  ...  exclaim_subj  urgent_subj  exclaim_mess  number\n",
              "0     0            0     1   0  ...             0            0             0     big\n",
              "1     0            0     1   0  ...             0            0             1   small\n",
              "2     0            0     1   0  ...             0            0            48   small\n",
              "3     0            0     1   0  ...             0            0             1    none\n",
              "4     0            0     1   0  ...             0            0             1    none\n",
              "\n",
              "[5 rows x 20 columns]"
            ]
          },
          "metadata": {},
          "execution_count": 32
        }
      ]
    },
    {
      "cell_type": "code",
      "metadata": {
        "colab": {
          "base_uri": "https://localhost:8080/"
        },
        "id": "siTer_VR1wiG",
        "outputId": "544b7a79-9855-4bf5-98cf-dcfd0e76dd1b"
      },
      "source": [
        "#We see two data attributes namely winner and number as text data. We need to convert this to numerical data\n",
        "#Get the unique value of winner attribute\n",
        "winner = np.unique(spam_class_train_data['winner'])\n",
        "print('winner attribute unique value:',winner)\n",
        "\n",
        "number = np.unique(spam_class_train_data['number'])\n",
        "print('number attribute unique value:', number)\n",
        "#spam_class_train_data.describe()"
      ],
      "execution_count": 43,
      "outputs": [
        {
          "output_type": "stream",
          "name": "stdout",
          "text": [
            "winner attribute unique value: ['no' 'yes']\n",
            "number attribute unique value: ['big' 'none' 'small']\n"
          ]
        }
      ]
    },
    {
      "cell_type": "markdown",
      "source": [
        "We can now generate a label encoding scheme for mapping each category to a numeric value by leveraging scikit-learn"
      ],
      "metadata": {
        "id": "eY-x8PHGT6E9"
      }
    },
    {
      "cell_type": "code",
      "source": [
        "from sklearn.preprocessing import LabelEncoder\n",
        "gle = LabelEncoder()\n",
        "#transform winner column into numerical column\n",
        "winner_tf = gle.fit_transform(spam_class_train_data['winner'])\n",
        "winner_tf = {index: label for index, label in \n",
        "                  enumerate(gle.classes_)}\n",
        "winner_tf"
      ],
      "metadata": {
        "id": "sIHqKuB89RyG",
        "outputId": "ec65ab0c-7697-4d4d-f3ac-a089da76b710",
        "colab": {
          "base_uri": "https://localhost:8080/"
        }
      },
      "execution_count": 44,
      "outputs": [
        {
          "output_type": "execute_result",
          "data": {
            "text/plain": [
              "{0: 'no', 1: 'yes'}"
            ]
          },
          "metadata": {},
          "execution_count": 44
        }
      ]
    },
    {
      "cell_type": "code",
      "source": [
        "spam_class_train_data['winner_tf'] = winner_tf\n",
        "spam_class_train_data"
      ],
      "metadata": {
        "id": "XPXuadF9-g2q",
        "outputId": "3ab0bc5e-e7bf-4a09-f139-2c45ea2e5c8d",
        "colab": {
          "base_uri": "https://localhost:8080/",
          "height": 358
        }
      },
      "execution_count": 46,
      "outputs": [
        {
          "output_type": "error",
          "ename": "ValueError",
          "evalue": "ignored",
          "traceback": [
            "\u001b[0;31m---------------------------------------------------------------------------\u001b[0m",
            "\u001b[0;31mValueError\u001b[0m                                Traceback (most recent call last)",
            "\u001b[0;32m<ipython-input-46-0c8ec59c8c2e>\u001b[0m in \u001b[0;36m<module>\u001b[0;34m()\u001b[0m\n\u001b[0;32m----> 1\u001b[0;31m \u001b[0mspam_class_train_data\u001b[0m\u001b[0;34m[\u001b[0m\u001b[0;34m'winner_tf'\u001b[0m\u001b[0;34m]\u001b[0m \u001b[0;34m=\u001b[0m \u001b[0mwinner_tf\u001b[0m\u001b[0;34m\u001b[0m\u001b[0;34m\u001b[0m\u001b[0m\n\u001b[0m\u001b[1;32m      2\u001b[0m \u001b[0mvg_df\u001b[0m\u001b[0;34m[\u001b[0m\u001b[0;34m[\u001b[0m\u001b[0;34m'Name'\u001b[0m\u001b[0;34m,\u001b[0m \u001b[0;34m'Platform'\u001b[0m\u001b[0;34m,\u001b[0m \u001b[0;34m'Year'\u001b[0m\u001b[0;34m,\u001b[0m \u001b[0;34m'Genre'\u001b[0m\u001b[0;34m,\u001b[0m \u001b[0;34m'winner_tf'\u001b[0m\u001b[0;34m]\u001b[0m\u001b[0;34m]\u001b[0m\u001b[0;34m.\u001b[0m\u001b[0miloc\u001b[0m\u001b[0;34m[\u001b[0m\u001b[0;36m1\u001b[0m\u001b[0;34m:\u001b[0m\u001b[0;36m7\u001b[0m\u001b[0;34m]\u001b[0m\u001b[0;34m\u001b[0m\u001b[0;34m\u001b[0m\u001b[0m\n\u001b[1;32m      3\u001b[0m \u001b[0mspam_class_train_data\u001b[0m\u001b[0;34m\u001b[0m\u001b[0;34m\u001b[0m\u001b[0m\n",
            "\u001b[0;32m/usr/local/lib/python3.7/dist-packages/pandas/core/frame.py\u001b[0m in \u001b[0;36m__setitem__\u001b[0;34m(self, key, value)\u001b[0m\n\u001b[1;32m   3042\u001b[0m         \u001b[0;32melse\u001b[0m\u001b[0;34m:\u001b[0m\u001b[0;34m\u001b[0m\u001b[0;34m\u001b[0m\u001b[0m\n\u001b[1;32m   3043\u001b[0m             \u001b[0;31m# set column\u001b[0m\u001b[0;34m\u001b[0m\u001b[0;34m\u001b[0m\u001b[0;34m\u001b[0m\u001b[0m\n\u001b[0;32m-> 3044\u001b[0;31m             \u001b[0mself\u001b[0m\u001b[0;34m.\u001b[0m\u001b[0m_set_item\u001b[0m\u001b[0;34m(\u001b[0m\u001b[0mkey\u001b[0m\u001b[0;34m,\u001b[0m \u001b[0mvalue\u001b[0m\u001b[0;34m)\u001b[0m\u001b[0;34m\u001b[0m\u001b[0;34m\u001b[0m\u001b[0m\n\u001b[0m\u001b[1;32m   3045\u001b[0m \u001b[0;34m\u001b[0m\u001b[0m\n\u001b[1;32m   3046\u001b[0m     \u001b[0;32mdef\u001b[0m \u001b[0m_setitem_slice\u001b[0m\u001b[0;34m(\u001b[0m\u001b[0mself\u001b[0m\u001b[0;34m,\u001b[0m \u001b[0mkey\u001b[0m\u001b[0;34m:\u001b[0m \u001b[0mslice\u001b[0m\u001b[0;34m,\u001b[0m \u001b[0mvalue\u001b[0m\u001b[0;34m)\u001b[0m\u001b[0;34m:\u001b[0m\u001b[0;34m\u001b[0m\u001b[0;34m\u001b[0m\u001b[0m\n",
            "\u001b[0;32m/usr/local/lib/python3.7/dist-packages/pandas/core/frame.py\u001b[0m in \u001b[0;36m_set_item\u001b[0;34m(self, key, value)\u001b[0m\n\u001b[1;32m   3118\u001b[0m         \"\"\"\n\u001b[1;32m   3119\u001b[0m         \u001b[0mself\u001b[0m\u001b[0;34m.\u001b[0m\u001b[0m_ensure_valid_index\u001b[0m\u001b[0;34m(\u001b[0m\u001b[0mvalue\u001b[0m\u001b[0;34m)\u001b[0m\u001b[0;34m\u001b[0m\u001b[0;34m\u001b[0m\u001b[0m\n\u001b[0;32m-> 3120\u001b[0;31m         \u001b[0mvalue\u001b[0m \u001b[0;34m=\u001b[0m \u001b[0mself\u001b[0m\u001b[0;34m.\u001b[0m\u001b[0m_sanitize_column\u001b[0m\u001b[0;34m(\u001b[0m\u001b[0mkey\u001b[0m\u001b[0;34m,\u001b[0m \u001b[0mvalue\u001b[0m\u001b[0;34m)\u001b[0m\u001b[0;34m\u001b[0m\u001b[0;34m\u001b[0m\u001b[0m\n\u001b[0m\u001b[1;32m   3121\u001b[0m         \u001b[0mNDFrame\u001b[0m\u001b[0;34m.\u001b[0m\u001b[0m_set_item\u001b[0m\u001b[0;34m(\u001b[0m\u001b[0mself\u001b[0m\u001b[0;34m,\u001b[0m \u001b[0mkey\u001b[0m\u001b[0;34m,\u001b[0m \u001b[0mvalue\u001b[0m\u001b[0;34m)\u001b[0m\u001b[0;34m\u001b[0m\u001b[0;34m\u001b[0m\u001b[0m\n\u001b[1;32m   3122\u001b[0m \u001b[0;34m\u001b[0m\u001b[0m\n",
            "\u001b[0;32m/usr/local/lib/python3.7/dist-packages/pandas/core/frame.py\u001b[0m in \u001b[0;36m_sanitize_column\u001b[0;34m(self, key, value, broadcast)\u001b[0m\n\u001b[1;32m   3766\u001b[0m \u001b[0;34m\u001b[0m\u001b[0m\n\u001b[1;32m   3767\u001b[0m             \u001b[0;31m# turn me into an ndarray\u001b[0m\u001b[0;34m\u001b[0m\u001b[0;34m\u001b[0m\u001b[0;34m\u001b[0m\u001b[0m\n\u001b[0;32m-> 3768\u001b[0;31m             \u001b[0mvalue\u001b[0m \u001b[0;34m=\u001b[0m \u001b[0msanitize_index\u001b[0m\u001b[0;34m(\u001b[0m\u001b[0mvalue\u001b[0m\u001b[0;34m,\u001b[0m \u001b[0mself\u001b[0m\u001b[0;34m.\u001b[0m\u001b[0mindex\u001b[0m\u001b[0;34m)\u001b[0m\u001b[0;34m\u001b[0m\u001b[0;34m\u001b[0m\u001b[0m\n\u001b[0m\u001b[1;32m   3769\u001b[0m             \u001b[0;32mif\u001b[0m \u001b[0;32mnot\u001b[0m \u001b[0misinstance\u001b[0m\u001b[0;34m(\u001b[0m\u001b[0mvalue\u001b[0m\u001b[0;34m,\u001b[0m \u001b[0;34m(\u001b[0m\u001b[0mnp\u001b[0m\u001b[0;34m.\u001b[0m\u001b[0mndarray\u001b[0m\u001b[0;34m,\u001b[0m \u001b[0mIndex\u001b[0m\u001b[0;34m)\u001b[0m\u001b[0;34m)\u001b[0m\u001b[0;34m:\u001b[0m\u001b[0;34m\u001b[0m\u001b[0;34m\u001b[0m\u001b[0m\n\u001b[1;32m   3770\u001b[0m                 \u001b[0;32mif\u001b[0m \u001b[0misinstance\u001b[0m\u001b[0;34m(\u001b[0m\u001b[0mvalue\u001b[0m\u001b[0;34m,\u001b[0m \u001b[0mlist\u001b[0m\u001b[0;34m)\u001b[0m \u001b[0;32mand\u001b[0m \u001b[0mlen\u001b[0m\u001b[0;34m(\u001b[0m\u001b[0mvalue\u001b[0m\u001b[0;34m)\u001b[0m \u001b[0;34m>\u001b[0m \u001b[0;36m0\u001b[0m\u001b[0;34m:\u001b[0m\u001b[0;34m\u001b[0m\u001b[0;34m\u001b[0m\u001b[0m\n",
            "\u001b[0;32m/usr/local/lib/python3.7/dist-packages/pandas/core/internals/construction.py\u001b[0m in \u001b[0;36msanitize_index\u001b[0;34m(data, index)\u001b[0m\n\u001b[1;32m    746\u001b[0m     \u001b[0;32mif\u001b[0m \u001b[0mlen\u001b[0m\u001b[0;34m(\u001b[0m\u001b[0mdata\u001b[0m\u001b[0;34m)\u001b[0m \u001b[0;34m!=\u001b[0m \u001b[0mlen\u001b[0m\u001b[0;34m(\u001b[0m\u001b[0mindex\u001b[0m\u001b[0;34m)\u001b[0m\u001b[0;34m:\u001b[0m\u001b[0;34m\u001b[0m\u001b[0;34m\u001b[0m\u001b[0m\n\u001b[1;32m    747\u001b[0m         raise ValueError(\n\u001b[0;32m--> 748\u001b[0;31m             \u001b[0;34m\"Length of values \"\u001b[0m\u001b[0;34m\u001b[0m\u001b[0;34m\u001b[0m\u001b[0m\n\u001b[0m\u001b[1;32m    749\u001b[0m             \u001b[0;34mf\"({len(data)}) \"\u001b[0m\u001b[0;34m\u001b[0m\u001b[0;34m\u001b[0m\u001b[0m\n\u001b[1;32m    750\u001b[0m             \u001b[0;34m\"does not match length of index \"\u001b[0m\u001b[0;34m\u001b[0m\u001b[0;34m\u001b[0m\u001b[0m\n",
            "\u001b[0;31mValueError\u001b[0m: Length of values (2) does not match length of index (3136)"
          ]
        }
      ]
    },
    {
      "cell_type": "code",
      "source": [
        "number_tf = gle.fit_transform(spam_class_train_data['number'])\n",
        "number_tf = {index: label for index, label in \n",
        "                  enumerate(gle.classes_)}\n",
        "number_tf"
      ],
      "metadata": {
        "id": "UthXfe7G97Ky",
        "outputId": "61e8154c-c90b-43b7-aa18-0b594f7c3f47",
        "colab": {
          "base_uri": "https://localhost:8080/"
        }
      },
      "execution_count": 35,
      "outputs": [
        {
          "output_type": "execute_result",
          "data": {
            "text/plain": [
              "{0: 'big', 1: 'none', 2: 'small'}"
            ]
          },
          "metadata": {},
          "execution_count": 35
        }
      ]
    },
    {
      "cell_type": "code",
      "source": [
        "column_names = ['spam', 'to_multiple', 'from', 'cc', 'sent_email', 'image', 'attach',\n",
        "       'dollar', 'winner', 'winner_tf' 'inherit', 'viagra', 'password', 'num_char',\n",
        "       'line_breaks', 'format', 're_subj', 'exclaim_subj', 'urgent_subj',\n",
        "       'exclaim_mess', 'number', 'number_tf']\n",
        "\n",
        "df = df.reindex(columns=column_names)\n"
      ],
      "metadata": {
        "id": "fE2XprAbBRRm"
      },
      "execution_count": null,
      "outputs": []
    },
    {
      "cell_type": "markdown",
      "metadata": {
        "id": "mH8Dg8VjyUkB"
      },
      "source": [
        ""
      ]
    },
    {
      "cell_type": "code",
      "metadata": {
        "colab": {
          "base_uri": "https://localhost:8080/"
        },
        "id": "ZMDdCGmewUpO",
        "outputId": "307d1628-c503-4bd8-eced-40d9f6749788"
      },
      "source": [
        "X = iris_data['data'][:,:2]\n",
        "print(X)"
      ],
      "execution_count": null,
      "outputs": [
        {
          "output_type": "stream",
          "name": "stdout",
          "text": [
            "[[5.1 3.5]\n",
            " [4.9 3. ]\n",
            " [4.7 3.2]\n",
            " [4.6 3.1]\n",
            " [5.  3.6]\n",
            " [5.4 3.9]\n",
            " [4.6 3.4]\n",
            " [5.  3.4]\n",
            " [4.4 2.9]\n",
            " [4.9 3.1]\n",
            " [5.4 3.7]\n",
            " [4.8 3.4]\n",
            " [4.8 3. ]\n",
            " [4.3 3. ]\n",
            " [5.8 4. ]\n",
            " [5.7 4.4]\n",
            " [5.4 3.9]\n",
            " [5.1 3.5]\n",
            " [5.7 3.8]\n",
            " [5.1 3.8]\n",
            " [5.4 3.4]\n",
            " [5.1 3.7]\n",
            " [4.6 3.6]\n",
            " [5.1 3.3]\n",
            " [4.8 3.4]\n",
            " [5.  3. ]\n",
            " [5.  3.4]\n",
            " [5.2 3.5]\n",
            " [5.2 3.4]\n",
            " [4.7 3.2]\n",
            " [4.8 3.1]\n",
            " [5.4 3.4]\n",
            " [5.2 4.1]\n",
            " [5.5 4.2]\n",
            " [4.9 3.1]\n",
            " [5.  3.2]\n",
            " [5.5 3.5]\n",
            " [4.9 3.6]\n",
            " [4.4 3. ]\n",
            " [5.1 3.4]\n",
            " [5.  3.5]\n",
            " [4.5 2.3]\n",
            " [4.4 3.2]\n",
            " [5.  3.5]\n",
            " [5.1 3.8]\n",
            " [4.8 3. ]\n",
            " [5.1 3.8]\n",
            " [4.6 3.2]\n",
            " [5.3 3.7]\n",
            " [5.  3.3]\n",
            " [7.  3.2]\n",
            " [6.4 3.2]\n",
            " [6.9 3.1]\n",
            " [5.5 2.3]\n",
            " [6.5 2.8]\n",
            " [5.7 2.8]\n",
            " [6.3 3.3]\n",
            " [4.9 2.4]\n",
            " [6.6 2.9]\n",
            " [5.2 2.7]\n",
            " [5.  2. ]\n",
            " [5.9 3. ]\n",
            " [6.  2.2]\n",
            " [6.1 2.9]\n",
            " [5.6 2.9]\n",
            " [6.7 3.1]\n",
            " [5.6 3. ]\n",
            " [5.8 2.7]\n",
            " [6.2 2.2]\n",
            " [5.6 2.5]\n",
            " [5.9 3.2]\n",
            " [6.1 2.8]\n",
            " [6.3 2.5]\n",
            " [6.1 2.8]\n",
            " [6.4 2.9]\n",
            " [6.6 3. ]\n",
            " [6.8 2.8]\n",
            " [6.7 3. ]\n",
            " [6.  2.9]\n",
            " [5.7 2.6]\n",
            " [5.5 2.4]\n",
            " [5.5 2.4]\n",
            " [5.8 2.7]\n",
            " [6.  2.7]\n",
            " [5.4 3. ]\n",
            " [6.  3.4]\n",
            " [6.7 3.1]\n",
            " [6.3 2.3]\n",
            " [5.6 3. ]\n",
            " [5.5 2.5]\n",
            " [5.5 2.6]\n",
            " [6.1 3. ]\n",
            " [5.8 2.6]\n",
            " [5.  2.3]\n",
            " [5.6 2.7]\n",
            " [5.7 3. ]\n",
            " [5.7 2.9]\n",
            " [6.2 2.9]\n",
            " [5.1 2.5]\n",
            " [5.7 2.8]\n",
            " [6.3 3.3]\n",
            " [5.8 2.7]\n",
            " [7.1 3. ]\n",
            " [6.3 2.9]\n",
            " [6.5 3. ]\n",
            " [7.6 3. ]\n",
            " [4.9 2.5]\n",
            " [7.3 2.9]\n",
            " [6.7 2.5]\n",
            " [7.2 3.6]\n",
            " [6.5 3.2]\n",
            " [6.4 2.7]\n",
            " [6.8 3. ]\n",
            " [5.7 2.5]\n",
            " [5.8 2.8]\n",
            " [6.4 3.2]\n",
            " [6.5 3. ]\n",
            " [7.7 3.8]\n",
            " [7.7 2.6]\n",
            " [6.  2.2]\n",
            " [6.9 3.2]\n",
            " [5.6 2.8]\n",
            " [7.7 2.8]\n",
            " [6.3 2.7]\n",
            " [6.7 3.3]\n",
            " [7.2 3.2]\n",
            " [6.2 2.8]\n",
            " [6.1 3. ]\n",
            " [6.4 2.8]\n",
            " [7.2 3. ]\n",
            " [7.4 2.8]\n",
            " [7.9 3.8]\n",
            " [6.4 2.8]\n",
            " [6.3 2.8]\n",
            " [6.1 2.6]\n",
            " [7.7 3. ]\n",
            " [6.3 3.4]\n",
            " [6.4 3.1]\n",
            " [6.  3. ]\n",
            " [6.9 3.1]\n",
            " [6.7 3.1]\n",
            " [6.9 3.1]\n",
            " [5.8 2.7]\n",
            " [6.8 3.2]\n",
            " [6.7 3.3]\n",
            " [6.7 3. ]\n",
            " [6.3 2.5]\n",
            " [6.5 3. ]\n",
            " [6.2 3.4]\n",
            " [5.9 3. ]]\n"
          ]
        }
      ]
    },
    {
      "cell_type": "markdown",
      "metadata": {
        "id": "gxwtNOdw-Xfb"
      },
      "source": [
        "From the description, it is clear that *iris* dataset consists of essentially 3 classes: *Iris-Setosa*, *Iris-Versicolour*, *Iris-Virginica*. As logistic regression has been introduced as a binary classifier, we can alter the data into a binary classification problem based on finding whether a flower belongs to *Iris-Virginica* or not. In order to do that, we change the labels $\\{0,1\\}$ to $0$ and 2 to 1."
      ]
    },
    {
      "cell_type": "code",
      "metadata": {
        "colab": {
          "base_uri": "https://localhost:8080/"
        },
        "id": "zyhWD_Pr3_dR",
        "outputId": "0742021b-f0d3-4c47-c6cb-c7c588053c0c"
      },
      "source": [
        "y = np.where(iris_data['target'] == 2, 1, 0) #shorthand notation to change all labels other than 2 as 0 and 2 as 1\n",
        "print(y)"
      ],
      "execution_count": null,
      "outputs": [
        {
          "output_type": "stream",
          "name": "stdout",
          "text": [
            "[0 0 0 0 0 0 0 0 0 0 0 0 0 0 0 0 0 0 0 0 0 0 0 0 0 0 0 0 0 0 0 0 0 0 0 0 0\n",
            " 0 0 0 0 0 0 0 0 0 0 0 0 0 0 0 0 0 0 0 0 0 0 0 0 0 0 0 0 0 0 0 0 0 0 0 0 0\n",
            " 0 0 0 0 0 0 0 0 0 0 0 0 0 0 0 0 0 0 0 0 0 0 0 0 0 0 1 1 1 1 1 1 1 1 1 1 1\n",
            " 1 1 1 1 1 1 1 1 1 1 1 1 1 1 1 1 1 1 1 1 1 1 1 1 1 1 1 1 1 1 1 1 1 1 1 1 1\n",
            " 1 1]\n"
          ]
        }
      ]
    },
    {
      "cell_type": "code",
      "metadata": {
        "colab": {
          "base_uri": "https://localhost:8080/"
        },
        "id": "OPBS_KnG82F6",
        "outputId": "f73fea6b-3297-4370-a270-a8ae2adb00f3"
      },
      "source": [
        "from sklearn.model_selection import train_test_split\n",
        "X_train, X_test, y_train, y_test = train_test_split(X, y, test_size = 0.3, random_state = 1)\n",
        "print('Size of training set:', len(X_train))\n",
        "n = len(X_train)\n",
        "print('Size of testing set:', len(X_test))\n",
        "print(y_test)"
      ],
      "execution_count": null,
      "outputs": [
        {
          "output_type": "stream",
          "name": "stdout",
          "text": [
            "Size of training set: 105\n",
            "Size of testing set: 45\n",
            "[0 0 0 0 1 0 1 0 0 1 0 0 1 0 0 0 0 0 0 0 0 0 0 0 1 0 0 0 0 1 0 1 0 1 1 0 0\n",
            " 0 0 1 1 0 1 1 0]\n"
          ]
        }
      ]
    },
    {
      "cell_type": "markdown",
      "metadata": {
        "id": "QMalZbFjy8w0"
      },
      "source": [
        "We can further write $p(x)$ equivalently as:\n",
        "\n",
        "$\n",
        "p(x)=p(x;\\beta_0,\\beta_1) = \\frac{1}{1+e^{-(\\beta_0 + \\beta_1^T x)}}, \\text{where }\\beta_1,x\\in\\mathbb{R}^2.\n",
        "$\n",
        "\n",
        "If we denote $p(x)$ simply as $p$ and if we have the notations $\\mathbf{x}=\\begin{bmatrix}\n",
        "x \\\\ 1\n",
        "\\end{bmatrix}, \\beta=\\begin{bmatrix}\n",
        "\\beta_1 \\\\ \\beta_0\n",
        "\\end{bmatrix}$\n",
        "then we can write:\n",
        "\n",
        "$\n",
        "\\begin{align}\n",
        "p = \\frac{1}{1+e^{-\\beta^\\top \\mathbf{x}}}.\n",
        "\\end{align}\n",
        "$\n",
        "\n",
        "Then note the following that the following algebraic manipulations hold:\n",
        "\n",
        "$\n",
        "\\begin{align}\n",
        "p &= \\frac{1}{1+e^{-\\beta^\\top \\mathbf{x}}} \\\\\n",
        "\\implies 1 + e^{-\\beta^\\top \\mathbf{x}} &= \\frac{1}{p} \\\\\n",
        "\\implies  e^{-\\beta^\\top \\mathbf{x}} &= \\frac{1}{p} - 1 \\\\\n",
        "\\implies  e^{-\\beta^\\top \\mathbf{x}} &= \\frac{1-p}{p} \\\\\n",
        "\\implies \\ln e^{-\\beta^\\top \\mathbf{x}} &= \\ln \\frac{1-p}{p} \\\\\n",
        "\\implies -\\beta^\\top \\mathbf{x} &= \\ln \\frac{1-p}{p} \\\\\n",
        "\\implies \\beta^\\top \\mathbf{x} &= \\ln \\frac{p}{1-p} \\\\\n",
        "\\implies \\beta_0 + \\beta_1^T x &= \\ln \\frac{p}{1-p}.\n",
        "\\end{align}\n",
        "$\n",
        "\n",
        "Thus, even if we did not have a straightforward dependence of $Y$ on an observation $x$ of $X$ as a linear relation, we see that the linear relation $\\beta_0 + \\beta_1 x$ is related to the probability $p$ using:\n",
        "\n",
        "$\n",
        "\\ln\\frac{p}{1-p}=\\beta^\\top \\mathbf{x}.\n",
        "$\n",
        "\n",
        "Note that the ratio $\\frac{p}{1-p}$ is called $\\textbf{odds}$ that the event $Y=1$ occurs, and hence $\\ln \\frac{p}{1-p}$ denotes the $\\textbf{log odds}$. \n",
        "\n",
        "More popularly, the log odds $\\ln \\frac{p}{1-p}$ is called the $\\textbf{logit}$ function. \n"
      ]
    },
    {
      "cell_type": "markdown",
      "metadata": {
        "id": "4h5j_iGwAxgt"
      },
      "source": [
        "$\\Large{\\text{Likelihood function}}$ \n",
        "\n",
        "We now define a quantity which will be useful in the estimation of the parameters $\\beta_0, \\beta_1$ used to model $p$.\n",
        "\n",
        "\n",
        "Given an observation $X=x$ we define the $\\textbf{likelihood function}$ as: \n",
        "\n",
        "$\n",
        "L(y;p) = p^y(1-p)^{(1-y)}\n",
        "$\n",
        "\n",
        "where recall that $p=p(x)=p(x;\\beta_0,\\beta_1)=\\frac{1}{1+e^{-{(\\beta_0 + \\beta_1^T x)}}}$. Note that likelihood function is simply an equivalent way to represent $P[Y=y]$, when $Y$ is assumed to be Bernoulli random variable. \n",
        "\n",
        "Then observe that the natural goal is to maximize the likelihood function with respect to parameters $\\beta_0, \\beta_1$. \n",
        "\n",
        "Now given a data set $D$ containing $n$ observations of the form $\\{({x}^1,y^1), ({x}^2,y^2), \\ldots, ({x}^n,y^n)\\}$, and assuming that the pairs $({x}^i,y^i)$ are independent observations, then it is possible to extend the likelihood function as: \n",
        "\n",
        "$\n",
        "\\begin{align}\n",
        "L(y^1,\\ldots,y^n;p^1,\\ldots,p^n) = \\Pi_{i=1}^{n} {(p^i)}^{y^i}(1-p^i)^{(1-y^i)}.\n",
        "\\end{align}\n",
        "$\n",
        "\n",
        "We can now write the $\\textbf{log likelihood}$ function as:\n",
        "\n",
        "$\n",
        "\\begin{align}\n",
        "\\ln L(y^1,\\ldots,y^n;p^1,\\ldots,p^n) = \\sum_{i=1}^{n} y^i \\ln {(p^i)} + (1-y^i) \\ln (1-p^i).\n",
        "\\end{align}\n",
        "$\n",
        "\n",
        "Since log likelihood function is monotonic, maximizing the likelihood function is equivalent to maximizing the log likelihood function. \n",
        "\n",
        "Hence the concerned optimization problem is: \n",
        "\n",
        "$\n",
        "\\max_{\\beta_0, \\beta_1} \\ln L(y^1,\\ldots,y^n;p^1;\\ldots,p^n)= \\sum_{i=1}^{n} y^i \\ln {(p^i)} + (1-y^i) \\ln (1-p^i).\n",
        "$\n",
        "\n",
        "Note that $p^i = p(x^i) = p(x^i; \\beta_0, \\beta_1) = \\frac{1}{1+e^{-{(\\beta_0 + \\beta_1^T x^i)}}}, \\forall i = 1,\\ldots,n$.\n",
        "\n"
      ]
    },
    {
      "cell_type": "markdown",
      "metadata": {
        "id": "7MBRXqhZBAn2"
      },
      "source": [
        "$\\Large{\\text{Solving the likelihood maximization problem}}:$\n",
        "\n",
        "To solve \n",
        "\n",
        "$\n",
        "\\max_{\\beta_0, \\beta_1} \\ln L(y^1,\\ldots,y^n;p^1;\\ldots,p^n)= \\sum_{i=1}^{n} y^i \\ln {(p^i)} + (1-y^i) \\ln (1-p^i).\n",
        "$\n",
        "\n",
        "we can find the derivatives of the objective function with respect to $\\beta_0$ and $\\beta_1$ as:\n",
        "\n",
        "$\n",
        "\\begin{align}\n",
        "\\frac{\\partial{ \\ln L }} {\\partial \\beta_0} &= \\sum_{i=1}^{n} y^i (1-p^i) - (1-y^i) p^i \\\\ \n",
        "\\frac{\\partial{ \\ln L }} {\\partial \\beta_1} &= \\sum_{i=1}^{n} x^i(y^i (1-p^i) - (1-y^i) p^i)\n",
        "\\end{align}. \n",
        "$\n",
        "\n",
        "Equating these derivatives to zero will lead to system of non-linear equations which is generally difficult to solve to obtain closed form expression. \n",
        "\n",
        "Hence we generally adopt an iterative procedure as follows to find the optimal $\\beta_0, \\beta_1$. \n",
        "\n",
        "$\\large{\\text{Gradient ascent for solving the likelihood maximization problem}}:$\n",
        "\n",
        "$\n",
        "\\begin{align}\n",
        "&\\textbf{Step 0:}  \\text{Input data set $D$, tolerances $\\epsilon_1, \\epsilon_2$.} \\\\\n",
        "&\\textbf{Step 1:}  \\text{Start with arbitrary $\\beta_0, \\beta_1$.} \\\\\n",
        "&\\textbf{Step 2:}  \\text{For $k=1,2,\\ldots$} \\\\\n",
        "&\\quad \\quad \\textbf{Step 2.1:} \\text{Compute differentials  $\\frac{\\partial{ \\ln L }} {\\partial \\beta_0}$ and $\\frac{\\partial{ \\ln L }} {\\partial \\beta_1}$} \\\\\n",
        "&\\quad \\quad \\textbf{Step 2.2:}  \\text{Compute step length $\\eta$ using line search procedure} \\\\\n",
        "&\\quad \\quad \\textbf{Step 2.3:}  \\beta_0 = \\beta_0 + \\eta \\frac{\\partial{ \\ln L }} {\\partial \\beta_0} \\\\\n",
        "&\\quad \\quad \\textbf{Step 2.4:}  \\beta_1 = \\beta_1 + \\eta \\frac{\\partial{ \\ln L }} {\\partial \\beta_1} \\\\\n",
        "&\\quad \\quad \\textbf{Step 2.5:}  \\text{if $\\|\\nabla_{\\beta} \\ln L\\|_2 \\leq \\epsilon_1$ break from loop} \\\\\n",
        "&\\quad \\quad \\textbf{Step 2.6:}  \\text{if relative change in function value is $\\leq \\epsilon_2$ break from loop} \\\\\n",
        "&\\textbf{Step 3:}  \\text{ Output $\\beta_0, \\beta_1$}\n",
        "\\end{align}\n",
        "$\n",
        "\n",
        "Note that $\\nabla_{\\beta} \\ln L$ denotes the gradient of $\\ln L$ with respect to $\\beta$ given by:\n",
        "\n",
        "$\n",
        "\\nabla_{\\beta} \\ln L = \\begin{bmatrix}\n",
        "\\frac{\\partial{ \\ln L }} {\\partial \\beta_0}\\\\\n",
        "\\frac{\\partial{ \\ln L }} {\\partial \\beta_1}\n",
        "\\end{bmatrix}\n",
        "$\n",
        "\n",
        "and $\\eta$ denotes the learning rate. \n"
      ]
    },
    {
      "cell_type": "markdown",
      "metadata": {
        "id": "trVA-xqxBXKw"
      },
      "source": [
        "$\\Large{\\text{Computing } \\beta \\text{ for the training data set}}:$"
      ]
    },
    {
      "cell_type": "code",
      "metadata": {
        "id": "rWL4Sjys-D-d"
      },
      "source": [
        "import numpy as np\n",
        "#computing log likelihood function\n",
        "def log_likelihood(beta_0,beta_1):\n",
        "  log_likelihood = 0.0\n",
        "  for i in range(n):\n",
        "    x_i = X_train[i] #access element in training data\n",
        "    y_i = float(y_train[i]) #access label in trainning data\n",
        "    p_i = 1.0/(1.0+np.exp(-beta_0 - np.dot(beta_1,x_i))) #probability with the current beta_0, beta_1\n",
        "    log_likelihood += y_i*np.log(p_i) + (1.0-y_i)*np.log(1-p_i)\n",
        "  return log_likelihood"
      ],
      "execution_count": null,
      "outputs": []
    },
    {
      "cell_type": "code",
      "metadata": {
        "id": "VHHV4z67KTlS",
        "colab": {
          "base_uri": "https://localhost:8080/",
          "height": 1000
        },
        "outputId": "3165bcc4-8de2-4ed0-eb98-07ba8f19e94f"
      },
      "source": [
        "#gradient ascent for likelihood maximization \n",
        "beta_0 = 0.0\n",
        "beta_1 = np.zeros(2)\n",
        "max_iter = 1000000\n",
        "eps_1 = 0.00001 #tolerance for gradient norm\n",
        "eps_2 = 1e-9 #tolerance for relative function value difference\n",
        "\n",
        "f_val = log_likelihood(beta_0,beta_1)\n",
        "\n",
        "#store the objective function values for plotting purposes\n",
        "f_val_list = [] \n",
        "f_val_list.append(f_val)\n",
        "\n",
        "print('Initial values: beta_0:',beta_0, ' beta_1:',beta_1, ' log likeihood:', f_val)\n",
        "#the loop \n",
        "for k in range(max_iter):\n",
        "  \n",
        "  grad_beta_0 = 0.0\n",
        "  grad_beta_1= np.zeros(2)\n",
        "  #pass through the data to compute gradients\n",
        "  for i in range(n):\n",
        "    x_i = X_train[i] #access element in training set\n",
        "    y_i = float(y_train[i]) #access the label\n",
        "    p_i = 1.0/(1.0+np.exp(-beta_0 - np.dot(beta_1,x_i))) #probability with the current beta_0, beta_1\n",
        "    grad_beta_0 +=  (y_i * (1.0-p_i)) - ((1.0-y_i) * p_i)\n",
        "    grad_beta_1 +=  x_i * (y_i * (1.0-p_i) - (1.0-y_i) * p_i)\n",
        "  \n",
        "  #lr = linesearch(beta_0, beta_1, grad_beta_0, grad_beta_1, float(f_val_list[-1]))\n",
        "  lr = 0.0001\n",
        "  beta_0 += lr * grad_beta_0\n",
        "  beta_1 += lr * grad_beta_1\n",
        "  #print('k: ', k, ' grad beta_0: ', grad_beta_0, 'grad beta_1: ',grad_beta_1, 'beta_0:', beta_0, 'beta_1:',beta_1)\n",
        "  grad_norm = np.sqrt(grad_beta_0**2 + grad_beta_1[0]**2+ grad_beta_1[1]**2)\n",
        "  f_val = log_likelihood(beta_0,beta_1)\n",
        "  f_val_list.append(f_val)\n",
        "\n",
        "  rel_change_in_fval = np.abs((f_val - f_val_list[-2])/f_val_list[-2])\n",
        "\n",
        "  if k%10000+1 == 1:\n",
        "    print('k: ', k,  ' beta_0:', beta_0, ' beta_1:',beta_1, ' grad norm:', grad_norm, 'log likeihood:', f_val)\n",
        "  if grad_norm <= eps_1 or rel_change_in_fval <= eps_2:\n",
        "    break\n",
        "print('Final: k: ', k,  ' beta_0:', beta_0, ' beta_1:',beta_1, ' grad norm:', grad_norm, 'log likeihood:', f_val)\n",
        "\n",
        "\n",
        "#plot the function values during optimization \n",
        "plt.plot( f_val_list, '-r', label='Log Likelihood values')\n",
        "plt.title(\"Log likelihood function values vs iterations\")\n",
        "plt.xlabel(\"Iteration\")\n",
        "plt.ylabel(\"Log Likelihood\")\n",
        "plt.legend(loc='lower right')\n",
        "#plt.grid()\n",
        "plt.show()"
      ],
      "execution_count": null,
      "outputs": [
        {
          "output_type": "stream",
          "name": "stdout",
          "text": [
            "Initial values: beta_0: 0.0  beta_1: [0. 0.]  log likeihood: -72.78045395879433\n",
            "k:  0  beta_0: -0.0015500000000000002  beta_1: [-0.00631 -0.00488]  grad norm: 81.26069160424368 log likeihood: -72.15734638313027\n",
            "k:  10000  beta_0: -1.9873083366853073  beta_1: [ 1.22483999 -1.94405411]  grad norm: 1.573914284723166 log likeihood: -51.20199218606285\n",
            "k:  20000  beta_0: -3.406010171338023  beta_1: [ 1.37094165 -1.76496012]  grad norm: 1.3213727209653952 log likeihood: -49.1281937519371\n",
            "k:  30000  beta_0: -4.60757762834305  beta_1: [ 1.47391131 -1.57067582]  grad norm: 1.1283417302495815 log likeihood: -47.63298860078023\n",
            "k:  40000  beta_0: -5.638083540780409  beta_1: [ 1.56421139 -1.4083446 ]  grad norm: 0.9712535643092834 log likeihood: -46.53449079631529\n",
            "k:  50000  beta_0: -6.529158088694955  beta_1: [ 1.64458629 -1.27284031]  grad norm: 0.8427661048665015 log likeihood: -45.71428477146024\n",
            "k:  60000  beta_0: -7.305590752157852  beta_1: [ 1.71631571 -1.15836259]  grad norm: 0.7367463924349229 log likeihood: -45.09225413886222\n",
            "k:  70000  beta_0: -7.986875943265307  beta_1: [ 1.78050256 -1.06055857]  grad norm: 0.6483800868063461 log likeihood: -44.61377136779711\n",
            "k:  80000  beta_0: -8.58840353977924  beta_1: [ 1.83811074 -0.97618925]  grad norm: 0.573981205838497 log likeihood: -44.24104006923545\n",
            "k:  90000  beta_0: -9.122423234829267  beta_1: [ 1.88996809 -0.90280464]  grad norm: 0.5107437984837565 log likeihood: -43.94745705533983\n",
            "k:  100000  beta_0: -9.598785844285727  beta_1: [ 1.93678021 -0.83851877]  grad norm: 0.45652400447792973 log likeihood: -43.71396803925557\n",
            "k:  110000  beta_0: -10.025499449772763  beta_1: [ 1.97914786 -0.78185596]  grad norm: 0.4096703079535745 log likeihood: -43.52669595260046\n",
            "k:  120000  beta_0: -10.409143861348891  beta_1: [ 2.0175839  -0.73164433]  grad norm: 0.36889733785327106 log likeihood: -43.37537666396581\n",
            "k:  130000  beta_0: -10.75518024813445  beta_1: [ 2.0525279  -0.68694076]  grad norm: 0.3331936455762521 log likeihood: -43.252310407617166\n",
            "k:  140000  beta_0: -11.068184087031439  beta_1: [ 2.08435855 -0.64697707]  grad norm: 0.3017545376978443 log likeihood: -43.15164686495117\n",
            "k:  150000  beta_0: -11.352022053761917  beta_1: [ 2.11340371 -0.61112078]  grad norm: 0.2739329760825091 log likeihood: -43.06888948787066\n",
            "k:  160000  beta_0: -11.60998772717668  beta_1: [ 2.13994875 -0.57884601]  grad norm: 0.24920342153432684 log likeihood: -43.000546270209334\n",
            "k:  170000  beta_0: -11.844906792418975  beta_1: [ 2.1642432  -0.54971166]  grad norm: 0.2271349642862906 log likeihood: -42.9438799575939\n",
            "k:  180000  beta_0: -12.059219444575069  beta_1: [ 2.18650632 -0.52334473]  grad norm: 0.20737115637157447 log likeihood: -42.89672685352624\n",
            "k:  190000  beta_0: -12.255045580096965  beta_1: [ 2.20693155 -0.49942754]  grad norm: 0.18961471951814393 log likeihood: -42.85736366286466\n",
            "k:  200000  beta_0: -12.43423686335786  beta_1: [ 2.22569027 -0.47768769]  grad norm: 0.1736158326180327 log likeihood: -42.82440845499185\n",
            "k:  210000  beta_0: -12.598418686156014  beta_1: [ 2.24293484 -0.45789019]  grad norm: 0.15916307277407235 log likeihood: -42.79674618416105\n",
            "k:  220000  beta_0: -12.749024269698355  beta_1: [ 2.25880121 -0.43983119]  grad norm: 0.1460763427078893 log likeihood: -42.773472103903366\n",
            "k:  230000  beta_0: -12.887322602010416  beta_1: [ 2.27341101 -0.42333295]  grad norm: 0.13420129939726252 log likeihood: -42.75384837077527\n",
            "k:  240000  beta_0: -13.014441496842432  beta_1: [ 2.28687344 -0.40823976]  grad norm: 0.12340492790103919 log likeihood: -42.73727047394635\n",
            "k:  250000  beta_0: -13.13138675995087  beta_1: [ 2.29928673 -0.39441464]  grad norm: 0.11357199662560276 log likeihood: -42.72324105780167\n",
            "k:  260000  beta_0: -13.239058225129673  beta_1: [ 2.31073952 -0.38173656]  grad norm: 0.1046021968624849 log likeihood: -42.711349358584314\n",
            "k:  270000  beta_0: -13.338263254453755  beta_1: [ 2.32131193 -0.37009824]  grad norm: 0.0964078178833525 log likeihood: -42.701254940865184\n",
            "k:  280000  beta_0: -13.429728169960825  beta_1: [ 2.33107654 -0.35940424]  grad norm: 0.08891184446247033 log likeihood: -42.69267475364444\n",
            "k:  290000  beta_0: -13.514107986769051  beta_1: [ 2.34009924 -0.34956937]  grad norm: 0.08204639005740529 log likeihood: -42.685372768435485\n",
            "k:  300000  beta_0: -13.591994742739487  beta_1: [ 2.34843994 -0.34051741]  grad norm: 0.07575139857259457 log likeihood: -42.67915163953629\n",
            "k:  310000  beta_0: -13.66392466166246  beta_1: [ 2.35615318 -0.33217994]  grad norm: 0.06997356246488644 log likeihood: -42.67384595830944\n",
            "k:  320000  beta_0: -13.730384341505125  beta_1: [ 2.36328873 -0.32449542]  grad norm: 0.06466541621214571 log likeihood: -42.66931677153916\n",
            "k:  330000  beta_0: -13.791816123471792  beta_1: [ 2.36989202 -0.31740835]  grad norm: 0.05978457278143385 log likeihood: -42.66544710786977\n",
            "k:  340000  beta_0: -13.848622769277858  beta_1: [ 2.37600463 -0.31086858]  grad norm: 0.05529307737101221 log likeihood: -42.662138312401204\n",
            "k:  350000  beta_0: -13.901171551418777  beta_1: [ 2.38166458 -0.30483071]  grad norm: 0.051156857850708976 log likeihood: -42.65930703234908\n",
            "k:  360000  beta_0: -13.94979784307509  beta_1: [ 2.38690677 -0.29925353]  grad norm: 0.04734525534722489 log likeihood: -42.656882729621344\n",
            "k:  370000  beta_0: -13.994808279647163  beta_1: [ 2.39176318 -0.29409964]  grad norm: 0.04383062158253457 log likeihood: -42.65480562166547\n",
            "k:  380000  beta_0: -14.036483552041604  beta_1: [ 2.39626318 -0.28933496]  grad norm: 0.04058797207261407 log likeihood: -42.65302497180444\n",
            "k:  390000  beta_0: -14.07508088213638  beta_1: [ 2.40043379 -0.28492844]  grad norm: 0.03759468628203838 log likeihood: -42.65149766584228\n",
            "k:  400000  beta_0: -14.11083622291163  beta_1: [ 2.40429984 -0.28085175]  grad norm: 0.0348302474193727 log likeihood: -42.65018702397674\n",
            "k:  410000  beta_0: -14.143966219197992  beta_1: [ 2.40788419 -0.277079  ]  grad norm: 0.03227601583591722 log likeihood: -42.64906180676496\n",
            "k:  420000  beta_0: -14.17466995957781  beta_1: [ 2.4112079  -0.27358649]  grad norm: 0.02991503102302054 log likeihood: -42.64809538161021\n",
            "k:  430000  beta_0: -14.203130545482464  beta_1: [ 2.41429038 -0.27035252]  grad norm: 0.027731838041105468 log likeihood: -42.6472650224135\n",
            "k:  440000  beta_0: -14.229516499778715  beta_1: [ 2.41714954 -0.2673572 ]  grad norm: 0.025712334896987717 log likeihood: -42.646551319992376\n",
            "k:  450000  beta_0: -14.253983033991735  beta_1: [ 2.41980189 -0.26458227]  grad norm: 0.023843637946233523 log likeihood: -42.64593768486674\n",
            "k:  460000  beta_0: -14.276673190673687  beta_1: [ 2.42226267 -0.26201096]  grad norm: 0.022113962857620104 log likeihood: -42.64540992724924\n",
            "Final: k:  469107  beta_0: -14.295903144117167  beta_1: [ 2.42434895 -0.25983338]  grad norm: 0.020650575890602294 log likeihood: -42.64499372862197\n"
          ]
        },
        {
          "output_type": "display_data",
          "data": {
            "image/png": "[encoded data removed]",
            "text/plain": [
              "<Figure size 432x288 with 1 Axes>"
            ]
          },
          "metadata": {
            "needs_background": "light"
          }
        }
      ]
    },
    {
      "cell_type": "markdown",
      "metadata": {
        "id": "z1l96d4ytqBB"
      },
      "source": [
        "As discussed earlier, in logistic regression we aim to solve the following optimization problem:\n",
        "$$\n",
        "\\max_{\\beta_0, \\beta_1} \\ln L(y^1,\\ldots,y^n;p^1;\\ldots,p^n)= \\sum_{i=1}^{n} y^i \\ln {(p^i)} + (1-y^i) \\ln (1-p^i),\n",
        "$$\n",
        "where $p^i=p(x^i)= p(x^i; \\beta_0, \\beta_1) = \\frac{1}{1+e^{-{(\\beta_0 + \\beta_1^T x^i)}}}$,\n",
        "$x^i,\\beta_1\\in\\mathbb{R}^2,\\beta_0\\in\\mathbb{R}\\text{ and } y^i\\in\\{0,1\\},\\forall i = 1,\\ldots,n$.\n",
        "\n",
        "Provided the lables are $\\{-1,1\\}$ instead of $\\{0,1\\}$, using the probabilistic interpetation, we can write\n",
        "\n",
        "$p(x)=p(x;\\beta_0,\\beta_1)=\\frac{e^{(\\beta_0+\\beta_1^Tx)}}{1+e^{(\\beta_0+\\beta_1^Tx)}}$. Then we can rewrite this as\n",
        "$$P[y=1|x]=p(x)=\\frac{e^{(\\beta_0+\\beta_1^Tx)}}{1+e^{(\\beta_0+\\beta_1^Tx)}},$$\n",
        "$$P[y=-1|x]=1-p(x)=\\frac{1}{1+e^{(\\beta_0+\\beta_1^Tx)}}.$$\n",
        "Therefore,\n",
        "$$P[y=-1\\text{ or }1|x]=\\frac{1}{1+e^{-y(\\beta_0+\\beta_1^Tx)}}.$$\n",
        "Thus, the maximum log likelihood problem becomes\n",
        "\\begin{align*}\n",
        "\\max_{\\beta_0,\\beta_1}\\ln L &= \\sum_{i=1}^n\\ln\\left(\\frac{1}{1+e^{-y^i(\\beta_0+\\beta_1^Tx^i)}}\\right)\\\\\n",
        "&=-\\sum_{i=1}^n{\\ln\\left(1+e^{-y^i(\\beta_0+\\beta_1^Tx^i)}\\right)}.\n",
        "\\end{align*}\n",
        "The maximization problem can be converted to a minimization problem owing to the - sign ahead of the summation.\n",
        "Scikit-learn uses a regularized version of the minimization problem given by:\n",
        "$$\\min_{\\beta_0,\\beta_1}\\frac{1}{2}\\beta_1^T\\beta_1+C\\sum_{i=1}^n\\ln\\left({1+e^{-y^i(\\beta_0+\\beta_1^Tx^i)}}\\right),$$\n",
        "and considers the labels as -1 and 1 instead of 0 and 1."
      ]
    },
    {
      "cell_type": "markdown",
      "metadata": {
        "id": "UYbMbEDSgXVm"
      },
      "source": [
        "#Using sklearn to find the Logistic regression model"
      ]
    },
    {
      "cell_type": "code",
      "metadata": {
        "colab": {
          "base_uri": "https://localhost:8080/"
        },
        "id": "zr3ft-wVZ-rm",
        "outputId": "20b532dc-7cc8-47b9-e1fa-5b80d19b9060"
      },
      "source": [
        "from sklearn.linear_model import LogisticRegression\n",
        "# creating an object of LogisticRegression class\n",
        "logit = LogisticRegression(C=1e6) # C is set to be large number in order to remove the inbuilt regularization \n",
        "# fitting the training data\n",
        "logit.fit(X_train,y_train)"
      ],
      "execution_count": null,
      "outputs": [
        {
          "output_type": "execute_result",
          "data": {
            "text/plain": [
              "LogisticRegression(C=1000000.0, class_weight=None, dual=False,\n",
              "                   fit_intercept=True, intercept_scaling=1, l1_ratio=None,\n",
              "                   max_iter=100, multi_class='auto', n_jobs=None, penalty='l2',\n",
              "                   random_state=None, solver='lbfgs', tol=0.0001, verbose=0,\n",
              "                   warm_start=False)"
            ]
          },
          "metadata": {},
          "execution_count": 10
        }
      ]
    },
    {
      "cell_type": "code",
      "metadata": {
        "colab": {
          "base_uri": "https://localhost:8080/"
        },
        "id": "rLHQrGtkahYC",
        "outputId": "a8ea9371-650b-4e33-fc50-6fc999da6f81"
      },
      "source": [
        "print(logit.intercept_)\n",
        "print(logit.coef_)"
      ],
      "execution_count": null,
      "outputs": [
        {
          "output_type": "stream",
          "name": "stdout",
          "text": [
            "[-14.57054803]\n",
            "[[ 2.45422089 -0.22889307]]\n"
          ]
        }
      ]
    },
    {
      "cell_type": "code",
      "metadata": {
        "colab": {
          "base_uri": "https://localhost:8080/"
        },
        "id": "EE0XwUbGa-7X",
        "outputId": "8452683a-4400-444e-b47d-d9686b6b05dc"
      },
      "source": [
        "print('Train Accuracy:', logit.score(X_train,y_train)) #Average accuracy on training data"
      ],
      "execution_count": null,
      "outputs": [
        {
          "output_type": "stream",
          "name": "stdout",
          "text": [
            "Train Accuracy: 0.819047619047619\n"
          ]
        }
      ]
    },
    {
      "cell_type": "code",
      "metadata": {
        "colab": {
          "base_uri": "https://localhost:8080/"
        },
        "id": "Geon5ECtc2nQ",
        "outputId": "cd1fb756-fbb0-44d1-80bc-4cd8c73791be"
      },
      "source": [
        "from sklearn.metrics import accuracy_score\n",
        "y_test_predicted = logit.predict(X_test)\n",
        "print('Test Accuracy:', accuracy_score(y_test, y_test_predicted)) #Average accuracy on test data\n",
        "sum(y_test_predicted)"
      ],
      "execution_count": null,
      "outputs": [
        {
          "output_type": "stream",
          "name": "stdout",
          "text": [
            "Test Accuracy: 0.8222222222222222\n"
          ]
        },
        {
          "output_type": "execute_result",
          "data": {
            "text/plain": [
              "17"
            ]
          },
          "metadata": {},
          "execution_count": 13
        }
      ]
    },
    {
      "cell_type": "markdown",
      "metadata": {
        "id": "h6sDjA0KyTlf"
      },
      "source": [
        "**Visualization of the Model**"
      ]
    },
    {
      "cell_type": "code",
      "metadata": {
        "colab": {
          "base_uri": "https://localhost:8080/",
          "height": 279
        },
        "id": "myQ4gOJkuwu7",
        "outputId": "feaeaae3-5d0d-45e1-9836-22d0bb105e71"
      },
      "source": [
        "# point in the mesh [x_min, x_max]x[y_min, y_max].\n",
        "x_min, x_max = X[:, 0].min() - .5, X[:, 0].max() + .5\n",
        "y_min, y_max = X[:, 1].min() - .5, X[:, 1].max() + .5\n",
        "h = .01  # step size in the mesh\n",
        "xx, yy = np.meshgrid(np.arange(x_min, x_max, h), np.arange(y_min, y_max, h)) #creating x-y mesh for plot\n",
        "Z = logit.predict(np.c_[xx.ravel(), yy.ravel()]) #using the learned model to predict all points on the mesh\n",
        "# Put the result into a color plot\n",
        "Z = Z.reshape(xx.shape)\n",
        "plt.figure\n",
        "plt.pcolormesh(xx, yy, Z, cmap=plt.cm.Paired)\n",
        "\n",
        "# Plot also the training points\n",
        "plt.scatter(X[:, 0], X[:, 1], c=y, edgecolors='k', cmap=plt.cm.Paired) #Complete data set with the actual labels\n",
        "plt.xlabel('Sepal length')\n",
        "plt.ylabel('Sepal width')\n",
        "\n",
        "plt.xlim(xx.min(), xx.max())\n",
        "plt.ylim(yy.min(), yy.max())\n",
        "#plt.xticks(())\n",
        "#plt.yticks(())\n",
        "\n",
        "plt.show()"
      ],
      "execution_count": null,
      "outputs": [
        {
          "output_type": "display_data",
          "data": {
            "image/png": "[encoded data removed]",
            "text/plain": [
              "<Figure size 432x288 with 1 Axes>"
            ]
          },
          "metadata": {
            "needs_background": "light"
          }
        }
      ]
    },
    {
      "cell_type": "markdown",
      "metadata": {
        "id": "HeN53z24mVD5"
      },
      "source": [
        "Though the test accuracy is coming out to be better than training accuracy, we need to be careful as essentially we are dealing with imbalanced data. The number of samples with 0 label is significantly larger than the number of samples with 1 label. A better look may be obtained by looking at the corresponding **Confusion Matrix**."
      ]
    },
    {
      "cell_type": "code",
      "metadata": {
        "colab": {
          "base_uri": "https://localhost:8080/"
        },
        "id": "tChk-cxJdBfw",
        "outputId": "97e189ec-a41d-47f1-f83c-be71819e59ec"
      },
      "source": [
        "from sklearn.metrics import confusion_matrix\n",
        "cm = confusion_matrix(y_test, y_test_predicted)\n",
        "print(cm)"
      ],
      "execution_count": null,
      "outputs": [
        {
          "output_type": "stream",
          "name": "stdout",
          "text": [
            "[[26  6]\n",
            " [ 2 11]]\n"
          ]
        }
      ]
    },
    {
      "cell_type": "code",
      "metadata": {
        "colab": {
          "base_uri": "https://localhost:8080/",
          "height": 312
        },
        "id": "AWpPyl8khCsr",
        "outputId": "8dd4d73f-569b-4087-a49c-d2bb02bc9156"
      },
      "source": [
        "#Plotting the confusion matrix for better interpretation\n",
        "import seaborn as sns\n",
        "ax = plt.subplot()\n",
        "sns.heatmap(cm, annot=True, fmt='g', ax=ax)\n",
        "# labels, title and ticks\n",
        "ax.set_xlabel('Predicted labels')\n",
        "ax.set_ylabel('True labels')\n",
        "ax.set_title('Confusion Matrix')\n",
        "ax.xaxis.set_ticklabels(['0', '1'])\n",
        "ax.yaxis.set_ticklabels(['0', '1'])"
      ],
      "execution_count": null,
      "outputs": [
        {
          "output_type": "execute_result",
          "data": {
            "text/plain": [
              "[Text(0, 0.5, '0'), Text(0, 1.5, '1')]"
            ]
          },
          "metadata": {},
          "execution_count": 16
        },
        {
          "output_type": "display_data",
          "data": {
            "image/png": "[encoded data removed]",
            "text/plain": [
              "<Figure size 432x288 with 2 Axes>"
            ]
          },
          "metadata": {
            "needs_background": "light"
          }
        }
      ]
    },
    {
      "cell_type": "markdown",
      "metadata": {
        "id": "tTzqynPVneWn"
      },
      "source": [
        "In order to deal with *imbalanced data*, we can look at the following:\n",
        "\n",
        "\n",
        "*   True Positive  (TP)\n",
        "*   True Negative  (TN)\n",
        "*   False Positive (FP)\n",
        "*   False Negative (FN).\n",
        "\n",
        "Based on the above classes, the following can be defined:\n",
        "$$Sensitivity = \\frac{TP}{TP + FN}$$\n",
        "$$Specificity = \\frac{TN}{FP + TN}$$\n",
        "$$Precision = \\frac{TP}{TP + FP}$$\n",
        "$$Recall = \\frac{TP}{TP + FN}$$\n",
        "$$F-Measure = 2\\frac{Precision\\times Recall}{Precision + Recall}$$\n",
        "\n",
        "Note: All the expressions are based on the existence of a positive class and a negative class.\n",
        "\n",
        "\n",
        "\n",
        "\n"
      ]
    },
    {
      "cell_type": "code",
      "metadata": {
        "colab": {
          "base_uri": "https://localhost:8080/"
        },
        "id": "v7VJl24YhzD5",
        "outputId": "187f3c00-ab37-4e11-fa46-e46c82d07f76"
      },
      "source": [
        "from sklearn.metrics import precision_recall_fscore_support\n",
        "precision_recall_fscore_support(y_test, y_test_predicted) #class-wise evaluation of the metrics."
      ],
      "execution_count": null,
      "outputs": [
        {
          "output_type": "execute_result",
          "data": {
            "text/plain": [
              "(array([0.92857143, 0.64705882]),\n",
              " array([0.8125    , 0.84615385]),\n",
              " array([0.86666667, 0.73333333]),\n",
              " array([32, 13]))"
            ]
          },
          "metadata": {},
          "execution_count": 17
        }
      ]
    },
    {
      "cell_type": "markdown",
      "metadata": {
        "id": "49XDDPG96YBS"
      },
      "source": [
        "$\\Huge{\\text{Linear Regression with Regularizers}}$"
      ]
    },
    {
      "cell_type": "markdown",
      "metadata": {
        "id": "eLRi3Z8M6oEb"
      },
      "source": [
        "Now we shall learn about linear regression when we impose regularizers on the parameters. "
      ]
    },
    {
      "cell_type": "markdown",
      "metadata": {
        "id": "omPJTFwf6tKz"
      },
      "source": [
        "Let us first consider a sample data, which will be useful for our study of linear regression with regularizers. Now let us consider some open source data sets available in the internet. The data set we will consider represents airline maintanence costs for different airline companies as a response variable dependent on multiple attributes."
      ]
    },
    {
      "cell_type": "code",
      "metadata": {
        "colab": {
          "base_uri": "https://localhost:8080/",
          "height": 203
        },
        "id": "IHcf8Q4q7cNX",
        "outputId": "a9f9920a-b637-40b4-ad8e-35854913417e"
      },
      "source": [
        "#Let us explore the data and the description \n",
        "\n",
        "#Get the data from the web \n",
        "const_maint_data = pd.read_csv('http://users.stat.ufl.edu/~winner/data/const_maint.dat', delim_whitespace=True, index_col=False, header=None)\n",
        "\n",
        "#print the first few rows of the data \n",
        "const_maint_data.head()\n"
      ],
      "execution_count": null,
      "outputs": [
        {
          "output_type": "execute_result",
          "data": {
            "text/html": [
              "<div>\n",
              "<style scoped>\n",
              "    .dataframe tbody tr th:only-of-type {\n",
              "        vertical-align: middle;\n",
              "    }\n",
              "\n",
              "    .dataframe tbody tr th {\n",
              "        vertical-align: top;\n",
              "    }\n",
              "\n",
              "    .dataframe thead th {\n",
              "        text-align: right;\n",
              "    }\n",
              "</style>\n",
              "<table border=\"1\" class=\"dataframe\">\n",
              "  <thead>\n",
              "    <tr style=\"text-align: right;\">\n",
              "      <th></th>\n",
              "      <th>0</th>\n",
              "      <th>1</th>\n",
              "      <th>2</th>\n",
              "      <th>3</th>\n",
              "      <th>4</th>\n",
              "      <th>5</th>\n",
              "    </tr>\n",
              "  </thead>\n",
              "  <tbody>\n",
              "    <tr>\n",
              "      <th>0</th>\n",
              "      <td>1</td>\n",
              "      <td>6.068</td>\n",
              "      <td>1</td>\n",
              "      <td>0</td>\n",
              "      <td>0</td>\n",
              "      <td>16.60</td>\n",
              "    </tr>\n",
              "    <tr>\n",
              "      <th>1</th>\n",
              "      <td>2</td>\n",
              "      <td>4.602</td>\n",
              "      <td>1</td>\n",
              "      <td>0</td>\n",
              "      <td>0</td>\n",
              "      <td>20.37</td>\n",
              "    </tr>\n",
              "    <tr>\n",
              "      <th>2</th>\n",
              "      <td>3</td>\n",
              "      <td>3.282</td>\n",
              "      <td>1</td>\n",
              "      <td>0</td>\n",
              "      <td>0</td>\n",
              "      <td>20.37</td>\n",
              "    </tr>\n",
              "    <tr>\n",
              "      <th>3</th>\n",
              "      <td>4</td>\n",
              "      <td>2.192</td>\n",
              "      <td>1</td>\n",
              "      <td>1</td>\n",
              "      <td>0</td>\n",
              "      <td>20.37</td>\n",
              "    </tr>\n",
              "    <tr>\n",
              "      <th>4</th>\n",
              "      <td>5</td>\n",
              "      <td>2.572</td>\n",
              "      <td>1</td>\n",
              "      <td>1</td>\n",
              "      <td>0</td>\n",
              "      <td>20.37</td>\n",
              "    </tr>\n",
              "  </tbody>\n",
              "</table>\n",
              "</div>"
            ],
            "text/plain": [
              "   0      1  2  3  4      5\n",
              "0  1  6.068  1  0  0  16.60\n",
              "1  2  4.602  1  0  0  20.37\n",
              "2  3  3.282  1  0  0  20.37\n",
              "3  4  2.192  1  1  0  20.37\n",
              "4  5  2.572  1  1  0  20.37"
            ]
          },
          "metadata": {},
          "execution_count": 18
        }
      ]
    },
    {
      "cell_type": "code",
      "metadata": {
        "colab": {
          "base_uri": "https://localhost:8080/",
          "height": 1000
        },
        "id": "6VWCK4xXQbUO",
        "outputId": "e4010778-5b1e-4a28-a92d-782828502bf7"
      },
      "source": [
        "#if you wish to print the entire data, then use the following\n",
        "const_maint_data"
      ],
      "execution_count": null,
      "outputs": [
        {
          "output_type": "execute_result",
          "data": {
            "text/html": [
              "<div>\n",
              "<style scoped>\n",
              "    .dataframe tbody tr th:only-of-type {\n",
              "        vertical-align: middle;\n",
              "    }\n",
              "\n",
              "    .dataframe tbody tr th {\n",
              "        vertical-align: top;\n",
              "    }\n",
              "\n",
              "    .dataframe thead th {\n",
              "        text-align: right;\n",
              "    }\n",
              "</style>\n",
              "<table border=\"1\" class=\"dataframe\">\n",
              "  <thead>\n",
              "    <tr style=\"text-align: right;\">\n",
              "      <th></th>\n",
              "      <th>0</th>\n",
              "      <th>1</th>\n",
              "      <th>2</th>\n",
              "      <th>3</th>\n",
              "      <th>4</th>\n",
              "      <th>5</th>\n",
              "    </tr>\n",
              "  </thead>\n",
              "  <tbody>\n",
              "    <tr>\n",
              "      <th>0</th>\n",
              "      <td>1</td>\n",
              "      <td>6.068</td>\n",
              "      <td>1</td>\n",
              "      <td>0</td>\n",
              "      <td>0</td>\n",
              "      <td>16.60</td>\n",
              "    </tr>\n",
              "    <tr>\n",
              "      <th>1</th>\n",
              "      <td>2</td>\n",
              "      <td>4.602</td>\n",
              "      <td>1</td>\n",
              "      <td>0</td>\n",
              "      <td>0</td>\n",
              "      <td>20.37</td>\n",
              "    </tr>\n",
              "    <tr>\n",
              "      <th>2</th>\n",
              "      <td>3</td>\n",
              "      <td>3.282</td>\n",
              "      <td>1</td>\n",
              "      <td>0</td>\n",
              "      <td>0</td>\n",
              "      <td>20.37</td>\n",
              "    </tr>\n",
              "    <tr>\n",
              "      <th>3</th>\n",
              "      <td>4</td>\n",
              "      <td>2.192</td>\n",
              "      <td>1</td>\n",
              "      <td>1</td>\n",
              "      <td>0</td>\n",
              "      <td>20.37</td>\n",
              "    </tr>\n",
              "    <tr>\n",
              "      <th>4</th>\n",
              "      <td>5</td>\n",
              "      <td>2.572</td>\n",
              "      <td>1</td>\n",
              "      <td>1</td>\n",
              "      <td>0</td>\n",
              "      <td>20.37</td>\n",
              "    </tr>\n",
              "    <tr>\n",
              "      <th>5</th>\n",
              "      <td>6</td>\n",
              "      <td>4.142</td>\n",
              "      <td>1</td>\n",
              "      <td>0</td>\n",
              "      <td>0</td>\n",
              "      <td>20.37</td>\n",
              "    </tr>\n",
              "    <tr>\n",
              "      <th>6</th>\n",
              "      <td>7</td>\n",
              "      <td>5.321</td>\n",
              "      <td>1</td>\n",
              "      <td>1</td>\n",
              "      <td>1</td>\n",
              "      <td>21.00</td>\n",
              "    </tr>\n",
              "    <tr>\n",
              "      <th>7</th>\n",
              "      <td>8</td>\n",
              "      <td>4.421</td>\n",
              "      <td>1</td>\n",
              "      <td>1</td>\n",
              "      <td>1</td>\n",
              "      <td>21.00</td>\n",
              "    </tr>\n",
              "    <tr>\n",
              "      <th>8</th>\n",
              "      <td>9</td>\n",
              "      <td>5.301</td>\n",
              "      <td>1</td>\n",
              "      <td>1</td>\n",
              "      <td>1</td>\n",
              "      <td>21.00</td>\n",
              "    </tr>\n",
              "    <tr>\n",
              "      <th>9</th>\n",
              "      <td>10</td>\n",
              "      <td>9.679</td>\n",
              "      <td>1</td>\n",
              "      <td>0</td>\n",
              "      <td>0</td>\n",
              "      <td>27.01</td>\n",
              "    </tr>\n",
              "    <tr>\n",
              "      <th>10</th>\n",
              "      <td>11</td>\n",
              "      <td>11.997</td>\n",
              "      <td>1</td>\n",
              "      <td>0</td>\n",
              "      <td>1</td>\n",
              "      <td>31.00</td>\n",
              "    </tr>\n",
              "    <tr>\n",
              "      <th>11</th>\n",
              "      <td>12</td>\n",
              "      <td>7.757</td>\n",
              "      <td>1</td>\n",
              "      <td>0</td>\n",
              "      <td>0</td>\n",
              "      <td>31.00</td>\n",
              "    </tr>\n",
              "    <tr>\n",
              "      <th>12</th>\n",
              "      <td>13</td>\n",
              "      <td>12.597</td>\n",
              "      <td>1</td>\n",
              "      <td>0</td>\n",
              "      <td>0</td>\n",
              "      <td>31.00</td>\n",
              "    </tr>\n",
              "    <tr>\n",
              "      <th>13</th>\n",
              "      <td>14</td>\n",
              "      <td>13.045</td>\n",
              "      <td>1</td>\n",
              "      <td>0</td>\n",
              "      <td>1</td>\n",
              "      <td>33.20</td>\n",
              "    </tr>\n",
              "    <tr>\n",
              "      <th>14</th>\n",
              "      <td>15</td>\n",
              "      <td>2.471</td>\n",
              "      <td>0</td>\n",
              "      <td>0</td>\n",
              "      <td>0</td>\n",
              "      <td>45.00</td>\n",
              "    </tr>\n",
              "    <tr>\n",
              "      <th>15</th>\n",
              "      <td>16</td>\n",
              "      <td>6.689</td>\n",
              "      <td>0</td>\n",
              "      <td>0</td>\n",
              "      <td>0</td>\n",
              "      <td>46.27</td>\n",
              "    </tr>\n",
              "    <tr>\n",
              "      <th>16</th>\n",
              "      <td>17</td>\n",
              "      <td>12.139</td>\n",
              "      <td>1</td>\n",
              "      <td>0</td>\n",
              "      <td>0</td>\n",
              "      <td>46.27</td>\n",
              "    </tr>\n",
              "    <tr>\n",
              "      <th>17</th>\n",
              "      <td>18</td>\n",
              "      <td>10.859</td>\n",
              "      <td>1</td>\n",
              "      <td>0</td>\n",
              "      <td>0</td>\n",
              "      <td>46.27</td>\n",
              "    </tr>\n",
              "    <tr>\n",
              "      <th>18</th>\n",
              "      <td>19</td>\n",
              "      <td>7.119</td>\n",
              "      <td>0</td>\n",
              "      <td>1</td>\n",
              "      <td>0</td>\n",
              "      <td>68.42</td>\n",
              "    </tr>\n",
              "    <tr>\n",
              "      <th>19</th>\n",
              "      <td>20</td>\n",
              "      <td>3.728</td>\n",
              "      <td>0</td>\n",
              "      <td>1</td>\n",
              "      <td>0</td>\n",
              "      <td>83.70</td>\n",
              "    </tr>\n",
              "    <tr>\n",
              "      <th>20</th>\n",
              "      <td>21</td>\n",
              "      <td>46.057</td>\n",
              "      <td>1</td>\n",
              "      <td>1</td>\n",
              "      <td>0</td>\n",
              "      <td>218.00</td>\n",
              "    </tr>\n",
              "    <tr>\n",
              "      <th>21</th>\n",
              "      <td>22</td>\n",
              "      <td>49.847</td>\n",
              "      <td>1</td>\n",
              "      <td>1</td>\n",
              "      <td>0</td>\n",
              "      <td>218.00</td>\n",
              "    </tr>\n",
              "    <tr>\n",
              "      <th>22</th>\n",
              "      <td>23</td>\n",
              "      <td>61.671</td>\n",
              "      <td>1</td>\n",
              "      <td>1</td>\n",
              "      <td>0</td>\n",
              "      <td>335.00</td>\n",
              "    </tr>\n",
              "    <tr>\n",
              "      <th>23</th>\n",
              "      <td>24</td>\n",
              "      <td>56.167</td>\n",
              "      <td>1</td>\n",
              "      <td>0</td>\n",
              "      <td>1</td>\n",
              "      <td>228.00</td>\n",
              "    </tr>\n",
              "    <tr>\n",
              "      <th>24</th>\n",
              "      <td>25</td>\n",
              "      <td>9.721</td>\n",
              "      <td>1</td>\n",
              "      <td>0</td>\n",
              "      <td>1</td>\n",
              "      <td>22.60</td>\n",
              "    </tr>\n",
              "    <tr>\n",
              "      <th>25</th>\n",
              "      <td>26</td>\n",
              "      <td>8.535</td>\n",
              "      <td>1</td>\n",
              "      <td>0</td>\n",
              "      <td>1</td>\n",
              "      <td>21.70</td>\n",
              "    </tr>\n",
              "    <tr>\n",
              "      <th>26</th>\n",
              "      <td>27</td>\n",
              "      <td>66.910</td>\n",
              "      <td>1</td>\n",
              "      <td>1</td>\n",
              "      <td>1</td>\n",
              "      <td>229.00</td>\n",
              "    </tr>\n",
              "    <tr>\n",
              "      <th>27</th>\n",
              "      <td>28</td>\n",
              "      <td>11.101</td>\n",
              "      <td>1</td>\n",
              "      <td>0</td>\n",
              "      <td>1</td>\n",
              "      <td>22.60</td>\n",
              "    </tr>\n",
              "    <tr>\n",
              "      <th>28</th>\n",
              "      <td>29</td>\n",
              "      <td>12.511</td>\n",
              "      <td>1</td>\n",
              "      <td>0</td>\n",
              "      <td>1</td>\n",
              "      <td>22.60</td>\n",
              "    </tr>\n",
              "    <tr>\n",
              "      <th>29</th>\n",
              "      <td>30</td>\n",
              "      <td>11.397</td>\n",
              "      <td>1</td>\n",
              "      <td>0</td>\n",
              "      <td>1</td>\n",
              "      <td>31.00</td>\n",
              "    </tr>\n",
              "    <tr>\n",
              "      <th>30</th>\n",
              "      <td>31</td>\n",
              "      <td>4.069</td>\n",
              "      <td>0</td>\n",
              "      <td>0</td>\n",
              "      <td>0</td>\n",
              "      <td>46.27</td>\n",
              "    </tr>\n",
              "    <tr>\n",
              "      <th>31</th>\n",
              "      <td>32</td>\n",
              "      <td>3.622</td>\n",
              "      <td>1</td>\n",
              "      <td>0</td>\n",
              "      <td>0</td>\n",
              "      <td>20.37</td>\n",
              "    </tr>\n",
              "    <tr>\n",
              "      <th>32</th>\n",
              "      <td>33</td>\n",
              "      <td>40.727</td>\n",
              "      <td>1</td>\n",
              "      <td>1</td>\n",
              "      <td>1</td>\n",
              "      <td>229.00</td>\n",
              "    </tr>\n",
              "  </tbody>\n",
              "</table>\n",
              "</div>"
            ],
            "text/plain": [
              "     0       1  2  3  4       5\n",
              "0    1   6.068  1  0  0   16.60\n",
              "1    2   4.602  1  0  0   20.37\n",
              "2    3   3.282  1  0  0   20.37\n",
              "3    4   2.192  1  1  0   20.37\n",
              "4    5   2.572  1  1  0   20.37\n",
              "5    6   4.142  1  0  0   20.37\n",
              "6    7   5.321  1  1  1   21.00\n",
              "7    8   4.421  1  1  1   21.00\n",
              "8    9   5.301  1  1  1   21.00\n",
              "9   10   9.679  1  0  0   27.01\n",
              "10  11  11.997  1  0  1   31.00\n",
              "11  12   7.757  1  0  0   31.00\n",
              "12  13  12.597  1  0  0   31.00\n",
              "13  14  13.045  1  0  1   33.20\n",
              "14  15   2.471  0  0  0   45.00\n",
              "15  16   6.689  0  0  0   46.27\n",
              "16  17  12.139  1  0  0   46.27\n",
              "17  18  10.859  1  0  0   46.27\n",
              "18  19   7.119  0  1  0   68.42\n",
              "19  20   3.728  0  1  0   83.70\n",
              "20  21  46.057  1  1  0  218.00\n",
              "21  22  49.847  1  1  0  218.00\n",
              "22  23  61.671  1  1  0  335.00\n",
              "23  24  56.167  1  0  1  228.00\n",
              "24  25   9.721  1  0  1   22.60\n",
              "25  26   8.535  1  0  1   21.70\n",
              "26  27  66.910  1  1  1  229.00\n",
              "27  28  11.101  1  0  1   22.60\n",
              "28  29  12.511  1  0  1   22.60\n",
              "29  30  11.397  1  0  1   31.00\n",
              "30  31   4.069  0  0  0   46.27\n",
              "31  32   3.622  1  0  0   20.37\n",
              "32  33  40.727  1  1  1  229.00"
            ]
          },
          "metadata": {},
          "execution_count": 19
        }
      ]
    },
    {
      "cell_type": "code",
      "metadata": {
        "id": "WBsKAOcyQpZI"
      },
      "source": [
        ""
      ],
      "execution_count": null,
      "outputs": []
    },
    {
      "cell_type": "code",
      "metadata": {
        "colab": {
          "base_uri": "https://localhost:8080/",
          "height": 1000
        },
        "id": "e30rAQsUAOJU",
        "outputId": "3784bfa9-ba53-4a5d-d8a5-30738b7abf79"
      },
      "source": [
        "#if you wish to print the entire data, then use the following\n",
        "const_maint_data"
      ],
      "execution_count": null,
      "outputs": [
        {
          "output_type": "execute_result",
          "data": {
            "text/html": [
              "<div>\n",
              "<style scoped>\n",
              "    .dataframe tbody tr th:only-of-type {\n",
              "        vertical-align: middle;\n",
              "    }\n",
              "\n",
              "    .dataframe tbody tr th {\n",
              "        vertical-align: top;\n",
              "    }\n",
              "\n",
              "    .dataframe thead th {\n",
              "        text-align: right;\n",
              "    }\n",
              "</style>\n",
              "<table border=\"1\" class=\"dataframe\">\n",
              "  <thead>\n",
              "    <tr style=\"text-align: right;\">\n",
              "      <th></th>\n",
              "      <th>0</th>\n",
              "      <th>1</th>\n",
              "      <th>2</th>\n",
              "      <th>3</th>\n",
              "      <th>4</th>\n",
              "      <th>5</th>\n",
              "    </tr>\n",
              "  </thead>\n",
              "  <tbody>\n",
              "    <tr>\n",
              "      <th>0</th>\n",
              "      <td>1</td>\n",
              "      <td>6.068</td>\n",
              "      <td>1</td>\n",
              "      <td>0</td>\n",
              "      <td>0</td>\n",
              "      <td>16.60</td>\n",
              "    </tr>\n",
              "    <tr>\n",
              "      <th>1</th>\n",
              "      <td>2</td>\n",
              "      <td>4.602</td>\n",
              "      <td>1</td>\n",
              "      <td>0</td>\n",
              "      <td>0</td>\n",
              "      <td>20.37</td>\n",
              "    </tr>\n",
              "    <tr>\n",
              "      <th>2</th>\n",
              "      <td>3</td>\n",
              "      <td>3.282</td>\n",
              "      <td>1</td>\n",
              "      <td>0</td>\n",
              "      <td>0</td>\n",
              "      <td>20.37</td>\n",
              "    </tr>\n",
              "    <tr>\n",
              "      <th>3</th>\n",
              "      <td>4</td>\n",
              "      <td>2.192</td>\n",
              "      <td>1</td>\n",
              "      <td>1</td>\n",
              "      <td>0</td>\n",
              "      <td>20.37</td>\n",
              "    </tr>\n",
              "    <tr>\n",
              "      <th>4</th>\n",
              "      <td>5</td>\n",
              "      <td>2.572</td>\n",
              "      <td>1</td>\n",
              "      <td>1</td>\n",
              "      <td>0</td>\n",
              "      <td>20.37</td>\n",
              "    </tr>\n",
              "    <tr>\n",
              "      <th>5</th>\n",
              "      <td>6</td>\n",
              "      <td>4.142</td>\n",
              "      <td>1</td>\n",
              "      <td>0</td>\n",
              "      <td>0</td>\n",
              "      <td>20.37</td>\n",
              "    </tr>\n",
              "    <tr>\n",
              "      <th>6</th>\n",
              "      <td>7</td>\n",
              "      <td>5.321</td>\n",
              "      <td>1</td>\n",
              "      <td>1</td>\n",
              "      <td>1</td>\n",
              "      <td>21.00</td>\n",
              "    </tr>\n",
              "    <tr>\n",
              "      <th>7</th>\n",
              "      <td>8</td>\n",
              "      <td>4.421</td>\n",
              "      <td>1</td>\n",
              "      <td>1</td>\n",
              "      <td>1</td>\n",
              "      <td>21.00</td>\n",
              "    </tr>\n",
              "    <tr>\n",
              "      <th>8</th>\n",
              "      <td>9</td>\n",
              "      <td>5.301</td>\n",
              "      <td>1</td>\n",
              "      <td>1</td>\n",
              "      <td>1</td>\n",
              "      <td>21.00</td>\n",
              "    </tr>\n",
              "    <tr>\n",
              "      <th>9</th>\n",
              "      <td>10</td>\n",
              "      <td>9.679</td>\n",
              "      <td>1</td>\n",
              "      <td>0</td>\n",
              "      <td>0</td>\n",
              "      <td>27.01</td>\n",
              "    </tr>\n",
              "    <tr>\n",
              "      <th>10</th>\n",
              "      <td>11</td>\n",
              "      <td>11.997</td>\n",
              "      <td>1</td>\n",
              "      <td>0</td>\n",
              "      <td>1</td>\n",
              "      <td>31.00</td>\n",
              "    </tr>\n",
              "    <tr>\n",
              "      <th>11</th>\n",
              "      <td>12</td>\n",
              "      <td>7.757</td>\n",
              "      <td>1</td>\n",
              "      <td>0</td>\n",
              "      <td>0</td>\n",
              "      <td>31.00</td>\n",
              "    </tr>\n",
              "    <tr>\n",
              "      <th>12</th>\n",
              "      <td>13</td>\n",
              "      <td>12.597</td>\n",
              "      <td>1</td>\n",
              "      <td>0</td>\n",
              "      <td>0</td>\n",
              "      <td>31.00</td>\n",
              "    </tr>\n",
              "    <tr>\n",
              "      <th>13</th>\n",
              "      <td>14</td>\n",
              "      <td>13.045</td>\n",
              "      <td>1</td>\n",
              "      <td>0</td>\n",
              "      <td>1</td>\n",
              "      <td>33.20</td>\n",
              "    </tr>\n",
              "    <tr>\n",
              "      <th>14</th>\n",
              "      <td>15</td>\n",
              "      <td>2.471</td>\n",
              "      <td>0</td>\n",
              "      <td>0</td>\n",
              "      <td>0</td>\n",
              "      <td>45.00</td>\n",
              "    </tr>\n",
              "    <tr>\n",
              "      <th>15</th>\n",
              "      <td>16</td>\n",
              "      <td>6.689</td>\n",
              "      <td>0</td>\n",
              "      <td>0</td>\n",
              "      <td>0</td>\n",
              "      <td>46.27</td>\n",
              "    </tr>\n",
              "    <tr>\n",
              "      <th>16</th>\n",
              "      <td>17</td>\n",
              "      <td>12.139</td>\n",
              "      <td>1</td>\n",
              "      <td>0</td>\n",
              "      <td>0</td>\n",
              "      <td>46.27</td>\n",
              "    </tr>\n",
              "    <tr>\n",
              "      <th>17</th>\n",
              "      <td>18</td>\n",
              "      <td>10.859</td>\n",
              "      <td>1</td>\n",
              "      <td>0</td>\n",
              "      <td>0</td>\n",
              "      <td>46.27</td>\n",
              "    </tr>\n",
              "    <tr>\n",
              "      <th>18</th>\n",
              "      <td>19</td>\n",
              "      <td>7.119</td>\n",
              "      <td>0</td>\n",
              "      <td>1</td>\n",
              "      <td>0</td>\n",
              "      <td>68.42</td>\n",
              "    </tr>\n",
              "    <tr>\n",
              "      <th>19</th>\n",
              "      <td>20</td>\n",
              "      <td>3.728</td>\n",
              "      <td>0</td>\n",
              "      <td>1</td>\n",
              "      <td>0</td>\n",
              "      <td>83.70</td>\n",
              "    </tr>\n",
              "    <tr>\n",
              "      <th>20</th>\n",
              "      <td>21</td>\n",
              "      <td>46.057</td>\n",
              "      <td>1</td>\n",
              "      <td>1</td>\n",
              "      <td>0</td>\n",
              "      <td>218.00</td>\n",
              "    </tr>\n",
              "    <tr>\n",
              "      <th>21</th>\n",
              "      <td>22</td>\n",
              "      <td>49.847</td>\n",
              "      <td>1</td>\n",
              "      <td>1</td>\n",
              "      <td>0</td>\n",
              "      <td>218.00</td>\n",
              "    </tr>\n",
              "    <tr>\n",
              "      <th>22</th>\n",
              "      <td>23</td>\n",
              "      <td>61.671</td>\n",
              "      <td>1</td>\n",
              "      <td>1</td>\n",
              "      <td>0</td>\n",
              "      <td>335.00</td>\n",
              "    </tr>\n",
              "    <tr>\n",
              "      <th>23</th>\n",
              "      <td>24</td>\n",
              "      <td>56.167</td>\n",
              "      <td>1</td>\n",
              "      <td>0</td>\n",
              "      <td>1</td>\n",
              "      <td>228.00</td>\n",
              "    </tr>\n",
              "    <tr>\n",
              "      <th>24</th>\n",
              "      <td>25</td>\n",
              "      <td>9.721</td>\n",
              "      <td>1</td>\n",
              "      <td>0</td>\n",
              "      <td>1</td>\n",
              "      <td>22.60</td>\n",
              "    </tr>\n",
              "    <tr>\n",
              "      <th>25</th>\n",
              "      <td>26</td>\n",
              "      <td>8.535</td>\n",
              "      <td>1</td>\n",
              "      <td>0</td>\n",
              "      <td>1</td>\n",
              "      <td>21.70</td>\n",
              "    </tr>\n",
              "    <tr>\n",
              "      <th>26</th>\n",
              "      <td>27</td>\n",
              "      <td>66.910</td>\n",
              "      <td>1</td>\n",
              "      <td>1</td>\n",
              "      <td>1</td>\n",
              "      <td>229.00</td>\n",
              "    </tr>\n",
              "    <tr>\n",
              "      <th>27</th>\n",
              "      <td>28</td>\n",
              "      <td>11.101</td>\n",
              "      <td>1</td>\n",
              "      <td>0</td>\n",
              "      <td>1</td>\n",
              "      <td>22.60</td>\n",
              "    </tr>\n",
              "    <tr>\n",
              "      <th>28</th>\n",
              "      <td>29</td>\n",
              "      <td>12.511</td>\n",
              "      <td>1</td>\n",
              "      <td>0</td>\n",
              "      <td>1</td>\n",
              "      <td>22.60</td>\n",
              "    </tr>\n",
              "    <tr>\n",
              "      <th>29</th>\n",
              "      <td>30</td>\n",
              "      <td>11.397</td>\n",
              "      <td>1</td>\n",
              "      <td>0</td>\n",
              "      <td>1</td>\n",
              "      <td>31.00</td>\n",
              "    </tr>\n",
              "    <tr>\n",
              "      <th>30</th>\n",
              "      <td>31</td>\n",
              "      <td>4.069</td>\n",
              "      <td>0</td>\n",
              "      <td>0</td>\n",
              "      <td>0</td>\n",
              "      <td>46.27</td>\n",
              "    </tr>\n",
              "    <tr>\n",
              "      <th>31</th>\n",
              "      <td>32</td>\n",
              "      <td>3.622</td>\n",
              "      <td>1</td>\n",
              "      <td>0</td>\n",
              "      <td>0</td>\n",
              "      <td>20.37</td>\n",
              "    </tr>\n",
              "    <tr>\n",
              "      <th>32</th>\n",
              "      <td>33</td>\n",
              "      <td>40.727</td>\n",
              "      <td>1</td>\n",
              "      <td>1</td>\n",
              "      <td>1</td>\n",
              "      <td>229.00</td>\n",
              "    </tr>\n",
              "  </tbody>\n",
              "</table>\n",
              "</div>"
            ],
            "text/plain": [
              "     0       1  2  3  4       5\n",
              "0    1   6.068  1  0  0   16.60\n",
              "1    2   4.602  1  0  0   20.37\n",
              "2    3   3.282  1  0  0   20.37\n",
              "3    4   2.192  1  1  0   20.37\n",
              "4    5   2.572  1  1  0   20.37\n",
              "5    6   4.142  1  0  0   20.37\n",
              "6    7   5.321  1  1  1   21.00\n",
              "7    8   4.421  1  1  1   21.00\n",
              "8    9   5.301  1  1  1   21.00\n",
              "9   10   9.679  1  0  0   27.01\n",
              "10  11  11.997  1  0  1   31.00\n",
              "11  12   7.757  1  0  0   31.00\n",
              "12  13  12.597  1  0  0   31.00\n",
              "13  14  13.045  1  0  1   33.20\n",
              "14  15   2.471  0  0  0   45.00\n",
              "15  16   6.689  0  0  0   46.27\n",
              "16  17  12.139  1  0  0   46.27\n",
              "17  18  10.859  1  0  0   46.27\n",
              "18  19   7.119  0  1  0   68.42\n",
              "19  20   3.728  0  1  0   83.70\n",
              "20  21  46.057  1  1  0  218.00\n",
              "21  22  49.847  1  1  0  218.00\n",
              "22  23  61.671  1  1  0  335.00\n",
              "23  24  56.167  1  0  1  228.00\n",
              "24  25   9.721  1  0  1   22.60\n",
              "25  26   8.535  1  0  1   21.70\n",
              "26  27  66.910  1  1  1  229.00\n",
              "27  28  11.101  1  0  1   22.60\n",
              "28  29  12.511  1  0  1   22.60\n",
              "29  30  11.397  1  0  1   31.00\n",
              "30  31   4.069  0  0  0   46.27\n",
              "31  32   3.622  1  0  0   20.37\n",
              "32  33  40.727  1  1  1  229.00"
            ]
          },
          "metadata": {},
          "execution_count": 20
        }
      ]
    },
    {
      "cell_type": "markdown",
      "metadata": {
        "id": "dWpqpERQAf-T"
      },
      "source": [
        "What do the numbers in the above data mean? Let us understand the data by seeing its description. "
      ]
    },
    {
      "cell_type": "code",
      "metadata": {
        "colab": {
          "base_uri": "https://localhost:8080/"
        },
        "id": "j2pWNPCM8apJ",
        "outputId": "d499d87e-1ecc-4f53-f203-76f729d57346"
      },
      "source": [
        "import urllib.request  #this package is useful for accessing text files over internet \n",
        "const_maint_data_description_file = urllib.request.urlopen('http://users.stat.ufl.edu/~winner/data/const_maint.txt')\n",
        "\n",
        "\n",
        "for line in const_maint_data_description_file:\n",
        "  decoded_line = line.decode(\"utf-8\")\n",
        "  print(decoded_line) "
      ],
      "execution_count": null,
      "outputs": [
        {
          "output_type": "stream",
          "name": "stdout",
          "text": [
            "Dataset:  const_maint.dat\n",
            "\n",
            "\n",
            "\n",
            "Source: D.J. Edwards, G.D. Holt, F.C. Harris (2000). \"A Comparative\n",
            "\n",
            "Analysis Between the Multilayer Perceptron \"Neural Network\" and Multiple\n",
            "\n",
            "Regression Analysis for Predicting Construction Plant Maintenance Costs,\"\n",
            "\n",
            "Journal of Quality in Maintenance Engineering, Vol. 6, #1, pp. 45-61\n",
            "\n",
            "\n",
            "\n",
            "Description: Regression Analysis relating construction plant maintenance costs\n",
            "\n",
            "to: machine weight, and indicators attitude to used oil analysis,\n",
            "\n",
            "type of industry, and type of machine.\n",
            "\n",
            "\n",
            "\n",
            "Variables/Columns\n",
            "\n",
            "Machine ID   7-8\n",
            "\n",
            "Cost (pounds)  10-16\n",
            "\n",
            "Type of Industry    24    /* 1=opencast coal   0=opencast slate */\n",
            "\n",
            "Type of machine   32     /* 1=front shovel   0=backacter  */\n",
            "\n",
            "Company attitude to used oil analysis   40  /* 1=regular us   0=not  */\n",
            "\n",
            "Machine weight  (tonnes)  42-48\n",
            "\n"
          ]
        }
      ]
    },
    {
      "cell_type": "markdown",
      "metadata": {
        "id": "4zeP3YWfBstW"
      },
      "source": [
        "Having known the data description, let us insert the descriptions into the data now."
      ]
    },
    {
      "cell_type": "code",
      "metadata": {
        "colab": {
          "base_uri": "https://localhost:8080/",
          "height": 220
        },
        "id": "6vn3zD4SB3ht",
        "outputId": "38d2a74c-3de2-4f01-c19c-3bfefc1390bf"
      },
      "source": [
        "const_maint_data.columns = ['Machine ID', 'Cost (pounds)', 'Type of Industry','Type of machine','Company attitude to used oil analysis','Machine weight (tonnes)']\n",
        "\n",
        "\n",
        "#check by printing the data again\n",
        "const_maint_data.head()"
      ],
      "execution_count": null,
      "outputs": [
        {
          "output_type": "execute_result",
          "data": {
            "text/html": [
              "<div>\n",
              "<style scoped>\n",
              "    .dataframe tbody tr th:only-of-type {\n",
              "        vertical-align: middle;\n",
              "    }\n",
              "\n",
              "    .dataframe tbody tr th {\n",
              "        vertical-align: top;\n",
              "    }\n",
              "\n",
              "    .dataframe thead th {\n",
              "        text-align: right;\n",
              "    }\n",
              "</style>\n",
              "<table border=\"1\" class=\"dataframe\">\n",
              "  <thead>\n",
              "    <tr style=\"text-align: right;\">\n",
              "      <th></th>\n",
              "      <th>Machine ID</th>\n",
              "      <th>Cost (pounds)</th>\n",
              "      <th>Type of Industry</th>\n",
              "      <th>Type of machine</th>\n",
              "      <th>Company attitude to used oil analysis</th>\n",
              "      <th>Machine weight (tonnes)</th>\n",
              "    </tr>\n",
              "  </thead>\n",
              "  <tbody>\n",
              "    <tr>\n",
              "      <th>0</th>\n",
              "      <td>1</td>\n",
              "      <td>6.068</td>\n",
              "      <td>1</td>\n",
              "      <td>0</td>\n",
              "      <td>0</td>\n",
              "      <td>16.60</td>\n",
              "    </tr>\n",
              "    <tr>\n",
              "      <th>1</th>\n",
              "      <td>2</td>\n",
              "      <td>4.602</td>\n",
              "      <td>1</td>\n",
              "      <td>0</td>\n",
              "      <td>0</td>\n",
              "      <td>20.37</td>\n",
              "    </tr>\n",
              "    <tr>\n",
              "      <th>2</th>\n",
              "      <td>3</td>\n",
              "      <td>3.282</td>\n",
              "      <td>1</td>\n",
              "      <td>0</td>\n",
              "      <td>0</td>\n",
              "      <td>20.37</td>\n",
              "    </tr>\n",
              "    <tr>\n",
              "      <th>3</th>\n",
              "      <td>4</td>\n",
              "      <td>2.192</td>\n",
              "      <td>1</td>\n",
              "      <td>1</td>\n",
              "      <td>0</td>\n",
              "      <td>20.37</td>\n",
              "    </tr>\n",
              "    <tr>\n",
              "      <th>4</th>\n",
              "      <td>5</td>\n",
              "      <td>2.572</td>\n",
              "      <td>1</td>\n",
              "      <td>1</td>\n",
              "      <td>0</td>\n",
              "      <td>20.37</td>\n",
              "    </tr>\n",
              "  </tbody>\n",
              "</table>\n",
              "</div>"
            ],
            "text/plain": [
              "   Machine ID  ...  Machine weight (tonnes)\n",
              "0           1  ...                    16.60\n",
              "1           2  ...                    20.37\n",
              "2           3  ...                    20.37\n",
              "3           4  ...                    20.37\n",
              "4           5  ...                    20.37\n",
              "\n",
              "[5 rows x 6 columns]"
            ]
          },
          "metadata": {},
          "execution_count": 22
        }
      ]
    },
    {
      "cell_type": "markdown",
      "metadata": {
        "id": "hWCAnwywkLi3"
      },
      "source": [
        "$\\Large{\\text{Let's now split the data into train and test set}}$."
      ]
    },
    {
      "cell_type": "code",
      "metadata": {
        "colab": {
          "base_uri": "https://localhost:8080/",
          "height": 254
        },
        "id": "ylf8HEsYkoS8",
        "outputId": "c790dc04-6237-4dfb-ecff-8116f9e57a5a"
      },
      "source": [
        "from sklearn.model_selection import train_test_split\n",
        "const_maint_data_train,const_maint_data_test = train_test_split(const_maint_data,test_size=0.2, random_state = 1)\n",
        "print ('size of train set:',len(const_maint_data_train.index))\n",
        "print ('Training data:')\n",
        "const_maint_data_train.head()"
      ],
      "execution_count": null,
      "outputs": [
        {
          "output_type": "stream",
          "name": "stdout",
          "text": [
            "size of train set: 26\n",
            "Training data:\n"
          ]
        },
        {
          "output_type": "execute_result",
          "data": {
            "text/html": [
              "<div>\n",
              "<style scoped>\n",
              "    .dataframe tbody tr th:only-of-type {\n",
              "        vertical-align: middle;\n",
              "    }\n",
              "\n",
              "    .dataframe tbody tr th {\n",
              "        vertical-align: top;\n",
              "    }\n",
              "\n",
              "    .dataframe thead th {\n",
              "        text-align: right;\n",
              "    }\n",
              "</style>\n",
              "<table border=\"1\" class=\"dataframe\">\n",
              "  <thead>\n",
              "    <tr style=\"text-align: right;\">\n",
              "      <th></th>\n",
              "      <th>Machine ID</th>\n",
              "      <th>Cost (pounds)</th>\n",
              "      <th>Type of Industry</th>\n",
              "      <th>Type of machine</th>\n",
              "      <th>Company attitude to used oil analysis</th>\n",
              "      <th>Machine weight (tonnes)</th>\n",
              "    </tr>\n",
              "  </thead>\n",
              "  <tbody>\n",
              "    <tr>\n",
              "      <th>25</th>\n",
              "      <td>26</td>\n",
              "      <td>8.535</td>\n",
              "      <td>1</td>\n",
              "      <td>0</td>\n",
              "      <td>1</td>\n",
              "      <td>21.70</td>\n",
              "    </tr>\n",
              "    <tr>\n",
              "      <th>24</th>\n",
              "      <td>25</td>\n",
              "      <td>9.721</td>\n",
              "      <td>1</td>\n",
              "      <td>0</td>\n",
              "      <td>1</td>\n",
              "      <td>22.60</td>\n",
              "    </tr>\n",
              "    <tr>\n",
              "      <th>30</th>\n",
              "      <td>31</td>\n",
              "      <td>4.069</td>\n",
              "      <td>0</td>\n",
              "      <td>0</td>\n",
              "      <td>0</td>\n",
              "      <td>46.27</td>\n",
              "    </tr>\n",
              "    <tr>\n",
              "      <th>17</th>\n",
              "      <td>18</td>\n",
              "      <td>10.859</td>\n",
              "      <td>1</td>\n",
              "      <td>0</td>\n",
              "      <td>0</td>\n",
              "      <td>46.27</td>\n",
              "    </tr>\n",
              "    <tr>\n",
              "      <th>22</th>\n",
              "      <td>23</td>\n",
              "      <td>61.671</td>\n",
              "      <td>1</td>\n",
              "      <td>1</td>\n",
              "      <td>0</td>\n",
              "      <td>335.00</td>\n",
              "    </tr>\n",
              "  </tbody>\n",
              "</table>\n",
              "</div>"
            ],
            "text/plain": [
              "    Machine ID  ...  Machine weight (tonnes)\n",
              "25          26  ...                    21.70\n",
              "24          25  ...                    22.60\n",
              "30          31  ...                    46.27\n",
              "17          18  ...                    46.27\n",
              "22          23  ...                   335.00\n",
              "\n",
              "[5 rows x 6 columns]"
            ]
          },
          "metadata": {},
          "execution_count": 23
        }
      ]
    },
    {
      "cell_type": "markdown",
      "metadata": {
        "id": "ZclIdQfP2H1D"
      },
      "source": [
        "$\\large{\\text{How to estimate the parameters } \\beta_j, j=0,1,\\ldots,d?}$ \n",
        "\n",
        "One way to estimate the values of $\\beta_j, j=0,1,\\ldots,d$ is by minimizing the sum of squared errors given by: \n",
        "$\n",
        "\\begin{align}\n",
        "\\min \\sum_{i=1}^{n} (e^i)^2 \n",
        "\\end{align}\n",
        "$\n",
        "which can be equivalently written as the following optimization problem:\n",
        "$\n",
        "\\begin{align}\n",
        "\\min_{\\beta_0,\\beta_1,\\ldots,\\beta_d} \\sum_{i=1}^{n} [y^i - ( \\beta_0 + \\sum_{j=1}^{d} \\beta_j x_j^i) ]^2. \n",
        "\\end{align}\n",
        "$\n",
        "\n",
        "$\\textbf{Note}$ that in the high dimensional case as well, the optimization problem is called the ordinary least squares (OLS) problem, and the term $\\sum_{i=1}^{n} [y^i - ( \\beta_0 + \\sum_{j=1}^{d} \\beta_j x_j^i) ]^2$ is called the OLS objective function and we will denote the OLS objective by:\n",
        "\n",
        "$\n",
        "\\begin{align}\n",
        "L(\\beta_0, \\beta_1,\\ldots,\\beta_d) = \\sum_{i=1}^{n} [y^i - ( \\beta_0 + \\sum_{j=1}^{d} \\beta_j x_j^i) ]^2. \n",
        "\\end{align}\n",
        "$ "
      ]
    },
    {
      "cell_type": "markdown",
      "metadata": {
        "id": "bTscS5Nn22Vp"
      },
      "source": [
        "$\\Large{\\text{Solving the OLS optimization problem}}:$\n",
        "\n",
        "Assuming the responses $y^1,y^2,\\ldots,y^n$ are present in a $n \\times 1$ matrix represented as:\n",
        "\n",
        "$\n",
        "\\mathbf{y}=\\begin{bmatrix}\n",
        "y^1 \\\\ y^2 \\\\ \\vdots \\\\ y^n\n",
        "\\end{bmatrix}\n",
        "$\n",
        "\n",
        "and the predictor variables $\\mathbf{x}^1,\\mathbf{x}^2,\\ldots,\\mathbf{x}^d$ are placed in a $n\\times (d+1)$ matrix represented as:\n",
        "\n",
        "$\n",
        "\\mathbf{X}=\\begin{bmatrix}\n",
        "\\leftarrow & \\mathbf{x}^1 & \\rightarrow & 1 \\\\\n",
        "\\leftarrow & \\mathbf{x}^2 & \\rightarrow & 1 \\\\\n",
        "\\leftarrow & \\ldots & \\rightarrow & 1  \\\\\n",
        "\\leftarrow & \\mathbf{x}^n & \\rightarrow & 1 \\\\\n",
        "\\end{bmatrix}\n",
        "=\n",
        "\\begin{bmatrix}\n",
        "{x}_1^1 & {x}_2^1 &\\ldots & {x}_d^1 & 1 \\\\\n",
        "{x}_1^2 & {x}_2^2 &\\ldots & {x}_d^2 & 1 \\\\\n",
        "\\vdots & \\vdots & \\ldots & \\vdots \\\\\n",
        "{x}_1^n & {x}_2^n &\\ldots & {x}_d^n & 1 \n",
        "\\end{bmatrix}\n",
        "$\n",
        "where note that the last column of matrix $\\mathbf{X}$ contains a column of all ones. This column is useful to incorporate the effect of $\\beta_0$ parameter in $\\mathbf{X}$ matrix. \n",
        "\n",
        "Similarly assume that \n",
        " we can write the coefficients $\\beta_0,\\beta_1,\\ldots,\\beta_d$ as a $(d+1)\\times 1$ matrix represented as:\n",
        "\n",
        "$\n",
        "\\mathbf{\\beta} = \\begin{bmatrix}\n",
        "\\beta_1 \\\\ \\beta_2 \\\\ \\vdots \\\\ \\beta_d \\\\ \\beta_0\n",
        "\\end{bmatrix}.\n",
        "$\n",
        "\n",
        "Now we can write the objective function as:\n",
        "\n",
        "$\n",
        "L(\\beta) = \\|\\mathbf{y} - \\mathbf{X}\\mathbf{\\beta} \\|_F^2.\n",
        "$\n",
        "\n",
        "To solve \n",
        "\n",
        "$\n",
        "\\min_\\beta L(\\beta) = \\|\\mathbf{y} - \\mathbf{X}\\mathbf{\\beta} \\|_F^2, \n",
        "$\n",
        "we find the gradient with respect to $\\beta$ and equate to zero. \n",
        "\n",
        "Thus we get:\n",
        "\n",
        "$\n",
        "\\begin{align}\n",
        "\\nabla_\\beta L(\\beta) &= \\mathbf{0} \\\\ \n",
        "\\implies -\\mathbf{X}^\\top \\mathbf{y} + \\mathbf{X}^\\top\\mathbf{X} \\beta &= \\mathbf{0} \\\\ \n",
        "\\implies \\beta &= (\\mathbf{X}^\\top\\mathbf{X})^{-1} \\mathbf{X}^\\top \\mathbf{y}. \n",
        "\\end{align}\n",
        "$\n",
        "\n",
        "Note that the closed form expression for $\\beta$ is valid only when $(\\mathbf{X}^\\top\\mathbf{X})^{-1}$ is invertible. Otherwise we need to solve the system given by:\n",
        "\n",
        "$\n",
        "\\mathbf{X}^\\top\\mathbf{X} \\beta = \\mathbf{X}^\\top \\mathbf{y}\n",
        "$\n",
        "using a solver. \n",
        "\n"
      ]
    },
    {
      "cell_type": "markdown",
      "metadata": {
        "id": "JZgcnaqX-q1W"
      },
      "source": [
        "$\\Large{\\text{Computing } \\beta \\text{ for the airline costs data set}}:$"
      ]
    },
    {
      "cell_type": "code",
      "metadata": {
        "colab": {
          "base_uri": "https://localhost:8080/"
        },
        "id": "q9X7RNSU_g4e",
        "outputId": "d6680cb5-9d33-4535-9ec9-73f120ad89a0"
      },
      "source": [
        "#Let us now compute beta \n",
        "n = len(const_maint_data_train.index) #number of data points in the data set\n",
        "print('number of points in the training data set:',n)"
      ],
      "execution_count": null,
      "outputs": [
        {
          "output_type": "stream",
          "name": "stdout",
          "text": [
            "number of points in the training data set: 26\n"
          ]
        }
      ]
    },
    {
      "cell_type": "code",
      "metadata": {
        "colab": {
          "base_uri": "https://localhost:8080/",
          "height": 850
        },
        "id": "_Ak31dRU-J-h",
        "outputId": "be36f0e4-5e3d-4ae9-ea26-b849bb030ef0"
      },
      "source": [
        "#extract the predictor variable columns \n",
        "cols = [2,3,4,5]\n",
        "X_train_data = const_maint_data_train[const_maint_data_train.columns[cols]]\n",
        "\n",
        "X_train_data"
      ],
      "execution_count": null,
      "outputs": [
        {
          "output_type": "execute_result",
          "data": {
            "text/html": [
              "<div>\n",
              "<style scoped>\n",
              "    .dataframe tbody tr th:only-of-type {\n",
              "        vertical-align: middle;\n",
              "    }\n",
              "\n",
              "    .dataframe tbody tr th {\n",
              "        vertical-align: top;\n",
              "    }\n",
              "\n",
              "    .dataframe thead th {\n",
              "        text-align: right;\n",
              "    }\n",
              "</style>\n",
              "<table border=\"1\" class=\"dataframe\">\n",
              "  <thead>\n",
              "    <tr style=\"text-align: right;\">\n",
              "      <th></th>\n",
              "      <th>Type of Industry</th>\n",
              "      <th>Type of machine</th>\n",
              "      <th>Company attitude to used oil analysis</th>\n",
              "      <th>Machine weight (tonnes)</th>\n",
              "    </tr>\n",
              "  </thead>\n",
              "  <tbody>\n",
              "    <tr>\n",
              "      <th>25</th>\n",
              "      <td>1</td>\n",
              "      <td>0</td>\n",
              "      <td>1</td>\n",
              "      <td>21.70</td>\n",
              "    </tr>\n",
              "    <tr>\n",
              "      <th>24</th>\n",
              "      <td>1</td>\n",
              "      <td>0</td>\n",
              "      <td>1</td>\n",
              "      <td>22.60</td>\n",
              "    </tr>\n",
              "    <tr>\n",
              "      <th>30</th>\n",
              "      <td>0</td>\n",
              "      <td>0</td>\n",
              "      <td>0</td>\n",
              "      <td>46.27</td>\n",
              "    </tr>\n",
              "    <tr>\n",
              "      <th>17</th>\n",
              "      <td>1</td>\n",
              "      <td>0</td>\n",
              "      <td>0</td>\n",
              "      <td>46.27</td>\n",
              "    </tr>\n",
              "    <tr>\n",
              "      <th>22</th>\n",
              "      <td>1</td>\n",
              "      <td>1</td>\n",
              "      <td>0</td>\n",
              "      <td>335.00</td>\n",
              "    </tr>\n",
              "    <tr>\n",
              "      <th>4</th>\n",
              "      <td>1</td>\n",
              "      <td>1</td>\n",
              "      <td>0</td>\n",
              "      <td>20.37</td>\n",
              "    </tr>\n",
              "    <tr>\n",
              "      <th>2</th>\n",
              "      <td>1</td>\n",
              "      <td>0</td>\n",
              "      <td>0</td>\n",
              "      <td>20.37</td>\n",
              "    </tr>\n",
              "    <tr>\n",
              "      <th>21</th>\n",
              "      <td>1</td>\n",
              "      <td>1</td>\n",
              "      <td>0</td>\n",
              "      <td>218.00</td>\n",
              "    </tr>\n",
              "    <tr>\n",
              "      <th>23</th>\n",
              "      <td>1</td>\n",
              "      <td>0</td>\n",
              "      <td>1</td>\n",
              "      <td>228.00</td>\n",
              "    </tr>\n",
              "    <tr>\n",
              "      <th>10</th>\n",
              "      <td>1</td>\n",
              "      <td>0</td>\n",
              "      <td>1</td>\n",
              "      <td>31.00</td>\n",
              "    </tr>\n",
              "    <tr>\n",
              "      <th>29</th>\n",
              "      <td>1</td>\n",
              "      <td>0</td>\n",
              "      <td>1</td>\n",
              "      <td>31.00</td>\n",
              "    </tr>\n",
              "    <tr>\n",
              "      <th>28</th>\n",
              "      <td>1</td>\n",
              "      <td>0</td>\n",
              "      <td>1</td>\n",
              "      <td>22.60</td>\n",
              "    </tr>\n",
              "    <tr>\n",
              "      <th>18</th>\n",
              "      <td>0</td>\n",
              "      <td>1</td>\n",
              "      <td>0</td>\n",
              "      <td>68.42</td>\n",
              "    </tr>\n",
              "    <tr>\n",
              "      <th>6</th>\n",
              "      <td>1</td>\n",
              "      <td>1</td>\n",
              "      <td>1</td>\n",
              "      <td>21.00</td>\n",
              "    </tr>\n",
              "    <tr>\n",
              "      <th>13</th>\n",
              "      <td>1</td>\n",
              "      <td>0</td>\n",
              "      <td>1</td>\n",
              "      <td>33.20</td>\n",
              "    </tr>\n",
              "    <tr>\n",
              "      <th>7</th>\n",
              "      <td>1</td>\n",
              "      <td>1</td>\n",
              "      <td>1</td>\n",
              "      <td>21.00</td>\n",
              "    </tr>\n",
              "    <tr>\n",
              "      <th>32</th>\n",
              "      <td>1</td>\n",
              "      <td>1</td>\n",
              "      <td>1</td>\n",
              "      <td>229.00</td>\n",
              "    </tr>\n",
              "    <tr>\n",
              "      <th>1</th>\n",
              "      <td>1</td>\n",
              "      <td>0</td>\n",
              "      <td>0</td>\n",
              "      <td>20.37</td>\n",
              "    </tr>\n",
              "    <tr>\n",
              "      <th>16</th>\n",
              "      <td>1</td>\n",
              "      <td>0</td>\n",
              "      <td>0</td>\n",
              "      <td>46.27</td>\n",
              "    </tr>\n",
              "    <tr>\n",
              "      <th>0</th>\n",
              "      <td>1</td>\n",
              "      <td>0</td>\n",
              "      <td>0</td>\n",
              "      <td>16.60</td>\n",
              "    </tr>\n",
              "    <tr>\n",
              "      <th>15</th>\n",
              "      <td>0</td>\n",
              "      <td>0</td>\n",
              "      <td>0</td>\n",
              "      <td>46.27</td>\n",
              "    </tr>\n",
              "    <tr>\n",
              "      <th>5</th>\n",
              "      <td>1</td>\n",
              "      <td>0</td>\n",
              "      <td>0</td>\n",
              "      <td>20.37</td>\n",
              "    </tr>\n",
              "    <tr>\n",
              "      <th>11</th>\n",
              "      <td>1</td>\n",
              "      <td>0</td>\n",
              "      <td>0</td>\n",
              "      <td>31.00</td>\n",
              "    </tr>\n",
              "    <tr>\n",
              "      <th>9</th>\n",
              "      <td>1</td>\n",
              "      <td>0</td>\n",
              "      <td>0</td>\n",
              "      <td>27.01</td>\n",
              "    </tr>\n",
              "    <tr>\n",
              "      <th>8</th>\n",
              "      <td>1</td>\n",
              "      <td>1</td>\n",
              "      <td>1</td>\n",
              "      <td>21.00</td>\n",
              "    </tr>\n",
              "    <tr>\n",
              "      <th>12</th>\n",
              "      <td>1</td>\n",
              "      <td>0</td>\n",
              "      <td>0</td>\n",
              "      <td>31.00</td>\n",
              "    </tr>\n",
              "  </tbody>\n",
              "</table>\n",
              "</div>"
            ],
            "text/plain": [
              "    Type of Industry  ...  Machine weight (tonnes)\n",
              "25                 1  ...                    21.70\n",
              "24                 1  ...                    22.60\n",
              "30                 0  ...                    46.27\n",
              "17                 1  ...                    46.27\n",
              "22                 1  ...                   335.00\n",
              "4                  1  ...                    20.37\n",
              "2                  1  ...                    20.37\n",
              "21                 1  ...                   218.00\n",
              "23                 1  ...                   228.00\n",
              "10                 1  ...                    31.00\n",
              "29                 1  ...                    31.00\n",
              "28                 1  ...                    22.60\n",
              "18                 0  ...                    68.42\n",
              "6                  1  ...                    21.00\n",
              "13                 1  ...                    33.20\n",
              "7                  1  ...                    21.00\n",
              "32                 1  ...                   229.00\n",
              "1                  1  ...                    20.37\n",
              "16                 1  ...                    46.27\n",
              "0                  1  ...                    16.60\n",
              "15                 0  ...                    46.27\n",
              "5                  1  ...                    20.37\n",
              "11                 1  ...                    31.00\n",
              "9                  1  ...                    27.01\n",
              "8                  1  ...                    21.00\n",
              "12                 1  ...                    31.00\n",
              "\n",
              "[26 rows x 4 columns]"
            ]
          },
          "metadata": {},
          "execution_count": 25
        }
      ]
    },
    {
      "cell_type": "code",
      "metadata": {
        "colab": {
          "base_uri": "https://localhost:8080/"
        },
        "id": "JbV7qlZV-noC",
        "outputId": "7c013388-983f-451f-be44-f5eebff59be3"
      },
      "source": [
        "#convert predictor variable columns into a numpy array\n",
        "\n",
        "X_train_array = const_maint_data_train[const_maint_data_train.columns[cols]].to_numpy()\n",
        "X_train_array"
      ],
      "execution_count": null,
      "outputs": [
        {
          "output_type": "execute_result",
          "data": {
            "text/plain": [
              "array([[  1.  ,   0.  ,   1.  ,  21.7 ],\n",
              "       [  1.  ,   0.  ,   1.  ,  22.6 ],\n",
              "       [  0.  ,   0.  ,   0.  ,  46.27],\n",
              "       [  1.  ,   0.  ,   0.  ,  46.27],\n",
              "       [  1.  ,   1.  ,   0.  , 335.  ],\n",
              "       [  1.  ,   1.  ,   0.  ,  20.37],\n",
              "       [  1.  ,   0.  ,   0.  ,  20.37],\n",
              "       [  1.  ,   1.  ,   0.  , 218.  ],\n",
              "       [  1.  ,   0.  ,   1.  , 228.  ],\n",
              "       [  1.  ,   0.  ,   1.  ,  31.  ],\n",
              "       [  1.  ,   0.  ,   1.  ,  31.  ],\n",
              "       [  1.  ,   0.  ,   1.  ,  22.6 ],\n",
              "       [  0.  ,   1.  ,   0.  ,  68.42],\n",
              "       [  1.  ,   1.  ,   1.  ,  21.  ],\n",
              "       [  1.  ,   0.  ,   1.  ,  33.2 ],\n",
              "       [  1.  ,   1.  ,   1.  ,  21.  ],\n",
              "       [  1.  ,   1.  ,   1.  , 229.  ],\n",
              "       [  1.  ,   0.  ,   0.  ,  20.37],\n",
              "       [  1.  ,   0.  ,   0.  ,  46.27],\n",
              "       [  1.  ,   0.  ,   0.  ,  16.6 ],\n",
              "       [  0.  ,   0.  ,   0.  ,  46.27],\n",
              "       [  1.  ,   0.  ,   0.  ,  20.37],\n",
              "       [  1.  ,   0.  ,   0.  ,  31.  ],\n",
              "       [  1.  ,   0.  ,   0.  ,  27.01],\n",
              "       [  1.  ,   1.  ,   1.  ,  21.  ],\n",
              "       [  1.  ,   0.  ,   0.  ,  31.  ]])"
            ]
          },
          "metadata": {},
          "execution_count": 26
        }
      ]
    },
    {
      "cell_type": "code",
      "metadata": {
        "colab": {
          "base_uri": "https://localhost:8080/"
        },
        "id": "8ph3kDe0_qtT",
        "outputId": "b99ab668-0955-4cbc-87e6-9577589e3ba8"
      },
      "source": [
        "import numpy as np\n",
        "#add a column of ones to X_array\n",
        "X_train = np.hstack((X_train_array, np.ones((X_train_array.shape[0], 1), dtype=X_train_array.dtype)))\n",
        "\n",
        "X_train"
      ],
      "execution_count": null,
      "outputs": [
        {
          "output_type": "execute_result",
          "data": {
            "text/plain": [
              "array([[  1.  ,   0.  ,   1.  ,  21.7 ,   1.  ],\n",
              "       [  1.  ,   0.  ,   1.  ,  22.6 ,   1.  ],\n",
              "       [  0.  ,   0.  ,   0.  ,  46.27,   1.  ],\n",
              "       [  1.  ,   0.  ,   0.  ,  46.27,   1.  ],\n",
              "       [  1.  ,   1.  ,   0.  , 335.  ,   1.  ],\n",
              "       [  1.  ,   1.  ,   0.  ,  20.37,   1.  ],\n",
              "       [  1.  ,   0.  ,   0.  ,  20.37,   1.  ],\n",
              "       [  1.  ,   1.  ,   0.  , 218.  ,   1.  ],\n",
              "       [  1.  ,   0.  ,   1.  , 228.  ,   1.  ],\n",
              "       [  1.  ,   0.  ,   1.  ,  31.  ,   1.  ],\n",
              "       [  1.  ,   0.  ,   1.  ,  31.  ,   1.  ],\n",
              "       [  1.  ,   0.  ,   1.  ,  22.6 ,   1.  ],\n",
              "       [  0.  ,   1.  ,   0.  ,  68.42,   1.  ],\n",
              "       [  1.  ,   1.  ,   1.  ,  21.  ,   1.  ],\n",
              "       [  1.  ,   0.  ,   1.  ,  33.2 ,   1.  ],\n",
              "       [  1.  ,   1.  ,   1.  ,  21.  ,   1.  ],\n",
              "       [  1.  ,   1.  ,   1.  , 229.  ,   1.  ],\n",
              "       [  1.  ,   0.  ,   0.  ,  20.37,   1.  ],\n",
              "       [  1.  ,   0.  ,   0.  ,  46.27,   1.  ],\n",
              "       [  1.  ,   0.  ,   0.  ,  16.6 ,   1.  ],\n",
              "       [  0.  ,   0.  ,   0.  ,  46.27,   1.  ],\n",
              "       [  1.  ,   0.  ,   0.  ,  20.37,   1.  ],\n",
              "       [  1.  ,   0.  ,   0.  ,  31.  ,   1.  ],\n",
              "       [  1.  ,   0.  ,   0.  ,  27.01,   1.  ],\n",
              "       [  1.  ,   1.  ,   1.  ,  21.  ,   1.  ],\n",
              "       [  1.  ,   0.  ,   0.  ,  31.  ,   1.  ]])"
            ]
          },
          "metadata": {},
          "execution_count": 27
        }
      ]
    },
    {
      "cell_type": "code",
      "metadata": {
        "colab": {
          "base_uri": "https://localhost:8080/"
        },
        "id": "YCuKqQqBFklC",
        "outputId": "9bfd83cc-bbf8-4f9e-f418-b814183d5ef8"
      },
      "source": [
        "#convert predictor variable columns into a numpy array\n",
        "\n",
        "response_cols = [1]\n",
        "y_train = const_maint_data_train[const_maint_data_train.columns[response_cols]].to_numpy()\n",
        "y_train\n"
      ],
      "execution_count": null,
      "outputs": [
        {
          "output_type": "execute_result",
          "data": {
            "text/plain": [
              "array([[ 8.535],\n",
              "       [ 9.721],\n",
              "       [ 4.069],\n",
              "       [10.859],\n",
              "       [61.671],\n",
              "       [ 2.572],\n",
              "       [ 3.282],\n",
              "       [49.847],\n",
              "       [56.167],\n",
              "       [11.997],\n",
              "       [11.397],\n",
              "       [12.511],\n",
              "       [ 7.119],\n",
              "       [ 5.321],\n",
              "       [13.045],\n",
              "       [ 4.421],\n",
              "       [40.727],\n",
              "       [ 4.602],\n",
              "       [12.139],\n",
              "       [ 6.068],\n",
              "       [ 6.689],\n",
              "       [ 4.142],\n",
              "       [ 7.757],\n",
              "       [ 9.679],\n",
              "       [ 5.301],\n",
              "       [12.597]])"
            ]
          },
          "metadata": {},
          "execution_count": 28
        }
      ]
    },
    {
      "cell_type": "code",
      "metadata": {
        "colab": {
          "base_uri": "https://localhost:8080/"
        },
        "id": "rXod5-5bZdjT",
        "outputId": "84cd46c5-3ba4-4f02-fd91-5e1aa48ab653"
      },
      "source": [
        "#Now we are ready for finding beta\n",
        "#print('X shape:',X.shape,'y shape:',y.shape)\n",
        "\n",
        "XTX = np.matmul(np.transpose(X_train),X_train)\n",
        "print('XTX shape:',XTX.shape)\n",
        "\n",
        "Xy = np.matmul(np.transpose(X_train),y_train)\n",
        "#print('Xy shape:',Xy.shape)\n",
        "\n",
        "#solving a system of linear equations Ax=b, can be done using np.linalg.solve(A,b)\n",
        "\n",
        "beta =np.linalg.solve(XTX,Xy)\n",
        "#beta = np.matmul(np.linalg.inv(XTX),Xy)\n",
        "\n",
        "print('beta',beta)\n",
        "\n"
      ],
      "execution_count": null,
      "outputs": [
        {
          "output_type": "stream",
          "name": "stdout",
          "text": [
            "XTX shape: (5, 5)\n",
            "beta [[ 5.888155  ]\n",
            " [-4.81296515]\n",
            " [ 2.89210439]\n",
            " [ 0.20253284]\n",
            " [-3.30324027]]\n"
          ]
        }
      ]
    },
    {
      "cell_type": "code",
      "metadata": {
        "colab": {
          "base_uri": "https://localhost:8080/"
        },
        "id": "lNmviyeHZ3U_",
        "outputId": "22b29415-dc87-42d2-a219-109793440a2a"
      },
      "source": [
        "print(np.linalg.matrix_rank(XTX))\n",
        "XTX_inv = np.linalg.inv(XTX)\n",
        "\n",
        "#print(np.matmul(XTX,XTX_inv))\n",
        "print ('XTX*XTX_inv =')\n",
        "print (np.matmul(XTX,XTX_inv))\n",
        "is_identity = np.all(np.matmul(XTX,XTX_inv)==np.identity(XTX.shape[0]))\n",
        "print(is_identity)"
      ],
      "execution_count": null,
      "outputs": [
        {
          "output_type": "stream",
          "name": "stdout",
          "text": [
            "5\n",
            "XTX*XTX_inv =\n",
            "[[ 1.00000000e+00 -5.55111512e-17  4.44956572e-16  2.46655994e-18\n",
            "  -3.33066907e-16]\n",
            " [ 0.00000000e+00  1.00000000e+00 -3.81639165e-17  2.60208521e-18\n",
            "  -8.88178420e-16]\n",
            " [-6.66133815e-16  5.55111512e-17  1.00000000e+00  1.70761842e-18\n",
            "  -7.77156117e-16]\n",
            " [ 4.48349785e-14 -8.57011096e-16 -1.19145303e-14  1.00000000e+00\n",
            "  -6.86421727e-14]\n",
            " [-3.99680289e-15 -3.33066907e-16  2.96637714e-16  2.22261445e-18\n",
            "   1.00000000e+00]]\n",
            "False\n"
          ]
        }
      ]
    },
    {
      "cell_type": "markdown",
      "metadata": {
        "id": "rMtrPi9PZ5uQ"
      },
      "source": [
        "$\\textbf{Note:}$ The matrix $X^\\top X$ is full-rank"
      ]
    },
    {
      "cell_type": "markdown",
      "metadata": {
        "id": "nlpNJx69dTWR"
      },
      "source": [
        "Let us compute the condition number of $X^\\top X$."
      ]
    },
    {
      "cell_type": "code",
      "metadata": {
        "colab": {
          "base_uri": "https://localhost:8080/"
        },
        "id": "igx-AEpOdyG6",
        "outputId": "9847aeeb-ac3b-4322-b8d3-144a79241353"
      },
      "source": [
        "#condition number of XTX\n",
        "print(np.linalg.cond(XTX))"
      ],
      "execution_count": null,
      "outputs": [
        {
          "output_type": "stream",
          "name": "stdout",
          "text": [
            "212939.41237197566\n"
          ]
        }
      ]
    },
    {
      "cell_type": "markdown",
      "metadata": {
        "id": "XhiI5tWNd8MO"
      },
      "source": [
        "$\\textbf{Adding $\\ell_2$ regularizer to improve the conditioning of the matrix}$: \n",
        "\n",
        "We shall motivate the use of $\\ell_2$ regularizer to improve the conditioning of the matrix. \n",
        "\n",
        "Instead of minimizing the original OLS objective \n",
        "$\n",
        "\\begin{align}\n",
        "L_{OLS}(\\beta_0, \\beta_1,\\ldots,\\beta_d) = \\sum_{i=1}^{n} [y^i - ( \\beta_0 + \\sum_{j=1}^{d} \\beta_j x_j^i) ]^2. \n",
        "\\end{align}\n",
        "$ \n",
        "\n",
        "we shall now minimize the OLS objective added with a scaled $\\ell_2$ regularizer. \n",
        "\n",
        "The $\\ell_2$ regularizer in $\\beta \\in {\\mathbb{R}}^{d+1}$ is defined as the squared $\\ell_2$ norm of $\\beta$: \n",
        "\n",
        "$\n",
        "\\begin{align}\n",
        "\\|\\beta\\|_2^2 = \\sum_{i=1}^{d+1} \\beta_i^2.  \n",
        "\\end{align}\n",
        "$\n",
        "\n",
        "Hence we shall now solve: \n",
        "$\n",
        "\\begin{align}\n",
        "L_{\\text{ridge}}(\\beta_0, \\beta_1,\\ldots,\\beta_d) = \\sum_{i=1}^{n} [y^i - ( \\beta_0 + \\sum_{j=1}^{d} \\beta_j x_j^i) ]^2 + \\lambda \\sum_{i=1}^{d+1} \\beta_i^2. \n",
        "\\end{align}\n",
        "$ \n",
        "\n",
        "The above objective function is called $\\textbf{ridge}$ regression objective. $\\lambda>0$ is a regularization hyperparameter. \n",
        "\n"
      ]
    },
    {
      "cell_type": "markdown",
      "metadata": {
        "id": "N1lPAFFWfjZk"
      },
      "source": [
        "Now we can write the objective function as:\n",
        "\n",
        "$\n",
        "L_{\\text{ridge}}(\\beta) = \\|\\mathbf{y} - \\mathbf{X}\\mathbf{\\beta} \\|_F^2 + \\lambda \\|\\beta\\|_2^2.\n",
        "$\n",
        "\n",
        "To solve \n",
        "\n",
        "$\n",
        "\\min_\\beta L_{\\text{ridge}}(\\beta) = \\|\\mathbf{y} - \\mathbf{X}\\mathbf{\\beta} \\|_F^2 + \\lambda \\|\\beta\\|_2^2, \n",
        "$\n",
        "we find the gradient with respect to $\\beta$ and equate to zero. \n",
        "\n",
        "Thus we get:\n",
        "\n",
        "$\n",
        "\\begin{align}\n",
        "\\nabla_\\beta L_{\\text{ridge}}(\\beta) &= \\mathbf{0} \\\\ \n",
        "\\implies -\\mathbf{X}^\\top \\mathbf{y} + \\mathbf{X}^\\top\\mathbf{X} \\beta + \\lambda I\\beta &= \\mathbf{0} \\\\ \n",
        "\\implies \\beta &= (\\mathbf{X}^\\top\\mathbf{X}+\\lambda I)^{-1} \\mathbf{X}^\\top \\mathbf{y}. \n",
        "\\end{align}\n",
        "$\n",
        "\n",
        "Note that the closed form expression for $\\beta$ is always valid since $(\\mathbf{X}^\\top\\mathbf{X}+\\lambda I)$ is invertible.  \n"
      ]
    },
    {
      "cell_type": "markdown",
      "metadata": {
        "id": "aMigMbuKgiUk"
      },
      "source": [
        "With $\\lambda \\in \\{10^{-5},10^{-4}, 10^{-3},10^{-2},0.1, 1, 10, 100\\}$ let us check the condition number of $(X^\\top X+\\lambda I)$. "
      ]
    },
    {
      "cell_type": "code",
      "metadata": {
        "colab": {
          "base_uri": "https://localhost:8080/"
        },
        "id": "EOrB2PU_gteD",
        "outputId": "485c929c-be3b-4d54-de92-0865596781b4"
      },
      "source": [
        "lambdas = np.array([1e-5,1e-4,1e-3,1e-2,1e-1,1,10,100])\n",
        "I = np.identity(XTX.shape[0])\n",
        "\n",
        "for lambda_ in lambdas:\n",
        "  print('lambda:',lambda_,'cond(XTX+lambda I):', np.linalg.cond(XTX+lambda_*I))"
      ],
      "execution_count": null,
      "outputs": [
        {
          "output_type": "stream",
          "name": "stdout",
          "text": [
            "lambda: 1e-05 cond(XTX+lambda I): 212937.83725164508\n",
            "lambda: 0.0001 cond(XTX+lambda I): 212923.66221737218\n",
            "lambda: 0.001 cond(XTX+lambda I): 212782.01560408747\n",
            "lambda: 0.01 cond(XTX+lambda I): 211375.84630231213\n",
            "lambda: 0.1 cond(XTX+lambda I): 198272.98653555237\n",
            "lambda: 1.0 cond(XTX+lambda I): 122399.62483265983\n",
            "lambda: 10.0 cond(XTX+lambda I): 25359.49153277391\n",
            "lambda: 100.0 cond(XTX+lambda I): 2841.267762821886\n"
          ]
        }
      ]
    },
    {
      "cell_type": "markdown",
      "metadata": {
        "id": "G4kLXI3KgVzT"
      },
      "source": [
        "With $\\lambda \\in \\{10^{-5},10^{-4}, 10^{-3},10^{-2},0.1, 1, 10, 100\\}$ , let us now solve for $\\beta$ and check the solutions."
      ]
    },
    {
      "cell_type": "code",
      "metadata": {
        "colab": {
          "base_uri": "https://localhost:8080/"
        },
        "id": "K8vdOHNsgUzB",
        "outputId": "7bc55d0a-ed4f-4f0f-9f02-32c4891211e0"
      },
      "source": [
        "import scipy.linalg\n",
        "#Now we are ready for finding beta\n",
        "#print('X shape:',X.shape,'y shape:',y.shape)\n",
        "\n",
        "betas = [] \n",
        "for lambda_ in lambdas:\n",
        "  beta =scipy.linalg.solve(XTX+lambda_*I,Xy)\n",
        "  print('lambda:',lambda_)\n",
        "  print('beta:',beta)\n",
        "  print('***************')\n",
        "  betas.append(beta)"
      ],
      "execution_count": null,
      "outputs": [
        {
          "output_type": "stream",
          "name": "stdout",
          "text": [
            "lambda: 1e-05\n",
            "beta: [[ 5.88812298]\n",
            " [-4.81295663]\n",
            " [ 2.8921031 ]\n",
            " [ 0.20253281]\n",
            " [-3.30321107]]\n",
            "***************\n",
            "lambda: 0.0001\n",
            "beta: [[ 5.88783488]\n",
            " [-4.8128799 ]\n",
            " [ 2.89209145]\n",
            " [ 0.20253258]\n",
            " [-3.30294832]]\n",
            "***************\n",
            "lambda: 0.001\n",
            "beta: [[ 5.88495591]\n",
            " [-4.81211266]\n",
            " [ 2.89197478]\n",
            " [ 0.20253023]\n",
            " [-3.30032267]]\n",
            "***************\n",
            "lambda: 0.01\n",
            "beta: [[ 5.85636863]\n",
            " [-4.80443798]\n",
            " [ 2.8907866 ]\n",
            " [ 0.2025068 ]\n",
            " [-3.27424986]]\n",
            "***************\n",
            "lambda: 0.1\n",
            "beta: [[ 5.58935359]\n",
            " [-4.72760773]\n",
            " [ 2.87696783]\n",
            " [ 0.2022772 ]\n",
            " [-3.03064336]]\n",
            "***************\n",
            "lambda: 1.0\n",
            "beta: [[ 4.00917372]\n",
            " [-4.01600582]\n",
            " [ 2.65702969]\n",
            " [ 0.20041244]\n",
            " [-1.58905163]]\n",
            "***************\n",
            "lambda: 10.0\n",
            "beta: [[ 1.64475018]\n",
            " [-1.44856647]\n",
            " [ 1.39842655]\n",
            " [ 0.19638749]\n",
            " [ 0.32019518]]\n",
            "***************\n",
            "lambda: 100.0\n",
            "beta: [[ 0.41253984]\n",
            " [-0.16163301]\n",
            " [ 0.31448326]\n",
            " [ 0.20154865]\n",
            " [ 0.26069268]]\n",
            "***************\n"
          ]
        }
      ]
    },
    {
      "cell_type": "markdown",
      "metadata": {
        "id": "FoBI7g6Gc5H_"
      },
      "source": [
        "$\\Large{\\text{Residual Plot}}$\n",
        "\n",
        "Sometimes it would be useful to plot the error (or) $\\textbf{residual}$ $e^i$ versus the fitted values $\\hat{y}^i=\\beta_0 + \\sum_{j=1}^{d} \\beta_j x^i_j$.  "
      ]
    },
    {
      "cell_type": "code",
      "metadata": {
        "colab": {
          "base_uri": "https://localhost:8080/",
          "height": 1000
        },
        "id": "ymSVWrHgql4y",
        "outputId": "90d5c4d7-4cd2-46af-aa38-ff68daf54ad8"
      },
      "source": [
        "beta_idx = 0\n",
        "for lambda_ in lambdas: \n",
        "  beta = betas[beta_idx]\n",
        "  beta_idx += 1\n",
        "  xlabel = 'Cost lambda='+str(lambda_)\n",
        "  e_i_residuals_list = [] \n",
        "\n",
        "  for i in range(n): \n",
        "    x_i = X_train[i,:] #access i-th row of X\n",
        "    y_i = y_train[i] #access i-th row of y\n",
        "\n",
        "    y_pred_i = np.dot(x_i,beta) #compute the prediction obtained using the regression coefficients \n",
        "    e_i = y_i - y_pred_i #compute the difference between the actual observation y_i and prediction y_pred_i\n",
        "\n",
        "    e_i_residuals_list.append(e_i) #append the value of e_i to the list \n",
        "\n",
        "  #plot the residuals e_i against the actual observations y_i\n",
        "  plt.scatter(const_maint_data_train['Cost (pounds)'], e_i_residuals_list,color='r')\n",
        "  plt.title(\"Residual plot\")\n",
        "  plt.xlabel(xlabel)\n",
        "  plt.ylabel(\"Residuals\")\n",
        "  plt.grid()\n",
        "  plt.show()"
      ],
      "execution_count": null,
      "outputs": [
        {
          "output_type": "display_data",
          "data": {
            "image/png": "[encoded data removed]",
            "text/plain": [
              "<Figure size 432x288 with 1 Axes>"
            ]
          },
          "metadata": {
            "needs_background": "light"
          }
        },
        {
          "output_type": "display_data",
          "data": {
            "image/png": "[encoded data removed]",
            "text/plain": [
              "<Figure size 432x288 with 1 Axes>"
            ]
          },
          "metadata": {
            "needs_background": "light"
          }
        },
        {
          "output_type": "display_data",
          "data": {
            "image/png": "[encoded data removed]",
            "text/plain": [
              "<Figure size 432x288 with 1 Axes>"
            ]
          },
          "metadata": {
            "needs_background": "light"
          }
        },
        {
          "output_type": "display_data",
          "data": {
            "image/png": "[encoded data removed]",
            "text/plain": [
              "<Figure size 432x288 with 1 Axes>"
            ]
          },
          "metadata": {
            "needs_background": "light"
          }
        },
        {
          "output_type": "display_data",
          "data": {
            "image/png": "[encoded data removed]",
            "text/plain": [
              "<Figure size 432x288 with 1 Axes>"
            ]
          },
          "metadata": {
            "needs_background": "light"
          }
        },
        {
          "output_type": "display_data",
          "data": {
            "image/png": "[encoded data removed]",
            "text/plain": [
              "<Figure size 432x288 with 1 Axes>"
            ]
          },
          "metadata": {
            "needs_background": "light"
          }
        },
        {
          "output_type": "display_data",
          "data": {
            "image/png": "[encoded data removed]",
            "text/plain": [
              "<Figure size 432x288 with 1 Axes>"
            ]
          },
          "metadata": {
            "needs_background": "light"
          }
        },
        {
          "output_type": "display_data",
          "data": {
            "image/png": "[encoded data removed]",
            "text/plain": [
              "<Figure size 432x288 with 1 Axes>"
            ]
          },
          "metadata": {
            "needs_background": "light"
          }
        }
      ]
    },
    {
      "cell_type": "markdown",
      "metadata": {
        "id": "QE8zP-1bsOjO"
      },
      "source": [
        "Note that the residual plot helps to check the variance in the errors $e^i$. "
      ]
    },
    {
      "cell_type": "markdown",
      "metadata": {
        "id": "nWgRu46g1epH"
      },
      "source": [
        "$\\Large{\\text{Coefficient of multiple determination for high dimensions}}$ \n",
        "\n",
        "Note that the description of coefficient of multiple determination for high dimensions is essentially the same as that for single dimension case. \n",
        "\n",
        "Consider the term \n",
        "\n",
        "$\n",
        "\\begin{align}\n",
        "\\Sigma_{YY} = \\sum_{i=1}^{n} (y^i - \\bar{y})^2. \n",
        "\\end{align}\n",
        "$\n",
        "This term $\\Sigma_{YY}$ measures the $\\textbf{observed total variation of the response}$, without considering the effect of predictor variables. \n",
        "\n",
        "When we have access to a predictor variable, then the $\\textbf{unexplained variation of response variable given the predictor variable}$ is given by the sum of squared residuals:\n",
        "\n",
        "$\n",
        "\\begin{align}\n",
        "L = \\sum_{i=1}^{n} (e^i)^2. \n",
        "\\end{align}\n",
        "$\n",
        "\n",
        "Define the term:\n",
        "\n",
        "$\n",
        "\\begin{align}\n",
        "\\text{SSD} = \\Sigma_{YY}- L\n",
        "\\end{align}\n",
        "$\n",
        "\n",
        "as the difference between observed total variation of the response and the unexplained variation given the predictor. Hence this can be considered as $\\textbf{variability explained by the regression on the predictor variable}$. \n",
        "\n",
        "Assuming $\\Sigma_{YY}\\neq 0$, consider: \n",
        "\n",
        "$\n",
        "\\begin{align}\n",
        "\\frac{\\text{SSD}}{\\Sigma_{YY}} = 1- \\frac{L}{\\Sigma_{YY}}.\n",
        "\\end{align}\n",
        "$\n",
        "Here the term $\\frac{\\text{SSD}}{\\Sigma_{YY}}$ denotes the proportion of observed variability in the response variable which is explained by the regression on the predictor variable. From the equality, this proportion of observed variability given the predictor is simply $1$ minus the proportion of unexplained variability. \n",
        "\n",
        "This term $\\frac{\\text{SSD}}{\\Sigma_{YY}}$ denoting the proportion of observed variability which is explained by the predictor variable has a special name called $\\textbf{coefficient of multiple determination}$ and is denoted by $R^2$. \n",
        "\n",
        "It is known that $0\\leq R^2 \\leq 1$. "
      ]
    },
    {
      "cell_type": "markdown",
      "metadata": {
        "id": "u9YHIsongthK"
      },
      "source": [
        "Let us compute $R^2$. "
      ]
    },
    {
      "cell_type": "code",
      "metadata": {
        "colab": {
          "base_uri": "https://localhost:8080/"
        },
        "id": "NpaMDr5syhMe",
        "outputId": "db4f2e54-8454-40fb-d6af-fd115f57bbab"
      },
      "source": [
        "#We shall now compute R^2 for airline costs data\n",
        "\n",
        "#first we shall compute y_bar \n",
        "y_bar = 0\n",
        "for i in range(n): #access each row from the training data set \n",
        "  y_i = float(const_maint_data_train.iat[i,1]) #access element at TOC column\n",
        "  y_bar += y_i\n",
        "\n",
        "y_bar /= n\n",
        "print('y_bar',y_bar)\n",
        "\n",
        "#Next we shall compute sigma_yy, which is the variance of y \n",
        "sigma_yy = 0\n",
        "for i in range(n): #access each row from the data set \n",
        "  y_i = float(const_maint_data_train.iat[i,1]) #access element at TOC column\n",
        "  sigma_yy += (y_i-y_bar)**2\n",
        "\n",
        "print('sigma_yy:', sigma_yy)\n",
        "\n",
        "#now we can compute sum of squared residuals \n",
        "beta_idx = 0\n",
        "for lambda_ in lambdas:\n",
        "  beta = betas[beta_idx]\n",
        "  beta_idx+=1\n",
        "  sum_sq_residuals = 0\n",
        "  for i in range(n): #access each row from the data set \n",
        "    x_i = X_train[i,:] #access i-th row of X\n",
        "    y_i = y_train[i] #access i-th row of y\n",
        "\n",
        "    y_pred_i = np.dot(x_i,beta) #compute the prediction obtained using the regression coefficients \n",
        "    e_i = y_i - y_pred_i #compute the difference between the actual observation y_i and prediction y_pred_i\n",
        "\n",
        "    sum_sq_residuals += (e_i)**2\n",
        "\n",
        "  print('lambda:',lambda_)\n",
        "  print('sum of squared residuals:', sum_sq_residuals)\n",
        "\n",
        "  #Then we will compute the R^2 quantity\n",
        "  R_sq = 1-sum_sq_residuals/sigma_yy\n",
        "  print('R^2:',R_sq)\n",
        "  print('*********************')"
      ],
      "execution_count": null,
      "outputs": [
        {
          "output_type": "stream",
          "name": "stdout",
          "text": [
            "y_bar 14.70134615384615\n",
            "sigma_yy: 7108.239977884616\n",
            "lambda: 1e-05\n",
            "sum of squared residuals: [196.61263052]\n",
            "R^2: [0.97234018]\n",
            "*********************\n",
            "lambda: 0.0001\n",
            "sum of squared residuals: [196.61263085]\n",
            "R^2: [0.97234018]\n",
            "*********************\n",
            "lambda: 0.001\n",
            "sum of squared residuals: [196.61266345]\n",
            "R^2: [0.97234018]\n",
            "*********************\n",
            "lambda: 0.01\n",
            "sum of squared residuals: [196.61588909]\n",
            "R^2: [0.97233972]\n",
            "*********************\n",
            "lambda: 0.1\n",
            "sum of squared residuals: [196.90696914]\n",
            "R^2: [0.97229877]\n",
            "*********************\n",
            "lambda: 1.0\n",
            "sum of squared residuals: [210.69534587]\n",
            "R^2: [0.970359]\n",
            "*********************\n",
            "lambda: 10.0\n",
            "sum of squared residuals: [324.43958074]\n",
            "R^2: [0.95435726]\n",
            "*********************\n",
            "lambda: 100.0\n",
            "sum of squared residuals: [485.85703305]\n",
            "R^2: [0.93164876]\n",
            "*********************\n"
          ]
        }
      ]
    },
    {
      "cell_type": "markdown",
      "metadata": {
        "id": "lLClzd9YpVnv"
      },
      "source": [
        "Here we observe that $R^2$ value does not change at all from $\\lambda = 10^{-5}$ to $\\lambda = 0.001$. There is a transition (decrease) in $R^2$ value from $\\lambda = 0.001$ to $\\lambda = 0.01$. Therefore, we choose the $\\beta$ values corresponding to $\\lambda = 0.001$ for predicting test accuracy."
      ]
    },
    {
      "cell_type": "code",
      "metadata": {
        "colab": {
          "base_uri": "https://localhost:8080/"
        },
        "id": "KrDxl2dBuhSc",
        "outputId": "d889540b-1b71-4972-f9b9-fc74d1c7e42f"
      },
      "source": [
        "## extracting beta value associated with lambdaa = 0.001\n",
        "beta_train = betas[2] ## index 2 corresponds to lambda = 0.001\n",
        "print ('best beta')\n",
        "print (beta_train)"
      ],
      "execution_count": null,
      "outputs": [
        {
          "output_type": "stream",
          "name": "stdout",
          "text": [
            "best beta\n",
            "[[ 5.88495591]\n",
            " [-4.81211266]\n",
            " [ 2.89197478]\n",
            " [ 0.20253023]\n",
            " [-3.30032267]]\n"
          ]
        }
      ]
    },
    {
      "cell_type": "markdown",
      "metadata": {
        "id": "IbFnbUjmqapN"
      },
      "source": [
        "$\\Large{\\text{Checking model performance on test data}}$"
      ]
    },
    {
      "cell_type": "markdown",
      "metadata": {
        "id": "IiWZ1vWiqunU"
      },
      "source": [
        "Let's first prepare the test data into numpy array"
      ]
    },
    {
      "cell_type": "code",
      "metadata": {
        "colab": {
          "base_uri": "https://localhost:8080/",
          "height": 265
        },
        "id": "Ynn6gHe5qp4N",
        "outputId": "53955632-8f2a-450d-da22-2055d04af096"
      },
      "source": [
        "#extract the predictor variable columns \n",
        "cols = [2,3,4,5]\n",
        "X_test_data = const_maint_data_test[const_maint_data_test.columns[cols]]\n",
        "\n",
        "X_test_data"
      ],
      "execution_count": null,
      "outputs": [
        {
          "output_type": "execute_result",
          "data": {
            "text/html": [
              "<div>\n",
              "<style scoped>\n",
              "    .dataframe tbody tr th:only-of-type {\n",
              "        vertical-align: middle;\n",
              "    }\n",
              "\n",
              "    .dataframe tbody tr th {\n",
              "        vertical-align: top;\n",
              "    }\n",
              "\n",
              "    .dataframe thead th {\n",
              "        text-align: right;\n",
              "    }\n",
              "</style>\n",
              "<table border=\"1\" class=\"dataframe\">\n",
              "  <thead>\n",
              "    <tr style=\"text-align: right;\">\n",
              "      <th></th>\n",
              "      <th>Type of Industry</th>\n",
              "      <th>Type of machine</th>\n",
              "      <th>Company attitude to used oil analysis</th>\n",
              "      <th>Machine weight (tonnes)</th>\n",
              "    </tr>\n",
              "  </thead>\n",
              "  <tbody>\n",
              "    <tr>\n",
              "      <th>14</th>\n",
              "      <td>0</td>\n",
              "      <td>0</td>\n",
              "      <td>0</td>\n",
              "      <td>45.00</td>\n",
              "    </tr>\n",
              "    <tr>\n",
              "      <th>19</th>\n",
              "      <td>0</td>\n",
              "      <td>1</td>\n",
              "      <td>0</td>\n",
              "      <td>83.70</td>\n",
              "    </tr>\n",
              "    <tr>\n",
              "      <th>3</th>\n",
              "      <td>1</td>\n",
              "      <td>1</td>\n",
              "      <td>0</td>\n",
              "      <td>20.37</td>\n",
              "    </tr>\n",
              "    <tr>\n",
              "      <th>27</th>\n",
              "      <td>1</td>\n",
              "      <td>0</td>\n",
              "      <td>1</td>\n",
              "      <td>22.60</td>\n",
              "    </tr>\n",
              "    <tr>\n",
              "      <th>31</th>\n",
              "      <td>1</td>\n",
              "      <td>0</td>\n",
              "      <td>0</td>\n",
              "      <td>20.37</td>\n",
              "    </tr>\n",
              "    <tr>\n",
              "      <th>26</th>\n",
              "      <td>1</td>\n",
              "      <td>1</td>\n",
              "      <td>1</td>\n",
              "      <td>229.00</td>\n",
              "    </tr>\n",
              "    <tr>\n",
              "      <th>20</th>\n",
              "      <td>1</td>\n",
              "      <td>1</td>\n",
              "      <td>0</td>\n",
              "      <td>218.00</td>\n",
              "    </tr>\n",
              "  </tbody>\n",
              "</table>\n",
              "</div>"
            ],
            "text/plain": [
              "    Type of Industry  ...  Machine weight (tonnes)\n",
              "14                 0  ...                    45.00\n",
              "19                 0  ...                    83.70\n",
              "3                  1  ...                    20.37\n",
              "27                 1  ...                    22.60\n",
              "31                 1  ...                    20.37\n",
              "26                 1  ...                   229.00\n",
              "20                 1  ...                   218.00\n",
              "\n",
              "[7 rows x 4 columns]"
            ]
          },
          "metadata": {},
          "execution_count": 37
        }
      ]
    },
    {
      "cell_type": "code",
      "metadata": {
        "colab": {
          "base_uri": "https://localhost:8080/"
        },
        "id": "IXjvEqW4tUzz",
        "outputId": "b23242f6-e4d3-4b05-8975-a08241c6a011"
      },
      "source": [
        "#convert predictor variable columns into a numpy array\n",
        "\n",
        "X_test_array = const_maint_data_test[const_maint_data_test.columns[cols]].to_numpy()\n",
        "X_test_array"
      ],
      "execution_count": null,
      "outputs": [
        {
          "output_type": "execute_result",
          "data": {
            "text/plain": [
              "array([[  0.  ,   0.  ,   0.  ,  45.  ],\n",
              "       [  0.  ,   1.  ,   0.  ,  83.7 ],\n",
              "       [  1.  ,   1.  ,   0.  ,  20.37],\n",
              "       [  1.  ,   0.  ,   1.  ,  22.6 ],\n",
              "       [  1.  ,   0.  ,   0.  ,  20.37],\n",
              "       [  1.  ,   1.  ,   1.  , 229.  ],\n",
              "       [  1.  ,   1.  ,   0.  , 218.  ]])"
            ]
          },
          "metadata": {},
          "execution_count": 38
        }
      ]
    },
    {
      "cell_type": "code",
      "metadata": {
        "colab": {
          "base_uri": "https://localhost:8080/"
        },
        "id": "MGSabWMjtiMz",
        "outputId": "694d8669-fc68-40af-a3f8-a9333ac2fa4c"
      },
      "source": [
        "#add a column of ones to X_train_array\n",
        "X_test = np.hstack((X_test_array, np.ones((X_test_array.shape[0], 1), dtype=X_test_array.dtype)))\n",
        "\n",
        "X_test"
      ],
      "execution_count": null,
      "outputs": [
        {
          "output_type": "execute_result",
          "data": {
            "text/plain": [
              "array([[  0.  ,   0.  ,   0.  ,  45.  ,   1.  ],\n",
              "       [  0.  ,   1.  ,   0.  ,  83.7 ,   1.  ],\n",
              "       [  1.  ,   1.  ,   0.  ,  20.37,   1.  ],\n",
              "       [  1.  ,   0.  ,   1.  ,  22.6 ,   1.  ],\n",
              "       [  1.  ,   0.  ,   0.  ,  20.37,   1.  ],\n",
              "       [  1.  ,   1.  ,   1.  , 229.  ,   1.  ],\n",
              "       [  1.  ,   1.  ,   0.  , 218.  ,   1.  ]])"
            ]
          },
          "metadata": {},
          "execution_count": 39
        }
      ]
    },
    {
      "cell_type": "code",
      "metadata": {
        "colab": {
          "base_uri": "https://localhost:8080/",
          "height": 265
        },
        "id": "PCCAStqEtv-D",
        "outputId": "ac2d4050-0efe-4b5e-fd4a-d842c7495f50"
      },
      "source": [
        "## extracting response variables\n",
        "response_cols = [1]\n",
        "y_test_data = const_maint_data_test[const_maint_data_test.columns[response_cols]]\n",
        "y_test_data"
      ],
      "execution_count": null,
      "outputs": [
        {
          "output_type": "execute_result",
          "data": {
            "text/html": [
              "<div>\n",
              "<style scoped>\n",
              "    .dataframe tbody tr th:only-of-type {\n",
              "        vertical-align: middle;\n",
              "    }\n",
              "\n",
              "    .dataframe tbody tr th {\n",
              "        vertical-align: top;\n",
              "    }\n",
              "\n",
              "    .dataframe thead th {\n",
              "        text-align: right;\n",
              "    }\n",
              "</style>\n",
              "<table border=\"1\" class=\"dataframe\">\n",
              "  <thead>\n",
              "    <tr style=\"text-align: right;\">\n",
              "      <th></th>\n",
              "      <th>Cost (pounds)</th>\n",
              "    </tr>\n",
              "  </thead>\n",
              "  <tbody>\n",
              "    <tr>\n",
              "      <th>14</th>\n",
              "      <td>2.471</td>\n",
              "    </tr>\n",
              "    <tr>\n",
              "      <th>19</th>\n",
              "      <td>3.728</td>\n",
              "    </tr>\n",
              "    <tr>\n",
              "      <th>3</th>\n",
              "      <td>2.192</td>\n",
              "    </tr>\n",
              "    <tr>\n",
              "      <th>27</th>\n",
              "      <td>11.101</td>\n",
              "    </tr>\n",
              "    <tr>\n",
              "      <th>31</th>\n",
              "      <td>3.622</td>\n",
              "    </tr>\n",
              "    <tr>\n",
              "      <th>26</th>\n",
              "      <td>66.910</td>\n",
              "    </tr>\n",
              "    <tr>\n",
              "      <th>20</th>\n",
              "      <td>46.057</td>\n",
              "    </tr>\n",
              "  </tbody>\n",
              "</table>\n",
              "</div>"
            ],
            "text/plain": [
              "    Cost (pounds)\n",
              "14          2.471\n",
              "19          3.728\n",
              "3           2.192\n",
              "27         11.101\n",
              "31          3.622\n",
              "26         66.910\n",
              "20         46.057"
            ]
          },
          "metadata": {},
          "execution_count": 40
        }
      ]
    },
    {
      "cell_type": "code",
      "metadata": {
        "colab": {
          "base_uri": "https://localhost:8080/"
        },
        "id": "YD5_DPfVt1lR",
        "outputId": "a3adb1ac-8483-4a07-9d02-9ab97d85ed56"
      },
      "source": [
        "response_cols = [1]\n",
        "y_test = const_maint_data_test[const_maint_data_test.columns[response_cols]].to_numpy()\n",
        "y_test"
      ],
      "execution_count": null,
      "outputs": [
        {
          "output_type": "execute_result",
          "data": {
            "text/plain": [
              "array([[ 2.471],\n",
              "       [ 3.728],\n",
              "       [ 2.192],\n",
              "       [11.101],\n",
              "       [ 3.622],\n",
              "       [66.91 ],\n",
              "       [46.057]])"
            ]
          },
          "metadata": {},
          "execution_count": 41
        }
      ]
    },
    {
      "cell_type": "code",
      "metadata": {
        "colab": {
          "base_uri": "https://localhost:8080/",
          "height": 295
        },
        "id": "-z8QPllPuJpC",
        "outputId": "7dfaf54f-a045-44e1-b17a-620bc8938e2b"
      },
      "source": [
        "## we first compute size of test data\n",
        "n_test = len(const_maint_data_test.index) #number of data points in the test data\n",
        "# print('number of data points in the test data:',n_test)\n",
        "\n",
        "e_i_residuals_list_test = [] ## stores residuals on test data\n",
        "for i in range(n_test): \n",
        "  x_i = X_test[i,:] #access i-th row of X_test\n",
        "  y_i = y_test[i] #access i-th row of y_test\n",
        "\n",
        "  y_pred_i = np.dot(x_i,beta_train) # compute the prediction obtained using the regression coefficients \n",
        "  e_i_test = y_i - y_pred_i #compute the difference between the actual observation y_i and prediction y_pred_i\n",
        "\n",
        "  e_i_residuals_list_test.append(e_i_test) #append the value of e_i_test to the list \n",
        "\n",
        "\n",
        "plt.scatter(const_maint_data_test['Cost (pounds)'], e_i_residuals_list_test,color='g')\n",
        "plt.title(\"Residual plot of test data\")\n",
        "plt.xlabel(\"Cost\")\n",
        "plt.ylabel(\"Residuals\")\n",
        "plt.grid()\n",
        "plt.show()"
      ],
      "execution_count": null,
      "outputs": [
        {
          "output_type": "display_data",
          "data": {
            "image/png": "[encoded data removed]",
            "text/plain": [
              "<Figure size 432x288 with 1 Axes>"
            ]
          },
          "metadata": {
            "needs_background": "light"
          }
        }
      ]
    },
    {
      "cell_type": "code",
      "metadata": {
        "colab": {
          "base_uri": "https://localhost:8080/"
        },
        "id": "0eEoVLgx2h_K",
        "outputId": "18f795fc-8311-4aeb-a787-898c6fefe239"
      },
      "source": [
        "#We shall now compute R^2 for training airline costs data\n",
        "\n",
        "#first we shall compute y_bar \n",
        "y_bar_test = 0\n",
        "for i in range(n_test): #access each row from the test data set \n",
        "  y_test_i = float(const_maint_data_test.iat[i,1]) #access element at TOC column\n",
        "  y_bar_test += y_test_i\n",
        "\n",
        "y_bar_test /= n_test\n",
        "print('y_bar_test',y_bar_test)\n",
        "\n",
        "#Next we shall compute sigma_yy, which is the variance of y_test\n",
        "sigma_yy_test = 0\n",
        "for i in range(n_test): #access each row from the training data set \n",
        "  y_i = float(const_maint_data_test.iat[i,1]) #access element at TOC column\n",
        "  sigma_yy_test += (y_i-y_bar_test)**2\n",
        "\n",
        "print('sigma_yy_test:', sigma_yy_test)\n",
        "\n",
        "#now we can compute sum of squared residuals \n",
        "sum_sq_residuals_test = 0\n",
        "for i in range(n_test): #access each row from the training data set \n",
        "  x_i = X_test[i,:] #access i-th row of X_test\n",
        "  y_i = y_test[i] #access i-th row of y_test\n",
        "\n",
        "  y_pred_i = np.dot(x_i,beta_train) #compute the prediction obtained using the regression coefficients \n",
        "  e_i = y_i - y_pred_i #compute the difference between the actual observation y_i and prediction y_pred_i\n",
        "\n",
        "  sum_sq_residuals_test += (e_i)**2\n",
        "\n",
        "print('sum of squared residuals:', sum_sq_residuals_test)\n",
        "rmse = np.sqrt(sum_sq_residuals_test/n_test)\n",
        "print('Root Mean Squarred Error (RMSE):', rmse)\n",
        "\n",
        "#Then we will compute the R^2 quantity\n",
        "R_sq_test = 1 - sum_sq_residuals_test/sigma_yy_test\n",
        "print('R^2 score:',R_sq_test)"
      ],
      "execution_count": null,
      "outputs": [
        {
          "output_type": "stream",
          "name": "stdout",
          "text": [
            "y_bar_test 19.440142857142856\n",
            "sigma_yy_test: 4113.921042857142\n",
            "sum of squared residuals: [459.76024863]\n",
            "Root Mean Squarred Error (RMSE): [8.10432203]\n",
            "R^2 score: [0.88824281]\n"
          ]
        }
      ]
    },
    {
      "cell_type": "markdown",
      "metadata": {
        "id": "wb6j953Vun8Z"
      },
      "source": [
        "$\\Large{\\text{References:}}$\n",
        "\n",
        "\n",
        "\n",
        "1.   Olive J. David, $\\textit{Linear Regression}$. Springer International Publishing,  2017.\n",
        "2.   Sanford Weisberg. $\\textit{Applied Linear Regression}$. John Wiley $\\&$ Sons, Inc., Hoboken, New Jersey, 4-th Edition, 2014.\n",
        "\n"
      ]
    },
    {
      "cell_type": "code",
      "metadata": {
        "id": "T47ZSd4DiFa_"
      },
      "source": [
        ""
      ],
      "execution_count": null,
      "outputs": []
    }
  ]
}