{
  "nbformat": 4,
  "nbformat_minor": 0,
  "metadata": {
    "colab": {
      "name": "AIMLCEP_ARVIND_MAURYA_Q2.ipynb",
      "provenance": [],
      "collapsed_sections": [],
      "include_colab_link": true
    },
    "kernelspec": {
      "name": "python3",
      "display_name": "Python 3"
    },
    "language_info": {
      "name": "python"
    }
  },
  "cells": [
    {
      "cell_type": "markdown",
      "metadata": {
        "id": "view-in-github",
        "colab_type": "text"
      },
      "source": [
        "<a href=\"https://colab.research.google.com/github/arvind-maurya/MachineLearning/blob/master/Assignment/AIMLCEP_ARVIND_MAURYA_Q2.ipynb\" target=\"_parent\"><img src=\"https://colab.research.google.com/assets/colab-badge.svg\" alt=\"Open In Colab\"/></a>"
      ]
    },
    {
      "cell_type": "markdown",
      "metadata": {
        "id": "dE9sqluEjGoz"
      },
      "source": [
        "## **Solution to Assignment question (Q2-a)**"
      ]
    },
    {
      "cell_type": "markdown",
      "source": [
        "### (a) [C, R] Some of the attributes in the data set are text data. Use a suitable procedure to convert them into suitable numerical representations in the training data and test data. Explain the procedure you used for the conversion.\n"
      ],
      "metadata": {
        "id": "mg_9asMPALSY"
      }
    },
    {
      "cell_type": "markdown",
      "metadata": {
        "id": "ksFVSACCq3wP"
      },
      "source": [
        "In this session, we shall apply logistic regression and look at predictions using it."
      ]
    },
    {
      "cell_type": "code",
      "metadata": {
        "id": "cArLwvFdqyLV"
      },
      "source": [
        "#First, we import the required packages\n",
        "import pandas as pd #the pandas library is useful for data processing \n",
        "import numpy as np #numpy package will be useful for numerical computations\n",
        "import matplotlib.pyplot as plt #the matplotlib library is useful for plotting purposes\n",
        "\n",
        "# The following python directive helps to plot the graph in the notebook directly\n",
        "%matplotlib inline"
      ],
      "execution_count": 271,
      "outputs": []
    },
    {
      "cell_type": "markdown",
      "metadata": {
        "id": "imSI5BjGrNMW"
      },
      "source": [
        "Now let us load the Q2 Classification train data"
      ]
    },
    {
      "cell_type": "code",
      "metadata": {
        "colab": {
          "base_uri": "https://localhost:8080/",
          "height": 0
        },
        "id": "pdpI4baerHDw",
        "outputId": "55cab37c-26bc-4f62-e78e-adf6846567cc"
      },
      "source": [
        "spam_class_train_data = pd.read_excel('https://github.com/arvind-maurya/MachineLearning/blob/master/Assignment/Q2/Q2_classification_train.xlsx?raw=true', index_col=False, header=0)\n",
        "\n",
        "#print the first few rows of the data \n",
        "spam_class_train_data.head()"
      ],
      "execution_count": 272,
      "outputs": [
        {
          "output_type": "execute_result",
          "data": {
            "text/html": [
              "\n",
              "  <div id=\"df-dee4f079-f428-4640-9a12-48ea5c691dc4\">\n",
              "    <div class=\"colab-df-container\">\n",
              "      <div>\n",
              "<style scoped>\n",
              "    .dataframe tbody tr th:only-of-type {\n",
              "        vertical-align: middle;\n",
              "    }\n",
              "\n",
              "    .dataframe tbody tr th {\n",
              "        vertical-align: top;\n",
              "    }\n",
              "\n",
              "    .dataframe thead th {\n",
              "        text-align: right;\n",
              "    }\n",
              "</style>\n",
              "<table border=\"1\" class=\"dataframe\">\n",
              "  <thead>\n",
              "    <tr style=\"text-align: right;\">\n",
              "      <th></th>\n",
              "      <th>spam</th>\n",
              "      <th>to_multiple</th>\n",
              "      <th>from</th>\n",
              "      <th>cc</th>\n",
              "      <th>sent_email</th>\n",
              "      <th>image</th>\n",
              "      <th>attach</th>\n",
              "      <th>dollar</th>\n",
              "      <th>winner</th>\n",
              "      <th>inherit</th>\n",
              "      <th>viagra</th>\n",
              "      <th>password</th>\n",
              "      <th>num_char</th>\n",
              "      <th>line_breaks</th>\n",
              "      <th>format</th>\n",
              "      <th>re_subj</th>\n",
              "      <th>exclaim_subj</th>\n",
              "      <th>urgent_subj</th>\n",
              "      <th>exclaim_mess</th>\n",
              "      <th>number</th>\n",
              "    </tr>\n",
              "  </thead>\n",
              "  <tbody>\n",
              "    <tr>\n",
              "      <th>0</th>\n",
              "      <td>0</td>\n",
              "      <td>0</td>\n",
              "      <td>1</td>\n",
              "      <td>0</td>\n",
              "      <td>0</td>\n",
              "      <td>0</td>\n",
              "      <td>0</td>\n",
              "      <td>0</td>\n",
              "      <td>no</td>\n",
              "      <td>0</td>\n",
              "      <td>0</td>\n",
              "      <td>0</td>\n",
              "      <td>11.370</td>\n",
              "      <td>202</td>\n",
              "      <td>1</td>\n",
              "      <td>0</td>\n",
              "      <td>0</td>\n",
              "      <td>0</td>\n",
              "      <td>0</td>\n",
              "      <td>big</td>\n",
              "    </tr>\n",
              "    <tr>\n",
              "      <th>1</th>\n",
              "      <td>0</td>\n",
              "      <td>0</td>\n",
              "      <td>1</td>\n",
              "      <td>0</td>\n",
              "      <td>0</td>\n",
              "      <td>0</td>\n",
              "      <td>0</td>\n",
              "      <td>0</td>\n",
              "      <td>no</td>\n",
              "      <td>0</td>\n",
              "      <td>0</td>\n",
              "      <td>0</td>\n",
              "      <td>10.504</td>\n",
              "      <td>202</td>\n",
              "      <td>1</td>\n",
              "      <td>0</td>\n",
              "      <td>0</td>\n",
              "      <td>0</td>\n",
              "      <td>1</td>\n",
              "      <td>small</td>\n",
              "    </tr>\n",
              "    <tr>\n",
              "      <th>2</th>\n",
              "      <td>0</td>\n",
              "      <td>0</td>\n",
              "      <td>1</td>\n",
              "      <td>0</td>\n",
              "      <td>0</td>\n",
              "      <td>0</td>\n",
              "      <td>0</td>\n",
              "      <td>0</td>\n",
              "      <td>no</td>\n",
              "      <td>0</td>\n",
              "      <td>0</td>\n",
              "      <td>0</td>\n",
              "      <td>13.256</td>\n",
              "      <td>255</td>\n",
              "      <td>1</td>\n",
              "      <td>0</td>\n",
              "      <td>0</td>\n",
              "      <td>0</td>\n",
              "      <td>48</td>\n",
              "      <td>small</td>\n",
              "    </tr>\n",
              "    <tr>\n",
              "      <th>3</th>\n",
              "      <td>0</td>\n",
              "      <td>0</td>\n",
              "      <td>1</td>\n",
              "      <td>0</td>\n",
              "      <td>0</td>\n",
              "      <td>0</td>\n",
              "      <td>0</td>\n",
              "      <td>0</td>\n",
              "      <td>no</td>\n",
              "      <td>0</td>\n",
              "      <td>0</td>\n",
              "      <td>2</td>\n",
              "      <td>1.231</td>\n",
              "      <td>29</td>\n",
              "      <td>0</td>\n",
              "      <td>0</td>\n",
              "      <td>0</td>\n",
              "      <td>0</td>\n",
              "      <td>1</td>\n",
              "      <td>none</td>\n",
              "    </tr>\n",
              "    <tr>\n",
              "      <th>4</th>\n",
              "      <td>0</td>\n",
              "      <td>0</td>\n",
              "      <td>1</td>\n",
              "      <td>0</td>\n",
              "      <td>0</td>\n",
              "      <td>0</td>\n",
              "      <td>0</td>\n",
              "      <td>0</td>\n",
              "      <td>no</td>\n",
              "      <td>0</td>\n",
              "      <td>0</td>\n",
              "      <td>2</td>\n",
              "      <td>1.091</td>\n",
              "      <td>25</td>\n",
              "      <td>0</td>\n",
              "      <td>0</td>\n",
              "      <td>0</td>\n",
              "      <td>0</td>\n",
              "      <td>1</td>\n",
              "      <td>none</td>\n",
              "    </tr>\n",
              "  </tbody>\n",
              "</table>\n",
              "</div>\n",
              "      <button class=\"colab-df-convert\" onclick=\"convertToInteractive('df-dee4f079-f428-4640-9a12-48ea5c691dc4')\"\n",
              "              title=\"Convert this dataframe to an interactive table.\"\n",
              "              style=\"display:none;\">\n",
              "        \n",
              "  <svg xmlns=\"http://www.w3.org/2000/svg\" height=\"24px\"viewBox=\"0 0 24 24\"\n",
              "       width=\"24px\">\n",
              "    <path d=\"M0 0h24v24H0V0z\" fill=\"none\"/>\n",
              "    <path d=\"M18.56 5.44l.94 2.06.94-2.06 2.06-.94-2.06-.94-.94-2.06-.94 2.06-2.06.94zm-11 1L8.5 8.5l.94-2.06 2.06-.94-2.06-.94L8.5 2.5l-.94 2.06-2.06.94zm10 10l.94 2.06.94-2.06 2.06-.94-2.06-.94-.94-2.06-.94 2.06-2.06.94z\"/><path d=\"M17.41 7.96l-1.37-1.37c-.4-.4-.92-.59-1.43-.59-.52 0-1.04.2-1.43.59L10.3 9.45l-7.72 7.72c-.78.78-.78 2.05 0 2.83L4 21.41c.39.39.9.59 1.41.59.51 0 1.02-.2 1.41-.59l7.78-7.78 2.81-2.81c.8-.78.8-2.07 0-2.86zM5.41 20L4 18.59l7.72-7.72 1.47 1.35L5.41 20z\"/>\n",
              "  </svg>\n",
              "      </button>\n",
              "      \n",
              "  <style>\n",
              "    .colab-df-container {\n",
              "      display:flex;\n",
              "      flex-wrap:wrap;\n",
              "      gap: 12px;\n",
              "    }\n",
              "\n",
              "    .colab-df-convert {\n",
              "      background-color: #E8F0FE;\n",
              "      border: none;\n",
              "      border-radius: 50%;\n",
              "      cursor: pointer;\n",
              "      display: none;\n",
              "      fill: #1967D2;\n",
              "      height: 32px;\n",
              "      padding: 0 0 0 0;\n",
              "      width: 32px;\n",
              "    }\n",
              "\n",
              "    .colab-df-convert:hover {\n",
              "      background-color: #E2EBFA;\n",
              "      box-shadow: 0px 1px 2px rgba(60, 64, 67, 0.3), 0px 1px 3px 1px rgba(60, 64, 67, 0.15);\n",
              "      fill: #174EA6;\n",
              "    }\n",
              "\n",
              "    [theme=dark] .colab-df-convert {\n",
              "      background-color: #3B4455;\n",
              "      fill: #D2E3FC;\n",
              "    }\n",
              "\n",
              "    [theme=dark] .colab-df-convert:hover {\n",
              "      background-color: #434B5C;\n",
              "      box-shadow: 0px 1px 3px 1px rgba(0, 0, 0, 0.15);\n",
              "      filter: drop-shadow(0px 1px 2px rgba(0, 0, 0, 0.3));\n",
              "      fill: #FFFFFF;\n",
              "    }\n",
              "  </style>\n",
              "\n",
              "      <script>\n",
              "        const buttonEl =\n",
              "          document.querySelector('#df-dee4f079-f428-4640-9a12-48ea5c691dc4 button.colab-df-convert');\n",
              "        buttonEl.style.display =\n",
              "          google.colab.kernel.accessAllowed ? 'block' : 'none';\n",
              "\n",
              "        async function convertToInteractive(key) {\n",
              "          const element = document.querySelector('#df-dee4f079-f428-4640-9a12-48ea5c691dc4');\n",
              "          const dataTable =\n",
              "            await google.colab.kernel.invokeFunction('convertToInteractive',\n",
              "                                                     [key], {});\n",
              "          if (!dataTable) return;\n",
              "\n",
              "          const docLinkHtml = 'Like what you see? Visit the ' +\n",
              "            '<a target=\"_blank\" href=https://colab.research.google.com/notebooks/data_table.ipynb>data table notebook</a>'\n",
              "            + ' to learn more about interactive tables.';\n",
              "          element.innerHTML = '';\n",
              "          dataTable['output_type'] = 'display_data';\n",
              "          await google.colab.output.renderOutput(dataTable, element);\n",
              "          const docLink = document.createElement('div');\n",
              "          docLink.innerHTML = docLinkHtml;\n",
              "          element.appendChild(docLink);\n",
              "        }\n",
              "      </script>\n",
              "    </div>\n",
              "  </div>\n",
              "  "
            ],
            "text/plain": [
              "   spam  to_multiple  from  cc  ...  exclaim_subj  urgent_subj  exclaim_mess  number\n",
              "0     0            0     1   0  ...             0            0             0     big\n",
              "1     0            0     1   0  ...             0            0             1   small\n",
              "2     0            0     1   0  ...             0            0            48   small\n",
              "3     0            0     1   0  ...             0            0             1    none\n",
              "4     0            0     1   0  ...             0            0             1    none\n",
              "\n",
              "[5 rows x 20 columns]"
            ]
          },
          "metadata": {},
          "execution_count": 272
        }
      ]
    },
    {
      "cell_type": "code",
      "metadata": {
        "colab": {
          "base_uri": "https://localhost:8080/"
        },
        "id": "siTer_VR1wiG",
        "outputId": "662901fb-88a8-41a3-a5d0-543f07078670"
      },
      "source": [
        "#We see two data attributes namely winner and number as text data. We need to convert this to numerical data\n",
        "#Get the unique value of winner attribute\n",
        "winner = np.unique(spam_class_train_data['winner'])\n",
        "print('winner attribute unique value:',winner)\n",
        "\n",
        "number = np.unique(spam_class_train_data['number'])\n",
        "print('number attribute unique value:', number)\n",
        "#spam_class_train_data.describe()"
      ],
      "execution_count": 273,
      "outputs": [
        {
          "output_type": "stream",
          "name": "stdout",
          "text": [
            "winner attribute unique value: ['no' 'yes']\n",
            "number attribute unique value: ['big' 'none' 'small']\n"
          ]
        }
      ]
    },
    {
      "cell_type": "markdown",
      "source": [
        "We can now generate a label encoding scheme for mapping each category to a numeric value by leveraging scikit-learn"
      ],
      "metadata": {
        "id": "eY-x8PHGT6E9"
      }
    },
    {
      "cell_type": "code",
      "source": [
        "from sklearn.preprocessing import LabelEncoder\n",
        "gle = LabelEncoder()\n",
        "#transform winner column into numerical column\n",
        "winner_tf = gle.fit_transform(spam_class_train_data['winner'])\n",
        "winner_mappings = {index: label for index, label in \n",
        "                  enumerate(gle.classes_)}\n",
        "winner_mappings"
      ],
      "metadata": {
        "id": "sIHqKuB89RyG",
        "outputId": "40201d07-1632-49f0-ad64-579b1d1c136c",
        "colab": {
          "base_uri": "https://localhost:8080/"
        }
      },
      "execution_count": 274,
      "outputs": [
        {
          "output_type": "execute_result",
          "data": {
            "text/plain": [
              "{0: 'no', 1: 'yes'}"
            ]
          },
          "metadata": {},
          "execution_count": 274
        }
      ]
    },
    {
      "cell_type": "code",
      "source": [
        "number_tf = gle.fit_transform(spam_class_train_data['number'])\n",
        "number_mappings = {index: label for index, label in \n",
        "                  enumerate(gle.classes_)}\n",
        "number_mappings"
      ],
      "metadata": {
        "id": "UthXfe7G97Ky",
        "outputId": "e13a3cc6-ca92-4512-d556-7bc763610874",
        "colab": {
          "base_uri": "https://localhost:8080/"
        }
      },
      "execution_count": 275,
      "outputs": [
        {
          "output_type": "execute_result",
          "data": {
            "text/plain": [
              "{0: 'big', 1: 'none', 2: 'small'}"
            ]
          },
          "metadata": {},
          "execution_count": 275
        }
      ]
    },
    {
      "cell_type": "code",
      "source": [
        "spam_class_train_data['winner_tf'] = winner_tf\n",
        "spam_class_train_data['number_tf'] = number_tf\n",
        "spam_class_train_data"
      ],
      "metadata": {
        "id": "XPXuadF9-g2q",
        "outputId": "d596e359-7ca3-4d78-dbc0-5b7d3ddd85fa",
        "colab": {
          "base_uri": "https://localhost:8080/",
          "height": 0
        }
      },
      "execution_count": 276,
      "outputs": [
        {
          "output_type": "execute_result",
          "data": {
            "text/html": [
              "\n",
              "  <div id=\"df-9bc1efe7-54ae-4d29-b656-140ae96bca15\">\n",
              "    <div class=\"colab-df-container\">\n",
              "      <div>\n",
              "<style scoped>\n",
              "    .dataframe tbody tr th:only-of-type {\n",
              "        vertical-align: middle;\n",
              "    }\n",
              "\n",
              "    .dataframe tbody tr th {\n",
              "        vertical-align: top;\n",
              "    }\n",
              "\n",
              "    .dataframe thead th {\n",
              "        text-align: right;\n",
              "    }\n",
              "</style>\n",
              "<table border=\"1\" class=\"dataframe\">\n",
              "  <thead>\n",
              "    <tr style=\"text-align: right;\">\n",
              "      <th></th>\n",
              "      <th>spam</th>\n",
              "      <th>to_multiple</th>\n",
              "      <th>from</th>\n",
              "      <th>cc</th>\n",
              "      <th>sent_email</th>\n",
              "      <th>image</th>\n",
              "      <th>attach</th>\n",
              "      <th>dollar</th>\n",
              "      <th>winner</th>\n",
              "      <th>inherit</th>\n",
              "      <th>viagra</th>\n",
              "      <th>password</th>\n",
              "      <th>num_char</th>\n",
              "      <th>line_breaks</th>\n",
              "      <th>format</th>\n",
              "      <th>re_subj</th>\n",
              "      <th>exclaim_subj</th>\n",
              "      <th>urgent_subj</th>\n",
              "      <th>exclaim_mess</th>\n",
              "      <th>number</th>\n",
              "      <th>winner_tf</th>\n",
              "      <th>number_tf</th>\n",
              "    </tr>\n",
              "  </thead>\n",
              "  <tbody>\n",
              "    <tr>\n",
              "      <th>0</th>\n",
              "      <td>0</td>\n",
              "      <td>0</td>\n",
              "      <td>1</td>\n",
              "      <td>0</td>\n",
              "      <td>0</td>\n",
              "      <td>0</td>\n",
              "      <td>0</td>\n",
              "      <td>0</td>\n",
              "      <td>no</td>\n",
              "      <td>0</td>\n",
              "      <td>0</td>\n",
              "      <td>0</td>\n",
              "      <td>11.370</td>\n",
              "      <td>202</td>\n",
              "      <td>1</td>\n",
              "      <td>0</td>\n",
              "      <td>0</td>\n",
              "      <td>0</td>\n",
              "      <td>0</td>\n",
              "      <td>big</td>\n",
              "      <td>0</td>\n",
              "      <td>0</td>\n",
              "    </tr>\n",
              "    <tr>\n",
              "      <th>1</th>\n",
              "      <td>0</td>\n",
              "      <td>0</td>\n",
              "      <td>1</td>\n",
              "      <td>0</td>\n",
              "      <td>0</td>\n",
              "      <td>0</td>\n",
              "      <td>0</td>\n",
              "      <td>0</td>\n",
              "      <td>no</td>\n",
              "      <td>0</td>\n",
              "      <td>0</td>\n",
              "      <td>0</td>\n",
              "      <td>10.504</td>\n",
              "      <td>202</td>\n",
              "      <td>1</td>\n",
              "      <td>0</td>\n",
              "      <td>0</td>\n",
              "      <td>0</td>\n",
              "      <td>1</td>\n",
              "      <td>small</td>\n",
              "      <td>0</td>\n",
              "      <td>2</td>\n",
              "    </tr>\n",
              "    <tr>\n",
              "      <th>2</th>\n",
              "      <td>0</td>\n",
              "      <td>0</td>\n",
              "      <td>1</td>\n",
              "      <td>0</td>\n",
              "      <td>0</td>\n",
              "      <td>0</td>\n",
              "      <td>0</td>\n",
              "      <td>0</td>\n",
              "      <td>no</td>\n",
              "      <td>0</td>\n",
              "      <td>0</td>\n",
              "      <td>0</td>\n",
              "      <td>13.256</td>\n",
              "      <td>255</td>\n",
              "      <td>1</td>\n",
              "      <td>0</td>\n",
              "      <td>0</td>\n",
              "      <td>0</td>\n",
              "      <td>48</td>\n",
              "      <td>small</td>\n",
              "      <td>0</td>\n",
              "      <td>2</td>\n",
              "    </tr>\n",
              "    <tr>\n",
              "      <th>3</th>\n",
              "      <td>0</td>\n",
              "      <td>0</td>\n",
              "      <td>1</td>\n",
              "      <td>0</td>\n",
              "      <td>0</td>\n",
              "      <td>0</td>\n",
              "      <td>0</td>\n",
              "      <td>0</td>\n",
              "      <td>no</td>\n",
              "      <td>0</td>\n",
              "      <td>0</td>\n",
              "      <td>2</td>\n",
              "      <td>1.231</td>\n",
              "      <td>29</td>\n",
              "      <td>0</td>\n",
              "      <td>0</td>\n",
              "      <td>0</td>\n",
              "      <td>0</td>\n",
              "      <td>1</td>\n",
              "      <td>none</td>\n",
              "      <td>0</td>\n",
              "      <td>1</td>\n",
              "    </tr>\n",
              "    <tr>\n",
              "      <th>4</th>\n",
              "      <td>0</td>\n",
              "      <td>0</td>\n",
              "      <td>1</td>\n",
              "      <td>0</td>\n",
              "      <td>0</td>\n",
              "      <td>0</td>\n",
              "      <td>0</td>\n",
              "      <td>0</td>\n",
              "      <td>no</td>\n",
              "      <td>0</td>\n",
              "      <td>0</td>\n",
              "      <td>2</td>\n",
              "      <td>1.091</td>\n",
              "      <td>25</td>\n",
              "      <td>0</td>\n",
              "      <td>0</td>\n",
              "      <td>0</td>\n",
              "      <td>0</td>\n",
              "      <td>1</td>\n",
              "      <td>none</td>\n",
              "      <td>0</td>\n",
              "      <td>1</td>\n",
              "    </tr>\n",
              "    <tr>\n",
              "      <th>...</th>\n",
              "      <td>...</td>\n",
              "      <td>...</td>\n",
              "      <td>...</td>\n",
              "      <td>...</td>\n",
              "      <td>...</td>\n",
              "      <td>...</td>\n",
              "      <td>...</td>\n",
              "      <td>...</td>\n",
              "      <td>...</td>\n",
              "      <td>...</td>\n",
              "      <td>...</td>\n",
              "      <td>...</td>\n",
              "      <td>...</td>\n",
              "      <td>...</td>\n",
              "      <td>...</td>\n",
              "      <td>...</td>\n",
              "      <td>...</td>\n",
              "      <td>...</td>\n",
              "      <td>...</td>\n",
              "      <td>...</td>\n",
              "      <td>...</td>\n",
              "      <td>...</td>\n",
              "    </tr>\n",
              "    <tr>\n",
              "      <th>3131</th>\n",
              "      <td>1</td>\n",
              "      <td>0</td>\n",
              "      <td>1</td>\n",
              "      <td>0</td>\n",
              "      <td>0</td>\n",
              "      <td>0</td>\n",
              "      <td>0</td>\n",
              "      <td>2</td>\n",
              "      <td>no</td>\n",
              "      <td>0</td>\n",
              "      <td>0</td>\n",
              "      <td>0</td>\n",
              "      <td>1.597</td>\n",
              "      <td>46</td>\n",
              "      <td>0</td>\n",
              "      <td>0</td>\n",
              "      <td>1</td>\n",
              "      <td>0</td>\n",
              "      <td>3</td>\n",
              "      <td>small</td>\n",
              "      <td>0</td>\n",
              "      <td>2</td>\n",
              "    </tr>\n",
              "    <tr>\n",
              "      <th>3132</th>\n",
              "      <td>1</td>\n",
              "      <td>0</td>\n",
              "      <td>1</td>\n",
              "      <td>0</td>\n",
              "      <td>0</td>\n",
              "      <td>0</td>\n",
              "      <td>0</td>\n",
              "      <td>1</td>\n",
              "      <td>no</td>\n",
              "      <td>0</td>\n",
              "      <td>0</td>\n",
              "      <td>0</td>\n",
              "      <td>0.333</td>\n",
              "      <td>13</td>\n",
              "      <td>0</td>\n",
              "      <td>0</td>\n",
              "      <td>0</td>\n",
              "      <td>0</td>\n",
              "      <td>0</td>\n",
              "      <td>big</td>\n",
              "      <td>0</td>\n",
              "      <td>0</td>\n",
              "    </tr>\n",
              "    <tr>\n",
              "      <th>3133</th>\n",
              "      <td>1</td>\n",
              "      <td>0</td>\n",
              "      <td>1</td>\n",
              "      <td>0</td>\n",
              "      <td>0</td>\n",
              "      <td>0</td>\n",
              "      <td>0</td>\n",
              "      <td>0</td>\n",
              "      <td>no</td>\n",
              "      <td>0</td>\n",
              "      <td>0</td>\n",
              "      <td>0</td>\n",
              "      <td>0.332</td>\n",
              "      <td>12</td>\n",
              "      <td>0</td>\n",
              "      <td>0</td>\n",
              "      <td>0</td>\n",
              "      <td>0</td>\n",
              "      <td>0</td>\n",
              "      <td>small</td>\n",
              "      <td>0</td>\n",
              "      <td>2</td>\n",
              "    </tr>\n",
              "    <tr>\n",
              "      <th>3134</th>\n",
              "      <td>1</td>\n",
              "      <td>0</td>\n",
              "      <td>1</td>\n",
              "      <td>0</td>\n",
              "      <td>0</td>\n",
              "      <td>0</td>\n",
              "      <td>0</td>\n",
              "      <td>2</td>\n",
              "      <td>yes</td>\n",
              "      <td>0</td>\n",
              "      <td>0</td>\n",
              "      <td>0</td>\n",
              "      <td>2.225</td>\n",
              "      <td>65</td>\n",
              "      <td>0</td>\n",
              "      <td>0</td>\n",
              "      <td>1</td>\n",
              "      <td>0</td>\n",
              "      <td>1</td>\n",
              "      <td>small</td>\n",
              "      <td>1</td>\n",
              "      <td>2</td>\n",
              "    </tr>\n",
              "    <tr>\n",
              "      <th>3135</th>\n",
              "      <td>1</td>\n",
              "      <td>0</td>\n",
              "      <td>1</td>\n",
              "      <td>0</td>\n",
              "      <td>0</td>\n",
              "      <td>0</td>\n",
              "      <td>0</td>\n",
              "      <td>1</td>\n",
              "      <td>no</td>\n",
              "      <td>0</td>\n",
              "      <td>0</td>\n",
              "      <td>0</td>\n",
              "      <td>0.323</td>\n",
              "      <td>15</td>\n",
              "      <td>0</td>\n",
              "      <td>0</td>\n",
              "      <td>0</td>\n",
              "      <td>0</td>\n",
              "      <td>0</td>\n",
              "      <td>small</td>\n",
              "      <td>0</td>\n",
              "      <td>2</td>\n",
              "    </tr>\n",
              "  </tbody>\n",
              "</table>\n",
              "<p>3136 rows × 22 columns</p>\n",
              "</div>\n",
              "      <button class=\"colab-df-convert\" onclick=\"convertToInteractive('df-9bc1efe7-54ae-4d29-b656-140ae96bca15')\"\n",
              "              title=\"Convert this dataframe to an interactive table.\"\n",
              "              style=\"display:none;\">\n",
              "        \n",
              "  <svg xmlns=\"http://www.w3.org/2000/svg\" height=\"24px\"viewBox=\"0 0 24 24\"\n",
              "       width=\"24px\">\n",
              "    <path d=\"M0 0h24v24H0V0z\" fill=\"none\"/>\n",
              "    <path d=\"M18.56 5.44l.94 2.06.94-2.06 2.06-.94-2.06-.94-.94-2.06-.94 2.06-2.06.94zm-11 1L8.5 8.5l.94-2.06 2.06-.94-2.06-.94L8.5 2.5l-.94 2.06-2.06.94zm10 10l.94 2.06.94-2.06 2.06-.94-2.06-.94-.94-2.06-.94 2.06-2.06.94z\"/><path d=\"M17.41 7.96l-1.37-1.37c-.4-.4-.92-.59-1.43-.59-.52 0-1.04.2-1.43.59L10.3 9.45l-7.72 7.72c-.78.78-.78 2.05 0 2.83L4 21.41c.39.39.9.59 1.41.59.51 0 1.02-.2 1.41-.59l7.78-7.78 2.81-2.81c.8-.78.8-2.07 0-2.86zM5.41 20L4 18.59l7.72-7.72 1.47 1.35L5.41 20z\"/>\n",
              "  </svg>\n",
              "      </button>\n",
              "      \n",
              "  <style>\n",
              "    .colab-df-container {\n",
              "      display:flex;\n",
              "      flex-wrap:wrap;\n",
              "      gap: 12px;\n",
              "    }\n",
              "\n",
              "    .colab-df-convert {\n",
              "      background-color: #E8F0FE;\n",
              "      border: none;\n",
              "      border-radius: 50%;\n",
              "      cursor: pointer;\n",
              "      display: none;\n",
              "      fill: #1967D2;\n",
              "      height: 32px;\n",
              "      padding: 0 0 0 0;\n",
              "      width: 32px;\n",
              "    }\n",
              "\n",
              "    .colab-df-convert:hover {\n",
              "      background-color: #E2EBFA;\n",
              "      box-shadow: 0px 1px 2px rgba(60, 64, 67, 0.3), 0px 1px 3px 1px rgba(60, 64, 67, 0.15);\n",
              "      fill: #174EA6;\n",
              "    }\n",
              "\n",
              "    [theme=dark] .colab-df-convert {\n",
              "      background-color: #3B4455;\n",
              "      fill: #D2E3FC;\n",
              "    }\n",
              "\n",
              "    [theme=dark] .colab-df-convert:hover {\n",
              "      background-color: #434B5C;\n",
              "      box-shadow: 0px 1px 3px 1px rgba(0, 0, 0, 0.15);\n",
              "      filter: drop-shadow(0px 1px 2px rgba(0, 0, 0, 0.3));\n",
              "      fill: #FFFFFF;\n",
              "    }\n",
              "  </style>\n",
              "\n",
              "      <script>\n",
              "        const buttonEl =\n",
              "          document.querySelector('#df-9bc1efe7-54ae-4d29-b656-140ae96bca15 button.colab-df-convert');\n",
              "        buttonEl.style.display =\n",
              "          google.colab.kernel.accessAllowed ? 'block' : 'none';\n",
              "\n",
              "        async function convertToInteractive(key) {\n",
              "          const element = document.querySelector('#df-9bc1efe7-54ae-4d29-b656-140ae96bca15');\n",
              "          const dataTable =\n",
              "            await google.colab.kernel.invokeFunction('convertToInteractive',\n",
              "                                                     [key], {});\n",
              "          if (!dataTable) return;\n",
              "\n",
              "          const docLinkHtml = 'Like what you see? Visit the ' +\n",
              "            '<a target=\"_blank\" href=https://colab.research.google.com/notebooks/data_table.ipynb>data table notebook</a>'\n",
              "            + ' to learn more about interactive tables.';\n",
              "          element.innerHTML = '';\n",
              "          dataTable['output_type'] = 'display_data';\n",
              "          await google.colab.output.renderOutput(dataTable, element);\n",
              "          const docLink = document.createElement('div');\n",
              "          docLink.innerHTML = docLinkHtml;\n",
              "          element.appendChild(docLink);\n",
              "        }\n",
              "      </script>\n",
              "    </div>\n",
              "  </div>\n",
              "  "
            ],
            "text/plain": [
              "      spam  to_multiple  from  cc  ...  exclaim_mess  number  winner_tf  number_tf\n",
              "0        0            0     1   0  ...             0     big          0          0\n",
              "1        0            0     1   0  ...             1   small          0          2\n",
              "2        0            0     1   0  ...            48   small          0          2\n",
              "3        0            0     1   0  ...             1    none          0          1\n",
              "4        0            0     1   0  ...             1    none          0          1\n",
              "...    ...          ...   ...  ..  ...           ...     ...        ...        ...\n",
              "3131     1            0     1   0  ...             3   small          0          2\n",
              "3132     1            0     1   0  ...             0     big          0          0\n",
              "3133     1            0     1   0  ...             0   small          0          2\n",
              "3134     1            0     1   0  ...             1   small          1          2\n",
              "3135     1            0     1   0  ...             0   small          0          2\n",
              "\n",
              "[3136 rows x 22 columns]"
            ]
          },
          "metadata": {},
          "execution_count": 276
        }
      ]
    },
    {
      "cell_type": "code",
      "source": [
        "#Lets rearrange the transformed column and drop the original column\n",
        "column_names = ['spam', 'to_multiple', 'from', 'cc', 'sent_email', 'image', 'attach',\n",
        "       'dollar', 'winner', 'winner_tf' ,'inherit', 'viagra', 'password', 'num_char',\n",
        "       'line_breaks', 'format', 're_subj', 'exclaim_subj', 'urgent_subj',\n",
        "       'exclaim_mess', 'number', 'number_tf']\n",
        "\n",
        "spam_class_train_data_tf = spam_class_train_data.reindex(columns=column_names)\n",
        "spam_class_train_data_tf\n",
        "\n"
      ],
      "metadata": {
        "id": "fE2XprAbBRRm",
        "colab": {
          "base_uri": "https://localhost:8080/",
          "height": 0
        },
        "outputId": "00d4c0b9-4256-4abf-b1d3-b0a6b7ef6ea3"
      },
      "execution_count": 277,
      "outputs": [
        {
          "output_type": "execute_result",
          "data": {
            "text/html": [
              "\n",
              "  <div id=\"df-d83ccb2c-8020-45a1-862b-e237f7b80e25\">\n",
              "    <div class=\"colab-df-container\">\n",
              "      <div>\n",
              "<style scoped>\n",
              "    .dataframe tbody tr th:only-of-type {\n",
              "        vertical-align: middle;\n",
              "    }\n",
              "\n",
              "    .dataframe tbody tr th {\n",
              "        vertical-align: top;\n",
              "    }\n",
              "\n",
              "    .dataframe thead th {\n",
              "        text-align: right;\n",
              "    }\n",
              "</style>\n",
              "<table border=\"1\" class=\"dataframe\">\n",
              "  <thead>\n",
              "    <tr style=\"text-align: right;\">\n",
              "      <th></th>\n",
              "      <th>spam</th>\n",
              "      <th>to_multiple</th>\n",
              "      <th>from</th>\n",
              "      <th>cc</th>\n",
              "      <th>sent_email</th>\n",
              "      <th>image</th>\n",
              "      <th>attach</th>\n",
              "      <th>dollar</th>\n",
              "      <th>winner</th>\n",
              "      <th>winner_tf</th>\n",
              "      <th>inherit</th>\n",
              "      <th>viagra</th>\n",
              "      <th>password</th>\n",
              "      <th>num_char</th>\n",
              "      <th>line_breaks</th>\n",
              "      <th>format</th>\n",
              "      <th>re_subj</th>\n",
              "      <th>exclaim_subj</th>\n",
              "      <th>urgent_subj</th>\n",
              "      <th>exclaim_mess</th>\n",
              "      <th>number</th>\n",
              "      <th>number_tf</th>\n",
              "    </tr>\n",
              "  </thead>\n",
              "  <tbody>\n",
              "    <tr>\n",
              "      <th>0</th>\n",
              "      <td>0</td>\n",
              "      <td>0</td>\n",
              "      <td>1</td>\n",
              "      <td>0</td>\n",
              "      <td>0</td>\n",
              "      <td>0</td>\n",
              "      <td>0</td>\n",
              "      <td>0</td>\n",
              "      <td>no</td>\n",
              "      <td>0</td>\n",
              "      <td>0</td>\n",
              "      <td>0</td>\n",
              "      <td>0</td>\n",
              "      <td>11.370</td>\n",
              "      <td>202</td>\n",
              "      <td>1</td>\n",
              "      <td>0</td>\n",
              "      <td>0</td>\n",
              "      <td>0</td>\n",
              "      <td>0</td>\n",
              "      <td>big</td>\n",
              "      <td>0</td>\n",
              "    </tr>\n",
              "    <tr>\n",
              "      <th>1</th>\n",
              "      <td>0</td>\n",
              "      <td>0</td>\n",
              "      <td>1</td>\n",
              "      <td>0</td>\n",
              "      <td>0</td>\n",
              "      <td>0</td>\n",
              "      <td>0</td>\n",
              "      <td>0</td>\n",
              "      <td>no</td>\n",
              "      <td>0</td>\n",
              "      <td>0</td>\n",
              "      <td>0</td>\n",
              "      <td>0</td>\n",
              "      <td>10.504</td>\n",
              "      <td>202</td>\n",
              "      <td>1</td>\n",
              "      <td>0</td>\n",
              "      <td>0</td>\n",
              "      <td>0</td>\n",
              "      <td>1</td>\n",
              "      <td>small</td>\n",
              "      <td>2</td>\n",
              "    </tr>\n",
              "    <tr>\n",
              "      <th>2</th>\n",
              "      <td>0</td>\n",
              "      <td>0</td>\n",
              "      <td>1</td>\n",
              "      <td>0</td>\n",
              "      <td>0</td>\n",
              "      <td>0</td>\n",
              "      <td>0</td>\n",
              "      <td>0</td>\n",
              "      <td>no</td>\n",
              "      <td>0</td>\n",
              "      <td>0</td>\n",
              "      <td>0</td>\n",
              "      <td>0</td>\n",
              "      <td>13.256</td>\n",
              "      <td>255</td>\n",
              "      <td>1</td>\n",
              "      <td>0</td>\n",
              "      <td>0</td>\n",
              "      <td>0</td>\n",
              "      <td>48</td>\n",
              "      <td>small</td>\n",
              "      <td>2</td>\n",
              "    </tr>\n",
              "    <tr>\n",
              "      <th>3</th>\n",
              "      <td>0</td>\n",
              "      <td>0</td>\n",
              "      <td>1</td>\n",
              "      <td>0</td>\n",
              "      <td>0</td>\n",
              "      <td>0</td>\n",
              "      <td>0</td>\n",
              "      <td>0</td>\n",
              "      <td>no</td>\n",
              "      <td>0</td>\n",
              "      <td>0</td>\n",
              "      <td>0</td>\n",
              "      <td>2</td>\n",
              "      <td>1.231</td>\n",
              "      <td>29</td>\n",
              "      <td>0</td>\n",
              "      <td>0</td>\n",
              "      <td>0</td>\n",
              "      <td>0</td>\n",
              "      <td>1</td>\n",
              "      <td>none</td>\n",
              "      <td>1</td>\n",
              "    </tr>\n",
              "    <tr>\n",
              "      <th>4</th>\n",
              "      <td>0</td>\n",
              "      <td>0</td>\n",
              "      <td>1</td>\n",
              "      <td>0</td>\n",
              "      <td>0</td>\n",
              "      <td>0</td>\n",
              "      <td>0</td>\n",
              "      <td>0</td>\n",
              "      <td>no</td>\n",
              "      <td>0</td>\n",
              "      <td>0</td>\n",
              "      <td>0</td>\n",
              "      <td>2</td>\n",
              "      <td>1.091</td>\n",
              "      <td>25</td>\n",
              "      <td>0</td>\n",
              "      <td>0</td>\n",
              "      <td>0</td>\n",
              "      <td>0</td>\n",
              "      <td>1</td>\n",
              "      <td>none</td>\n",
              "      <td>1</td>\n",
              "    </tr>\n",
              "    <tr>\n",
              "      <th>...</th>\n",
              "      <td>...</td>\n",
              "      <td>...</td>\n",
              "      <td>...</td>\n",
              "      <td>...</td>\n",
              "      <td>...</td>\n",
              "      <td>...</td>\n",
              "      <td>...</td>\n",
              "      <td>...</td>\n",
              "      <td>...</td>\n",
              "      <td>...</td>\n",
              "      <td>...</td>\n",
              "      <td>...</td>\n",
              "      <td>...</td>\n",
              "      <td>...</td>\n",
              "      <td>...</td>\n",
              "      <td>...</td>\n",
              "      <td>...</td>\n",
              "      <td>...</td>\n",
              "      <td>...</td>\n",
              "      <td>...</td>\n",
              "      <td>...</td>\n",
              "      <td>...</td>\n",
              "    </tr>\n",
              "    <tr>\n",
              "      <th>3131</th>\n",
              "      <td>1</td>\n",
              "      <td>0</td>\n",
              "      <td>1</td>\n",
              "      <td>0</td>\n",
              "      <td>0</td>\n",
              "      <td>0</td>\n",
              "      <td>0</td>\n",
              "      <td>2</td>\n",
              "      <td>no</td>\n",
              "      <td>0</td>\n",
              "      <td>0</td>\n",
              "      <td>0</td>\n",
              "      <td>0</td>\n",
              "      <td>1.597</td>\n",
              "      <td>46</td>\n",
              "      <td>0</td>\n",
              "      <td>0</td>\n",
              "      <td>1</td>\n",
              "      <td>0</td>\n",
              "      <td>3</td>\n",
              "      <td>small</td>\n",
              "      <td>2</td>\n",
              "    </tr>\n",
              "    <tr>\n",
              "      <th>3132</th>\n",
              "      <td>1</td>\n",
              "      <td>0</td>\n",
              "      <td>1</td>\n",
              "      <td>0</td>\n",
              "      <td>0</td>\n",
              "      <td>0</td>\n",
              "      <td>0</td>\n",
              "      <td>1</td>\n",
              "      <td>no</td>\n",
              "      <td>0</td>\n",
              "      <td>0</td>\n",
              "      <td>0</td>\n",
              "      <td>0</td>\n",
              "      <td>0.333</td>\n",
              "      <td>13</td>\n",
              "      <td>0</td>\n",
              "      <td>0</td>\n",
              "      <td>0</td>\n",
              "      <td>0</td>\n",
              "      <td>0</td>\n",
              "      <td>big</td>\n",
              "      <td>0</td>\n",
              "    </tr>\n",
              "    <tr>\n",
              "      <th>3133</th>\n",
              "      <td>1</td>\n",
              "      <td>0</td>\n",
              "      <td>1</td>\n",
              "      <td>0</td>\n",
              "      <td>0</td>\n",
              "      <td>0</td>\n",
              "      <td>0</td>\n",
              "      <td>0</td>\n",
              "      <td>no</td>\n",
              "      <td>0</td>\n",
              "      <td>0</td>\n",
              "      <td>0</td>\n",
              "      <td>0</td>\n",
              "      <td>0.332</td>\n",
              "      <td>12</td>\n",
              "      <td>0</td>\n",
              "      <td>0</td>\n",
              "      <td>0</td>\n",
              "      <td>0</td>\n",
              "      <td>0</td>\n",
              "      <td>small</td>\n",
              "      <td>2</td>\n",
              "    </tr>\n",
              "    <tr>\n",
              "      <th>3134</th>\n",
              "      <td>1</td>\n",
              "      <td>0</td>\n",
              "      <td>1</td>\n",
              "      <td>0</td>\n",
              "      <td>0</td>\n",
              "      <td>0</td>\n",
              "      <td>0</td>\n",
              "      <td>2</td>\n",
              "      <td>yes</td>\n",
              "      <td>1</td>\n",
              "      <td>0</td>\n",
              "      <td>0</td>\n",
              "      <td>0</td>\n",
              "      <td>2.225</td>\n",
              "      <td>65</td>\n",
              "      <td>0</td>\n",
              "      <td>0</td>\n",
              "      <td>1</td>\n",
              "      <td>0</td>\n",
              "      <td>1</td>\n",
              "      <td>small</td>\n",
              "      <td>2</td>\n",
              "    </tr>\n",
              "    <tr>\n",
              "      <th>3135</th>\n",
              "      <td>1</td>\n",
              "      <td>0</td>\n",
              "      <td>1</td>\n",
              "      <td>0</td>\n",
              "      <td>0</td>\n",
              "      <td>0</td>\n",
              "      <td>0</td>\n",
              "      <td>1</td>\n",
              "      <td>no</td>\n",
              "      <td>0</td>\n",
              "      <td>0</td>\n",
              "      <td>0</td>\n",
              "      <td>0</td>\n",
              "      <td>0.323</td>\n",
              "      <td>15</td>\n",
              "      <td>0</td>\n",
              "      <td>0</td>\n",
              "      <td>0</td>\n",
              "      <td>0</td>\n",
              "      <td>0</td>\n",
              "      <td>small</td>\n",
              "      <td>2</td>\n",
              "    </tr>\n",
              "  </tbody>\n",
              "</table>\n",
              "<p>3136 rows × 22 columns</p>\n",
              "</div>\n",
              "      <button class=\"colab-df-convert\" onclick=\"convertToInteractive('df-d83ccb2c-8020-45a1-862b-e237f7b80e25')\"\n",
              "              title=\"Convert this dataframe to an interactive table.\"\n",
              "              style=\"display:none;\">\n",
              "        \n",
              "  <svg xmlns=\"http://www.w3.org/2000/svg\" height=\"24px\"viewBox=\"0 0 24 24\"\n",
              "       width=\"24px\">\n",
              "    <path d=\"M0 0h24v24H0V0z\" fill=\"none\"/>\n",
              "    <path d=\"M18.56 5.44l.94 2.06.94-2.06 2.06-.94-2.06-.94-.94-2.06-.94 2.06-2.06.94zm-11 1L8.5 8.5l.94-2.06 2.06-.94-2.06-.94L8.5 2.5l-.94 2.06-2.06.94zm10 10l.94 2.06.94-2.06 2.06-.94-2.06-.94-.94-2.06-.94 2.06-2.06.94z\"/><path d=\"M17.41 7.96l-1.37-1.37c-.4-.4-.92-.59-1.43-.59-.52 0-1.04.2-1.43.59L10.3 9.45l-7.72 7.72c-.78.78-.78 2.05 0 2.83L4 21.41c.39.39.9.59 1.41.59.51 0 1.02-.2 1.41-.59l7.78-7.78 2.81-2.81c.8-.78.8-2.07 0-2.86zM5.41 20L4 18.59l7.72-7.72 1.47 1.35L5.41 20z\"/>\n",
              "  </svg>\n",
              "      </button>\n",
              "      \n",
              "  <style>\n",
              "    .colab-df-container {\n",
              "      display:flex;\n",
              "      flex-wrap:wrap;\n",
              "      gap: 12px;\n",
              "    }\n",
              "\n",
              "    .colab-df-convert {\n",
              "      background-color: #E8F0FE;\n",
              "      border: none;\n",
              "      border-radius: 50%;\n",
              "      cursor: pointer;\n",
              "      display: none;\n",
              "      fill: #1967D2;\n",
              "      height: 32px;\n",
              "      padding: 0 0 0 0;\n",
              "      width: 32px;\n",
              "    }\n",
              "\n",
              "    .colab-df-convert:hover {\n",
              "      background-color: #E2EBFA;\n",
              "      box-shadow: 0px 1px 2px rgba(60, 64, 67, 0.3), 0px 1px 3px 1px rgba(60, 64, 67, 0.15);\n",
              "      fill: #174EA6;\n",
              "    }\n",
              "\n",
              "    [theme=dark] .colab-df-convert {\n",
              "      background-color: #3B4455;\n",
              "      fill: #D2E3FC;\n",
              "    }\n",
              "\n",
              "    [theme=dark] .colab-df-convert:hover {\n",
              "      background-color: #434B5C;\n",
              "      box-shadow: 0px 1px 3px 1px rgba(0, 0, 0, 0.15);\n",
              "      filter: drop-shadow(0px 1px 2px rgba(0, 0, 0, 0.3));\n",
              "      fill: #FFFFFF;\n",
              "    }\n",
              "  </style>\n",
              "\n",
              "      <script>\n",
              "        const buttonEl =\n",
              "          document.querySelector('#df-d83ccb2c-8020-45a1-862b-e237f7b80e25 button.colab-df-convert');\n",
              "        buttonEl.style.display =\n",
              "          google.colab.kernel.accessAllowed ? 'block' : 'none';\n",
              "\n",
              "        async function convertToInteractive(key) {\n",
              "          const element = document.querySelector('#df-d83ccb2c-8020-45a1-862b-e237f7b80e25');\n",
              "          const dataTable =\n",
              "            await google.colab.kernel.invokeFunction('convertToInteractive',\n",
              "                                                     [key], {});\n",
              "          if (!dataTable) return;\n",
              "\n",
              "          const docLinkHtml = 'Like what you see? Visit the ' +\n",
              "            '<a target=\"_blank\" href=https://colab.research.google.com/notebooks/data_table.ipynb>data table notebook</a>'\n",
              "            + ' to learn more about interactive tables.';\n",
              "          element.innerHTML = '';\n",
              "          dataTable['output_type'] = 'display_data';\n",
              "          await google.colab.output.renderOutput(dataTable, element);\n",
              "          const docLink = document.createElement('div');\n",
              "          docLink.innerHTML = docLinkHtml;\n",
              "          element.appendChild(docLink);\n",
              "        }\n",
              "      </script>\n",
              "    </div>\n",
              "  </div>\n",
              "  "
            ],
            "text/plain": [
              "      spam  to_multiple  from  cc  ...  urgent_subj  exclaim_mess  number  number_tf\n",
              "0        0            0     1   0  ...            0             0     big          0\n",
              "1        0            0     1   0  ...            0             1   small          2\n",
              "2        0            0     1   0  ...            0            48   small          2\n",
              "3        0            0     1   0  ...            0             1    none          1\n",
              "4        0            0     1   0  ...            0             1    none          1\n",
              "...    ...          ...   ...  ..  ...          ...           ...     ...        ...\n",
              "3131     1            0     1   0  ...            0             3   small          2\n",
              "3132     1            0     1   0  ...            0             0     big          0\n",
              "3133     1            0     1   0  ...            0             0   small          2\n",
              "3134     1            0     1   0  ...            0             1   small          2\n",
              "3135     1            0     1   0  ...            0             0   small          2\n",
              "\n",
              "[3136 rows x 22 columns]"
            ]
          },
          "metadata": {},
          "execution_count": 277
        }
      ]
    },
    {
      "cell_type": "code",
      "source": [
        "#Lets Drop original column in dataframe\n",
        "spam_class_train_data_tf= spam_class_train_data_tf.drop(['winner','number'], axis=1)\n",
        "spam_class_train_data_tf\n"
      ],
      "metadata": {
        "colab": {
          "base_uri": "https://localhost:8080/",
          "height": 0
        },
        "id": "FVN1azpBZLVe",
        "outputId": "b013a138-a257-48cf-a85d-29ed92305ad9"
      },
      "execution_count": 278,
      "outputs": [
        {
          "output_type": "execute_result",
          "data": {
            "text/html": [
              "\n",
              "  <div id=\"df-1f0e6536-306f-4805-a073-4cd3f729c2e9\">\n",
              "    <div class=\"colab-df-container\">\n",
              "      <div>\n",
              "<style scoped>\n",
              "    .dataframe tbody tr th:only-of-type {\n",
              "        vertical-align: middle;\n",
              "    }\n",
              "\n",
              "    .dataframe tbody tr th {\n",
              "        vertical-align: top;\n",
              "    }\n",
              "\n",
              "    .dataframe thead th {\n",
              "        text-align: right;\n",
              "    }\n",
              "</style>\n",
              "<table border=\"1\" class=\"dataframe\">\n",
              "  <thead>\n",
              "    <tr style=\"text-align: right;\">\n",
              "      <th></th>\n",
              "      <th>spam</th>\n",
              "      <th>to_multiple</th>\n",
              "      <th>from</th>\n",
              "      <th>cc</th>\n",
              "      <th>sent_email</th>\n",
              "      <th>image</th>\n",
              "      <th>attach</th>\n",
              "      <th>dollar</th>\n",
              "      <th>winner_tf</th>\n",
              "      <th>inherit</th>\n",
              "      <th>viagra</th>\n",
              "      <th>password</th>\n",
              "      <th>num_char</th>\n",
              "      <th>line_breaks</th>\n",
              "      <th>format</th>\n",
              "      <th>re_subj</th>\n",
              "      <th>exclaim_subj</th>\n",
              "      <th>urgent_subj</th>\n",
              "      <th>exclaim_mess</th>\n",
              "      <th>number_tf</th>\n",
              "    </tr>\n",
              "  </thead>\n",
              "  <tbody>\n",
              "    <tr>\n",
              "      <th>0</th>\n",
              "      <td>0</td>\n",
              "      <td>0</td>\n",
              "      <td>1</td>\n",
              "      <td>0</td>\n",
              "      <td>0</td>\n",
              "      <td>0</td>\n",
              "      <td>0</td>\n",
              "      <td>0</td>\n",
              "      <td>0</td>\n",
              "      <td>0</td>\n",
              "      <td>0</td>\n",
              "      <td>0</td>\n",
              "      <td>11.370</td>\n",
              "      <td>202</td>\n",
              "      <td>1</td>\n",
              "      <td>0</td>\n",
              "      <td>0</td>\n",
              "      <td>0</td>\n",
              "      <td>0</td>\n",
              "      <td>0</td>\n",
              "    </tr>\n",
              "    <tr>\n",
              "      <th>1</th>\n",
              "      <td>0</td>\n",
              "      <td>0</td>\n",
              "      <td>1</td>\n",
              "      <td>0</td>\n",
              "      <td>0</td>\n",
              "      <td>0</td>\n",
              "      <td>0</td>\n",
              "      <td>0</td>\n",
              "      <td>0</td>\n",
              "      <td>0</td>\n",
              "      <td>0</td>\n",
              "      <td>0</td>\n",
              "      <td>10.504</td>\n",
              "      <td>202</td>\n",
              "      <td>1</td>\n",
              "      <td>0</td>\n",
              "      <td>0</td>\n",
              "      <td>0</td>\n",
              "      <td>1</td>\n",
              "      <td>2</td>\n",
              "    </tr>\n",
              "    <tr>\n",
              "      <th>2</th>\n",
              "      <td>0</td>\n",
              "      <td>0</td>\n",
              "      <td>1</td>\n",
              "      <td>0</td>\n",
              "      <td>0</td>\n",
              "      <td>0</td>\n",
              "      <td>0</td>\n",
              "      <td>0</td>\n",
              "      <td>0</td>\n",
              "      <td>0</td>\n",
              "      <td>0</td>\n",
              "      <td>0</td>\n",
              "      <td>13.256</td>\n",
              "      <td>255</td>\n",
              "      <td>1</td>\n",
              "      <td>0</td>\n",
              "      <td>0</td>\n",
              "      <td>0</td>\n",
              "      <td>48</td>\n",
              "      <td>2</td>\n",
              "    </tr>\n",
              "    <tr>\n",
              "      <th>3</th>\n",
              "      <td>0</td>\n",
              "      <td>0</td>\n",
              "      <td>1</td>\n",
              "      <td>0</td>\n",
              "      <td>0</td>\n",
              "      <td>0</td>\n",
              "      <td>0</td>\n",
              "      <td>0</td>\n",
              "      <td>0</td>\n",
              "      <td>0</td>\n",
              "      <td>0</td>\n",
              "      <td>2</td>\n",
              "      <td>1.231</td>\n",
              "      <td>29</td>\n",
              "      <td>0</td>\n",
              "      <td>0</td>\n",
              "      <td>0</td>\n",
              "      <td>0</td>\n",
              "      <td>1</td>\n",
              "      <td>1</td>\n",
              "    </tr>\n",
              "    <tr>\n",
              "      <th>4</th>\n",
              "      <td>0</td>\n",
              "      <td>0</td>\n",
              "      <td>1</td>\n",
              "      <td>0</td>\n",
              "      <td>0</td>\n",
              "      <td>0</td>\n",
              "      <td>0</td>\n",
              "      <td>0</td>\n",
              "      <td>0</td>\n",
              "      <td>0</td>\n",
              "      <td>0</td>\n",
              "      <td>2</td>\n",
              "      <td>1.091</td>\n",
              "      <td>25</td>\n",
              "      <td>0</td>\n",
              "      <td>0</td>\n",
              "      <td>0</td>\n",
              "      <td>0</td>\n",
              "      <td>1</td>\n",
              "      <td>1</td>\n",
              "    </tr>\n",
              "    <tr>\n",
              "      <th>...</th>\n",
              "      <td>...</td>\n",
              "      <td>...</td>\n",
              "      <td>...</td>\n",
              "      <td>...</td>\n",
              "      <td>...</td>\n",
              "      <td>...</td>\n",
              "      <td>...</td>\n",
              "      <td>...</td>\n",
              "      <td>...</td>\n",
              "      <td>...</td>\n",
              "      <td>...</td>\n",
              "      <td>...</td>\n",
              "      <td>...</td>\n",
              "      <td>...</td>\n",
              "      <td>...</td>\n",
              "      <td>...</td>\n",
              "      <td>...</td>\n",
              "      <td>...</td>\n",
              "      <td>...</td>\n",
              "      <td>...</td>\n",
              "    </tr>\n",
              "    <tr>\n",
              "      <th>3131</th>\n",
              "      <td>1</td>\n",
              "      <td>0</td>\n",
              "      <td>1</td>\n",
              "      <td>0</td>\n",
              "      <td>0</td>\n",
              "      <td>0</td>\n",
              "      <td>0</td>\n",
              "      <td>2</td>\n",
              "      <td>0</td>\n",
              "      <td>0</td>\n",
              "      <td>0</td>\n",
              "      <td>0</td>\n",
              "      <td>1.597</td>\n",
              "      <td>46</td>\n",
              "      <td>0</td>\n",
              "      <td>0</td>\n",
              "      <td>1</td>\n",
              "      <td>0</td>\n",
              "      <td>3</td>\n",
              "      <td>2</td>\n",
              "    </tr>\n",
              "    <tr>\n",
              "      <th>3132</th>\n",
              "      <td>1</td>\n",
              "      <td>0</td>\n",
              "      <td>1</td>\n",
              "      <td>0</td>\n",
              "      <td>0</td>\n",
              "      <td>0</td>\n",
              "      <td>0</td>\n",
              "      <td>1</td>\n",
              "      <td>0</td>\n",
              "      <td>0</td>\n",
              "      <td>0</td>\n",
              "      <td>0</td>\n",
              "      <td>0.333</td>\n",
              "      <td>13</td>\n",
              "      <td>0</td>\n",
              "      <td>0</td>\n",
              "      <td>0</td>\n",
              "      <td>0</td>\n",
              "      <td>0</td>\n",
              "      <td>0</td>\n",
              "    </tr>\n",
              "    <tr>\n",
              "      <th>3133</th>\n",
              "      <td>1</td>\n",
              "      <td>0</td>\n",
              "      <td>1</td>\n",
              "      <td>0</td>\n",
              "      <td>0</td>\n",
              "      <td>0</td>\n",
              "      <td>0</td>\n",
              "      <td>0</td>\n",
              "      <td>0</td>\n",
              "      <td>0</td>\n",
              "      <td>0</td>\n",
              "      <td>0</td>\n",
              "      <td>0.332</td>\n",
              "      <td>12</td>\n",
              "      <td>0</td>\n",
              "      <td>0</td>\n",
              "      <td>0</td>\n",
              "      <td>0</td>\n",
              "      <td>0</td>\n",
              "      <td>2</td>\n",
              "    </tr>\n",
              "    <tr>\n",
              "      <th>3134</th>\n",
              "      <td>1</td>\n",
              "      <td>0</td>\n",
              "      <td>1</td>\n",
              "      <td>0</td>\n",
              "      <td>0</td>\n",
              "      <td>0</td>\n",
              "      <td>0</td>\n",
              "      <td>2</td>\n",
              "      <td>1</td>\n",
              "      <td>0</td>\n",
              "      <td>0</td>\n",
              "      <td>0</td>\n",
              "      <td>2.225</td>\n",
              "      <td>65</td>\n",
              "      <td>0</td>\n",
              "      <td>0</td>\n",
              "      <td>1</td>\n",
              "      <td>0</td>\n",
              "      <td>1</td>\n",
              "      <td>2</td>\n",
              "    </tr>\n",
              "    <tr>\n",
              "      <th>3135</th>\n",
              "      <td>1</td>\n",
              "      <td>0</td>\n",
              "      <td>1</td>\n",
              "      <td>0</td>\n",
              "      <td>0</td>\n",
              "      <td>0</td>\n",
              "      <td>0</td>\n",
              "      <td>1</td>\n",
              "      <td>0</td>\n",
              "      <td>0</td>\n",
              "      <td>0</td>\n",
              "      <td>0</td>\n",
              "      <td>0.323</td>\n",
              "      <td>15</td>\n",
              "      <td>0</td>\n",
              "      <td>0</td>\n",
              "      <td>0</td>\n",
              "      <td>0</td>\n",
              "      <td>0</td>\n",
              "      <td>2</td>\n",
              "    </tr>\n",
              "  </tbody>\n",
              "</table>\n",
              "<p>3136 rows × 20 columns</p>\n",
              "</div>\n",
              "      <button class=\"colab-df-convert\" onclick=\"convertToInteractive('df-1f0e6536-306f-4805-a073-4cd3f729c2e9')\"\n",
              "              title=\"Convert this dataframe to an interactive table.\"\n",
              "              style=\"display:none;\">\n",
              "        \n",
              "  <svg xmlns=\"http://www.w3.org/2000/svg\" height=\"24px\"viewBox=\"0 0 24 24\"\n",
              "       width=\"24px\">\n",
              "    <path d=\"M0 0h24v24H0V0z\" fill=\"none\"/>\n",
              "    <path d=\"M18.56 5.44l.94 2.06.94-2.06 2.06-.94-2.06-.94-.94-2.06-.94 2.06-2.06.94zm-11 1L8.5 8.5l.94-2.06 2.06-.94-2.06-.94L8.5 2.5l-.94 2.06-2.06.94zm10 10l.94 2.06.94-2.06 2.06-.94-2.06-.94-.94-2.06-.94 2.06-2.06.94z\"/><path d=\"M17.41 7.96l-1.37-1.37c-.4-.4-.92-.59-1.43-.59-.52 0-1.04.2-1.43.59L10.3 9.45l-7.72 7.72c-.78.78-.78 2.05 0 2.83L4 21.41c.39.39.9.59 1.41.59.51 0 1.02-.2 1.41-.59l7.78-7.78 2.81-2.81c.8-.78.8-2.07 0-2.86zM5.41 20L4 18.59l7.72-7.72 1.47 1.35L5.41 20z\"/>\n",
              "  </svg>\n",
              "      </button>\n",
              "      \n",
              "  <style>\n",
              "    .colab-df-container {\n",
              "      display:flex;\n",
              "      flex-wrap:wrap;\n",
              "      gap: 12px;\n",
              "    }\n",
              "\n",
              "    .colab-df-convert {\n",
              "      background-color: #E8F0FE;\n",
              "      border: none;\n",
              "      border-radius: 50%;\n",
              "      cursor: pointer;\n",
              "      display: none;\n",
              "      fill: #1967D2;\n",
              "      height: 32px;\n",
              "      padding: 0 0 0 0;\n",
              "      width: 32px;\n",
              "    }\n",
              "\n",
              "    .colab-df-convert:hover {\n",
              "      background-color: #E2EBFA;\n",
              "      box-shadow: 0px 1px 2px rgba(60, 64, 67, 0.3), 0px 1px 3px 1px rgba(60, 64, 67, 0.15);\n",
              "      fill: #174EA6;\n",
              "    }\n",
              "\n",
              "    [theme=dark] .colab-df-convert {\n",
              "      background-color: #3B4455;\n",
              "      fill: #D2E3FC;\n",
              "    }\n",
              "\n",
              "    [theme=dark] .colab-df-convert:hover {\n",
              "      background-color: #434B5C;\n",
              "      box-shadow: 0px 1px 3px 1px rgba(0, 0, 0, 0.15);\n",
              "      filter: drop-shadow(0px 1px 2px rgba(0, 0, 0, 0.3));\n",
              "      fill: #FFFFFF;\n",
              "    }\n",
              "  </style>\n",
              "\n",
              "      <script>\n",
              "        const buttonEl =\n",
              "          document.querySelector('#df-1f0e6536-306f-4805-a073-4cd3f729c2e9 button.colab-df-convert');\n",
              "        buttonEl.style.display =\n",
              "          google.colab.kernel.accessAllowed ? 'block' : 'none';\n",
              "\n",
              "        async function convertToInteractive(key) {\n",
              "          const element = document.querySelector('#df-1f0e6536-306f-4805-a073-4cd3f729c2e9');\n",
              "          const dataTable =\n",
              "            await google.colab.kernel.invokeFunction('convertToInteractive',\n",
              "                                                     [key], {});\n",
              "          if (!dataTable) return;\n",
              "\n",
              "          const docLinkHtml = 'Like what you see? Visit the ' +\n",
              "            '<a target=\"_blank\" href=https://colab.research.google.com/notebooks/data_table.ipynb>data table notebook</a>'\n",
              "            + ' to learn more about interactive tables.';\n",
              "          element.innerHTML = '';\n",
              "          dataTable['output_type'] = 'display_data';\n",
              "          await google.colab.output.renderOutput(dataTable, element);\n",
              "          const docLink = document.createElement('div');\n",
              "          docLink.innerHTML = docLinkHtml;\n",
              "          element.appendChild(docLink);\n",
              "        }\n",
              "      </script>\n",
              "    </div>\n",
              "  </div>\n",
              "  "
            ],
            "text/plain": [
              "      spam  to_multiple  from  ...  urgent_subj  exclaim_mess  number_tf\n",
              "0        0            0     1  ...            0             0          0\n",
              "1        0            0     1  ...            0             1          2\n",
              "2        0            0     1  ...            0            48          2\n",
              "3        0            0     1  ...            0             1          1\n",
              "4        0            0     1  ...            0             1          1\n",
              "...    ...          ...   ...  ...          ...           ...        ...\n",
              "3131     1            0     1  ...            0             3          2\n",
              "3132     1            0     1  ...            0             0          0\n",
              "3133     1            0     1  ...            0             0          2\n",
              "3134     1            0     1  ...            0             1          2\n",
              "3135     1            0     1  ...            0             0          2\n",
              "\n",
              "[3136 rows x 20 columns]"
            ]
          },
          "metadata": {},
          "execution_count": 278
        }
      ]
    },
    {
      "cell_type": "markdown",
      "source": [
        "Now Lets transform the test data"
      ],
      "metadata": {
        "id": "or9GkJaAbYDs"
      }
    },
    {
      "cell_type": "code",
      "source": [
        "spam_class_test_data = pd.read_excel('https://github.com/arvind-maurya/MachineLearning/blob/master/Assignment/Q2/Q2_classification_test.xlsx?raw=true', index_col=False, header=0)\n",
        "\n",
        "#print the first few rows of the data \n",
        "spam_class_test_data.head()"
      ],
      "metadata": {
        "colab": {
          "base_uri": "https://localhost:8080/",
          "height": 0
        },
        "id": "dy2pVOrtbWOn",
        "outputId": "9ef30f42-271a-43c8-c009-156ee313572c"
      },
      "execution_count": 279,
      "outputs": [
        {
          "output_type": "execute_result",
          "data": {
            "text/html": [
              "\n",
              "  <div id=\"df-baeda0f4-f6c5-4d74-8b37-5bdb4fc39328\">\n",
              "    <div class=\"colab-df-container\">\n",
              "      <div>\n",
              "<style scoped>\n",
              "    .dataframe tbody tr th:only-of-type {\n",
              "        vertical-align: middle;\n",
              "    }\n",
              "\n",
              "    .dataframe tbody tr th {\n",
              "        vertical-align: top;\n",
              "    }\n",
              "\n",
              "    .dataframe thead th {\n",
              "        text-align: right;\n",
              "    }\n",
              "</style>\n",
              "<table border=\"1\" class=\"dataframe\">\n",
              "  <thead>\n",
              "    <tr style=\"text-align: right;\">\n",
              "      <th></th>\n",
              "      <th>spam</th>\n",
              "      <th>to_multiple</th>\n",
              "      <th>from</th>\n",
              "      <th>cc</th>\n",
              "      <th>sent_email</th>\n",
              "      <th>image</th>\n",
              "      <th>attach</th>\n",
              "      <th>dollar</th>\n",
              "      <th>winner</th>\n",
              "      <th>inherit</th>\n",
              "      <th>viagra</th>\n",
              "      <th>password</th>\n",
              "      <th>num_char</th>\n",
              "      <th>line_breaks</th>\n",
              "      <th>format</th>\n",
              "      <th>re_subj</th>\n",
              "      <th>exclaim_subj</th>\n",
              "      <th>urgent_subj</th>\n",
              "      <th>exclaim_mess</th>\n",
              "      <th>number</th>\n",
              "    </tr>\n",
              "  </thead>\n",
              "  <tbody>\n",
              "    <tr>\n",
              "      <th>0</th>\n",
              "      <td>1</td>\n",
              "      <td>0</td>\n",
              "      <td>1</td>\n",
              "      <td>0</td>\n",
              "      <td>0</td>\n",
              "      <td>0</td>\n",
              "      <td>0</td>\n",
              "      <td>0</td>\n",
              "      <td>no</td>\n",
              "      <td>0</td>\n",
              "      <td>0</td>\n",
              "      <td>0</td>\n",
              "      <td>20.133</td>\n",
              "      <td>364</td>\n",
              "      <td>1</td>\n",
              "      <td>0</td>\n",
              "      <td>0</td>\n",
              "      <td>0</td>\n",
              "      <td>8</td>\n",
              "      <td>small</td>\n",
              "    </tr>\n",
              "    <tr>\n",
              "      <th>1</th>\n",
              "      <td>1</td>\n",
              "      <td>0</td>\n",
              "      <td>1</td>\n",
              "      <td>0</td>\n",
              "      <td>0</td>\n",
              "      <td>0</td>\n",
              "      <td>0</td>\n",
              "      <td>0</td>\n",
              "      <td>no</td>\n",
              "      <td>0</td>\n",
              "      <td>0</td>\n",
              "      <td>0</td>\n",
              "      <td>3.796</td>\n",
              "      <td>71</td>\n",
              "      <td>1</td>\n",
              "      <td>0</td>\n",
              "      <td>0</td>\n",
              "      <td>0</td>\n",
              "      <td>4</td>\n",
              "      <td>small</td>\n",
              "    </tr>\n",
              "    <tr>\n",
              "      <th>2</th>\n",
              "      <td>1</td>\n",
              "      <td>0</td>\n",
              "      <td>1</td>\n",
              "      <td>0</td>\n",
              "      <td>0</td>\n",
              "      <td>0</td>\n",
              "      <td>0</td>\n",
              "      <td>0</td>\n",
              "      <td>no</td>\n",
              "      <td>0</td>\n",
              "      <td>0</td>\n",
              "      <td>0</td>\n",
              "      <td>2.705</td>\n",
              "      <td>35</td>\n",
              "      <td>1</td>\n",
              "      <td>0</td>\n",
              "      <td>0</td>\n",
              "      <td>0</td>\n",
              "      <td>0</td>\n",
              "      <td>none</td>\n",
              "    </tr>\n",
              "    <tr>\n",
              "      <th>3</th>\n",
              "      <td>1</td>\n",
              "      <td>0</td>\n",
              "      <td>1</td>\n",
              "      <td>4</td>\n",
              "      <td>0</td>\n",
              "      <td>0</td>\n",
              "      <td>2</td>\n",
              "      <td>0</td>\n",
              "      <td>no</td>\n",
              "      <td>0</td>\n",
              "      <td>0</td>\n",
              "      <td>0</td>\n",
              "      <td>0.537</td>\n",
              "      <td>22</td>\n",
              "      <td>0</td>\n",
              "      <td>0</td>\n",
              "      <td>0</td>\n",
              "      <td>0</td>\n",
              "      <td>3</td>\n",
              "      <td>small</td>\n",
              "    </tr>\n",
              "    <tr>\n",
              "      <th>4</th>\n",
              "      <td>1</td>\n",
              "      <td>0</td>\n",
              "      <td>1</td>\n",
              "      <td>0</td>\n",
              "      <td>0</td>\n",
              "      <td>0</td>\n",
              "      <td>0</td>\n",
              "      <td>0</td>\n",
              "      <td>no</td>\n",
              "      <td>0</td>\n",
              "      <td>0</td>\n",
              "      <td>0</td>\n",
              "      <td>4.174</td>\n",
              "      <td>2</td>\n",
              "      <td>0</td>\n",
              "      <td>0</td>\n",
              "      <td>0</td>\n",
              "      <td>0</td>\n",
              "      <td>0</td>\n",
              "      <td>none</td>\n",
              "    </tr>\n",
              "  </tbody>\n",
              "</table>\n",
              "</div>\n",
              "      <button class=\"colab-df-convert\" onclick=\"convertToInteractive('df-baeda0f4-f6c5-4d74-8b37-5bdb4fc39328')\"\n",
              "              title=\"Convert this dataframe to an interactive table.\"\n",
              "              style=\"display:none;\">\n",
              "        \n",
              "  <svg xmlns=\"http://www.w3.org/2000/svg\" height=\"24px\"viewBox=\"0 0 24 24\"\n",
              "       width=\"24px\">\n",
              "    <path d=\"M0 0h24v24H0V0z\" fill=\"none\"/>\n",
              "    <path d=\"M18.56 5.44l.94 2.06.94-2.06 2.06-.94-2.06-.94-.94-2.06-.94 2.06-2.06.94zm-11 1L8.5 8.5l.94-2.06 2.06-.94-2.06-.94L8.5 2.5l-.94 2.06-2.06.94zm10 10l.94 2.06.94-2.06 2.06-.94-2.06-.94-.94-2.06-.94 2.06-2.06.94z\"/><path d=\"M17.41 7.96l-1.37-1.37c-.4-.4-.92-.59-1.43-.59-.52 0-1.04.2-1.43.59L10.3 9.45l-7.72 7.72c-.78.78-.78 2.05 0 2.83L4 21.41c.39.39.9.59 1.41.59.51 0 1.02-.2 1.41-.59l7.78-7.78 2.81-2.81c.8-.78.8-2.07 0-2.86zM5.41 20L4 18.59l7.72-7.72 1.47 1.35L5.41 20z\"/>\n",
              "  </svg>\n",
              "      </button>\n",
              "      \n",
              "  <style>\n",
              "    .colab-df-container {\n",
              "      display:flex;\n",
              "      flex-wrap:wrap;\n",
              "      gap: 12px;\n",
              "    }\n",
              "\n",
              "    .colab-df-convert {\n",
              "      background-color: #E8F0FE;\n",
              "      border: none;\n",
              "      border-radius: 50%;\n",
              "      cursor: pointer;\n",
              "      display: none;\n",
              "      fill: #1967D2;\n",
              "      height: 32px;\n",
              "      padding: 0 0 0 0;\n",
              "      width: 32px;\n",
              "    }\n",
              "\n",
              "    .colab-df-convert:hover {\n",
              "      background-color: #E2EBFA;\n",
              "      box-shadow: 0px 1px 2px rgba(60, 64, 67, 0.3), 0px 1px 3px 1px rgba(60, 64, 67, 0.15);\n",
              "      fill: #174EA6;\n",
              "    }\n",
              "\n",
              "    [theme=dark] .colab-df-convert {\n",
              "      background-color: #3B4455;\n",
              "      fill: #D2E3FC;\n",
              "    }\n",
              "\n",
              "    [theme=dark] .colab-df-convert:hover {\n",
              "      background-color: #434B5C;\n",
              "      box-shadow: 0px 1px 3px 1px rgba(0, 0, 0, 0.15);\n",
              "      filter: drop-shadow(0px 1px 2px rgba(0, 0, 0, 0.3));\n",
              "      fill: #FFFFFF;\n",
              "    }\n",
              "  </style>\n",
              "\n",
              "      <script>\n",
              "        const buttonEl =\n",
              "          document.querySelector('#df-baeda0f4-f6c5-4d74-8b37-5bdb4fc39328 button.colab-df-convert');\n",
              "        buttonEl.style.display =\n",
              "          google.colab.kernel.accessAllowed ? 'block' : 'none';\n",
              "\n",
              "        async function convertToInteractive(key) {\n",
              "          const element = document.querySelector('#df-baeda0f4-f6c5-4d74-8b37-5bdb4fc39328');\n",
              "          const dataTable =\n",
              "            await google.colab.kernel.invokeFunction('convertToInteractive',\n",
              "                                                     [key], {});\n",
              "          if (!dataTable) return;\n",
              "\n",
              "          const docLinkHtml = 'Like what you see? Visit the ' +\n",
              "            '<a target=\"_blank\" href=https://colab.research.google.com/notebooks/data_table.ipynb>data table notebook</a>'\n",
              "            + ' to learn more about interactive tables.';\n",
              "          element.innerHTML = '';\n",
              "          dataTable['output_type'] = 'display_data';\n",
              "          await google.colab.output.renderOutput(dataTable, element);\n",
              "          const docLink = document.createElement('div');\n",
              "          docLink.innerHTML = docLinkHtml;\n",
              "          element.appendChild(docLink);\n",
              "        }\n",
              "      </script>\n",
              "    </div>\n",
              "  </div>\n",
              "  "
            ],
            "text/plain": [
              "   spam  to_multiple  from  cc  ...  exclaim_subj  urgent_subj  exclaim_mess  number\n",
              "0     1            0     1   0  ...             0            0             8   small\n",
              "1     1            0     1   0  ...             0            0             4   small\n",
              "2     1            0     1   0  ...             0            0             0    none\n",
              "3     1            0     1   4  ...             0            0             3   small\n",
              "4     1            0     1   0  ...             0            0             0    none\n",
              "\n",
              "[5 rows x 20 columns]"
            ]
          },
          "metadata": {},
          "execution_count": 279
        }
      ]
    },
    {
      "cell_type": "code",
      "metadata": {
        "colab": {
          "base_uri": "https://localhost:8080/"
        },
        "outputId": "cdcb52e3-3af9-4dc0-cf6c-16c3809da479",
        "id": "5tBER7DacJf8"
      },
      "source": [
        "#We see two data attributes namely winner and number as text data. We need to convert this to numerical data\n",
        "#Get the unique value of winner attribute\n",
        "winner = np.unique(spam_class_test_data['winner'])\n",
        "print('winner attribute unique value:',winner)\n",
        "\n",
        "number = np.unique(spam_class_test_data['number'])\n",
        "print('number attribute unique value:', number)\n",
        "#spam_class_train_data.describe()"
      ],
      "execution_count": 280,
      "outputs": [
        {
          "output_type": "stream",
          "name": "stdout",
          "text": [
            "winner attribute unique value: ['no' 'yes']\n",
            "number attribute unique value: ['big' 'none' 'small']\n"
          ]
        }
      ]
    },
    {
      "cell_type": "code",
      "source": [
        "from sklearn.preprocessing import LabelEncoder\n",
        "gle = LabelEncoder()\n",
        "#transform winner column into numerical column\n",
        "winner_tf = gle.fit_transform(spam_class_test_data['winner'])\n",
        "winner_mappings = {index: label for index, label in \n",
        "                  enumerate(gle.classes_)}\n",
        "winner_mappings"
      ],
      "metadata": {
        "outputId": "73db7579-6743-49df-b683-ce2ef9a98f19",
        "colab": {
          "base_uri": "https://localhost:8080/"
        },
        "id": "nU3mK0ctb4JU"
      },
      "execution_count": 281,
      "outputs": [
        {
          "output_type": "execute_result",
          "data": {
            "text/plain": [
              "{0: 'no', 1: 'yes'}"
            ]
          },
          "metadata": {},
          "execution_count": 281
        }
      ]
    },
    {
      "cell_type": "code",
      "source": [
        "number_tf = gle.fit_transform(spam_class_test_data['number'])\n",
        "number_mappings = {index: label for index, label in \n",
        "                  enumerate(gle.classes_)}\n",
        "number_mappings"
      ],
      "metadata": {
        "outputId": "7e9fe406-9376-4367-e06e-dc4d92d58bc1",
        "colab": {
          "base_uri": "https://localhost:8080/"
        },
        "id": "YGeTftVAb4JV"
      },
      "execution_count": 282,
      "outputs": [
        {
          "output_type": "execute_result",
          "data": {
            "text/plain": [
              "{0: 'big', 1: 'none', 2: 'small'}"
            ]
          },
          "metadata": {},
          "execution_count": 282
        }
      ]
    },
    {
      "cell_type": "code",
      "source": [
        "spam_class_test_data['winner_tf'] = winner_tf\n",
        "spam_class_test_data['number_tf'] = number_tf\n",
        "spam_class_test_data"
      ],
      "metadata": {
        "outputId": "c971508a-c666-4d9d-8b07-8b155eabca49",
        "colab": {
          "base_uri": "https://localhost:8080/",
          "height": 0
        },
        "id": "il8cBrzOb4JV"
      },
      "execution_count": 283,
      "outputs": [
        {
          "output_type": "execute_result",
          "data": {
            "text/html": [
              "\n",
              "  <div id=\"df-6eac5b29-9e09-40f4-893f-0801cfbda399\">\n",
              "    <div class=\"colab-df-container\">\n",
              "      <div>\n",
              "<style scoped>\n",
              "    .dataframe tbody tr th:only-of-type {\n",
              "        vertical-align: middle;\n",
              "    }\n",
              "\n",
              "    .dataframe tbody tr th {\n",
              "        vertical-align: top;\n",
              "    }\n",
              "\n",
              "    .dataframe thead th {\n",
              "        text-align: right;\n",
              "    }\n",
              "</style>\n",
              "<table border=\"1\" class=\"dataframe\">\n",
              "  <thead>\n",
              "    <tr style=\"text-align: right;\">\n",
              "      <th></th>\n",
              "      <th>spam</th>\n",
              "      <th>to_multiple</th>\n",
              "      <th>from</th>\n",
              "      <th>cc</th>\n",
              "      <th>sent_email</th>\n",
              "      <th>image</th>\n",
              "      <th>attach</th>\n",
              "      <th>dollar</th>\n",
              "      <th>winner</th>\n",
              "      <th>inherit</th>\n",
              "      <th>viagra</th>\n",
              "      <th>password</th>\n",
              "      <th>num_char</th>\n",
              "      <th>line_breaks</th>\n",
              "      <th>format</th>\n",
              "      <th>re_subj</th>\n",
              "      <th>exclaim_subj</th>\n",
              "      <th>urgent_subj</th>\n",
              "      <th>exclaim_mess</th>\n",
              "      <th>number</th>\n",
              "      <th>winner_tf</th>\n",
              "      <th>number_tf</th>\n",
              "    </tr>\n",
              "  </thead>\n",
              "  <tbody>\n",
              "    <tr>\n",
              "      <th>0</th>\n",
              "      <td>1</td>\n",
              "      <td>0</td>\n",
              "      <td>1</td>\n",
              "      <td>0</td>\n",
              "      <td>0</td>\n",
              "      <td>0</td>\n",
              "      <td>0</td>\n",
              "      <td>0</td>\n",
              "      <td>no</td>\n",
              "      <td>0</td>\n",
              "      <td>0</td>\n",
              "      <td>0</td>\n",
              "      <td>20.133</td>\n",
              "      <td>364</td>\n",
              "      <td>1</td>\n",
              "      <td>0</td>\n",
              "      <td>0</td>\n",
              "      <td>0</td>\n",
              "      <td>8</td>\n",
              "      <td>small</td>\n",
              "      <td>0</td>\n",
              "      <td>2</td>\n",
              "    </tr>\n",
              "    <tr>\n",
              "      <th>1</th>\n",
              "      <td>1</td>\n",
              "      <td>0</td>\n",
              "      <td>1</td>\n",
              "      <td>0</td>\n",
              "      <td>0</td>\n",
              "      <td>0</td>\n",
              "      <td>0</td>\n",
              "      <td>0</td>\n",
              "      <td>no</td>\n",
              "      <td>0</td>\n",
              "      <td>0</td>\n",
              "      <td>0</td>\n",
              "      <td>3.796</td>\n",
              "      <td>71</td>\n",
              "      <td>1</td>\n",
              "      <td>0</td>\n",
              "      <td>0</td>\n",
              "      <td>0</td>\n",
              "      <td>4</td>\n",
              "      <td>small</td>\n",
              "      <td>0</td>\n",
              "      <td>2</td>\n",
              "    </tr>\n",
              "    <tr>\n",
              "      <th>2</th>\n",
              "      <td>1</td>\n",
              "      <td>0</td>\n",
              "      <td>1</td>\n",
              "      <td>0</td>\n",
              "      <td>0</td>\n",
              "      <td>0</td>\n",
              "      <td>0</td>\n",
              "      <td>0</td>\n",
              "      <td>no</td>\n",
              "      <td>0</td>\n",
              "      <td>0</td>\n",
              "      <td>0</td>\n",
              "      <td>2.705</td>\n",
              "      <td>35</td>\n",
              "      <td>1</td>\n",
              "      <td>0</td>\n",
              "      <td>0</td>\n",
              "      <td>0</td>\n",
              "      <td>0</td>\n",
              "      <td>none</td>\n",
              "      <td>0</td>\n",
              "      <td>1</td>\n",
              "    </tr>\n",
              "    <tr>\n",
              "      <th>3</th>\n",
              "      <td>1</td>\n",
              "      <td>0</td>\n",
              "      <td>1</td>\n",
              "      <td>4</td>\n",
              "      <td>0</td>\n",
              "      <td>0</td>\n",
              "      <td>2</td>\n",
              "      <td>0</td>\n",
              "      <td>no</td>\n",
              "      <td>0</td>\n",
              "      <td>0</td>\n",
              "      <td>0</td>\n",
              "      <td>0.537</td>\n",
              "      <td>22</td>\n",
              "      <td>0</td>\n",
              "      <td>0</td>\n",
              "      <td>0</td>\n",
              "      <td>0</td>\n",
              "      <td>3</td>\n",
              "      <td>small</td>\n",
              "      <td>0</td>\n",
              "      <td>2</td>\n",
              "    </tr>\n",
              "    <tr>\n",
              "      <th>4</th>\n",
              "      <td>1</td>\n",
              "      <td>0</td>\n",
              "      <td>1</td>\n",
              "      <td>0</td>\n",
              "      <td>0</td>\n",
              "      <td>0</td>\n",
              "      <td>0</td>\n",
              "      <td>0</td>\n",
              "      <td>no</td>\n",
              "      <td>0</td>\n",
              "      <td>0</td>\n",
              "      <td>0</td>\n",
              "      <td>4.174</td>\n",
              "      <td>2</td>\n",
              "      <td>0</td>\n",
              "      <td>0</td>\n",
              "      <td>0</td>\n",
              "      <td>0</td>\n",
              "      <td>0</td>\n",
              "      <td>none</td>\n",
              "      <td>0</td>\n",
              "      <td>1</td>\n",
              "    </tr>\n",
              "    <tr>\n",
              "      <th>...</th>\n",
              "      <td>...</td>\n",
              "      <td>...</td>\n",
              "      <td>...</td>\n",
              "      <td>...</td>\n",
              "      <td>...</td>\n",
              "      <td>...</td>\n",
              "      <td>...</td>\n",
              "      <td>...</td>\n",
              "      <td>...</td>\n",
              "      <td>...</td>\n",
              "      <td>...</td>\n",
              "      <td>...</td>\n",
              "      <td>...</td>\n",
              "      <td>...</td>\n",
              "      <td>...</td>\n",
              "      <td>...</td>\n",
              "      <td>...</td>\n",
              "      <td>...</td>\n",
              "      <td>...</td>\n",
              "      <td>...</td>\n",
              "      <td>...</td>\n",
              "      <td>...</td>\n",
              "    </tr>\n",
              "    <tr>\n",
              "      <th>780</th>\n",
              "      <td>0</td>\n",
              "      <td>0</td>\n",
              "      <td>1</td>\n",
              "      <td>0</td>\n",
              "      <td>0</td>\n",
              "      <td>0</td>\n",
              "      <td>0</td>\n",
              "      <td>0</td>\n",
              "      <td>no</td>\n",
              "      <td>0</td>\n",
              "      <td>0</td>\n",
              "      <td>0</td>\n",
              "      <td>31.104</td>\n",
              "      <td>744</td>\n",
              "      <td>1</td>\n",
              "      <td>0</td>\n",
              "      <td>0</td>\n",
              "      <td>0</td>\n",
              "      <td>3</td>\n",
              "      <td>small</td>\n",
              "      <td>0</td>\n",
              "      <td>2</td>\n",
              "    </tr>\n",
              "    <tr>\n",
              "      <th>781</th>\n",
              "      <td>0</td>\n",
              "      <td>0</td>\n",
              "      <td>1</td>\n",
              "      <td>0</td>\n",
              "      <td>0</td>\n",
              "      <td>0</td>\n",
              "      <td>0</td>\n",
              "      <td>0</td>\n",
              "      <td>no</td>\n",
              "      <td>0</td>\n",
              "      <td>0</td>\n",
              "      <td>0</td>\n",
              "      <td>30.201</td>\n",
              "      <td>728</td>\n",
              "      <td>1</td>\n",
              "      <td>0</td>\n",
              "      <td>0</td>\n",
              "      <td>0</td>\n",
              "      <td>3</td>\n",
              "      <td>small</td>\n",
              "      <td>0</td>\n",
              "      <td>2</td>\n",
              "    </tr>\n",
              "    <tr>\n",
              "      <th>782</th>\n",
              "      <td>0</td>\n",
              "      <td>0</td>\n",
              "      <td>1</td>\n",
              "      <td>0</td>\n",
              "      <td>0</td>\n",
              "      <td>0</td>\n",
              "      <td>0</td>\n",
              "      <td>10</td>\n",
              "      <td>no</td>\n",
              "      <td>0</td>\n",
              "      <td>0</td>\n",
              "      <td>0</td>\n",
              "      <td>74.753</td>\n",
              "      <td>1953</td>\n",
              "      <td>1</td>\n",
              "      <td>0</td>\n",
              "      <td>0</td>\n",
              "      <td>0</td>\n",
              "      <td>27</td>\n",
              "      <td>small</td>\n",
              "      <td>0</td>\n",
              "      <td>2</td>\n",
              "    </tr>\n",
              "    <tr>\n",
              "      <th>783</th>\n",
              "      <td>0</td>\n",
              "      <td>0</td>\n",
              "      <td>1</td>\n",
              "      <td>0</td>\n",
              "      <td>0</td>\n",
              "      <td>0</td>\n",
              "      <td>0</td>\n",
              "      <td>25</td>\n",
              "      <td>no</td>\n",
              "      <td>0</td>\n",
              "      <td>0</td>\n",
              "      <td>0</td>\n",
              "      <td>16.863</td>\n",
              "      <td>570</td>\n",
              "      <td>1</td>\n",
              "      <td>0</td>\n",
              "      <td>0</td>\n",
              "      <td>0</td>\n",
              "      <td>3</td>\n",
              "      <td>small</td>\n",
              "      <td>0</td>\n",
              "      <td>2</td>\n",
              "    </tr>\n",
              "    <tr>\n",
              "      <th>784</th>\n",
              "      <td>0</td>\n",
              "      <td>1</td>\n",
              "      <td>1</td>\n",
              "      <td>0</td>\n",
              "      <td>0</td>\n",
              "      <td>0</td>\n",
              "      <td>0</td>\n",
              "      <td>0</td>\n",
              "      <td>no</td>\n",
              "      <td>0</td>\n",
              "      <td>0</td>\n",
              "      <td>0</td>\n",
              "      <td>13.436</td>\n",
              "      <td>272</td>\n",
              "      <td>1</td>\n",
              "      <td>1</td>\n",
              "      <td>0</td>\n",
              "      <td>0</td>\n",
              "      <td>2</td>\n",
              "      <td>big</td>\n",
              "      <td>0</td>\n",
              "      <td>0</td>\n",
              "    </tr>\n",
              "  </tbody>\n",
              "</table>\n",
              "<p>785 rows × 22 columns</p>\n",
              "</div>\n",
              "      <button class=\"colab-df-convert\" onclick=\"convertToInteractive('df-6eac5b29-9e09-40f4-893f-0801cfbda399')\"\n",
              "              title=\"Convert this dataframe to an interactive table.\"\n",
              "              style=\"display:none;\">\n",
              "        \n",
              "  <svg xmlns=\"http://www.w3.org/2000/svg\" height=\"24px\"viewBox=\"0 0 24 24\"\n",
              "       width=\"24px\">\n",
              "    <path d=\"M0 0h24v24H0V0z\" fill=\"none\"/>\n",
              "    <path d=\"M18.56 5.44l.94 2.06.94-2.06 2.06-.94-2.06-.94-.94-2.06-.94 2.06-2.06.94zm-11 1L8.5 8.5l.94-2.06 2.06-.94-2.06-.94L8.5 2.5l-.94 2.06-2.06.94zm10 10l.94 2.06.94-2.06 2.06-.94-2.06-.94-.94-2.06-.94 2.06-2.06.94z\"/><path d=\"M17.41 7.96l-1.37-1.37c-.4-.4-.92-.59-1.43-.59-.52 0-1.04.2-1.43.59L10.3 9.45l-7.72 7.72c-.78.78-.78 2.05 0 2.83L4 21.41c.39.39.9.59 1.41.59.51 0 1.02-.2 1.41-.59l7.78-7.78 2.81-2.81c.8-.78.8-2.07 0-2.86zM5.41 20L4 18.59l7.72-7.72 1.47 1.35L5.41 20z\"/>\n",
              "  </svg>\n",
              "      </button>\n",
              "      \n",
              "  <style>\n",
              "    .colab-df-container {\n",
              "      display:flex;\n",
              "      flex-wrap:wrap;\n",
              "      gap: 12px;\n",
              "    }\n",
              "\n",
              "    .colab-df-convert {\n",
              "      background-color: #E8F0FE;\n",
              "      border: none;\n",
              "      border-radius: 50%;\n",
              "      cursor: pointer;\n",
              "      display: none;\n",
              "      fill: #1967D2;\n",
              "      height: 32px;\n",
              "      padding: 0 0 0 0;\n",
              "      width: 32px;\n",
              "    }\n",
              "\n",
              "    .colab-df-convert:hover {\n",
              "      background-color: #E2EBFA;\n",
              "      box-shadow: 0px 1px 2px rgba(60, 64, 67, 0.3), 0px 1px 3px 1px rgba(60, 64, 67, 0.15);\n",
              "      fill: #174EA6;\n",
              "    }\n",
              "\n",
              "    [theme=dark] .colab-df-convert {\n",
              "      background-color: #3B4455;\n",
              "      fill: #D2E3FC;\n",
              "    }\n",
              "\n",
              "    [theme=dark] .colab-df-convert:hover {\n",
              "      background-color: #434B5C;\n",
              "      box-shadow: 0px 1px 3px 1px rgba(0, 0, 0, 0.15);\n",
              "      filter: drop-shadow(0px 1px 2px rgba(0, 0, 0, 0.3));\n",
              "      fill: #FFFFFF;\n",
              "    }\n",
              "  </style>\n",
              "\n",
              "      <script>\n",
              "        const buttonEl =\n",
              "          document.querySelector('#df-6eac5b29-9e09-40f4-893f-0801cfbda399 button.colab-df-convert');\n",
              "        buttonEl.style.display =\n",
              "          google.colab.kernel.accessAllowed ? 'block' : 'none';\n",
              "\n",
              "        async function convertToInteractive(key) {\n",
              "          const element = document.querySelector('#df-6eac5b29-9e09-40f4-893f-0801cfbda399');\n",
              "          const dataTable =\n",
              "            await google.colab.kernel.invokeFunction('convertToInteractive',\n",
              "                                                     [key], {});\n",
              "          if (!dataTable) return;\n",
              "\n",
              "          const docLinkHtml = 'Like what you see? Visit the ' +\n",
              "            '<a target=\"_blank\" href=https://colab.research.google.com/notebooks/data_table.ipynb>data table notebook</a>'\n",
              "            + ' to learn more about interactive tables.';\n",
              "          element.innerHTML = '';\n",
              "          dataTable['output_type'] = 'display_data';\n",
              "          await google.colab.output.renderOutput(dataTable, element);\n",
              "          const docLink = document.createElement('div');\n",
              "          docLink.innerHTML = docLinkHtml;\n",
              "          element.appendChild(docLink);\n",
              "        }\n",
              "      </script>\n",
              "    </div>\n",
              "  </div>\n",
              "  "
            ],
            "text/plain": [
              "     spam  to_multiple  from  cc  ...  exclaim_mess  number  winner_tf  number_tf\n",
              "0       1            0     1   0  ...             8   small          0          2\n",
              "1       1            0     1   0  ...             4   small          0          2\n",
              "2       1            0     1   0  ...             0    none          0          1\n",
              "3       1            0     1   4  ...             3   small          0          2\n",
              "4       1            0     1   0  ...             0    none          0          1\n",
              "..    ...          ...   ...  ..  ...           ...     ...        ...        ...\n",
              "780     0            0     1   0  ...             3   small          0          2\n",
              "781     0            0     1   0  ...             3   small          0          2\n",
              "782     0            0     1   0  ...            27   small          0          2\n",
              "783     0            0     1   0  ...             3   small          0          2\n",
              "784     0            1     1   0  ...             2     big          0          0\n",
              "\n",
              "[785 rows x 22 columns]"
            ]
          },
          "metadata": {},
          "execution_count": 283
        }
      ]
    },
    {
      "cell_type": "code",
      "source": [
        "#Lets rearrange the transformed column and drop the original column\n",
        "column_names = ['spam', 'to_multiple', 'from', 'cc', 'sent_email', 'image', 'attach',\n",
        "       'dollar', 'winner', 'winner_tf' ,'inherit', 'viagra', 'password', 'num_char',\n",
        "       'line_breaks', 'format', 're_subj', 'exclaim_subj', 'urgent_subj',\n",
        "       'exclaim_mess', 'number', 'number_tf']\n",
        "\n",
        "spam_class_test_data_tf = spam_class_test_data.reindex(columns=column_names)\n",
        "spam_class_test_data_tf\n",
        "\n"
      ],
      "metadata": {
        "colab": {
          "base_uri": "https://localhost:8080/",
          "height": 0
        },
        "outputId": "198fec12-a92a-4d5a-b1aa-70840a4e391f",
        "id": "o_FMWa77b4JW"
      },
      "execution_count": 284,
      "outputs": [
        {
          "output_type": "execute_result",
          "data": {
            "text/html": [
              "\n",
              "  <div id=\"df-cd99530e-9a14-4281-b1e9-0369cdbcef7d\">\n",
              "    <div class=\"colab-df-container\">\n",
              "      <div>\n",
              "<style scoped>\n",
              "    .dataframe tbody tr th:only-of-type {\n",
              "        vertical-align: middle;\n",
              "    }\n",
              "\n",
              "    .dataframe tbody tr th {\n",
              "        vertical-align: top;\n",
              "    }\n",
              "\n",
              "    .dataframe thead th {\n",
              "        text-align: right;\n",
              "    }\n",
              "</style>\n",
              "<table border=\"1\" class=\"dataframe\">\n",
              "  <thead>\n",
              "    <tr style=\"text-align: right;\">\n",
              "      <th></th>\n",
              "      <th>spam</th>\n",
              "      <th>to_multiple</th>\n",
              "      <th>from</th>\n",
              "      <th>cc</th>\n",
              "      <th>sent_email</th>\n",
              "      <th>image</th>\n",
              "      <th>attach</th>\n",
              "      <th>dollar</th>\n",
              "      <th>winner</th>\n",
              "      <th>winner_tf</th>\n",
              "      <th>inherit</th>\n",
              "      <th>viagra</th>\n",
              "      <th>password</th>\n",
              "      <th>num_char</th>\n",
              "      <th>line_breaks</th>\n",
              "      <th>format</th>\n",
              "      <th>re_subj</th>\n",
              "      <th>exclaim_subj</th>\n",
              "      <th>urgent_subj</th>\n",
              "      <th>exclaim_mess</th>\n",
              "      <th>number</th>\n",
              "      <th>number_tf</th>\n",
              "    </tr>\n",
              "  </thead>\n",
              "  <tbody>\n",
              "    <tr>\n",
              "      <th>0</th>\n",
              "      <td>1</td>\n",
              "      <td>0</td>\n",
              "      <td>1</td>\n",
              "      <td>0</td>\n",
              "      <td>0</td>\n",
              "      <td>0</td>\n",
              "      <td>0</td>\n",
              "      <td>0</td>\n",
              "      <td>no</td>\n",
              "      <td>0</td>\n",
              "      <td>0</td>\n",
              "      <td>0</td>\n",
              "      <td>0</td>\n",
              "      <td>20.133</td>\n",
              "      <td>364</td>\n",
              "      <td>1</td>\n",
              "      <td>0</td>\n",
              "      <td>0</td>\n",
              "      <td>0</td>\n",
              "      <td>8</td>\n",
              "      <td>small</td>\n",
              "      <td>2</td>\n",
              "    </tr>\n",
              "    <tr>\n",
              "      <th>1</th>\n",
              "      <td>1</td>\n",
              "      <td>0</td>\n",
              "      <td>1</td>\n",
              "      <td>0</td>\n",
              "      <td>0</td>\n",
              "      <td>0</td>\n",
              "      <td>0</td>\n",
              "      <td>0</td>\n",
              "      <td>no</td>\n",
              "      <td>0</td>\n",
              "      <td>0</td>\n",
              "      <td>0</td>\n",
              "      <td>0</td>\n",
              "      <td>3.796</td>\n",
              "      <td>71</td>\n",
              "      <td>1</td>\n",
              "      <td>0</td>\n",
              "      <td>0</td>\n",
              "      <td>0</td>\n",
              "      <td>4</td>\n",
              "      <td>small</td>\n",
              "      <td>2</td>\n",
              "    </tr>\n",
              "    <tr>\n",
              "      <th>2</th>\n",
              "      <td>1</td>\n",
              "      <td>0</td>\n",
              "      <td>1</td>\n",
              "      <td>0</td>\n",
              "      <td>0</td>\n",
              "      <td>0</td>\n",
              "      <td>0</td>\n",
              "      <td>0</td>\n",
              "      <td>no</td>\n",
              "      <td>0</td>\n",
              "      <td>0</td>\n",
              "      <td>0</td>\n",
              "      <td>0</td>\n",
              "      <td>2.705</td>\n",
              "      <td>35</td>\n",
              "      <td>1</td>\n",
              "      <td>0</td>\n",
              "      <td>0</td>\n",
              "      <td>0</td>\n",
              "      <td>0</td>\n",
              "      <td>none</td>\n",
              "      <td>1</td>\n",
              "    </tr>\n",
              "    <tr>\n",
              "      <th>3</th>\n",
              "      <td>1</td>\n",
              "      <td>0</td>\n",
              "      <td>1</td>\n",
              "      <td>4</td>\n",
              "      <td>0</td>\n",
              "      <td>0</td>\n",
              "      <td>2</td>\n",
              "      <td>0</td>\n",
              "      <td>no</td>\n",
              "      <td>0</td>\n",
              "      <td>0</td>\n",
              "      <td>0</td>\n",
              "      <td>0</td>\n",
              "      <td>0.537</td>\n",
              "      <td>22</td>\n",
              "      <td>0</td>\n",
              "      <td>0</td>\n",
              "      <td>0</td>\n",
              "      <td>0</td>\n",
              "      <td>3</td>\n",
              "      <td>small</td>\n",
              "      <td>2</td>\n",
              "    </tr>\n",
              "    <tr>\n",
              "      <th>4</th>\n",
              "      <td>1</td>\n",
              "      <td>0</td>\n",
              "      <td>1</td>\n",
              "      <td>0</td>\n",
              "      <td>0</td>\n",
              "      <td>0</td>\n",
              "      <td>0</td>\n",
              "      <td>0</td>\n",
              "      <td>no</td>\n",
              "      <td>0</td>\n",
              "      <td>0</td>\n",
              "      <td>0</td>\n",
              "      <td>0</td>\n",
              "      <td>4.174</td>\n",
              "      <td>2</td>\n",
              "      <td>0</td>\n",
              "      <td>0</td>\n",
              "      <td>0</td>\n",
              "      <td>0</td>\n",
              "      <td>0</td>\n",
              "      <td>none</td>\n",
              "      <td>1</td>\n",
              "    </tr>\n",
              "    <tr>\n",
              "      <th>...</th>\n",
              "      <td>...</td>\n",
              "      <td>...</td>\n",
              "      <td>...</td>\n",
              "      <td>...</td>\n",
              "      <td>...</td>\n",
              "      <td>...</td>\n",
              "      <td>...</td>\n",
              "      <td>...</td>\n",
              "      <td>...</td>\n",
              "      <td>...</td>\n",
              "      <td>...</td>\n",
              "      <td>...</td>\n",
              "      <td>...</td>\n",
              "      <td>...</td>\n",
              "      <td>...</td>\n",
              "      <td>...</td>\n",
              "      <td>...</td>\n",
              "      <td>...</td>\n",
              "      <td>...</td>\n",
              "      <td>...</td>\n",
              "      <td>...</td>\n",
              "      <td>...</td>\n",
              "    </tr>\n",
              "    <tr>\n",
              "      <th>780</th>\n",
              "      <td>0</td>\n",
              "      <td>0</td>\n",
              "      <td>1</td>\n",
              "      <td>0</td>\n",
              "      <td>0</td>\n",
              "      <td>0</td>\n",
              "      <td>0</td>\n",
              "      <td>0</td>\n",
              "      <td>no</td>\n",
              "      <td>0</td>\n",
              "      <td>0</td>\n",
              "      <td>0</td>\n",
              "      <td>0</td>\n",
              "      <td>31.104</td>\n",
              "      <td>744</td>\n",
              "      <td>1</td>\n",
              "      <td>0</td>\n",
              "      <td>0</td>\n",
              "      <td>0</td>\n",
              "      <td>3</td>\n",
              "      <td>small</td>\n",
              "      <td>2</td>\n",
              "    </tr>\n",
              "    <tr>\n",
              "      <th>781</th>\n",
              "      <td>0</td>\n",
              "      <td>0</td>\n",
              "      <td>1</td>\n",
              "      <td>0</td>\n",
              "      <td>0</td>\n",
              "      <td>0</td>\n",
              "      <td>0</td>\n",
              "      <td>0</td>\n",
              "      <td>no</td>\n",
              "      <td>0</td>\n",
              "      <td>0</td>\n",
              "      <td>0</td>\n",
              "      <td>0</td>\n",
              "      <td>30.201</td>\n",
              "      <td>728</td>\n",
              "      <td>1</td>\n",
              "      <td>0</td>\n",
              "      <td>0</td>\n",
              "      <td>0</td>\n",
              "      <td>3</td>\n",
              "      <td>small</td>\n",
              "      <td>2</td>\n",
              "    </tr>\n",
              "    <tr>\n",
              "      <th>782</th>\n",
              "      <td>0</td>\n",
              "      <td>0</td>\n",
              "      <td>1</td>\n",
              "      <td>0</td>\n",
              "      <td>0</td>\n",
              "      <td>0</td>\n",
              "      <td>0</td>\n",
              "      <td>10</td>\n",
              "      <td>no</td>\n",
              "      <td>0</td>\n",
              "      <td>0</td>\n",
              "      <td>0</td>\n",
              "      <td>0</td>\n",
              "      <td>74.753</td>\n",
              "      <td>1953</td>\n",
              "      <td>1</td>\n",
              "      <td>0</td>\n",
              "      <td>0</td>\n",
              "      <td>0</td>\n",
              "      <td>27</td>\n",
              "      <td>small</td>\n",
              "      <td>2</td>\n",
              "    </tr>\n",
              "    <tr>\n",
              "      <th>783</th>\n",
              "      <td>0</td>\n",
              "      <td>0</td>\n",
              "      <td>1</td>\n",
              "      <td>0</td>\n",
              "      <td>0</td>\n",
              "      <td>0</td>\n",
              "      <td>0</td>\n",
              "      <td>25</td>\n",
              "      <td>no</td>\n",
              "      <td>0</td>\n",
              "      <td>0</td>\n",
              "      <td>0</td>\n",
              "      <td>0</td>\n",
              "      <td>16.863</td>\n",
              "      <td>570</td>\n",
              "      <td>1</td>\n",
              "      <td>0</td>\n",
              "      <td>0</td>\n",
              "      <td>0</td>\n",
              "      <td>3</td>\n",
              "      <td>small</td>\n",
              "      <td>2</td>\n",
              "    </tr>\n",
              "    <tr>\n",
              "      <th>784</th>\n",
              "      <td>0</td>\n",
              "      <td>1</td>\n",
              "      <td>1</td>\n",
              "      <td>0</td>\n",
              "      <td>0</td>\n",
              "      <td>0</td>\n",
              "      <td>0</td>\n",
              "      <td>0</td>\n",
              "      <td>no</td>\n",
              "      <td>0</td>\n",
              "      <td>0</td>\n",
              "      <td>0</td>\n",
              "      <td>0</td>\n",
              "      <td>13.436</td>\n",
              "      <td>272</td>\n",
              "      <td>1</td>\n",
              "      <td>1</td>\n",
              "      <td>0</td>\n",
              "      <td>0</td>\n",
              "      <td>2</td>\n",
              "      <td>big</td>\n",
              "      <td>0</td>\n",
              "    </tr>\n",
              "  </tbody>\n",
              "</table>\n",
              "<p>785 rows × 22 columns</p>\n",
              "</div>\n",
              "      <button class=\"colab-df-convert\" onclick=\"convertToInteractive('df-cd99530e-9a14-4281-b1e9-0369cdbcef7d')\"\n",
              "              title=\"Convert this dataframe to an interactive table.\"\n",
              "              style=\"display:none;\">\n",
              "        \n",
              "  <svg xmlns=\"http://www.w3.org/2000/svg\" height=\"24px\"viewBox=\"0 0 24 24\"\n",
              "       width=\"24px\">\n",
              "    <path d=\"M0 0h24v24H0V0z\" fill=\"none\"/>\n",
              "    <path d=\"M18.56 5.44l.94 2.06.94-2.06 2.06-.94-2.06-.94-.94-2.06-.94 2.06-2.06.94zm-11 1L8.5 8.5l.94-2.06 2.06-.94-2.06-.94L8.5 2.5l-.94 2.06-2.06.94zm10 10l.94 2.06.94-2.06 2.06-.94-2.06-.94-.94-2.06-.94 2.06-2.06.94z\"/><path d=\"M17.41 7.96l-1.37-1.37c-.4-.4-.92-.59-1.43-.59-.52 0-1.04.2-1.43.59L10.3 9.45l-7.72 7.72c-.78.78-.78 2.05 0 2.83L4 21.41c.39.39.9.59 1.41.59.51 0 1.02-.2 1.41-.59l7.78-7.78 2.81-2.81c.8-.78.8-2.07 0-2.86zM5.41 20L4 18.59l7.72-7.72 1.47 1.35L5.41 20z\"/>\n",
              "  </svg>\n",
              "      </button>\n",
              "      \n",
              "  <style>\n",
              "    .colab-df-container {\n",
              "      display:flex;\n",
              "      flex-wrap:wrap;\n",
              "      gap: 12px;\n",
              "    }\n",
              "\n",
              "    .colab-df-convert {\n",
              "      background-color: #E8F0FE;\n",
              "      border: none;\n",
              "      border-radius: 50%;\n",
              "      cursor: pointer;\n",
              "      display: none;\n",
              "      fill: #1967D2;\n",
              "      height: 32px;\n",
              "      padding: 0 0 0 0;\n",
              "      width: 32px;\n",
              "    }\n",
              "\n",
              "    .colab-df-convert:hover {\n",
              "      background-color: #E2EBFA;\n",
              "      box-shadow: 0px 1px 2px rgba(60, 64, 67, 0.3), 0px 1px 3px 1px rgba(60, 64, 67, 0.15);\n",
              "      fill: #174EA6;\n",
              "    }\n",
              "\n",
              "    [theme=dark] .colab-df-convert {\n",
              "      background-color: #3B4455;\n",
              "      fill: #D2E3FC;\n",
              "    }\n",
              "\n",
              "    [theme=dark] .colab-df-convert:hover {\n",
              "      background-color: #434B5C;\n",
              "      box-shadow: 0px 1px 3px 1px rgba(0, 0, 0, 0.15);\n",
              "      filter: drop-shadow(0px 1px 2px rgba(0, 0, 0, 0.3));\n",
              "      fill: #FFFFFF;\n",
              "    }\n",
              "  </style>\n",
              "\n",
              "      <script>\n",
              "        const buttonEl =\n",
              "          document.querySelector('#df-cd99530e-9a14-4281-b1e9-0369cdbcef7d button.colab-df-convert');\n",
              "        buttonEl.style.display =\n",
              "          google.colab.kernel.accessAllowed ? 'block' : 'none';\n",
              "\n",
              "        async function convertToInteractive(key) {\n",
              "          const element = document.querySelector('#df-cd99530e-9a14-4281-b1e9-0369cdbcef7d');\n",
              "          const dataTable =\n",
              "            await google.colab.kernel.invokeFunction('convertToInteractive',\n",
              "                                                     [key], {});\n",
              "          if (!dataTable) return;\n",
              "\n",
              "          const docLinkHtml = 'Like what you see? Visit the ' +\n",
              "            '<a target=\"_blank\" href=https://colab.research.google.com/notebooks/data_table.ipynb>data table notebook</a>'\n",
              "            + ' to learn more about interactive tables.';\n",
              "          element.innerHTML = '';\n",
              "          dataTable['output_type'] = 'display_data';\n",
              "          await google.colab.output.renderOutput(dataTable, element);\n",
              "          const docLink = document.createElement('div');\n",
              "          docLink.innerHTML = docLinkHtml;\n",
              "          element.appendChild(docLink);\n",
              "        }\n",
              "      </script>\n",
              "    </div>\n",
              "  </div>\n",
              "  "
            ],
            "text/plain": [
              "     spam  to_multiple  from  cc  ...  urgent_subj  exclaim_mess  number  number_tf\n",
              "0       1            0     1   0  ...            0             8   small          2\n",
              "1       1            0     1   0  ...            0             4   small          2\n",
              "2       1            0     1   0  ...            0             0    none          1\n",
              "3       1            0     1   4  ...            0             3   small          2\n",
              "4       1            0     1   0  ...            0             0    none          1\n",
              "..    ...          ...   ...  ..  ...          ...           ...     ...        ...\n",
              "780     0            0     1   0  ...            0             3   small          2\n",
              "781     0            0     1   0  ...            0             3   small          2\n",
              "782     0            0     1   0  ...            0            27   small          2\n",
              "783     0            0     1   0  ...            0             3   small          2\n",
              "784     0            1     1   0  ...            0             2     big          0\n",
              "\n",
              "[785 rows x 22 columns]"
            ]
          },
          "metadata": {},
          "execution_count": 284
        }
      ]
    },
    {
      "cell_type": "code",
      "source": [
        "#Lets Drop original column in test dataframe\n",
        "spam_class_test_data_tf = spam_class_test_data_tf.drop(['winner', 'number'], axis=1)\n",
        "spam_class_test_data_tf"
      ],
      "metadata": {
        "colab": {
          "base_uri": "https://localhost:8080/",
          "height": 0
        },
        "outputId": "e17efe19-8b26-4f90-b692-16857bc57aa6",
        "id": "F9hWBcAAb4JW"
      },
      "execution_count": 285,
      "outputs": [
        {
          "output_type": "execute_result",
          "data": {
            "text/html": [
              "\n",
              "  <div id=\"df-f1a4505b-01f0-40ff-b5f6-dac158787617\">\n",
              "    <div class=\"colab-df-container\">\n",
              "      <div>\n",
              "<style scoped>\n",
              "    .dataframe tbody tr th:only-of-type {\n",
              "        vertical-align: middle;\n",
              "    }\n",
              "\n",
              "    .dataframe tbody tr th {\n",
              "        vertical-align: top;\n",
              "    }\n",
              "\n",
              "    .dataframe thead th {\n",
              "        text-align: right;\n",
              "    }\n",
              "</style>\n",
              "<table border=\"1\" class=\"dataframe\">\n",
              "  <thead>\n",
              "    <tr style=\"text-align: right;\">\n",
              "      <th></th>\n",
              "      <th>spam</th>\n",
              "      <th>to_multiple</th>\n",
              "      <th>from</th>\n",
              "      <th>cc</th>\n",
              "      <th>sent_email</th>\n",
              "      <th>image</th>\n",
              "      <th>attach</th>\n",
              "      <th>dollar</th>\n",
              "      <th>winner_tf</th>\n",
              "      <th>inherit</th>\n",
              "      <th>viagra</th>\n",
              "      <th>password</th>\n",
              "      <th>num_char</th>\n",
              "      <th>line_breaks</th>\n",
              "      <th>format</th>\n",
              "      <th>re_subj</th>\n",
              "      <th>exclaim_subj</th>\n",
              "      <th>urgent_subj</th>\n",
              "      <th>exclaim_mess</th>\n",
              "      <th>number_tf</th>\n",
              "    </tr>\n",
              "  </thead>\n",
              "  <tbody>\n",
              "    <tr>\n",
              "      <th>0</th>\n",
              "      <td>1</td>\n",
              "      <td>0</td>\n",
              "      <td>1</td>\n",
              "      <td>0</td>\n",
              "      <td>0</td>\n",
              "      <td>0</td>\n",
              "      <td>0</td>\n",
              "      <td>0</td>\n",
              "      <td>0</td>\n",
              "      <td>0</td>\n",
              "      <td>0</td>\n",
              "      <td>0</td>\n",
              "      <td>20.133</td>\n",
              "      <td>364</td>\n",
              "      <td>1</td>\n",
              "      <td>0</td>\n",
              "      <td>0</td>\n",
              "      <td>0</td>\n",
              "      <td>8</td>\n",
              "      <td>2</td>\n",
              "    </tr>\n",
              "    <tr>\n",
              "      <th>1</th>\n",
              "      <td>1</td>\n",
              "      <td>0</td>\n",
              "      <td>1</td>\n",
              "      <td>0</td>\n",
              "      <td>0</td>\n",
              "      <td>0</td>\n",
              "      <td>0</td>\n",
              "      <td>0</td>\n",
              "      <td>0</td>\n",
              "      <td>0</td>\n",
              "      <td>0</td>\n",
              "      <td>0</td>\n",
              "      <td>3.796</td>\n",
              "      <td>71</td>\n",
              "      <td>1</td>\n",
              "      <td>0</td>\n",
              "      <td>0</td>\n",
              "      <td>0</td>\n",
              "      <td>4</td>\n",
              "      <td>2</td>\n",
              "    </tr>\n",
              "    <tr>\n",
              "      <th>2</th>\n",
              "      <td>1</td>\n",
              "      <td>0</td>\n",
              "      <td>1</td>\n",
              "      <td>0</td>\n",
              "      <td>0</td>\n",
              "      <td>0</td>\n",
              "      <td>0</td>\n",
              "      <td>0</td>\n",
              "      <td>0</td>\n",
              "      <td>0</td>\n",
              "      <td>0</td>\n",
              "      <td>0</td>\n",
              "      <td>2.705</td>\n",
              "      <td>35</td>\n",
              "      <td>1</td>\n",
              "      <td>0</td>\n",
              "      <td>0</td>\n",
              "      <td>0</td>\n",
              "      <td>0</td>\n",
              "      <td>1</td>\n",
              "    </tr>\n",
              "    <tr>\n",
              "      <th>3</th>\n",
              "      <td>1</td>\n",
              "      <td>0</td>\n",
              "      <td>1</td>\n",
              "      <td>4</td>\n",
              "      <td>0</td>\n",
              "      <td>0</td>\n",
              "      <td>2</td>\n",
              "      <td>0</td>\n",
              "      <td>0</td>\n",
              "      <td>0</td>\n",
              "      <td>0</td>\n",
              "      <td>0</td>\n",
              "      <td>0.537</td>\n",
              "      <td>22</td>\n",
              "      <td>0</td>\n",
              "      <td>0</td>\n",
              "      <td>0</td>\n",
              "      <td>0</td>\n",
              "      <td>3</td>\n",
              "      <td>2</td>\n",
              "    </tr>\n",
              "    <tr>\n",
              "      <th>4</th>\n",
              "      <td>1</td>\n",
              "      <td>0</td>\n",
              "      <td>1</td>\n",
              "      <td>0</td>\n",
              "      <td>0</td>\n",
              "      <td>0</td>\n",
              "      <td>0</td>\n",
              "      <td>0</td>\n",
              "      <td>0</td>\n",
              "      <td>0</td>\n",
              "      <td>0</td>\n",
              "      <td>0</td>\n",
              "      <td>4.174</td>\n",
              "      <td>2</td>\n",
              "      <td>0</td>\n",
              "      <td>0</td>\n",
              "      <td>0</td>\n",
              "      <td>0</td>\n",
              "      <td>0</td>\n",
              "      <td>1</td>\n",
              "    </tr>\n",
              "    <tr>\n",
              "      <th>...</th>\n",
              "      <td>...</td>\n",
              "      <td>...</td>\n",
              "      <td>...</td>\n",
              "      <td>...</td>\n",
              "      <td>...</td>\n",
              "      <td>...</td>\n",
              "      <td>...</td>\n",
              "      <td>...</td>\n",
              "      <td>...</td>\n",
              "      <td>...</td>\n",
              "      <td>...</td>\n",
              "      <td>...</td>\n",
              "      <td>...</td>\n",
              "      <td>...</td>\n",
              "      <td>...</td>\n",
              "      <td>...</td>\n",
              "      <td>...</td>\n",
              "      <td>...</td>\n",
              "      <td>...</td>\n",
              "      <td>...</td>\n",
              "    </tr>\n",
              "    <tr>\n",
              "      <th>780</th>\n",
              "      <td>0</td>\n",
              "      <td>0</td>\n",
              "      <td>1</td>\n",
              "      <td>0</td>\n",
              "      <td>0</td>\n",
              "      <td>0</td>\n",
              "      <td>0</td>\n",
              "      <td>0</td>\n",
              "      <td>0</td>\n",
              "      <td>0</td>\n",
              "      <td>0</td>\n",
              "      <td>0</td>\n",
              "      <td>31.104</td>\n",
              "      <td>744</td>\n",
              "      <td>1</td>\n",
              "      <td>0</td>\n",
              "      <td>0</td>\n",
              "      <td>0</td>\n",
              "      <td>3</td>\n",
              "      <td>2</td>\n",
              "    </tr>\n",
              "    <tr>\n",
              "      <th>781</th>\n",
              "      <td>0</td>\n",
              "      <td>0</td>\n",
              "      <td>1</td>\n",
              "      <td>0</td>\n",
              "      <td>0</td>\n",
              "      <td>0</td>\n",
              "      <td>0</td>\n",
              "      <td>0</td>\n",
              "      <td>0</td>\n",
              "      <td>0</td>\n",
              "      <td>0</td>\n",
              "      <td>0</td>\n",
              "      <td>30.201</td>\n",
              "      <td>728</td>\n",
              "      <td>1</td>\n",
              "      <td>0</td>\n",
              "      <td>0</td>\n",
              "      <td>0</td>\n",
              "      <td>3</td>\n",
              "      <td>2</td>\n",
              "    </tr>\n",
              "    <tr>\n",
              "      <th>782</th>\n",
              "      <td>0</td>\n",
              "      <td>0</td>\n",
              "      <td>1</td>\n",
              "      <td>0</td>\n",
              "      <td>0</td>\n",
              "      <td>0</td>\n",
              "      <td>0</td>\n",
              "      <td>10</td>\n",
              "      <td>0</td>\n",
              "      <td>0</td>\n",
              "      <td>0</td>\n",
              "      <td>0</td>\n",
              "      <td>74.753</td>\n",
              "      <td>1953</td>\n",
              "      <td>1</td>\n",
              "      <td>0</td>\n",
              "      <td>0</td>\n",
              "      <td>0</td>\n",
              "      <td>27</td>\n",
              "      <td>2</td>\n",
              "    </tr>\n",
              "    <tr>\n",
              "      <th>783</th>\n",
              "      <td>0</td>\n",
              "      <td>0</td>\n",
              "      <td>1</td>\n",
              "      <td>0</td>\n",
              "      <td>0</td>\n",
              "      <td>0</td>\n",
              "      <td>0</td>\n",
              "      <td>25</td>\n",
              "      <td>0</td>\n",
              "      <td>0</td>\n",
              "      <td>0</td>\n",
              "      <td>0</td>\n",
              "      <td>16.863</td>\n",
              "      <td>570</td>\n",
              "      <td>1</td>\n",
              "      <td>0</td>\n",
              "      <td>0</td>\n",
              "      <td>0</td>\n",
              "      <td>3</td>\n",
              "      <td>2</td>\n",
              "    </tr>\n",
              "    <tr>\n",
              "      <th>784</th>\n",
              "      <td>0</td>\n",
              "      <td>1</td>\n",
              "      <td>1</td>\n",
              "      <td>0</td>\n",
              "      <td>0</td>\n",
              "      <td>0</td>\n",
              "      <td>0</td>\n",
              "      <td>0</td>\n",
              "      <td>0</td>\n",
              "      <td>0</td>\n",
              "      <td>0</td>\n",
              "      <td>0</td>\n",
              "      <td>13.436</td>\n",
              "      <td>272</td>\n",
              "      <td>1</td>\n",
              "      <td>1</td>\n",
              "      <td>0</td>\n",
              "      <td>0</td>\n",
              "      <td>2</td>\n",
              "      <td>0</td>\n",
              "    </tr>\n",
              "  </tbody>\n",
              "</table>\n",
              "<p>785 rows × 20 columns</p>\n",
              "</div>\n",
              "      <button class=\"colab-df-convert\" onclick=\"convertToInteractive('df-f1a4505b-01f0-40ff-b5f6-dac158787617')\"\n",
              "              title=\"Convert this dataframe to an interactive table.\"\n",
              "              style=\"display:none;\">\n",
              "        \n",
              "  <svg xmlns=\"http://www.w3.org/2000/svg\" height=\"24px\"viewBox=\"0 0 24 24\"\n",
              "       width=\"24px\">\n",
              "    <path d=\"M0 0h24v24H0V0z\" fill=\"none\"/>\n",
              "    <path d=\"M18.56 5.44l.94 2.06.94-2.06 2.06-.94-2.06-.94-.94-2.06-.94 2.06-2.06.94zm-11 1L8.5 8.5l.94-2.06 2.06-.94-2.06-.94L8.5 2.5l-.94 2.06-2.06.94zm10 10l.94 2.06.94-2.06 2.06-.94-2.06-.94-.94-2.06-.94 2.06-2.06.94z\"/><path d=\"M17.41 7.96l-1.37-1.37c-.4-.4-.92-.59-1.43-.59-.52 0-1.04.2-1.43.59L10.3 9.45l-7.72 7.72c-.78.78-.78 2.05 0 2.83L4 21.41c.39.39.9.59 1.41.59.51 0 1.02-.2 1.41-.59l7.78-7.78 2.81-2.81c.8-.78.8-2.07 0-2.86zM5.41 20L4 18.59l7.72-7.72 1.47 1.35L5.41 20z\"/>\n",
              "  </svg>\n",
              "      </button>\n",
              "      \n",
              "  <style>\n",
              "    .colab-df-container {\n",
              "      display:flex;\n",
              "      flex-wrap:wrap;\n",
              "      gap: 12px;\n",
              "    }\n",
              "\n",
              "    .colab-df-convert {\n",
              "      background-color: #E8F0FE;\n",
              "      border: none;\n",
              "      border-radius: 50%;\n",
              "      cursor: pointer;\n",
              "      display: none;\n",
              "      fill: #1967D2;\n",
              "      height: 32px;\n",
              "      padding: 0 0 0 0;\n",
              "      width: 32px;\n",
              "    }\n",
              "\n",
              "    .colab-df-convert:hover {\n",
              "      background-color: #E2EBFA;\n",
              "      box-shadow: 0px 1px 2px rgba(60, 64, 67, 0.3), 0px 1px 3px 1px rgba(60, 64, 67, 0.15);\n",
              "      fill: #174EA6;\n",
              "    }\n",
              "\n",
              "    [theme=dark] .colab-df-convert {\n",
              "      background-color: #3B4455;\n",
              "      fill: #D2E3FC;\n",
              "    }\n",
              "\n",
              "    [theme=dark] .colab-df-convert:hover {\n",
              "      background-color: #434B5C;\n",
              "      box-shadow: 0px 1px 3px 1px rgba(0, 0, 0, 0.15);\n",
              "      filter: drop-shadow(0px 1px 2px rgba(0, 0, 0, 0.3));\n",
              "      fill: #FFFFFF;\n",
              "    }\n",
              "  </style>\n",
              "\n",
              "      <script>\n",
              "        const buttonEl =\n",
              "          document.querySelector('#df-f1a4505b-01f0-40ff-b5f6-dac158787617 button.colab-df-convert');\n",
              "        buttonEl.style.display =\n",
              "          google.colab.kernel.accessAllowed ? 'block' : 'none';\n",
              "\n",
              "        async function convertToInteractive(key) {\n",
              "          const element = document.querySelector('#df-f1a4505b-01f0-40ff-b5f6-dac158787617');\n",
              "          const dataTable =\n",
              "            await google.colab.kernel.invokeFunction('convertToInteractive',\n",
              "                                                     [key], {});\n",
              "          if (!dataTable) return;\n",
              "\n",
              "          const docLinkHtml = 'Like what you see? Visit the ' +\n",
              "            '<a target=\"_blank\" href=https://colab.research.google.com/notebooks/data_table.ipynb>data table notebook</a>'\n",
              "            + ' to learn more about interactive tables.';\n",
              "          element.innerHTML = '';\n",
              "          dataTable['output_type'] = 'display_data';\n",
              "          await google.colab.output.renderOutput(dataTable, element);\n",
              "          const docLink = document.createElement('div');\n",
              "          docLink.innerHTML = docLinkHtml;\n",
              "          element.appendChild(docLink);\n",
              "        }\n",
              "      </script>\n",
              "    </div>\n",
              "  </div>\n",
              "  "
            ],
            "text/plain": [
              "     spam  to_multiple  from  ...  urgent_subj  exclaim_mess  number_tf\n",
              "0       1            0     1  ...            0             8          2\n",
              "1       1            0     1  ...            0             4          2\n",
              "2       1            0     1  ...            0             0          1\n",
              "3       1            0     1  ...            0             3          2\n",
              "4       1            0     1  ...            0             0          1\n",
              "..    ...          ...   ...  ...          ...           ...        ...\n",
              "780     0            0     1  ...            0             3          2\n",
              "781     0            0     1  ...            0             3          2\n",
              "782     0            0     1  ...            0            27          2\n",
              "783     0            0     1  ...            0             3          2\n",
              "784     0            1     1  ...            0             2          0\n",
              "\n",
              "[785 rows x 20 columns]"
            ]
          },
          "metadata": {},
          "execution_count": 285
        }
      ]
    },
    {
      "cell_type": "code",
      "source": [
        "#Let us now compute the size of train and test data post transformation of non numeric column\n",
        "n_train = len(spam_class_train_data_tf.index) #number of data points in the data set\n",
        "print('number of data points in the train data set:',n_train)\n",
        "n_test = len(spam_class_test_data_tf.index) #number of data points in the data set\n",
        "print('number of data points in the test data set:',n_test)"
      ],
      "metadata": {
        "colab": {
          "base_uri": "https://localhost:8080/"
        },
        "outputId": "f8b48fb7-254b-46cd-e01d-6115fee3233b",
        "id": "X62uM5qnVzNy"
      },
      "execution_count": 286,
      "outputs": [
        {
          "output_type": "stream",
          "name": "stdout",
          "text": [
            "number of data points in the train data set: 3136\n",
            "number of data points in the test data set: 785\n"
          ]
        }
      ]
    },
    {
      "cell_type": "code",
      "source": [
        "#extract the predictor variable columns(X variables) from train and test transform dataset.\n",
        "X_train = spam_class_train_data_tf[spam_class_train_data_tf.columns[1:20]]\n",
        "y_train = spam_class_train_data_tf[spam_class_train_data_tf.columns[0]]\n",
        "X_test = spam_class_test_data_tf[spam_class_test_data_tf.columns[1:20]]\n",
        "y_test = spam_class_test_data_tf[spam_class_test_data_tf.columns[0]]\n",
        "\n"
      ],
      "metadata": {
        "id": "hEIo6SQqVzN0"
      },
      "execution_count": 287,
      "outputs": []
    },
    {
      "cell_type": "code",
      "source": [
        "spam_class_test_data_tf.info()"
      ],
      "metadata": {
        "id": "RDnkwlSJ8fSE",
        "outputId": "82fb05d9-5885-4510-da02-f941c0cdd228",
        "colab": {
          "base_uri": "https://localhost:8080/"
        }
      },
      "execution_count": 288,
      "outputs": [
        {
          "output_type": "stream",
          "name": "stdout",
          "text": [
            "<class 'pandas.core.frame.DataFrame'>\n",
            "RangeIndex: 785 entries, 0 to 784\n",
            "Data columns (total 20 columns):\n",
            " #   Column        Non-Null Count  Dtype  \n",
            "---  ------        --------------  -----  \n",
            " 0   spam          785 non-null    int64  \n",
            " 1   to_multiple   785 non-null    int64  \n",
            " 2   from          785 non-null    int64  \n",
            " 3   cc            785 non-null    int64  \n",
            " 4   sent_email    785 non-null    int64  \n",
            " 5   image         785 non-null    int64  \n",
            " 6   attach        785 non-null    int64  \n",
            " 7   dollar        785 non-null    int64  \n",
            " 8   winner_tf     785 non-null    int64  \n",
            " 9   inherit       785 non-null    int64  \n",
            " 10  viagra        785 non-null    int64  \n",
            " 11  password      785 non-null    int64  \n",
            " 12  num_char      785 non-null    float64\n",
            " 13  line_breaks   785 non-null    int64  \n",
            " 14  format        785 non-null    int64  \n",
            " 15  re_subj       785 non-null    int64  \n",
            " 16  exclaim_subj  785 non-null    int64  \n",
            " 17  urgent_subj   785 non-null    int64  \n",
            " 18  exclaim_mess  785 non-null    int64  \n",
            " 19  number_tf     785 non-null    int64  \n",
            "dtypes: float64(1), int64(19)\n",
            "memory usage: 122.8 KB\n"
          ]
        }
      ]
    },
    {
      "cell_type": "markdown",
      "metadata": {
        "id": "mH8Dg8VjyUkB"
      },
      "source": [
        "================================================================================"
      ]
    },
    {
      "cell_type": "markdown",
      "source": [
        "### **Analysing the Class Imbalance for train and test data and balanced it**"
      ],
      "metadata": {
        "id": "okfrjio8P0AQ"
      }
    },
    {
      "cell_type": "code",
      "source": [
        "#Print the count of each spam class data\n",
        "spam_class_train_data_tf['spam'].value_counts()  \n",
        "#We see that data has two class for spam which is 0 and 1."
      ],
      "metadata": {
        "id": "aQsIfDHjLr8_",
        "outputId": "44b722e8-3687-4cce-83ce-7d5033594588",
        "colab": {
          "base_uri": "https://localhost:8080/"
        }
      },
      "execution_count": 289,
      "outputs": [
        {
          "output_type": "execute_result",
          "data": {
            "text/plain": [
              "0    2842\n",
              "1     294\n",
              "Name: spam, dtype: int64"
            ]
          },
          "metadata": {},
          "execution_count": 289
        }
      ]
    },
    {
      "cell_type": "code",
      "source": [
        "# visualize the target variable for class imbalance\n",
        "import seaborn as sns\n",
        "import matplotlib.pyplot as plt\n",
        "g = sns.countplot(spam_class_train_data_tf['spam'])\n",
        "g.set_xticklabels(['Class-0','Class-1'])\n",
        "plt.show()"
      ],
      "metadata": {
        "id": "SQR698xbPBzA",
        "outputId": "e2ecb99a-b875-4eff-f48c-c88e01cc14f1",
        "colab": {
          "base_uri": "https://localhost:8080/",
          "height": 334
        }
      },
      "execution_count": 290,
      "outputs": [
        {
          "output_type": "stream",
          "name": "stderr",
          "text": [
            "/usr/local/lib/python3.7/dist-packages/seaborn/_decorators.py:43: FutureWarning: Pass the following variable as a keyword arg: x. From version 0.12, the only valid positional argument will be `data`, and passing other arguments without an explicit keyword will result in an error or misinterpretation.\n",
            "  FutureWarning\n"
          ]
        },
        {
          "output_type": "display_data",
          "data": {
            "image/png": "[encoded data removed]",
            "text/plain": [
              "<Figure size 432x288 with 1 Axes>"
            ]
          },
          "metadata": {
            "needs_background": "light"
          }
        }
      ]
    },
    {
      "cell_type": "code",
      "source": [
        "# class count\n",
        "spam_class_0_count, spam_class_1_count = spam_class_train_data_tf['spam'].value_counts()\n",
        "print(spam_class_0_count , spam_class_1_count)\n",
        "# Separate class\n",
        "spam_class_0 = spam_class_train_data_tf[spam_class_train_data_tf['spam'] == 0]\n",
        "spam_class_1 = spam_class_train_data_tf[spam_class_train_data_tf['spam'] == 1]\n",
        "# print the shape of the class\n",
        "print('Spam class 0:', spam_class_0.shape)\n",
        "print('Spam class 1:', spam_class_1.shape)"
      ],
      "metadata": {
        "id": "kQbPs3l4SJSP",
        "outputId": "d536c50d-219f-44bc-823a-ea838f27dceb",
        "colab": {
          "base_uri": "https://localhost:8080/"
        }
      },
      "execution_count": 291,
      "outputs": [
        {
          "output_type": "stream",
          "name": "stdout",
          "text": [
            "2842 294\n",
            "Spam class 0: (2842, 20)\n",
            "Spam class 1: (294, 20)\n"
          ]
        }
      ]
    },
    {
      "cell_type": "markdown",
      "source": [
        "We will use the Synthetic Minority Oversampling Technique (SMOTE) to generates synthetic data for the minority class.SMOTE (Synthetic Minority Oversampling Technique) works by randomly picking a point from the minority class and computing the k-nearest neighbors for this point. The synthetic points are added between the chosen point and its neighbors\n",
        "\n",
        "SMOTE algorithm works in 4 simple steps:\n",
        "1. Choose a minority class as the input vector\n",
        "2. Find its k nearest neighbors (k_neighbors is specified as an argument in the SMOTE() function)\n",
        "3. Choose one of these neighbors and place a synthetic point anywhere on the line joining the point under consideration and its chosen neighbor\n",
        "4. Repeat the steps until data is balanced"
      ],
      "metadata": {
        "id": "spnkgd1UZPIp"
      }
    },
    {
      "cell_type": "code",
      "source": [
        "# import library\n",
        "from imblearn.over_sampling import SMOTE\n",
        "from collections import Counter\n",
        "y_train_counter = Counter(y_train.ravel())\n",
        "print('Original train dataset shape', y_train_counter)\n",
        "smote = SMOTE(random_state=0)\n",
        "\n",
        "# fit predictor and target variable\n",
        "X_train_smote, y_train_smote = smote.fit_resample(X_train, y_train)\n",
        "\n",
        "print('Resample train dataset shape', Counter(y_train_smote))\n"
      ],
      "metadata": {
        "id": "jifkuJcNZzpn",
        "outputId": "1925cd41-f0f9-47ab-9f69-78183804461a",
        "colab": {
          "base_uri": "https://localhost:8080/"
        }
      },
      "execution_count": 292,
      "outputs": [
        {
          "output_type": "stream",
          "name": "stdout",
          "text": [
            "Original train dataset shape Counter({0: 2842, 1: 294})\n",
            "Resample train dataset shape Counter({0: 2842, 1: 2842})\n"
          ]
        }
      ]
    },
    {
      "cell_type": "code",
      "source": [
        "y_test_counter = Counter(y_test.ravel())\n",
        "print('Original test dataset shape', y_test_counter)\n",
        "smote = SMOTE(random_state=0)\n",
        "\n",
        "# fit predictor and target variable\n",
        "X_test_smote, y_test_smote = smote.fit_resample(X_test, y_test)\n",
        "\n",
        "print('Resample test dataset shape', Counter(y_test_smote))\n",
        "\n",
        "n_train_smote = len(X_train_smote)\n",
        "n_test_smote = len(X_test_smote)\n",
        "\n",
        "print(n_train_smote,n_test_smote)"
      ],
      "metadata": {
        "id": "_J7fDAbmdgTb",
        "outputId": "ddfd51d9-7fa2-4ec7-cefb-f162e9a48d53",
        "colab": {
          "base_uri": "https://localhost:8080/"
        }
      },
      "execution_count": 293,
      "outputs": [
        {
          "output_type": "stream",
          "name": "stdout",
          "text": [
            "Original test dataset shape Counter({0: 712, 1: 73})\n",
            "Resample test dataset shape Counter({1: 712, 0: 712})\n",
            "5684 1424\n"
          ]
        }
      ]
    },
    {
      "cell_type": "markdown",
      "source": [
        "With above we see that we have balanced both the train and test dataset."
      ],
      "metadata": {
        "id": "TL6ZIcKleWWS"
      }
    },
    {
      "cell_type": "markdown",
      "source": [
        "## **Solution to Assignment question (Q2-b)**"
      ],
      "metadata": {
        "id": "TN9W7sQREvVA"
      }
    },
    {
      "cell_type": "markdown",
      "source": [
        "### ===================================================================="
      ],
      "metadata": {
        "id": "ozLZNkAJQbnO"
      }
    },
    {
      "cell_type": "markdown",
      "source": [
        "### **Creating some common utilities function**"
      ],
      "metadata": {
        "id": "1NtF7VDp_Joi"
      }
    },
    {
      "cell_type": "code",
      "source": [
        "#Creating some common function\n",
        "#Creating Function for plotting the confusion Matrix\n",
        "def plot_confusion_matrix(p_y_train, p_y_train_predictions, p_y_test, p_y_test_predictions):\n",
        "          \n",
        "    #Lets Calculate the confusion Matrix\n",
        "    from sklearn.metrics import confusion_matrix\n",
        "    train_conf_matrix = confusion_matrix(p_y_train,p_y_train_predictions)\n",
        "    test_conf_matrix = confusion_matrix(p_y_test,p_y_test_predictions)\n",
        "    print( \"Train confusion matrix: \\n\", train_conf_matrix)\n",
        "    print(\"Test confusion matrix: \\n\", test_conf_matrix)\n",
        "    \n",
        "    #Plotting the confusion matrix for better interpretation\n",
        "    import seaborn as sns\n",
        "    import matplotlib.pyplot as plt\n",
        "    fig, axes = plt.subplots(ncols=2, figsize=(8, 3))\n",
        "    ax1, ax2 = axes\n",
        "    sns.heatmap(train_conf_matrix, annot=True, fmt='g', ax=ax1)\n",
        "    sns.heatmap(test_conf_matrix, annot=True, fmt='g', ax=ax2)\n",
        "    ax1.set_title('Train Data')\n",
        "    ax1.xaxis.set_ticklabels(['0', '1'])\n",
        "    ax1.yaxis.set_ticklabels(['0', '1'])\n",
        "    ax2.set_title('Test Data')\n",
        "    ax2.xaxis.set_ticklabels(['0', '1'])\n",
        "    ax2.yaxis.set_ticklabels(['0', '1'])\n",
        "    fig.suptitle('Confusion Matrix')\n",
        "\n",
        "def print_classification_report(p_y_train, p_y_train_predictions, p_y_test, p_y_test_predictions):\n",
        "    from sklearn.metrics import classification_report\n",
        "    train_class_rpt = classification_report(p_y_train, p_y_train_predictions)\n",
        "    print(\"======================================================\")\n",
        "    print(\"Train Classification Report:\")\n",
        "    print(train_class_rpt)\n",
        "    print(\"======================================================\")\n",
        "    test_class_rpt = classification_report(p_y_test, p_y_test_predictions)\n",
        "    print(\"Test Classification Report:\")\n",
        "    print(test_class_rpt)\n",
        "    print(\"======================================================\")"
      ],
      "metadata": {
        "id": "OqWgneMM7qEc"
      },
      "execution_count": 294,
      "outputs": []
    },
    {
      "cell_type": "markdown",
      "source": [
        "### **b.i) Implementing the Naive Bayes Classifier**"
      ],
      "metadata": {
        "id": "qtM5U42pQToA"
      }
    },
    {
      "cell_type": "code",
      "source": [
        "from sklearn.naive_bayes import GaussianNB\n",
        "nb_model = GaussianNB() #define a model using Gaussian version Naive Bayes classifier\n",
        "nb_model.fit(X_train, y_train) #fit the model using the training data\n",
        "\n",
        "y_train_predicted_nb = nb_model.predict(X_train)\n",
        "y_test_predicted_nb = nb_model.predict(X_test)"
      ],
      "metadata": {
        "id": "a-y_AQH9QsBP"
      },
      "execution_count": 295,
      "outputs": []
    },
    {
      "cell_type": "markdown",
      "source": [
        "**GaussianNB(priors, var_smoothing=1e-09)** command in *scikit-learn* package uses the following parameters:\n",
        "\n",
        "\n",
        "*   *priors* as probabilities of the classes. (If specified the priors are not adjusted according to the data.)\n",
        "*   *var_smoothing* is the portion of the largest variance of all features that is added to variances for calculation stability."
      ],
      "metadata": {
        "id": "ljJYbf4PRRGx"
      }
    },
    {
      "cell_type": "code",
      "source": [
        "print('Naive Bayes Classifier statistics:\\n')\n",
        "print_classification_report(y_train,y_train_predicted_nb,y_test,y_test_predicted_nb)\n",
        "plot_confusion_matrix( y_train,y_train_predicted_nb,y_test,y_test_predicted_nb)"
      ],
      "metadata": {
        "colab": {
          "base_uri": "https://localhost:8080/",
          "height": 771
        },
        "id": "dTldHJ8k8Y9k",
        "outputId": "befca773-06a9-418a-dee4-43481310705e"
      },
      "execution_count": 296,
      "outputs": [
        {
          "output_type": "stream",
          "name": "stdout",
          "text": [
            "Naive Bayes Classifier statistics:\n",
            "\n",
            "======================================================\n",
            "Train Classification Report:\n",
            "              precision    recall  f1-score   support\n",
            "\n",
            "           0       0.92      0.97      0.94      2842\n",
            "           1       0.29      0.14      0.18       294\n",
            "\n",
            "    accuracy                           0.89      3136\n",
            "   macro avg       0.60      0.55      0.56      3136\n",
            "weighted avg       0.86      0.89      0.87      3136\n",
            "\n",
            "======================================================\n",
            "Test Classification Report:\n",
            "              precision    recall  f1-score   support\n",
            "\n",
            "           0       0.93      0.96      0.95       712\n",
            "           1       0.46      0.30      0.36        73\n",
            "\n",
            "    accuracy                           0.90       785\n",
            "   macro avg       0.69      0.63      0.66       785\n",
            "weighted avg       0.89      0.90      0.89       785\n",
            "\n",
            "======================================================\n",
            "Train confusion matrix: \n",
            " [[2743   99]\n",
            " [ 254   40]]\n",
            "Test confusion matrix: \n",
            " [[686  26]\n",
            " [ 51  22]]\n"
          ]
        },
        {
          "output_type": "display_data",
          "data": {
            "image/png": "[encoded data removed]",
            "text/plain": [
              "<Figure size 576x216 with 4 Axes>"
            ]
          },
          "metadata": {
            "needs_background": "light"
          }
        }
      ]
    },
    {
      "cell_type": "markdown",
      "source": [
        "**Lets calculate the prediction using the class balanced Data**"
      ],
      "metadata": {
        "id": "ssSVkphguWls"
      }
    },
    {
      "cell_type": "code",
      "source": [
        "print(\"Shape of X Class Balanced: \", X_train_smote.shape)\n",
        "print(\"Shape of y Class Balanced: \", y_train_smote.shape)\n",
        "\n",
        "nb_model = GaussianNB() #define a model using Gaussian version Naive Bayes classifier\n",
        "nb_model.fit(X_train_smote, y_train_smote) #fit the model using the training class balanced data\n",
        "\n",
        "y_train_predicted_nb_bal = nb_model.predict(X_train_smote)\n",
        "y_test_predicted_nb_bal = nb_model.predict(X_test_smote)\n",
        "print('\\nNaive Bayes Classifier statistics with Class Balanced Dataset:\\n')\n",
        "print_classification_report(y_train_smote,y_train_predicted_nb_bal , y_test_smote, y_test_predicted_nb_bal)\n",
        "plot_confusion_matrix(y_train_smote,y_train_predicted_nb_bal , y_test_smote, y_test_predicted_nb_bal)"
      ],
      "metadata": {
        "colab": {
          "base_uri": "https://localhost:8080/",
          "height": 823
        },
        "id": "yhD_S6mmuBAF",
        "outputId": "4c6ca89b-b052-4ace-b76c-6142babdc1f1"
      },
      "execution_count": 297,
      "outputs": [
        {
          "output_type": "stream",
          "name": "stdout",
          "text": [
            "Shape of X Class Balanced:  (5684, 19)\n",
            "Shape of y Class Balanced:  (5684,)\n",
            "\n",
            "Naive Bayes Classifier statistics with Class Balanced Dataset:\n",
            "\n",
            "======================================================\n",
            "Train Classification Report:\n",
            "              precision    recall  f1-score   support\n",
            "\n",
            "           0       0.93      0.57      0.71      2842\n",
            "           1       0.69      0.96      0.80      2842\n",
            "\n",
            "    accuracy                           0.77      5684\n",
            "   macro avg       0.81      0.77      0.76      5684\n",
            "weighted avg       0.81      0.77      0.76      5684\n",
            "\n",
            "======================================================\n",
            "Test Classification Report:\n",
            "              precision    recall  f1-score   support\n",
            "\n",
            "           0       0.93      0.62      0.74       712\n",
            "           1       0.71      0.96      0.82       712\n",
            "\n",
            "    accuracy                           0.79      1424\n",
            "   macro avg       0.82      0.79      0.78      1424\n",
            "weighted avg       0.82      0.79      0.78      1424\n",
            "\n",
            "======================================================\n",
            "Train confusion matrix: \n",
            " [[1632 1210]\n",
            " [ 120 2722]]\n",
            "Test confusion matrix: \n",
            " [[439 273]\n",
            " [ 31 681]]\n"
          ]
        },
        {
          "output_type": "display_data",
          "data": {
            "image/png": "[encoded data removed]",
            "text/plain": [
              "<Figure size 576x216 with 4 Axes>"
            ]
          },
          "metadata": {
            "needs_background": "light"
          }
        }
      ]
    },
    {
      "cell_type": "markdown",
      "source": [
        "**Plot Correlation heat Map:**\n",
        "\n"
      ],
      "metadata": {
        "id": "bK7tNVC3Z51m"
      }
    },
    {
      "cell_type": "code",
      "source": [
        "import seaborn as sns\n",
        "import matplotlib.pyplot as plt\n",
        "#Using Pearson Correlation\n",
        "plt.figure(figsize=(12,10))\n",
        "cor = X_train.corr()\n",
        "sns.heatmap(cor, annot=False, cmap=plt.cm.CMRmap_r)\n",
        "plt.show()"
      ],
      "metadata": {
        "id": "xGNjAKuJS-uI",
        "colab": {
          "base_uri": "https://localhost:8080/",
          "height": 656
        },
        "outputId": "8923cbc4-1b09-4121-a8ed-1bba5e752947"
      },
      "execution_count": 298,
      "outputs": [
        {
          "output_type": "display_data",
          "data": {
            "image/png": "[encoded data removed]",
            "text/plain": [
              "<Figure size 864x720 with 2 Axes>"
            ]
          },
          "metadata": {
            "needs_background": "light"
          }
        }
      ]
    },
    {
      "cell_type": "markdown",
      "source": [
        "**Implement Naive bayes on reduced feature train and test data**"
      ],
      "metadata": {
        "id": "PYlPcuy9OOnp"
      }
    },
    {
      "cell_type": "markdown",
      "source": [
        "Analysis of the heat map suggest that not all column are correlated to each except num_char and line_breaks.\n",
        "Since Naive Bayes assume that feature(x varibale column) should not be correlated. So we are just dropping the correlated column to check if model give better performance."
      ],
      "metadata": {
        "id": "Psm_OXHWCB-j"
      }
    },
    {
      "cell_type": "code",
      "source": [
        "#Dropping line_breaks features from the train data\n",
        "train_X_df = X_train.copy()\n",
        "train_X_df= train_X_df.drop(['line_breaks'], axis=1)\n",
        "print(train_X_df)\n",
        "\n",
        "#Dropping  line_breaks features from the test data\n",
        "\n",
        "test_X_df = X_test.copy()\n",
        "test_X_df= test_X_df.drop(['line_breaks'], axis=1)\n",
        "print(test_X_df)\n",
        "\n",
        "print(\"\\nSee the number of feature has dropped from 19 to 18\\n\")\n",
        "\n",
        "#Convert the reduced train and test data into numpy array\n",
        "train_X_reduced = train_X_df.to_numpy()\n",
        "print('Shape of Reduced Train Dataset :', np.shape(train_X_reduced))\n",
        "test_X_reduced = test_X_df.to_numpy()\n",
        "print('Shape of Reduced Test Dataset :', np.shape(test_X_reduced))\n"
      ],
      "metadata": {
        "id": "YvGcASetZ1uo",
        "colab": {
          "base_uri": "https://localhost:8080/"
        },
        "outputId": "37030629-da17-43cf-d586-9ff5393b244f"
      },
      "execution_count": 299,
      "outputs": [
        {
          "output_type": "stream",
          "name": "stdout",
          "text": [
            "      to_multiple  from  cc  ...  urgent_subj  exclaim_mess  number_tf\n",
            "0               0     1   0  ...            0             0          0\n",
            "1               0     1   0  ...            0             1          2\n",
            "2               0     1   0  ...            0            48          2\n",
            "3               0     1   0  ...            0             1          1\n",
            "4               0     1   0  ...            0             1          1\n",
            "...           ...   ...  ..  ...          ...           ...        ...\n",
            "3131            0     1   0  ...            0             3          2\n",
            "3132            0     1   0  ...            0             0          0\n",
            "3133            0     1   0  ...            0             0          2\n",
            "3134            0     1   0  ...            0             1          2\n",
            "3135            0     1   0  ...            0             0          2\n",
            "\n",
            "[3136 rows x 18 columns]\n",
            "     to_multiple  from  cc  ...  urgent_subj  exclaim_mess  number_tf\n",
            "0              0     1   0  ...            0             8          2\n",
            "1              0     1   0  ...            0             4          2\n",
            "2              0     1   0  ...            0             0          1\n",
            "3              0     1   4  ...            0             3          2\n",
            "4              0     1   0  ...            0             0          1\n",
            "..           ...   ...  ..  ...          ...           ...        ...\n",
            "780            0     1   0  ...            0             3          2\n",
            "781            0     1   0  ...            0             3          2\n",
            "782            0     1   0  ...            0            27          2\n",
            "783            0     1   0  ...            0             3          2\n",
            "784            1     1   0  ...            0             2          0\n",
            "\n",
            "[785 rows x 18 columns]\n",
            "\n",
            "See the number of feature has dropped from 19 to 18\n",
            "\n",
            "Shape of Reduced Train Dataset : (3136, 18)\n",
            "Shape of Reduced Test Dataset : (785, 18)\n"
          ]
        }
      ]
    },
    {
      "cell_type": "code",
      "source": [
        "#Implement Naive bayes on reduced train and test data\n",
        "nb_reduced_model = GaussianNB()\n",
        "nb_reduced_model.fit(train_X_reduced, y_train)\n",
        "\n",
        "predicted_train_reduced_y = nb_reduced_model.predict(train_X_reduced)\n",
        "predicted_test_reduced_y = nb_reduced_model.predict(test_X_reduced)\n",
        "\n",
        "print('Naive Bayes Classifier statistics with reduced feature dataset:\\n')\n",
        "print_classification_report(y_train,predicted_train_reduced_y, y_test, predicted_test_reduced_y)\n",
        "plot_confusion_matrix(y_train,predicted_train_reduced_y, y_test, predicted_test_reduced_y)"
      ],
      "metadata": {
        "id": "Hx-5GjVRdqFt",
        "colab": {
          "base_uri": "https://localhost:8080/",
          "height": 771
        },
        "outputId": "4162c873-0edd-46fe-ea12-ca36698e013d"
      },
      "execution_count": 300,
      "outputs": [
        {
          "output_type": "stream",
          "name": "stdout",
          "text": [
            "Naive Bayes Classifier statistics with reduced feature dataset:\n",
            "\n",
            "======================================================\n",
            "Train Classification Report:\n",
            "              precision    recall  f1-score   support\n",
            "\n",
            "           0       0.91      0.97      0.94      2842\n",
            "           1       0.29      0.11      0.16       294\n",
            "\n",
            "    accuracy                           0.89      3136\n",
            "   macro avg       0.60      0.54      0.55      3136\n",
            "weighted avg       0.85      0.89      0.87      3136\n",
            "\n",
            "======================================================\n",
            "Test Classification Report:\n",
            "              precision    recall  f1-score   support\n",
            "\n",
            "           0       0.92      0.97      0.94       712\n",
            "           1       0.38      0.18      0.24        73\n",
            "\n",
            "    accuracy                           0.90       785\n",
            "   macro avg       0.65      0.57      0.59       785\n",
            "weighted avg       0.87      0.90      0.88       785\n",
            "\n",
            "======================================================\n",
            "Train confusion matrix: \n",
            " [[2762   80]\n",
            " [ 262   32]]\n",
            "Test confusion matrix: \n",
            " [[691  21]\n",
            " [ 60  13]]\n"
          ]
        },
        {
          "output_type": "display_data",
          "data": {
            "image/png": "[encoded data removed]",
            "text/plain": [
              "<Figure size 576x216 with 4 Axes>"
            ]
          },
          "metadata": {
            "needs_background": "light"
          }
        }
      ]
    },
    {
      "cell_type": "markdown",
      "source": [
        "Conclusion :  Reducing the fetaure have hardly any effect on the accurary prediction."
      ],
      "metadata": {
        "id": "oNyoy4JafJom"
      }
    },
    {
      "cell_type": "markdown",
      "source": [
        "### **b.ii) Implementing the Logistic Regresssion Model**"
      ],
      "metadata": {
        "id": "tL7XnXl5Eby_"
      }
    },
    {
      "cell_type": "code",
      "source": [
        "#Let us now compute the size of train and test data\n",
        "n_train_lrm = len(spam_class_train_data_tf.index) #number of data points in the data set\n",
        "print('number of data points in the train data set:',n_train_lrm)\n",
        "n_test_lrm = len(spam_class_test_data_tf.index) #number of data points in the data set\n",
        "print('number of data points in the test data set:',n_test_lrm)\n",
        "\n",
        "#extract the predictor variable columns(X variables) from train and test data.\n",
        "X_train_lrm = spam_class_train_data_tf[spam_class_train_data_tf.columns[1:20]]\n",
        "y_train_lrm = spam_class_train_data_tf[spam_class_train_data_tf.columns[0]]\n",
        "X_test_lrm = spam_class_test_data_tf[spam_class_test_data_tf.columns[1:20]]\n",
        "y_test_lrm = spam_class_test_data_tf[spam_class_test_data_tf.columns[0]]"
      ],
      "metadata": {
        "id": "nK9mYorjfuy_",
        "colab": {
          "base_uri": "https://localhost:8080/"
        },
        "outputId": "9b3a85cc-da1c-4818-def3-3b9faffa5083"
      },
      "execution_count": 301,
      "outputs": [
        {
          "output_type": "stream",
          "name": "stdout",
          "text": [
            "number of data points in the train data set: 3136\n",
            "number of data points in the test data set: 785\n"
          ]
        }
      ]
    },
    {
      "cell_type": "code",
      "source": [
        "#Train the model\n",
        "from sklearn.linear_model import LogisticRegression\n",
        "logmodel = LogisticRegression(C=1e6)\n",
        "logmodel.fit(X_train_lrm, y_train_lrm)\n",
        "\n",
        "#Predict the y test\n",
        "y_train_predictions_lrm = logmodel.predict(X_train_lrm)\n",
        "y_test_predictions_lrm = logmodel.predict(X_test_lrm)"
      ],
      "metadata": {
        "id": "XTOjspqK-VzZ",
        "colab": {
          "base_uri": "https://localhost:8080/"
        },
        "outputId": "238e650b-ba91-453f-bbd4-f1d4d676b622"
      },
      "execution_count": 302,
      "outputs": [
        {
          "output_type": "stream",
          "name": "stderr",
          "text": [
            "/usr/local/lib/python3.7/dist-packages/sklearn/linear_model/_logistic.py:818: ConvergenceWarning: lbfgs failed to converge (status=1):\n",
            "STOP: TOTAL NO. of ITERATIONS REACHED LIMIT.\n",
            "\n",
            "Increase the number of iterations (max_iter) or scale the data as shown in:\n",
            "    https://scikit-learn.org/stable/modules/preprocessing.html\n",
            "Please also refer to the documentation for alternative solver options:\n",
            "    https://scikit-learn.org/stable/modules/linear_model.html#logistic-regression\n",
            "  extra_warning_msg=_LOGISTIC_SOLVER_CONVERGENCE_MSG,\n"
          ]
        }
      ]
    },
    {
      "cell_type": "markdown",
      "source": [
        "**Metrics\tDefinition:**\n",
        "\n",
        "**Precision**: Precision is defined as the ratio of true positives to the sum of true and false positives.\n",
        "\n",
        "**Recall**:Recall is defined as the ratio of true positives to the sum of true positives and false negatives.\n",
        "\n",
        "**F1 Score**:\tThe F1 is the weighted harmonic mean of precision and recall. The closer the value of the F1 score is to 1.0, the better the expected performance of the model is.\n",
        "\n",
        "**Support**: Support is the number of actual occurrences of the class in the dataset. It doesn’t vary between models, it just diagnoses the performance evaluation process."
      ],
      "metadata": {
        "id": "eLwjeWftGTWw"
      }
    },
    {
      "cell_type": "code",
      "source": [
        "print('Logistic Regression model statistics:\\n')\n",
        "#Print Classificatin Report and confusion matrix\n",
        "print_classification_report(y_train_lrm,y_train_predictions_lrm,y_test_lrm, y_test_predictions_lrm )\n",
        "\n",
        "#Average accuracy on training data\n",
        "print('Train Accuracy:', logmodel.score(X_train_lrm,y_train_lrm))\n",
        "\n",
        "#Calculating the test accuracy\n",
        "from sklearn.metrics import accuracy_score\n",
        "test_accuracy_rm = accuracy_score(y_test_lrm, y_test_predictions_lrm)\n",
        "print('Test Accuracy:', test_accuracy_rm) #Average accuracy on test data\n",
        "print('=============================\\n')\n",
        "\n",
        "plot_confusion_matrix(y_train_lrm,y_train_predictions_lrm,y_test_lrm, y_test_predictions_lrm )"
      ],
      "metadata": {
        "id": "m7nXH2dT_Zd5",
        "colab": {
          "base_uri": "https://localhost:8080/",
          "height": 840
        },
        "outputId": "fc9e4ce3-888f-48ab-b007-74fcbf32b32b"
      },
      "execution_count": 303,
      "outputs": [
        {
          "output_type": "stream",
          "name": "stdout",
          "text": [
            "Logistic Regression model statistics:\n",
            "\n",
            "======================================================\n",
            "Train Classification Report:\n",
            "              precision    recall  f1-score   support\n",
            "\n",
            "           0       0.91      0.99      0.95      2842\n",
            "           1       0.54      0.07      0.13       294\n",
            "\n",
            "    accuracy                           0.91      3136\n",
            "   macro avg       0.73      0.53      0.54      3136\n",
            "weighted avg       0.88      0.91      0.87      3136\n",
            "\n",
            "======================================================\n",
            "Test Classification Report:\n",
            "              precision    recall  f1-score   support\n",
            "\n",
            "           0       0.92      0.99      0.96       712\n",
            "           1       0.73      0.15      0.25        73\n",
            "\n",
            "    accuracy                           0.92       785\n",
            "   macro avg       0.83      0.57      0.60       785\n",
            "weighted avg       0.90      0.92      0.89       785\n",
            "\n",
            "======================================================\n",
            "Train Accuracy: 0.9072066326530612\n",
            "Test Accuracy: 0.9159235668789809\n",
            "=============================\n",
            "\n",
            "Train confusion matrix: \n",
            " [[2824   18]\n",
            " [ 273   21]]\n",
            "Test confusion matrix: \n",
            " [[708   4]\n",
            " [ 62  11]]\n"
          ]
        },
        {
          "output_type": "display_data",
          "data": {
            "image/png": "[encoded data removed]",
            "text/plain": [
              "<Figure size 576x216 with 4 Axes>"
            ]
          },
          "metadata": {
            "needs_background": "light"
          }
        }
      ]
    },
    {
      "cell_type": "markdown",
      "source": [
        "**Implement logistic Regression using class balance dataset**"
      ],
      "metadata": {
        "id": "aL2ZhrRhNkdC"
      }
    },
    {
      "cell_type": "code",
      "source": [
        "#implement logistic Regression using class balance data\n",
        "#Train the model\n",
        "from sklearn.linear_model import LogisticRegression\n",
        "logmodel = LogisticRegression(C=1e6)\n",
        "logmodel.fit(X_train_smote, y_train_smote)\n",
        "\n",
        "#Predict the y test\n",
        "y_train_predictions_bal_lrm = logmodel.predict(X_train_smote)\n",
        "y_test_predictions_bal_lrm = logmodel.predict(X_test_smote)\n"
      ],
      "metadata": {
        "colab": {
          "base_uri": "https://localhost:8080/"
        },
        "id": "hqATsDgs1YCo",
        "outputId": "557e8d28-4545-4adb-ae65-1b14923b3bec"
      },
      "execution_count": 304,
      "outputs": [
        {
          "output_type": "stream",
          "name": "stderr",
          "text": [
            "/usr/local/lib/python3.7/dist-packages/sklearn/linear_model/_logistic.py:818: ConvergenceWarning: lbfgs failed to converge (status=1):\n",
            "STOP: TOTAL NO. of ITERATIONS REACHED LIMIT.\n",
            "\n",
            "Increase the number of iterations (max_iter) or scale the data as shown in:\n",
            "    https://scikit-learn.org/stable/modules/preprocessing.html\n",
            "Please also refer to the documentation for alternative solver options:\n",
            "    https://scikit-learn.org/stable/modules/linear_model.html#logistic-regression\n",
            "  extra_warning_msg=_LOGISTIC_SOLVER_CONVERGENCE_MSG,\n"
          ]
        }
      ]
    },
    {
      "cell_type": "code",
      "source": [
        "print('Logistic Regression Model with Class Balanced Dataset:\\n')\n",
        "print_classification_report(y_train_smote,y_train_predictions_bal_lrm,y_test_smote, y_test_predictions_bal_lrm )\n",
        "plot_confusion_matrix(y_train_smote,y_train_predictions_bal_lrm,y_test_smote, y_test_predictions_bal_lrm )"
      ],
      "metadata": {
        "colab": {
          "base_uri": "https://localhost:8080/",
          "height": 771
        },
        "id": "2BWqaGBWMkpz",
        "outputId": "8320c3d2-b832-468e-b198-d325837a106d"
      },
      "execution_count": 305,
      "outputs": [
        {
          "output_type": "stream",
          "name": "stdout",
          "text": [
            "Logistic Regression Model with Class Balanced Dataset:\n",
            "\n",
            "======================================================\n",
            "Train Classification Report:\n",
            "              precision    recall  f1-score   support\n",
            "\n",
            "           0       0.79      0.83      0.81      2842\n",
            "           1       0.82      0.77      0.80      2842\n",
            "\n",
            "    accuracy                           0.80      5684\n",
            "   macro avg       0.80      0.80      0.80      5684\n",
            "weighted avg       0.80      0.80      0.80      5684\n",
            "\n",
            "======================================================\n",
            "Test Classification Report:\n",
            "              precision    recall  f1-score   support\n",
            "\n",
            "           0       0.82      0.84      0.83       712\n",
            "           1       0.83      0.81      0.82       712\n",
            "\n",
            "    accuracy                           0.82      1424\n",
            "   macro avg       0.82      0.82      0.82      1424\n",
            "weighted avg       0.82      0.82      0.82      1424\n",
            "\n",
            "======================================================\n",
            "Train confusion matrix: \n",
            " [[2363  479]\n",
            " [ 640 2202]]\n",
            "Test confusion matrix: \n",
            " [[595 117]\n",
            " [135 577]]\n"
          ]
        },
        {
          "output_type": "display_data",
          "data": {
            "image/png": "[encoded data removed]",
            "text/plain": [
              "<Figure size 576x216 with 4 Axes>"
            ]
          },
          "metadata": {
            "needs_background": "light"
          }
        }
      ]
    },
    {
      "cell_type": "markdown",
      "source": [
        "### **=================================================================**"
      ],
      "metadata": {
        "id": "ozPb7P_ZfTYF"
      }
    },
    {
      "cell_type": "markdown",
      "source": [
        "### **b.iii) Implementing the Soft Margin SVM**"
      ],
      "metadata": {
        "id": "h5J93mCUffcJ"
      }
    },
    {
      "cell_type": "code",
      "source": [
        "from sklearn.svm import LinearSVC #linear svm from scikit learn \n",
        "clf = LinearSVC(random_state=0, tol=1e-5) #max_iter=10000"
      ],
      "metadata": {
        "id": "G7n3LT-Nfeby"
      },
      "execution_count": 306,
      "outputs": []
    },
    {
      "cell_type": "code",
      "source": [
        "#copy some variable for SVM perspective\n",
        "train_label= y_train_smote.copy()\n",
        "train_features = X_train_smote.copy()\n",
        "test_features = X_test_smote.copy()\n",
        "test_label = y_test_smote.copy()\n",
        "num_train = n_train_smote\n",
        "num_test = n_test_smote\n",
        "\n",
        "train_label = train_label.to_frame(name='spam')\n",
        "test_label = test_label.to_frame(name='spam')\n",
        "\n",
        "train_label = train_label.to_numpy()\n",
        "train_features = train_features.to_numpy()\n",
        "test_features= test_features.to_numpy()\n",
        "test_label = test_label.to_numpy()\n",
        "\n",
        "print('train_label:', train_label.shape, 'Type: ', type(train_label))\n",
        "print('train_features:', train_features.shape ,'Type: ',  type(train_features))\n",
        "print('test_features:', test_features.shape ,'Type: ',  type(test_features))\n",
        "print('test_label:', test_label.shape,'Type: ',  type(test_label))"
      ],
      "metadata": {
        "id": "PVLv85602F_Y",
        "colab": {
          "base_uri": "https://localhost:8080/"
        },
        "outputId": "caabd6ff-4d7f-4621-bb1d-eeb5fdc244ac"
      },
      "execution_count": 307,
      "outputs": [
        {
          "output_type": "stream",
          "name": "stdout",
          "text": [
            "train_label: (5684, 1) Type:  <class 'numpy.ndarray'>\n",
            "train_features: (5684, 19) Type:  <class 'numpy.ndarray'>\n",
            "test_features: (1424, 19) Type:  <class 'numpy.ndarray'>\n",
            "test_label: (1424, 1) Type:  <class 'numpy.ndarray'>\n"
          ]
        }
      ]
    },
    {
      "cell_type": "code",
      "source": [
        "#Get the trained model in clf_model\n",
        "train_label = np.reshape(train_label,(train_label.shape[0],))\n",
        "clf_model = clf.fit(train_features,train_label)\n",
        "#We will now use the trained model for predition on the test data set\n",
        "predicted_test_labels = clf_model.predict(test_features)\n"
      ],
      "metadata": {
        "id": "QkKnXH4n2jHx",
        "colab": {
          "base_uri": "https://localhost:8080/"
        },
        "outputId": "c1a5cf4f-d588-4d91-ce2a-0ad0878461ba"
      },
      "execution_count": 308,
      "outputs": [
        {
          "output_type": "stream",
          "name": "stderr",
          "text": [
            "/usr/local/lib/python3.7/dist-packages/sklearn/svm/_base.py:1208: ConvergenceWarning: Liblinear failed to converge, increase the number of iterations.\n",
            "  ConvergenceWarning,\n"
          ]
        }
      ]
    },
    {
      "cell_type": "code",
      "source": [
        "#reshaping predicted_labels so that it is of the same shape as test_label\n",
        "predicted_test_labels = np.reshape(predicted_test_labels.data,(num_test,1))\n",
        "#If you wish to see how predicted_labels and test_label look, you can print them and check\n",
        "# print(predicted_test_labels)\n",
        "\n",
        "#compute test set error and test set accuracy \n",
        "test_error = np.sum(0.5*np.abs(predicted_test_labels-test_label))/len(test_label)*100.0#Try to understand this equation\n",
        "test_accuracy = 100.0-test_error \n",
        "#print the test set accuracy \n",
        "print('Test set accuracy:', test_accuracy)   "
      ],
      "metadata": {
        "id": "AtRr04Mj3aH6",
        "colab": {
          "base_uri": "https://localhost:8080/"
        },
        "outputId": "130ecda6-c0b1-4c05-ad22-d6f2aa6045ea"
      },
      "execution_count": 309,
      "outputs": [
        {
          "output_type": "stream",
          "name": "stdout",
          "text": [
            "Test set accuracy: 90.55477528089888\n"
          ]
        }
      ]
    },
    {
      "cell_type": "code",
      "source": [
        "#We can also use the trained model clf_model to predict the train set \n",
        "predicted_train_labels = clf_model.predict(train_features)\n",
        "#reshaping predicted_train_labels so that it is of the same shape as train_label\n",
        "predicted_train_labels = np.reshape(predicted_train_labels.data,(num_train,1))\n",
        "#compute train set error and train set accuracy\n",
        "train_label = np.reshape(train_label,(num_train,1))\n",
        "train_error = np.sum(0.5*np.abs(predicted_train_labels-train_label))/len(train_label)*100.0\n",
        "train_accuracy = 100.0-train_error \n",
        "#print the train set accuracy\n",
        "print('Train set accuracy:', train_accuracy)"
      ],
      "metadata": {
        "id": "JSzYZuICDAAG",
        "colab": {
          "base_uri": "https://localhost:8080/"
        },
        "outputId": "e0b2c0eb-6f24-486c-dd0f-da3329986270"
      },
      "execution_count": 310,
      "outputs": [
        {
          "output_type": "stream",
          "name": "stdout",
          "text": [
            "Train set accuracy: 90.93947923997185\n"
          ]
        }
      ]
    },
    {
      "cell_type": "code",
      "source": [
        "print('Soft Margin SVM Statistics: \\n')\n",
        "print_classification_report(train_label, predicted_train_labels,test_label, predicted_test_labels)\n",
        "plot_confusion_matrix(train_label, predicted_train_labels,test_label, predicted_test_labels)\n"
      ],
      "metadata": {
        "id": "c8NdniIaDFMJ",
        "colab": {
          "base_uri": "https://localhost:8080/",
          "height": 771
        },
        "outputId": "ac03edfb-0d00-4c4b-d228-6780baeecf18"
      },
      "execution_count": 341,
      "outputs": [
        {
          "output_type": "stream",
          "name": "stdout",
          "text": [
            "Soft Margin SVM Statistics: \n",
            "\n",
            "======================================================\n",
            "Train Classification Report:\n",
            "              precision    recall  f1-score   support\n",
            "\n",
            "           0       0.72      0.85      0.78      2842\n",
            "           1       0.82      0.68      0.74      2842\n",
            "\n",
            "    accuracy                           0.76      5684\n",
            "   macro avg       0.77      0.76      0.76      5684\n",
            "weighted avg       0.77      0.76      0.76      5684\n",
            "\n",
            "======================================================\n",
            "Test Classification Report:\n",
            "              precision    recall  f1-score   support\n",
            "\n",
            "           0       0.90      0.70      0.79       712\n",
            "           1       0.76      0.92      0.83       712\n",
            "\n",
            "    accuracy                           0.81      1424\n",
            "   macro avg       0.83      0.81      0.81      1424\n",
            "weighted avg       0.83      0.81      0.81      1424\n",
            "\n",
            "======================================================\n",
            "Train confusion matrix: \n",
            " [[2425  417]\n",
            " [ 920 1922]]\n",
            "Test confusion matrix: \n",
            " [[501 211]\n",
            " [ 58 654]]\n"
          ]
        },
        {
          "output_type": "display_data",
          "data": {
            "image/png": "[encoded data removed]",
            "text/plain": [
              "<Figure size 576x216 with 4 Axes>"
            ]
          },
          "metadata": {
            "needs_background": "light"
          }
        }
      ]
    },
    {
      "cell_type": "markdown",
      "source": [
        "### **=============================================================**"
      ],
      "metadata": {
        "id": "jS0XabBYDUPU"
      }
    },
    {
      "cell_type": "markdown",
      "source": [
        "### **b.iv) Implementing Descision Tree Classification**"
      ],
      "metadata": {
        "id": "EZ6n1_gDDaQ4"
      }
    },
    {
      "cell_type": "markdown",
      "source": [
        "Here we will implement the decision Tree classifier"
      ],
      "metadata": {
        "id": "AxdJR0K4F7XF"
      }
    },
    {
      "cell_type": "code",
      "source": [
        "#import the decision tree from scikit learn \n",
        "from sklearn import tree \n",
        "\n",
        "#copy some variable for SVM perspective\n",
        "train_label= y_train_smote.copy()\n",
        "train_features = X_train_smote.copy()\n",
        "test_features = X_test_smote.copy()\n",
        "test_label = y_test_smote.copy()\n",
        "num_train = n_train_smote\n",
        "num_test = n_test_smote\n",
        "\n",
        "train_label = train_label.to_frame(name='spam')\n",
        "test_label = test_label.to_frame(name='spam')\n",
        "\n",
        "train_label = train_label.to_numpy()\n",
        "train_features = train_features.to_numpy()\n",
        "test_features= test_features.to_numpy()\n",
        "test_label = test_label.to_numpy()\n",
        "\n",
        "print('train_label:', train_label.shape, 'Type: ', type(train_label))\n",
        "print('train_features:', train_features.shape ,'Type: ',  type(train_features))\n",
        "print('test_features:', test_features.shape ,'Type: ',  type(test_features))\n",
        "print('test_label:', test_label.shape,'Type: ',  type(test_label))"
      ],
      "metadata": {
        "id": "m1w2F5fNG4M2",
        "colab": {
          "base_uri": "https://localhost:8080/"
        },
        "outputId": "67e35c99-21d2-4e19-e0cc-10084b94c06f"
      },
      "execution_count": 359,
      "outputs": [
        {
          "output_type": "stream",
          "name": "stdout",
          "text": [
            "train_label: (5684, 1) Type:  <class 'numpy.ndarray'>\n",
            "train_features: (5684, 19) Type:  <class 'numpy.ndarray'>\n",
            "test_features: (1424, 19) Type:  <class 'numpy.ndarray'>\n",
            "test_label: (1424, 1) Type:  <class 'numpy.ndarray'>\n"
          ]
        }
      ]
    },
    {
      "cell_type": "code",
      "source": [
        "#Lets tune the best depth by tuning some hyperparameter\n",
        "criteria = ['entropy', 'gini']\n",
        "max_depth = np.array([1,2,3,5,10,15,20,25])\n",
        "best_depth = {}\n",
        "cv_k = 5 #5-fold cross validation\n",
        "for criterion in criteria:\n",
        "  avg_score = np.zeros(len(max_depth))\n",
        "  \n",
        "  for depth in max_depth:\n",
        "    clf_dt = tree.DecisionTreeClassifier(criterion=criterion, max_depth=depth, random_state=0)\n",
        "    scores = cross_val_score(clf_dt, train_features , train_label.ravel(), cv=cv_k) \n",
        "    \n",
        "    avg_score[np.where(max_depth==depth)] = np.mean(scores)\n",
        "\n",
        "  print('Criterion:', criterion)\n",
        "  print ('Avg score',avg_score)\n",
        "  max_score_index = np.argmax(avg_score)\n",
        "  \n",
        "  best_depth[criterion] = max_depth[int(max_score_index)]\n",
        "\n",
        "print ('Best tree depth = ', best_depth)"
      ],
      "metadata": {
        "colab": {
          "base_uri": "https://localhost:8080/"
        },
        "id": "7ZfLhhGYY8cq",
        "outputId": "c89ba72c-73df-479a-c5f7-a9e077bbc4b3"
      },
      "execution_count": 398,
      "outputs": [
        {
          "output_type": "stream",
          "name": "stdout",
          "text": [
            "Criterion: entropy\n",
            "Avg score [0.64689819 0.76424787 0.84306304 0.86558261 0.89144648 0.91642898\n",
            " 0.91871508 0.91818738]\n",
            "Criterion: gini\n",
            "Avg score [0.71463451 0.81016714 0.83725721 0.86030386 0.89373304 0.91114884\n",
            " 0.91466703 0.91255652]\n",
            "Best tree depth =  {'entropy': 20, 'gini': 20}\n"
          ]
        }
      ]
    },
    {
      "cell_type": "code",
      "source": [
        "clf = tree.DecisionTreeClassifier(criterion='entropy',max_depth=20)\n",
        "#train using decision tree classifier and plot the resultant decision tree\n",
        "# tree.plot_tree(clf.fit(train_features, train_label))  "
      ],
      "metadata": {
        "id": "4CBknsjOHDMl"
      },
      "execution_count": 399,
      "outputs": []
    },
    {
      "cell_type": "code",
      "source": [
        "#Get the trained model in clf_model\n",
        "clf_model = clf.fit(train_features,train_label)\n",
        "#We will now use the trained model for predition on the test data set\n",
        "predicted_test_labels = clf_model.predict(test_features)\n",
        "\n",
        "#reshaping predicted_labels so that it is of the same shape as test_label\n",
        "predicted_test_labels = np.reshape(predicted_test_labels.data,(num_test,1))\n",
        "#If you wish to see how predicted_labels and test_label look, you can print them and check\n",
        "#print(predicted_test_labels)"
      ],
      "metadata": {
        "id": "26uw40URHVXi"
      },
      "execution_count": 400,
      "outputs": []
    },
    {
      "cell_type": "code",
      "source": [
        "#We can also use the trained model clf_model to predict the train set \n",
        "predicted_train_labels = clf_model.predict(train_features)\n",
        "#reshaping predicted_train_labels so that it is of the same shape as train_label\n",
        "predicted_train_labels = np.reshape(predicted_train_labels.data,(num_train,1))\n",
        "#compute train set error and train set accuracy \n",
        "train_error = np.sum(0.5*np.abs(predicted_train_labels-train_label))/len(train_label)*100.0\n",
        "train_accuracy = 100.0-train_error \n",
        "#print the test set accuracy \n",
        "print('Train set accuracy:', train_accuracy)"
      ],
      "metadata": {
        "id": "EJQvDC7hHl-n",
        "colab": {
          "base_uri": "https://localhost:8080/"
        },
        "outputId": "5cac5d75-c6c9-47b2-eca2-ca53381d7c5b"
      },
      "execution_count": 401,
      "outputs": [
        {
          "output_type": "stream",
          "name": "stdout",
          "text": [
            "Train set accuracy: 99.75369458128078\n"
          ]
        }
      ]
    },
    {
      "cell_type": "code",
      "source": [
        "#compute test set error and test set accuracy \n",
        "test_error = np.sum(0.5*np.abs(predicted_test_labels-test_label))/len(test_label)*100.0#Try to understand this equation\n",
        "test_accuracy = 100.0-test_error \n",
        "#print the test set accuracy \n",
        "print('Test set accuracy:', test_accuracy)"
      ],
      "metadata": {
        "id": "I1WbAdUUHeqB",
        "colab": {
          "base_uri": "https://localhost:8080/"
        },
        "outputId": "b589d00e-389b-4a30-8781-000895799565"
      },
      "execution_count": 402,
      "outputs": [
        {
          "output_type": "stream",
          "name": "stdout",
          "text": [
            "Test set accuracy: 92.13483146067416\n"
          ]
        }
      ]
    },
    {
      "cell_type": "code",
      "source": [
        "print('Decision Tree Statistics: \\n')\n",
        "print_classification_report(train_label, predicted_train_labels,test_label, predicted_test_labels)\n",
        "plot_confusion_matrix(train_label, predicted_train_labels,test_label, predicted_test_labels)\n"
      ],
      "metadata": {
        "id": "cZ4mVDj5IPuA",
        "colab": {
          "base_uri": "https://localhost:8080/",
          "height": 771
        },
        "outputId": "45f3b4cb-7ce3-44bc-f6c7-d584423c0070"
      },
      "execution_count": 403,
      "outputs": [
        {
          "output_type": "stream",
          "name": "stdout",
          "text": [
            "Decision Tree Statistics: \n",
            "\n",
            "======================================================\n",
            "Train Classification Report:\n",
            "              precision    recall  f1-score   support\n",
            "\n",
            "           0       1.00      0.99      1.00      2842\n",
            "           1       0.99      1.00      1.00      2842\n",
            "\n",
            "    accuracy                           1.00      5684\n",
            "   macro avg       1.00      1.00      1.00      5684\n",
            "weighted avg       1.00      1.00      1.00      5684\n",
            "\n",
            "======================================================\n",
            "Test Classification Report:\n",
            "              precision    recall  f1-score   support\n",
            "\n",
            "           0       0.80      0.92      0.85       712\n",
            "           1       0.90      0.77      0.83       712\n",
            "\n",
            "    accuracy                           0.84      1424\n",
            "   macro avg       0.85      0.84      0.84      1424\n",
            "weighted avg       0.85      0.84      0.84      1424\n",
            "\n",
            "======================================================\n",
            "Train confusion matrix: \n",
            " [[2823   19]\n",
            " [   9 2833]]\n",
            "Test confusion matrix: \n",
            " [[652  60]\n",
            " [164 548]]\n"
          ]
        },
        {
          "output_type": "display_data",
          "data": {
            "image/png": "[encoded data removed]",
            "text/plain": [
              "<Figure size 576x216 with 4 Axes>"
            ]
          },
          "metadata": {
            "needs_background": "light"
          }
        }
      ]
    },
    {
      "cell_type": "markdown",
      "source": [
        "### **=============================================================**"
      ],
      "metadata": {
        "id": "VNQisvCJKdaz"
      }
    },
    {
      "cell_type": "markdown",
      "source": [
        "### **b.v) Implementing Random Forest Classification**"
      ],
      "metadata": {
        "id": "BFvj5BoIKda1"
      }
    },
    {
      "cell_type": "code",
      "source": [
        "X_train = X_train_smote.copy()\n",
        "y_train = y_train_smote.copy()\n",
        "X_test = X_test_smote.copy()\n",
        "y_test = y_test_smote.copy()\n",
        "\n",
        "print('shape of train data features:',X_train.shape)\n",
        "print('shape of train data labels',y_train.shape)\n",
        "print('shape of test data features:',X_test.shape)\n",
        "print('shape of test data labels', y_test.shape)\n",
        "\n",
        "num_features = X_train.shape[1]\n",
        "print('No of Feature:', num_features)"
      ],
      "metadata": {
        "id": "BXJ_edp1wZFK",
        "colab": {
          "base_uri": "https://localhost:8080/"
        },
        "outputId": "0e5bcd18-7e5b-478c-d109-731d0216e26d"
      },
      "execution_count": 408,
      "outputs": [
        {
          "output_type": "stream",
          "name": "stdout",
          "text": [
            "shape of train data features: (5684, 19)\n",
            "shape of train data labels (5684,)\n",
            "shape of test data features: (1424, 19)\n",
            "shape of test data labels (1424,)\n",
            "No of Feature: 19\n"
          ]
        }
      ]
    },
    {
      "cell_type": "code",
      "source": [
        "#Let us now use cross validation to find random forest hyperparameters.\n",
        "# We will first find best max depths for a given set of estimators\n",
        "from sklearn.ensemble import RandomForestClassifier\n",
        "from sklearn.model_selection import cross_val_score\n",
        "import math\n",
        "import numpy as np\n",
        "\n",
        "num_features = X_train.shape[1]\n",
        "estimators = [5, 10,50,100,150,200]\n",
        "constant = math.sqrt(num_features)\n",
        "max_depth = constant*np.array([0.25,0.5, 0.75,1,1.25,1.50,1.75,2])\n",
        "max_depth = np.ceil(max_depth)\n",
        "print ('maximum depth', max_depth)\n",
        "best_depth = {}\n",
        "cv_k = 5 #5-fold cross validation\n",
        "for n_estimate in estimators:\n",
        "  avg_score = np.zeros(len(max_depth))\n",
        "  # print (avg_score)\n",
        "  for depth in max_depth:\n",
        "    clf_rf = RandomForestClassifier(n_estimators = n_estimate,max_depth = depth,  random_state=0)\n",
        "    scores = cross_val_score(clf_rf, X_train, y_train.ravel(), cv=cv_k) \n",
        "    # print ('scores',scores)\n",
        "    avg_score[np.where(max_depth==depth)] = np.mean(scores)\n",
        "\n",
        "  # print ('avg score',avg_score)\n",
        "  max_score_index = np.argmax(avg_score)\n",
        "  # print (max_score_index)\n",
        "  best_depth[n_estimate] = max_depth[int(max_score_index)]\n",
        "\n",
        "print ('maximum depth = ', best_depth)"
      ],
      "metadata": {
        "id": "F4kcNougwtPI",
        "colab": {
          "base_uri": "https://localhost:8080/"
        },
        "outputId": "5c33857b-e673-43fe-9f0b-594038528269"
      },
      "execution_count": 419,
      "outputs": [
        {
          "output_type": "stream",
          "name": "stdout",
          "text": [
            "maximum depth [2. 3. 4. 5. 6. 7. 8. 9.]\n",
            "maximum depth =  {5: 9.0, 10: 9.0, 50: 9.0, 100: 9.0, 150: 9.0, 200: 9.0}\n"
          ]
        }
      ]
    },
    {
      "cell_type": "code",
      "source": [
        "## Now let's find the number of estimators\n",
        "avg_score = np.zeros(len(estimators))\n",
        "# print (estimators)\n",
        "for n_estimate in estimators:\n",
        "    depth = best_depth[n_estimate]\n",
        "    clf_rf = RandomForestClassifier(n_estimators = n_estimate,max_depth = depth,  random_state=0)\n",
        "    scores = cross_val_score(clf_rf, X_train, y_train.ravel(), cv=cv_k) \n",
        "    avg_score[estimators.index(n_estimate)] = np.mean(scores)\n",
        "\n",
        "print ('avg score =',avg_score)\n",
        "max_score_index = np.argmax(avg_score)\n",
        "best_estimator = estimators[max_score_index]\n",
        "best_max_depth = best_depth[best_estimator]\n",
        "print ('Number of estimators = ',best_estimator)\n",
        "print ('maximum depth =',best_max_depth)"
      ],
      "metadata": {
        "id": "rCApyYNRxrmp",
        "colab": {
          "base_uri": "https://localhost:8080/"
        },
        "outputId": "677396a0-8357-4e79-a727-31f6bd1c56fe"
      },
      "execution_count": 420,
      "outputs": [
        {
          "output_type": "stream",
          "name": "stdout",
          "text": [
            "avg score = [0.89127089 0.89567013 0.89918677 0.89918599 0.8990104  0.89830679]\n",
            "Number of estimators =  50\n",
            "maximum depth = 9.0\n"
          ]
        }
      ]
    },
    {
      "cell_type": "code",
      "source": [
        "# train and test accuracy using random forest classifier\n",
        "from sklearn.metrics import accuracy_score\n",
        "clf_rf = RandomForestClassifier(n_estimators = best_estimator,max_depth = best_max_depth,  random_state=0)\n",
        "clf_model = clf_rf.fit(X_train, y_train)\n",
        "train_y_predicted = clf_model.predict(X_train)\n",
        "train_acc_rf = accuracy_score(y_train, train_y_predicted)\n",
        "test_y_predicted = clf_model.predict(X_test)\n",
        "test_acc_rf = accuracy_score(y_test, test_y_predicted)\n",
        "print('Train accuracy from Random forest:', train_acc_rf)\n",
        "print('Test accuracy from Random forest:', test_acc_rf)"
      ],
      "metadata": {
        "id": "hibB7NGStkZz",
        "colab": {
          "base_uri": "https://localhost:8080/"
        },
        "outputId": "0fbd4a3e-5f40-4899-d161-7631c4ed60c2"
      },
      "execution_count": 421,
      "outputs": [
        {
          "output_type": "stream",
          "name": "stdout",
          "text": [
            "Train accuracy from Random forest: 0.9108022519352569\n",
            "Test accuracy from Random forest: 0.8658707865168539\n"
          ]
        }
      ]
    },
    {
      "cell_type": "code",
      "source": [
        "## We will first find the appropriate max depth of decision tree using cross validation.\n",
        "from sklearn import tree #decision tree from scikit learn \n",
        "\n",
        "avg_score = np.zeros(len(max_depth))\n",
        "for depth in max_depth:\n",
        "    clf = tree.DecisionTreeClassifier(criterion='entropy',max_depth=depth)\n",
        "    scores = cross_val_score(clf, X_train, y_train, cv=cv_k) \n",
        "    avg_score[np.where(max_depth == depth)] = np.mean(scores)\n",
        "\n",
        "print ('avg score =',avg_score)\n",
        "max_score_index = np.argmax(avg_score)\n",
        "best_max_depth = max_depth[max_score_index]\n",
        "print ('maximum depth =',best_max_depth)"
      ],
      "metadata": {
        "id": "l1AilQy45Sb8",
        "colab": {
          "base_uri": "https://localhost:8080/"
        },
        "outputId": "5c833aea-e03e-4bd4-c3f5-1db68de7956e"
      },
      "execution_count": 422,
      "outputs": [
        {
          "output_type": "stream",
          "name": "stdout",
          "text": [
            "avg score = [0.76424787 0.84306304 0.86083234 0.86558261 0.86628591 0.87649083\n",
            " 0.88493673 0.88652   ]\n",
            "maximum depth = 9.0\n"
          ]
        }
      ]
    },
    {
      "cell_type": "code",
      "source": [
        "# train and test accuracy using decision tree\n",
        "\n",
        "clf = tree.DecisionTreeClassifier(criterion='entropy',max_depth=best_max_depth)\n",
        "clf_model = clf.fit(X_train, y_train)\n",
        "train_y_predicted = clf_model.predict(X_train)\n",
        "train_acc = accuracy_score(y_train, train_y_predicted)\n",
        "test_y_predicted = clf_model.predict(X_test)\n",
        "test_acc = accuracy_score(y_test, test_y_predicted)\n",
        "print('Train accuracy from decision tree:', train_acc)\n",
        "print('Test accuracy from decision tree:', test_acc)\n",
        "print ('##############')\n",
        "print('Train accuracy from Random forest:', train_acc_rf)\n",
        "print('Test accuracy from Random forest:', test_acc_rf)"
      ],
      "metadata": {
        "id": "B2GDzu-25goF",
        "colab": {
          "base_uri": "https://localhost:8080/"
        },
        "outputId": "6a7b0dcb-d12d-4971-f45b-6f03f6b6585c"
      },
      "execution_count": 423,
      "outputs": [
        {
          "output_type": "stream",
          "name": "stdout",
          "text": [
            "Train accuracy from decision tree: 0.9046446164672766\n",
            "Test accuracy from decision tree: 0.8307584269662921\n",
            "##############\n",
            "Train accuracy from Random forest: 0.9108022519352569\n",
            "Test accuracy from Random forest: 0.8658707865168539\n"
          ]
        }
      ]
    },
    {
      "cell_type": "code",
      "source": [
        "print('Random Forest Classifier Statistics:\\n')\n",
        "print_classification_report(y_train,train_y_predicted,y_test,test_y_predicted)\n",
        "plot_confusion_matrix(y_train,train_y_predicted,y_test,test_y_predicted)"
      ],
      "metadata": {
        "id": "U99oGIsf5zla",
        "colab": {
          "base_uri": "https://localhost:8080/",
          "height": 771
        },
        "outputId": "c05ee81c-29aa-445d-e52d-180e22ccc29d"
      },
      "execution_count": 424,
      "outputs": [
        {
          "output_type": "stream",
          "name": "stdout",
          "text": [
            "Random Forest Classifier Statistics:\n",
            "\n",
            "======================================================\n",
            "Train Classification Report:\n",
            "              precision    recall  f1-score   support\n",
            "\n",
            "           0       0.93      0.87      0.90      2842\n",
            "           1       0.88      0.94      0.91      2842\n",
            "\n",
            "    accuracy                           0.90      5684\n",
            "   macro avg       0.91      0.90      0.90      5684\n",
            "weighted avg       0.91      0.90      0.90      5684\n",
            "\n",
            "======================================================\n",
            "Test Classification Report:\n",
            "              precision    recall  f1-score   support\n",
            "\n",
            "           0       0.84      0.82      0.83       712\n",
            "           1       0.83      0.84      0.83       712\n",
            "\n",
            "    accuracy                           0.83      1424\n",
            "   macro avg       0.83      0.83      0.83      1424\n",
            "weighted avg       0.83      0.83      0.83      1424\n",
            "\n",
            "======================================================\n",
            "Train confusion matrix: \n",
            " [[2484  358]\n",
            " [ 184 2658]]\n",
            "Test confusion matrix: \n",
            " [[586 126]\n",
            " [115 597]]\n"
          ]
        },
        {
          "output_type": "display_data",
          "data": {
            "image/png": "[encoded data removed]",
            "text/plain": [
              "<Figure size 576x216 with 4 Axes>"
            ]
          },
          "metadata": {
            "needs_background": "light"
          }
        }
      ]
    },
    {
      "cell_type": "markdown",
      "source": [
        "### **=============================================================**"
      ],
      "metadata": {
        "id": "fdI8QmnR90Ga"
      }
    },
    {
      "cell_type": "markdown",
      "source": [
        "### **b.vi) Implementing Kernel Machine Classification**"
      ],
      "metadata": {
        "id": "poqP7rPk90Gb"
      }
    },
    {
      "cell_type": "markdown",
      "source": [
        "To train the kernel SVM, we use the same SVC class of the Scikit-Learn's svm library. The difference lies in the value for the kernel parameter of the SVC class. In the case of the simple SVM we used \"linear\" as the value for the kernel parameter. However, for kernel SVM you can use Gaussian, polynomial, sigmoid, or computable kernel. We will implement polynomial, Gaussian, and sigmoid kernels to see which one works better for our problem."
      ],
      "metadata": {
        "id": "OjYHeZFnGDtb"
      }
    },
    {
      "cell_type": "code",
      "source": [
        "from sklearn.svm import SVC\n",
        "svclassifier = SVC(kernel='poly', degree=3)\n",
        "svclassifier.fit(X_train, y_train)"
      ],
      "metadata": {
        "id": "mI7YIReGGRIX",
        "colab": {
          "base_uri": "https://localhost:8080/"
        },
        "outputId": "450bef27-3e0a-4e37-da1c-5a1730a8560d"
      },
      "execution_count": 332,
      "outputs": [
        {
          "output_type": "execute_result",
          "data": {
            "text/plain": [
              "SVC(kernel='poly')"
            ]
          },
          "metadata": {},
          "execution_count": 332
        }
      ]
    },
    {
      "cell_type": "code",
      "source": [
        "y_pred = svclassifier.predict(X_test)"
      ],
      "metadata": {
        "id": "vmrZkY-DHIkr"
      },
      "execution_count": 333,
      "outputs": []
    },
    {
      "cell_type": "code",
      "source": [
        "from sklearn.metrics import classification_report, confusion_matrix\n",
        "print(confusion_matrix(y_test, y_pred))\n",
        "print(classification_report(y_test, y_pred))"
      ],
      "metadata": {
        "id": "IzL7f-TTHQed",
        "colab": {
          "base_uri": "https://localhost:8080/"
        },
        "outputId": "0a32bb40-a166-4152-97f4-1f946fa9e79b"
      },
      "execution_count": 334,
      "outputs": [
        {
          "output_type": "stream",
          "name": "stdout",
          "text": [
            "[[712   0]\n",
            " [ 73   0]]\n",
            "              precision    recall  f1-score   support\n",
            "\n",
            "           0       0.91      1.00      0.95       712\n",
            "           1       0.00      0.00      0.00        73\n",
            "\n",
            "    accuracy                           0.91       785\n",
            "   macro avg       0.45      0.50      0.48       785\n",
            "weighted avg       0.82      0.91      0.86       785\n",
            "\n"
          ]
        },
        {
          "output_type": "stream",
          "name": "stderr",
          "text": [
            "/usr/local/lib/python3.7/dist-packages/sklearn/metrics/_classification.py:1318: UndefinedMetricWarning: Precision and F-score are ill-defined and being set to 0.0 in labels with no predicted samples. Use `zero_division` parameter to control this behavior.\n",
            "  _warn_prf(average, modifier, msg_start, len(result))\n",
            "/usr/local/lib/python3.7/dist-packages/sklearn/metrics/_classification.py:1318: UndefinedMetricWarning: Precision and F-score are ill-defined and being set to 0.0 in labels with no predicted samples. Use `zero_division` parameter to control this behavior.\n",
            "  _warn_prf(average, modifier, msg_start, len(result))\n",
            "/usr/local/lib/python3.7/dist-packages/sklearn/metrics/_classification.py:1318: UndefinedMetricWarning: Precision and F-score are ill-defined and being set to 0.0 in labels with no predicted samples. Use `zero_division` parameter to control this behavior.\n",
            "  _warn_prf(average, modifier, msg_start, len(result))\n"
          ]
        }
      ]
    },
    {
      "cell_type": "code",
      "source": [
        "#Implement Gaussian Kernel\n",
        "from sklearn.svm import SVC\n",
        "svclassifier = SVC(kernel='rbf')\n",
        "svclassifier.fit(X_train, y_train)"
      ],
      "metadata": {
        "id": "IiM02OXKHT0l",
        "colab": {
          "base_uri": "https://localhost:8080/"
        },
        "outputId": "46693b20-e83d-4d2c-8588-ed64c295aa27"
      },
      "execution_count": 335,
      "outputs": [
        {
          "output_type": "execute_result",
          "data": {
            "text/plain": [
              "SVC()"
            ]
          },
          "metadata": {},
          "execution_count": 335
        }
      ]
    },
    {
      "cell_type": "code",
      "source": [
        "y_pred = svclassifier.predict(X_test)"
      ],
      "metadata": {
        "id": "Aawh2feeHk0L"
      },
      "execution_count": 336,
      "outputs": []
    },
    {
      "cell_type": "code",
      "source": [
        "from sklearn.metrics import classification_report, confusion_matrix\n",
        "print(confusion_matrix(y_test, y_pred))\n",
        "print(classification_report(y_test, y_pred))"
      ],
      "metadata": {
        "id": "ecL-kPE9HmoJ",
        "colab": {
          "base_uri": "https://localhost:8080/"
        },
        "outputId": "647fdaec-9a6b-4949-deff-a3d8aa036b1b"
      },
      "execution_count": 337,
      "outputs": [
        {
          "output_type": "stream",
          "name": "stdout",
          "text": [
            "[[712   0]\n",
            " [ 73   0]]\n",
            "              precision    recall  f1-score   support\n",
            "\n",
            "           0       0.91      1.00      0.95       712\n",
            "           1       0.00      0.00      0.00        73\n",
            "\n",
            "    accuracy                           0.91       785\n",
            "   macro avg       0.45      0.50      0.48       785\n",
            "weighted avg       0.82      0.91      0.86       785\n",
            "\n"
          ]
        },
        {
          "output_type": "stream",
          "name": "stderr",
          "text": [
            "/usr/local/lib/python3.7/dist-packages/sklearn/metrics/_classification.py:1318: UndefinedMetricWarning: Precision and F-score are ill-defined and being set to 0.0 in labels with no predicted samples. Use `zero_division` parameter to control this behavior.\n",
            "  _warn_prf(average, modifier, msg_start, len(result))\n",
            "/usr/local/lib/python3.7/dist-packages/sklearn/metrics/_classification.py:1318: UndefinedMetricWarning: Precision and F-score are ill-defined and being set to 0.0 in labels with no predicted samples. Use `zero_division` parameter to control this behavior.\n",
            "  _warn_prf(average, modifier, msg_start, len(result))\n",
            "/usr/local/lib/python3.7/dist-packages/sklearn/metrics/_classification.py:1318: UndefinedMetricWarning: Precision and F-score are ill-defined and being set to 0.0 in labels with no predicted samples. Use `zero_division` parameter to control this behavior.\n",
            "  _warn_prf(average, modifier, msg_start, len(result))\n"
          ]
        }
      ]
    },
    {
      "cell_type": "code",
      "source": [
        "#implement Sigmoid Kernel\n",
        "from sklearn.svm import SVC\n",
        "svclassifier = SVC(kernel='sigmoid')\n",
        "svclassifier.fit(X_train, y_train)"
      ],
      "metadata": {
        "id": "ykiW24XjHvzP",
        "colab": {
          "base_uri": "https://localhost:8080/"
        },
        "outputId": "1de77f10-db1e-4c24-81ab-0d531aace0c0"
      },
      "execution_count": 338,
      "outputs": [
        {
          "output_type": "execute_result",
          "data": {
            "text/plain": [
              "SVC(kernel='sigmoid')"
            ]
          },
          "metadata": {},
          "execution_count": 338
        }
      ]
    },
    {
      "cell_type": "code",
      "source": [
        "y_pred = svclassifier.predict(X_test)"
      ],
      "metadata": {
        "id": "NP5CQ9BgH4NK"
      },
      "execution_count": 339,
      "outputs": []
    },
    {
      "cell_type": "code",
      "source": [
        "from sklearn.metrics import classification_report, confusion_matrix\n",
        "print(confusion_matrix(y_test, y_pred))\n",
        "print(classification_report(y_test, y_pred))"
      ],
      "metadata": {
        "id": "TB4_BtsEH6V-",
        "colab": {
          "base_uri": "https://localhost:8080/"
        },
        "outputId": "a06ca55f-dc8c-495b-a517-3b7c39135f64"
      },
      "execution_count": 340,
      "outputs": [
        {
          "output_type": "stream",
          "name": "stdout",
          "text": [
            "[[712   0]\n",
            " [ 73   0]]\n",
            "              precision    recall  f1-score   support\n",
            "\n",
            "           0       0.91      1.00      0.95       712\n",
            "           1       0.00      0.00      0.00        73\n",
            "\n",
            "    accuracy                           0.91       785\n",
            "   macro avg       0.45      0.50      0.48       785\n",
            "weighted avg       0.82      0.91      0.86       785\n",
            "\n"
          ]
        },
        {
          "output_type": "stream",
          "name": "stderr",
          "text": [
            "/usr/local/lib/python3.7/dist-packages/sklearn/metrics/_classification.py:1318: UndefinedMetricWarning: Precision and F-score are ill-defined and being set to 0.0 in labels with no predicted samples. Use `zero_division` parameter to control this behavior.\n",
            "  _warn_prf(average, modifier, msg_start, len(result))\n",
            "/usr/local/lib/python3.7/dist-packages/sklearn/metrics/_classification.py:1318: UndefinedMetricWarning: Precision and F-score are ill-defined and being set to 0.0 in labels with no predicted samples. Use `zero_division` parameter to control this behavior.\n",
            "  _warn_prf(average, modifier, msg_start, len(result))\n",
            "/usr/local/lib/python3.7/dist-packages/sklearn/metrics/_classification.py:1318: UndefinedMetricWarning: Precision and F-score are ill-defined and being set to 0.0 in labels with no predicted samples. Use `zero_division` parameter to control this behavior.\n",
            "  _warn_prf(average, modifier, msg_start, len(result))\n"
          ]
        }
      ]
    }
  ]
}