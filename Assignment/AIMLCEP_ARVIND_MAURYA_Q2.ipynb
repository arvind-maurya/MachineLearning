{
  "nbformat": 4,
  "nbformat_minor": 0,
  "metadata": {
    "colab": {
      "name": "AIMLCEP_ARVIND_MAURYA_Q2.ipynb",
      "provenance": [],
      "collapsed_sections": [],
      "include_colab_link": true
    },
    "kernelspec": {
      "name": "python3",
      "display_name": "Python 3"
    },
    "language_info": {
      "name": "python"
    }
  },
  "cells": [
    {
      "cell_type": "markdown",
      "metadata": {
        "id": "view-in-github",
        "colab_type": "text"
      },
      "source": [
        "<a href=\"https://colab.research.google.com/github/arvind-maurya/MachineLearning/blob/master/Assignment/AIMLCEP_ARVIND_MAURYA_Q2.ipynb\" target=\"_parent\"><img src=\"https://colab.research.google.com/assets/colab-badge.svg\" alt=\"Open In Colab\"/></a>"
      ]
    },
    {
      "cell_type": "markdown",
      "source": [
        "### **(a) [C, R] Some of the attributes in the data set are text data. Use a suitable procedure to convert them into suitable numerical representations in the training data and test data. Explain the procedure you used for the conversion.**"
      ],
      "metadata": {
        "id": "mg_9asMPALSY"
      }
    },
    {
      "cell_type": "markdown",
      "metadata": {
        "id": "ksFVSACCq3wP"
      },
      "source": [
        "In this session, we shall apply logistic regression and look at predictions using it."
      ]
    },
    {
      "cell_type": "code",
      "metadata": {
        "id": "cArLwvFdqyLV"
      },
      "source": [
        "#First, we import the required packages\n",
        "import pandas as pd #the pandas library is useful for data processing \n",
        "import numpy as np #numpy package will be useful for numerical computations\n",
        "import matplotlib.pyplot as plt #the matplotlib library is useful for plotting purposes\n",
        "\n",
        "# The following python directive helps to plot the graph in the notebook directly\n",
        "%matplotlib inline"
      ],
      "execution_count": 206,
      "outputs": []
    },
    {
      "cell_type": "markdown",
      "metadata": {
        "id": "imSI5BjGrNMW"
      },
      "source": [
        "Now let us load the Q2 Classification train data"
      ]
    },
    {
      "cell_type": "code",
      "metadata": {
        "colab": {
          "base_uri": "https://localhost:8080/",
          "height": 250
        },
        "id": "pdpI4baerHDw",
        "outputId": "1a532b73-6305-45d1-c083-798a4334ee31"
      },
      "source": [
        "spam_class_train_data = pd.read_excel('https://github.com/arvind-maurya/MachineLearning/blob/master/Assignment/Q2/Q2_classification_train.xlsx?raw=true', index_col=False, header=0)\n",
        "\n",
        "#print the first few rows of the data \n",
        "spam_class_train_data.head()"
      ],
      "execution_count": 207,
      "outputs": [
        {
          "output_type": "execute_result",
          "data": {
            "text/html": [
              "\n",
              "  <div id=\"df-7b5830e7-8eae-4dc5-b9eb-ecdcb26551e6\">\n",
              "    <div class=\"colab-df-container\">\n",
              "      <div>\n",
              "<style scoped>\n",
              "    .dataframe tbody tr th:only-of-type {\n",
              "        vertical-align: middle;\n",
              "    }\n",
              "\n",
              "    .dataframe tbody tr th {\n",
              "        vertical-align: top;\n",
              "    }\n",
              "\n",
              "    .dataframe thead th {\n",
              "        text-align: right;\n",
              "    }\n",
              "</style>\n",
              "<table border=\"1\" class=\"dataframe\">\n",
              "  <thead>\n",
              "    <tr style=\"text-align: right;\">\n",
              "      <th></th>\n",
              "      <th>spam</th>\n",
              "      <th>to_multiple</th>\n",
              "      <th>from</th>\n",
              "      <th>cc</th>\n",
              "      <th>sent_email</th>\n",
              "      <th>image</th>\n",
              "      <th>attach</th>\n",
              "      <th>dollar</th>\n",
              "      <th>winner</th>\n",
              "      <th>inherit</th>\n",
              "      <th>viagra</th>\n",
              "      <th>password</th>\n",
              "      <th>num_char</th>\n",
              "      <th>line_breaks</th>\n",
              "      <th>format</th>\n",
              "      <th>re_subj</th>\n",
              "      <th>exclaim_subj</th>\n",
              "      <th>urgent_subj</th>\n",
              "      <th>exclaim_mess</th>\n",
              "      <th>number</th>\n",
              "    </tr>\n",
              "  </thead>\n",
              "  <tbody>\n",
              "    <tr>\n",
              "      <th>0</th>\n",
              "      <td>0</td>\n",
              "      <td>0</td>\n",
              "      <td>1</td>\n",
              "      <td>0</td>\n",
              "      <td>0</td>\n",
              "      <td>0</td>\n",
              "      <td>0</td>\n",
              "      <td>0</td>\n",
              "      <td>no</td>\n",
              "      <td>0</td>\n",
              "      <td>0</td>\n",
              "      <td>0</td>\n",
              "      <td>11.370</td>\n",
              "      <td>202</td>\n",
              "      <td>1</td>\n",
              "      <td>0</td>\n",
              "      <td>0</td>\n",
              "      <td>0</td>\n",
              "      <td>0</td>\n",
              "      <td>big</td>\n",
              "    </tr>\n",
              "    <tr>\n",
              "      <th>1</th>\n",
              "      <td>0</td>\n",
              "      <td>0</td>\n",
              "      <td>1</td>\n",
              "      <td>0</td>\n",
              "      <td>0</td>\n",
              "      <td>0</td>\n",
              "      <td>0</td>\n",
              "      <td>0</td>\n",
              "      <td>no</td>\n",
              "      <td>0</td>\n",
              "      <td>0</td>\n",
              "      <td>0</td>\n",
              "      <td>10.504</td>\n",
              "      <td>202</td>\n",
              "      <td>1</td>\n",
              "      <td>0</td>\n",
              "      <td>0</td>\n",
              "      <td>0</td>\n",
              "      <td>1</td>\n",
              "      <td>small</td>\n",
              "    </tr>\n",
              "    <tr>\n",
              "      <th>2</th>\n",
              "      <td>0</td>\n",
              "      <td>0</td>\n",
              "      <td>1</td>\n",
              "      <td>0</td>\n",
              "      <td>0</td>\n",
              "      <td>0</td>\n",
              "      <td>0</td>\n",
              "      <td>0</td>\n",
              "      <td>no</td>\n",
              "      <td>0</td>\n",
              "      <td>0</td>\n",
              "      <td>0</td>\n",
              "      <td>13.256</td>\n",
              "      <td>255</td>\n",
              "      <td>1</td>\n",
              "      <td>0</td>\n",
              "      <td>0</td>\n",
              "      <td>0</td>\n",
              "      <td>48</td>\n",
              "      <td>small</td>\n",
              "    </tr>\n",
              "    <tr>\n",
              "      <th>3</th>\n",
              "      <td>0</td>\n",
              "      <td>0</td>\n",
              "      <td>1</td>\n",
              "      <td>0</td>\n",
              "      <td>0</td>\n",
              "      <td>0</td>\n",
              "      <td>0</td>\n",
              "      <td>0</td>\n",
              "      <td>no</td>\n",
              "      <td>0</td>\n",
              "      <td>0</td>\n",
              "      <td>2</td>\n",
              "      <td>1.231</td>\n",
              "      <td>29</td>\n",
              "      <td>0</td>\n",
              "      <td>0</td>\n",
              "      <td>0</td>\n",
              "      <td>0</td>\n",
              "      <td>1</td>\n",
              "      <td>none</td>\n",
              "    </tr>\n",
              "    <tr>\n",
              "      <th>4</th>\n",
              "      <td>0</td>\n",
              "      <td>0</td>\n",
              "      <td>1</td>\n",
              "      <td>0</td>\n",
              "      <td>0</td>\n",
              "      <td>0</td>\n",
              "      <td>0</td>\n",
              "      <td>0</td>\n",
              "      <td>no</td>\n",
              "      <td>0</td>\n",
              "      <td>0</td>\n",
              "      <td>2</td>\n",
              "      <td>1.091</td>\n",
              "      <td>25</td>\n",
              "      <td>0</td>\n",
              "      <td>0</td>\n",
              "      <td>0</td>\n",
              "      <td>0</td>\n",
              "      <td>1</td>\n",
              "      <td>none</td>\n",
              "    </tr>\n",
              "  </tbody>\n",
              "</table>\n",
              "</div>\n",
              "      <button class=\"colab-df-convert\" onclick=\"convertToInteractive('df-7b5830e7-8eae-4dc5-b9eb-ecdcb26551e6')\"\n",
              "              title=\"Convert this dataframe to an interactive table.\"\n",
              "              style=\"display:none;\">\n",
              "        \n",
              "  <svg xmlns=\"http://www.w3.org/2000/svg\" height=\"24px\"viewBox=\"0 0 24 24\"\n",
              "       width=\"24px\">\n",
              "    <path d=\"M0 0h24v24H0V0z\" fill=\"none\"/>\n",
              "    <path d=\"M18.56 5.44l.94 2.06.94-2.06 2.06-.94-2.06-.94-.94-2.06-.94 2.06-2.06.94zm-11 1L8.5 8.5l.94-2.06 2.06-.94-2.06-.94L8.5 2.5l-.94 2.06-2.06.94zm10 10l.94 2.06.94-2.06 2.06-.94-2.06-.94-.94-2.06-.94 2.06-2.06.94z\"/><path d=\"M17.41 7.96l-1.37-1.37c-.4-.4-.92-.59-1.43-.59-.52 0-1.04.2-1.43.59L10.3 9.45l-7.72 7.72c-.78.78-.78 2.05 0 2.83L4 21.41c.39.39.9.59 1.41.59.51 0 1.02-.2 1.41-.59l7.78-7.78 2.81-2.81c.8-.78.8-2.07 0-2.86zM5.41 20L4 18.59l7.72-7.72 1.47 1.35L5.41 20z\"/>\n",
              "  </svg>\n",
              "      </button>\n",
              "      \n",
              "  <style>\n",
              "    .colab-df-container {\n",
              "      display:flex;\n",
              "      flex-wrap:wrap;\n",
              "      gap: 12px;\n",
              "    }\n",
              "\n",
              "    .colab-df-convert {\n",
              "      background-color: #E8F0FE;\n",
              "      border: none;\n",
              "      border-radius: 50%;\n",
              "      cursor: pointer;\n",
              "      display: none;\n",
              "      fill: #1967D2;\n",
              "      height: 32px;\n",
              "      padding: 0 0 0 0;\n",
              "      width: 32px;\n",
              "    }\n",
              "\n",
              "    .colab-df-convert:hover {\n",
              "      background-color: #E2EBFA;\n",
              "      box-shadow: 0px 1px 2px rgba(60, 64, 67, 0.3), 0px 1px 3px 1px rgba(60, 64, 67, 0.15);\n",
              "      fill: #174EA6;\n",
              "    }\n",
              "\n",
              "    [theme=dark] .colab-df-convert {\n",
              "      background-color: #3B4455;\n",
              "      fill: #D2E3FC;\n",
              "    }\n",
              "\n",
              "    [theme=dark] .colab-df-convert:hover {\n",
              "      background-color: #434B5C;\n",
              "      box-shadow: 0px 1px 3px 1px rgba(0, 0, 0, 0.15);\n",
              "      filter: drop-shadow(0px 1px 2px rgba(0, 0, 0, 0.3));\n",
              "      fill: #FFFFFF;\n",
              "    }\n",
              "  </style>\n",
              "\n",
              "      <script>\n",
              "        const buttonEl =\n",
              "          document.querySelector('#df-7b5830e7-8eae-4dc5-b9eb-ecdcb26551e6 button.colab-df-convert');\n",
              "        buttonEl.style.display =\n",
              "          google.colab.kernel.accessAllowed ? 'block' : 'none';\n",
              "\n",
              "        async function convertToInteractive(key) {\n",
              "          const element = document.querySelector('#df-7b5830e7-8eae-4dc5-b9eb-ecdcb26551e6');\n",
              "          const dataTable =\n",
              "            await google.colab.kernel.invokeFunction('convertToInteractive',\n",
              "                                                     [key], {});\n",
              "          if (!dataTable) return;\n",
              "\n",
              "          const docLinkHtml = 'Like what you see? Visit the ' +\n",
              "            '<a target=\"_blank\" href=https://colab.research.google.com/notebooks/data_table.ipynb>data table notebook</a>'\n",
              "            + ' to learn more about interactive tables.';\n",
              "          element.innerHTML = '';\n",
              "          dataTable['output_type'] = 'display_data';\n",
              "          await google.colab.output.renderOutput(dataTable, element);\n",
              "          const docLink = document.createElement('div');\n",
              "          docLink.innerHTML = docLinkHtml;\n",
              "          element.appendChild(docLink);\n",
              "        }\n",
              "      </script>\n",
              "    </div>\n",
              "  </div>\n",
              "  "
            ],
            "text/plain": [
              "   spam  to_multiple  from  cc  ...  exclaim_subj  urgent_subj  exclaim_mess  number\n",
              "0     0            0     1   0  ...             0            0             0     big\n",
              "1     0            0     1   0  ...             0            0             1   small\n",
              "2     0            0     1   0  ...             0            0            48   small\n",
              "3     0            0     1   0  ...             0            0             1    none\n",
              "4     0            0     1   0  ...             0            0             1    none\n",
              "\n",
              "[5 rows x 20 columns]"
            ]
          },
          "metadata": {},
          "execution_count": 207
        }
      ]
    },
    {
      "cell_type": "code",
      "metadata": {
        "colab": {
          "base_uri": "https://localhost:8080/"
        },
        "id": "siTer_VR1wiG",
        "outputId": "fa8ca9fc-77f3-4f55-b156-188fd24f1f55"
      },
      "source": [
        "#We see two data attributes namely winner and number as text data. We need to convert this to numerical data\n",
        "#Get the unique value of winner attribute\n",
        "winner = np.unique(spam_class_train_data['winner'])\n",
        "print('winner attribute unique value:',winner)\n",
        "\n",
        "number = np.unique(spam_class_train_data['number'])\n",
        "print('number attribute unique value:', number)\n",
        "#spam_class_train_data.describe()"
      ],
      "execution_count": 208,
      "outputs": [
        {
          "output_type": "stream",
          "name": "stdout",
          "text": [
            "winner attribute unique value: ['no' 'yes']\n",
            "number attribute unique value: ['big' 'none' 'small']\n"
          ]
        }
      ]
    },
    {
      "cell_type": "markdown",
      "source": [
        "We can now generate a label encoding scheme for mapping each category to a numeric value by leveraging scikit-learn"
      ],
      "metadata": {
        "id": "eY-x8PHGT6E9"
      }
    },
    {
      "cell_type": "code",
      "source": [
        "from sklearn.preprocessing import LabelEncoder\n",
        "gle = LabelEncoder()\n",
        "#transform winner column into numerical column\n",
        "winner_tf = gle.fit_transform(spam_class_train_data['winner'])\n",
        "winner_mappings = {index: label for index, label in \n",
        "                  enumerate(gle.classes_)}\n",
        "winner_mappings"
      ],
      "metadata": {
        "id": "sIHqKuB89RyG",
        "outputId": "59b22d2a-9dfc-4e1e-d52e-7d576fcf62cf",
        "colab": {
          "base_uri": "https://localhost:8080/"
        }
      },
      "execution_count": 209,
      "outputs": [
        {
          "output_type": "execute_result",
          "data": {
            "text/plain": [
              "{0: 'no', 1: 'yes'}"
            ]
          },
          "metadata": {},
          "execution_count": 209
        }
      ]
    },
    {
      "cell_type": "code",
      "source": [
        "number_tf = gle.fit_transform(spam_class_train_data['number'])\n",
        "number_mappings = {index: label for index, label in \n",
        "                  enumerate(gle.classes_)}\n",
        "number_mappings"
      ],
      "metadata": {
        "id": "UthXfe7G97Ky",
        "outputId": "0616a3e6-8596-4728-d5ec-ee3798e0cb19",
        "colab": {
          "base_uri": "https://localhost:8080/"
        }
      },
      "execution_count": 210,
      "outputs": [
        {
          "output_type": "execute_result",
          "data": {
            "text/plain": [
              "{0: 'big', 1: 'none', 2: 'small'}"
            ]
          },
          "metadata": {},
          "execution_count": 210
        }
      ]
    },
    {
      "cell_type": "code",
      "source": [
        "spam_class_train_data['winner_tf'] = winner_tf\n",
        "spam_class_train_data['number_tf'] = number_tf\n",
        "spam_class_train_data"
      ],
      "metadata": {
        "id": "XPXuadF9-g2q",
        "outputId": "cce1fd0c-e9d9-41a9-f5db-6e7edcb60e3f",
        "colab": {
          "base_uri": "https://localhost:8080/",
          "height": 487
        }
      },
      "execution_count": 211,
      "outputs": [
        {
          "output_type": "execute_result",
          "data": {
            "text/html": [
              "\n",
              "  <div id=\"df-89bbe893-16ad-4510-a878-d0d3531e36d2\">\n",
              "    <div class=\"colab-df-container\">\n",
              "      <div>\n",
              "<style scoped>\n",
              "    .dataframe tbody tr th:only-of-type {\n",
              "        vertical-align: middle;\n",
              "    }\n",
              "\n",
              "    .dataframe tbody tr th {\n",
              "        vertical-align: top;\n",
              "    }\n",
              "\n",
              "    .dataframe thead th {\n",
              "        text-align: right;\n",
              "    }\n",
              "</style>\n",
              "<table border=\"1\" class=\"dataframe\">\n",
              "  <thead>\n",
              "    <tr style=\"text-align: right;\">\n",
              "      <th></th>\n",
              "      <th>spam</th>\n",
              "      <th>to_multiple</th>\n",
              "      <th>from</th>\n",
              "      <th>cc</th>\n",
              "      <th>sent_email</th>\n",
              "      <th>image</th>\n",
              "      <th>attach</th>\n",
              "      <th>dollar</th>\n",
              "      <th>winner</th>\n",
              "      <th>inherit</th>\n",
              "      <th>viagra</th>\n",
              "      <th>password</th>\n",
              "      <th>num_char</th>\n",
              "      <th>line_breaks</th>\n",
              "      <th>format</th>\n",
              "      <th>re_subj</th>\n",
              "      <th>exclaim_subj</th>\n",
              "      <th>urgent_subj</th>\n",
              "      <th>exclaim_mess</th>\n",
              "      <th>number</th>\n",
              "      <th>winner_tf</th>\n",
              "      <th>number_tf</th>\n",
              "    </tr>\n",
              "  </thead>\n",
              "  <tbody>\n",
              "    <tr>\n",
              "      <th>0</th>\n",
              "      <td>0</td>\n",
              "      <td>0</td>\n",
              "      <td>1</td>\n",
              "      <td>0</td>\n",
              "      <td>0</td>\n",
              "      <td>0</td>\n",
              "      <td>0</td>\n",
              "      <td>0</td>\n",
              "      <td>no</td>\n",
              "      <td>0</td>\n",
              "      <td>0</td>\n",
              "      <td>0</td>\n",
              "      <td>11.370</td>\n",
              "      <td>202</td>\n",
              "      <td>1</td>\n",
              "      <td>0</td>\n",
              "      <td>0</td>\n",
              "      <td>0</td>\n",
              "      <td>0</td>\n",
              "      <td>big</td>\n",
              "      <td>0</td>\n",
              "      <td>0</td>\n",
              "    </tr>\n",
              "    <tr>\n",
              "      <th>1</th>\n",
              "      <td>0</td>\n",
              "      <td>0</td>\n",
              "      <td>1</td>\n",
              "      <td>0</td>\n",
              "      <td>0</td>\n",
              "      <td>0</td>\n",
              "      <td>0</td>\n",
              "      <td>0</td>\n",
              "      <td>no</td>\n",
              "      <td>0</td>\n",
              "      <td>0</td>\n",
              "      <td>0</td>\n",
              "      <td>10.504</td>\n",
              "      <td>202</td>\n",
              "      <td>1</td>\n",
              "      <td>0</td>\n",
              "      <td>0</td>\n",
              "      <td>0</td>\n",
              "      <td>1</td>\n",
              "      <td>small</td>\n",
              "      <td>0</td>\n",
              "      <td>2</td>\n",
              "    </tr>\n",
              "    <tr>\n",
              "      <th>2</th>\n",
              "      <td>0</td>\n",
              "      <td>0</td>\n",
              "      <td>1</td>\n",
              "      <td>0</td>\n",
              "      <td>0</td>\n",
              "      <td>0</td>\n",
              "      <td>0</td>\n",
              "      <td>0</td>\n",
              "      <td>no</td>\n",
              "      <td>0</td>\n",
              "      <td>0</td>\n",
              "      <td>0</td>\n",
              "      <td>13.256</td>\n",
              "      <td>255</td>\n",
              "      <td>1</td>\n",
              "      <td>0</td>\n",
              "      <td>0</td>\n",
              "      <td>0</td>\n",
              "      <td>48</td>\n",
              "      <td>small</td>\n",
              "      <td>0</td>\n",
              "      <td>2</td>\n",
              "    </tr>\n",
              "    <tr>\n",
              "      <th>3</th>\n",
              "      <td>0</td>\n",
              "      <td>0</td>\n",
              "      <td>1</td>\n",
              "      <td>0</td>\n",
              "      <td>0</td>\n",
              "      <td>0</td>\n",
              "      <td>0</td>\n",
              "      <td>0</td>\n",
              "      <td>no</td>\n",
              "      <td>0</td>\n",
              "      <td>0</td>\n",
              "      <td>2</td>\n",
              "      <td>1.231</td>\n",
              "      <td>29</td>\n",
              "      <td>0</td>\n",
              "      <td>0</td>\n",
              "      <td>0</td>\n",
              "      <td>0</td>\n",
              "      <td>1</td>\n",
              "      <td>none</td>\n",
              "      <td>0</td>\n",
              "      <td>1</td>\n",
              "    </tr>\n",
              "    <tr>\n",
              "      <th>4</th>\n",
              "      <td>0</td>\n",
              "      <td>0</td>\n",
              "      <td>1</td>\n",
              "      <td>0</td>\n",
              "      <td>0</td>\n",
              "      <td>0</td>\n",
              "      <td>0</td>\n",
              "      <td>0</td>\n",
              "      <td>no</td>\n",
              "      <td>0</td>\n",
              "      <td>0</td>\n",
              "      <td>2</td>\n",
              "      <td>1.091</td>\n",
              "      <td>25</td>\n",
              "      <td>0</td>\n",
              "      <td>0</td>\n",
              "      <td>0</td>\n",
              "      <td>0</td>\n",
              "      <td>1</td>\n",
              "      <td>none</td>\n",
              "      <td>0</td>\n",
              "      <td>1</td>\n",
              "    </tr>\n",
              "    <tr>\n",
              "      <th>...</th>\n",
              "      <td>...</td>\n",
              "      <td>...</td>\n",
              "      <td>...</td>\n",
              "      <td>...</td>\n",
              "      <td>...</td>\n",
              "      <td>...</td>\n",
              "      <td>...</td>\n",
              "      <td>...</td>\n",
              "      <td>...</td>\n",
              "      <td>...</td>\n",
              "      <td>...</td>\n",
              "      <td>...</td>\n",
              "      <td>...</td>\n",
              "      <td>...</td>\n",
              "      <td>...</td>\n",
              "      <td>...</td>\n",
              "      <td>...</td>\n",
              "      <td>...</td>\n",
              "      <td>...</td>\n",
              "      <td>...</td>\n",
              "      <td>...</td>\n",
              "      <td>...</td>\n",
              "    </tr>\n",
              "    <tr>\n",
              "      <th>3131</th>\n",
              "      <td>1</td>\n",
              "      <td>0</td>\n",
              "      <td>1</td>\n",
              "      <td>0</td>\n",
              "      <td>0</td>\n",
              "      <td>0</td>\n",
              "      <td>0</td>\n",
              "      <td>2</td>\n",
              "      <td>no</td>\n",
              "      <td>0</td>\n",
              "      <td>0</td>\n",
              "      <td>0</td>\n",
              "      <td>1.597</td>\n",
              "      <td>46</td>\n",
              "      <td>0</td>\n",
              "      <td>0</td>\n",
              "      <td>1</td>\n",
              "      <td>0</td>\n",
              "      <td>3</td>\n",
              "      <td>small</td>\n",
              "      <td>0</td>\n",
              "      <td>2</td>\n",
              "    </tr>\n",
              "    <tr>\n",
              "      <th>3132</th>\n",
              "      <td>1</td>\n",
              "      <td>0</td>\n",
              "      <td>1</td>\n",
              "      <td>0</td>\n",
              "      <td>0</td>\n",
              "      <td>0</td>\n",
              "      <td>0</td>\n",
              "      <td>1</td>\n",
              "      <td>no</td>\n",
              "      <td>0</td>\n",
              "      <td>0</td>\n",
              "      <td>0</td>\n",
              "      <td>0.333</td>\n",
              "      <td>13</td>\n",
              "      <td>0</td>\n",
              "      <td>0</td>\n",
              "      <td>0</td>\n",
              "      <td>0</td>\n",
              "      <td>0</td>\n",
              "      <td>big</td>\n",
              "      <td>0</td>\n",
              "      <td>0</td>\n",
              "    </tr>\n",
              "    <tr>\n",
              "      <th>3133</th>\n",
              "      <td>1</td>\n",
              "      <td>0</td>\n",
              "      <td>1</td>\n",
              "      <td>0</td>\n",
              "      <td>0</td>\n",
              "      <td>0</td>\n",
              "      <td>0</td>\n",
              "      <td>0</td>\n",
              "      <td>no</td>\n",
              "      <td>0</td>\n",
              "      <td>0</td>\n",
              "      <td>0</td>\n",
              "      <td>0.332</td>\n",
              "      <td>12</td>\n",
              "      <td>0</td>\n",
              "      <td>0</td>\n",
              "      <td>0</td>\n",
              "      <td>0</td>\n",
              "      <td>0</td>\n",
              "      <td>small</td>\n",
              "      <td>0</td>\n",
              "      <td>2</td>\n",
              "    </tr>\n",
              "    <tr>\n",
              "      <th>3134</th>\n",
              "      <td>1</td>\n",
              "      <td>0</td>\n",
              "      <td>1</td>\n",
              "      <td>0</td>\n",
              "      <td>0</td>\n",
              "      <td>0</td>\n",
              "      <td>0</td>\n",
              "      <td>2</td>\n",
              "      <td>yes</td>\n",
              "      <td>0</td>\n",
              "      <td>0</td>\n",
              "      <td>0</td>\n",
              "      <td>2.225</td>\n",
              "      <td>65</td>\n",
              "      <td>0</td>\n",
              "      <td>0</td>\n",
              "      <td>1</td>\n",
              "      <td>0</td>\n",
              "      <td>1</td>\n",
              "      <td>small</td>\n",
              "      <td>1</td>\n",
              "      <td>2</td>\n",
              "    </tr>\n",
              "    <tr>\n",
              "      <th>3135</th>\n",
              "      <td>1</td>\n",
              "      <td>0</td>\n",
              "      <td>1</td>\n",
              "      <td>0</td>\n",
              "      <td>0</td>\n",
              "      <td>0</td>\n",
              "      <td>0</td>\n",
              "      <td>1</td>\n",
              "      <td>no</td>\n",
              "      <td>0</td>\n",
              "      <td>0</td>\n",
              "      <td>0</td>\n",
              "      <td>0.323</td>\n",
              "      <td>15</td>\n",
              "      <td>0</td>\n",
              "      <td>0</td>\n",
              "      <td>0</td>\n",
              "      <td>0</td>\n",
              "      <td>0</td>\n",
              "      <td>small</td>\n",
              "      <td>0</td>\n",
              "      <td>2</td>\n",
              "    </tr>\n",
              "  </tbody>\n",
              "</table>\n",
              "<p>3136 rows × 22 columns</p>\n",
              "</div>\n",
              "      <button class=\"colab-df-convert\" onclick=\"convertToInteractive('df-89bbe893-16ad-4510-a878-d0d3531e36d2')\"\n",
              "              title=\"Convert this dataframe to an interactive table.\"\n",
              "              style=\"display:none;\">\n",
              "        \n",
              "  <svg xmlns=\"http://www.w3.org/2000/svg\" height=\"24px\"viewBox=\"0 0 24 24\"\n",
              "       width=\"24px\">\n",
              "    <path d=\"M0 0h24v24H0V0z\" fill=\"none\"/>\n",
              "    <path d=\"M18.56 5.44l.94 2.06.94-2.06 2.06-.94-2.06-.94-.94-2.06-.94 2.06-2.06.94zm-11 1L8.5 8.5l.94-2.06 2.06-.94-2.06-.94L8.5 2.5l-.94 2.06-2.06.94zm10 10l.94 2.06.94-2.06 2.06-.94-2.06-.94-.94-2.06-.94 2.06-2.06.94z\"/><path d=\"M17.41 7.96l-1.37-1.37c-.4-.4-.92-.59-1.43-.59-.52 0-1.04.2-1.43.59L10.3 9.45l-7.72 7.72c-.78.78-.78 2.05 0 2.83L4 21.41c.39.39.9.59 1.41.59.51 0 1.02-.2 1.41-.59l7.78-7.78 2.81-2.81c.8-.78.8-2.07 0-2.86zM5.41 20L4 18.59l7.72-7.72 1.47 1.35L5.41 20z\"/>\n",
              "  </svg>\n",
              "      </button>\n",
              "      \n",
              "  <style>\n",
              "    .colab-df-container {\n",
              "      display:flex;\n",
              "      flex-wrap:wrap;\n",
              "      gap: 12px;\n",
              "    }\n",
              "\n",
              "    .colab-df-convert {\n",
              "      background-color: #E8F0FE;\n",
              "      border: none;\n",
              "      border-radius: 50%;\n",
              "      cursor: pointer;\n",
              "      display: none;\n",
              "      fill: #1967D2;\n",
              "      height: 32px;\n",
              "      padding: 0 0 0 0;\n",
              "      width: 32px;\n",
              "    }\n",
              "\n",
              "    .colab-df-convert:hover {\n",
              "      background-color: #E2EBFA;\n",
              "      box-shadow: 0px 1px 2px rgba(60, 64, 67, 0.3), 0px 1px 3px 1px rgba(60, 64, 67, 0.15);\n",
              "      fill: #174EA6;\n",
              "    }\n",
              "\n",
              "    [theme=dark] .colab-df-convert {\n",
              "      background-color: #3B4455;\n",
              "      fill: #D2E3FC;\n",
              "    }\n",
              "\n",
              "    [theme=dark] .colab-df-convert:hover {\n",
              "      background-color: #434B5C;\n",
              "      box-shadow: 0px 1px 3px 1px rgba(0, 0, 0, 0.15);\n",
              "      filter: drop-shadow(0px 1px 2px rgba(0, 0, 0, 0.3));\n",
              "      fill: #FFFFFF;\n",
              "    }\n",
              "  </style>\n",
              "\n",
              "      <script>\n",
              "        const buttonEl =\n",
              "          document.querySelector('#df-89bbe893-16ad-4510-a878-d0d3531e36d2 button.colab-df-convert');\n",
              "        buttonEl.style.display =\n",
              "          google.colab.kernel.accessAllowed ? 'block' : 'none';\n",
              "\n",
              "        async function convertToInteractive(key) {\n",
              "          const element = document.querySelector('#df-89bbe893-16ad-4510-a878-d0d3531e36d2');\n",
              "          const dataTable =\n",
              "            await google.colab.kernel.invokeFunction('convertToInteractive',\n",
              "                                                     [key], {});\n",
              "          if (!dataTable) return;\n",
              "\n",
              "          const docLinkHtml = 'Like what you see? Visit the ' +\n",
              "            '<a target=\"_blank\" href=https://colab.research.google.com/notebooks/data_table.ipynb>data table notebook</a>'\n",
              "            + ' to learn more about interactive tables.';\n",
              "          element.innerHTML = '';\n",
              "          dataTable['output_type'] = 'display_data';\n",
              "          await google.colab.output.renderOutput(dataTable, element);\n",
              "          const docLink = document.createElement('div');\n",
              "          docLink.innerHTML = docLinkHtml;\n",
              "          element.appendChild(docLink);\n",
              "        }\n",
              "      </script>\n",
              "    </div>\n",
              "  </div>\n",
              "  "
            ],
            "text/plain": [
              "      spam  to_multiple  from  cc  ...  exclaim_mess  number  winner_tf  number_tf\n",
              "0        0            0     1   0  ...             0     big          0          0\n",
              "1        0            0     1   0  ...             1   small          0          2\n",
              "2        0            0     1   0  ...            48   small          0          2\n",
              "3        0            0     1   0  ...             1    none          0          1\n",
              "4        0            0     1   0  ...             1    none          0          1\n",
              "...    ...          ...   ...  ..  ...           ...     ...        ...        ...\n",
              "3131     1            0     1   0  ...             3   small          0          2\n",
              "3132     1            0     1   0  ...             0     big          0          0\n",
              "3133     1            0     1   0  ...             0   small          0          2\n",
              "3134     1            0     1   0  ...             1   small          1          2\n",
              "3135     1            0     1   0  ...             0   small          0          2\n",
              "\n",
              "[3136 rows x 22 columns]"
            ]
          },
          "metadata": {},
          "execution_count": 211
        }
      ]
    },
    {
      "cell_type": "code",
      "source": [
        "#Lets rearrange the transformed column and drop the original column\n",
        "column_names = ['spam', 'to_multiple', 'from', 'cc', 'sent_email', 'image', 'attach',\n",
        "       'dollar', 'winner', 'winner_tf' ,'inherit', 'viagra', 'password', 'num_char',\n",
        "       'line_breaks', 'format', 're_subj', 'exclaim_subj', 'urgent_subj',\n",
        "       'exclaim_mess', 'number', 'number_tf']\n",
        "\n",
        "spam_class_train_data_tf = spam_class_train_data.reindex(columns=column_names)\n",
        "spam_class_train_data_tf\n",
        "\n"
      ],
      "metadata": {
        "id": "fE2XprAbBRRm",
        "colab": {
          "base_uri": "https://localhost:8080/",
          "height": 487
        },
        "outputId": "e523c676-7f92-41d7-a7d9-d400b3ab53b2"
      },
      "execution_count": 212,
      "outputs": [
        {
          "output_type": "execute_result",
          "data": {
            "text/html": [
              "\n",
              "  <div id=\"df-78f9980b-ce09-4945-ba1b-6ffd44248509\">\n",
              "    <div class=\"colab-df-container\">\n",
              "      <div>\n",
              "<style scoped>\n",
              "    .dataframe tbody tr th:only-of-type {\n",
              "        vertical-align: middle;\n",
              "    }\n",
              "\n",
              "    .dataframe tbody tr th {\n",
              "        vertical-align: top;\n",
              "    }\n",
              "\n",
              "    .dataframe thead th {\n",
              "        text-align: right;\n",
              "    }\n",
              "</style>\n",
              "<table border=\"1\" class=\"dataframe\">\n",
              "  <thead>\n",
              "    <tr style=\"text-align: right;\">\n",
              "      <th></th>\n",
              "      <th>spam</th>\n",
              "      <th>to_multiple</th>\n",
              "      <th>from</th>\n",
              "      <th>cc</th>\n",
              "      <th>sent_email</th>\n",
              "      <th>image</th>\n",
              "      <th>attach</th>\n",
              "      <th>dollar</th>\n",
              "      <th>winner</th>\n",
              "      <th>winner_tf</th>\n",
              "      <th>inherit</th>\n",
              "      <th>viagra</th>\n",
              "      <th>password</th>\n",
              "      <th>num_char</th>\n",
              "      <th>line_breaks</th>\n",
              "      <th>format</th>\n",
              "      <th>re_subj</th>\n",
              "      <th>exclaim_subj</th>\n",
              "      <th>urgent_subj</th>\n",
              "      <th>exclaim_mess</th>\n",
              "      <th>number</th>\n",
              "      <th>number_tf</th>\n",
              "    </tr>\n",
              "  </thead>\n",
              "  <tbody>\n",
              "    <tr>\n",
              "      <th>0</th>\n",
              "      <td>0</td>\n",
              "      <td>0</td>\n",
              "      <td>1</td>\n",
              "      <td>0</td>\n",
              "      <td>0</td>\n",
              "      <td>0</td>\n",
              "      <td>0</td>\n",
              "      <td>0</td>\n",
              "      <td>no</td>\n",
              "      <td>0</td>\n",
              "      <td>0</td>\n",
              "      <td>0</td>\n",
              "      <td>0</td>\n",
              "      <td>11.370</td>\n",
              "      <td>202</td>\n",
              "      <td>1</td>\n",
              "      <td>0</td>\n",
              "      <td>0</td>\n",
              "      <td>0</td>\n",
              "      <td>0</td>\n",
              "      <td>big</td>\n",
              "      <td>0</td>\n",
              "    </tr>\n",
              "    <tr>\n",
              "      <th>1</th>\n",
              "      <td>0</td>\n",
              "      <td>0</td>\n",
              "      <td>1</td>\n",
              "      <td>0</td>\n",
              "      <td>0</td>\n",
              "      <td>0</td>\n",
              "      <td>0</td>\n",
              "      <td>0</td>\n",
              "      <td>no</td>\n",
              "      <td>0</td>\n",
              "      <td>0</td>\n",
              "      <td>0</td>\n",
              "      <td>0</td>\n",
              "      <td>10.504</td>\n",
              "      <td>202</td>\n",
              "      <td>1</td>\n",
              "      <td>0</td>\n",
              "      <td>0</td>\n",
              "      <td>0</td>\n",
              "      <td>1</td>\n",
              "      <td>small</td>\n",
              "      <td>2</td>\n",
              "    </tr>\n",
              "    <tr>\n",
              "      <th>2</th>\n",
              "      <td>0</td>\n",
              "      <td>0</td>\n",
              "      <td>1</td>\n",
              "      <td>0</td>\n",
              "      <td>0</td>\n",
              "      <td>0</td>\n",
              "      <td>0</td>\n",
              "      <td>0</td>\n",
              "      <td>no</td>\n",
              "      <td>0</td>\n",
              "      <td>0</td>\n",
              "      <td>0</td>\n",
              "      <td>0</td>\n",
              "      <td>13.256</td>\n",
              "      <td>255</td>\n",
              "      <td>1</td>\n",
              "      <td>0</td>\n",
              "      <td>0</td>\n",
              "      <td>0</td>\n",
              "      <td>48</td>\n",
              "      <td>small</td>\n",
              "      <td>2</td>\n",
              "    </tr>\n",
              "    <tr>\n",
              "      <th>3</th>\n",
              "      <td>0</td>\n",
              "      <td>0</td>\n",
              "      <td>1</td>\n",
              "      <td>0</td>\n",
              "      <td>0</td>\n",
              "      <td>0</td>\n",
              "      <td>0</td>\n",
              "      <td>0</td>\n",
              "      <td>no</td>\n",
              "      <td>0</td>\n",
              "      <td>0</td>\n",
              "      <td>0</td>\n",
              "      <td>2</td>\n",
              "      <td>1.231</td>\n",
              "      <td>29</td>\n",
              "      <td>0</td>\n",
              "      <td>0</td>\n",
              "      <td>0</td>\n",
              "      <td>0</td>\n",
              "      <td>1</td>\n",
              "      <td>none</td>\n",
              "      <td>1</td>\n",
              "    </tr>\n",
              "    <tr>\n",
              "      <th>4</th>\n",
              "      <td>0</td>\n",
              "      <td>0</td>\n",
              "      <td>1</td>\n",
              "      <td>0</td>\n",
              "      <td>0</td>\n",
              "      <td>0</td>\n",
              "      <td>0</td>\n",
              "      <td>0</td>\n",
              "      <td>no</td>\n",
              "      <td>0</td>\n",
              "      <td>0</td>\n",
              "      <td>0</td>\n",
              "      <td>2</td>\n",
              "      <td>1.091</td>\n",
              "      <td>25</td>\n",
              "      <td>0</td>\n",
              "      <td>0</td>\n",
              "      <td>0</td>\n",
              "      <td>0</td>\n",
              "      <td>1</td>\n",
              "      <td>none</td>\n",
              "      <td>1</td>\n",
              "    </tr>\n",
              "    <tr>\n",
              "      <th>...</th>\n",
              "      <td>...</td>\n",
              "      <td>...</td>\n",
              "      <td>...</td>\n",
              "      <td>...</td>\n",
              "      <td>...</td>\n",
              "      <td>...</td>\n",
              "      <td>...</td>\n",
              "      <td>...</td>\n",
              "      <td>...</td>\n",
              "      <td>...</td>\n",
              "      <td>...</td>\n",
              "      <td>...</td>\n",
              "      <td>...</td>\n",
              "      <td>...</td>\n",
              "      <td>...</td>\n",
              "      <td>...</td>\n",
              "      <td>...</td>\n",
              "      <td>...</td>\n",
              "      <td>...</td>\n",
              "      <td>...</td>\n",
              "      <td>...</td>\n",
              "      <td>...</td>\n",
              "    </tr>\n",
              "    <tr>\n",
              "      <th>3131</th>\n",
              "      <td>1</td>\n",
              "      <td>0</td>\n",
              "      <td>1</td>\n",
              "      <td>0</td>\n",
              "      <td>0</td>\n",
              "      <td>0</td>\n",
              "      <td>0</td>\n",
              "      <td>2</td>\n",
              "      <td>no</td>\n",
              "      <td>0</td>\n",
              "      <td>0</td>\n",
              "      <td>0</td>\n",
              "      <td>0</td>\n",
              "      <td>1.597</td>\n",
              "      <td>46</td>\n",
              "      <td>0</td>\n",
              "      <td>0</td>\n",
              "      <td>1</td>\n",
              "      <td>0</td>\n",
              "      <td>3</td>\n",
              "      <td>small</td>\n",
              "      <td>2</td>\n",
              "    </tr>\n",
              "    <tr>\n",
              "      <th>3132</th>\n",
              "      <td>1</td>\n",
              "      <td>0</td>\n",
              "      <td>1</td>\n",
              "      <td>0</td>\n",
              "      <td>0</td>\n",
              "      <td>0</td>\n",
              "      <td>0</td>\n",
              "      <td>1</td>\n",
              "      <td>no</td>\n",
              "      <td>0</td>\n",
              "      <td>0</td>\n",
              "      <td>0</td>\n",
              "      <td>0</td>\n",
              "      <td>0.333</td>\n",
              "      <td>13</td>\n",
              "      <td>0</td>\n",
              "      <td>0</td>\n",
              "      <td>0</td>\n",
              "      <td>0</td>\n",
              "      <td>0</td>\n",
              "      <td>big</td>\n",
              "      <td>0</td>\n",
              "    </tr>\n",
              "    <tr>\n",
              "      <th>3133</th>\n",
              "      <td>1</td>\n",
              "      <td>0</td>\n",
              "      <td>1</td>\n",
              "      <td>0</td>\n",
              "      <td>0</td>\n",
              "      <td>0</td>\n",
              "      <td>0</td>\n",
              "      <td>0</td>\n",
              "      <td>no</td>\n",
              "      <td>0</td>\n",
              "      <td>0</td>\n",
              "      <td>0</td>\n",
              "      <td>0</td>\n",
              "      <td>0.332</td>\n",
              "      <td>12</td>\n",
              "      <td>0</td>\n",
              "      <td>0</td>\n",
              "      <td>0</td>\n",
              "      <td>0</td>\n",
              "      <td>0</td>\n",
              "      <td>small</td>\n",
              "      <td>2</td>\n",
              "    </tr>\n",
              "    <tr>\n",
              "      <th>3134</th>\n",
              "      <td>1</td>\n",
              "      <td>0</td>\n",
              "      <td>1</td>\n",
              "      <td>0</td>\n",
              "      <td>0</td>\n",
              "      <td>0</td>\n",
              "      <td>0</td>\n",
              "      <td>2</td>\n",
              "      <td>yes</td>\n",
              "      <td>1</td>\n",
              "      <td>0</td>\n",
              "      <td>0</td>\n",
              "      <td>0</td>\n",
              "      <td>2.225</td>\n",
              "      <td>65</td>\n",
              "      <td>0</td>\n",
              "      <td>0</td>\n",
              "      <td>1</td>\n",
              "      <td>0</td>\n",
              "      <td>1</td>\n",
              "      <td>small</td>\n",
              "      <td>2</td>\n",
              "    </tr>\n",
              "    <tr>\n",
              "      <th>3135</th>\n",
              "      <td>1</td>\n",
              "      <td>0</td>\n",
              "      <td>1</td>\n",
              "      <td>0</td>\n",
              "      <td>0</td>\n",
              "      <td>0</td>\n",
              "      <td>0</td>\n",
              "      <td>1</td>\n",
              "      <td>no</td>\n",
              "      <td>0</td>\n",
              "      <td>0</td>\n",
              "      <td>0</td>\n",
              "      <td>0</td>\n",
              "      <td>0.323</td>\n",
              "      <td>15</td>\n",
              "      <td>0</td>\n",
              "      <td>0</td>\n",
              "      <td>0</td>\n",
              "      <td>0</td>\n",
              "      <td>0</td>\n",
              "      <td>small</td>\n",
              "      <td>2</td>\n",
              "    </tr>\n",
              "  </tbody>\n",
              "</table>\n",
              "<p>3136 rows × 22 columns</p>\n",
              "</div>\n",
              "      <button class=\"colab-df-convert\" onclick=\"convertToInteractive('df-78f9980b-ce09-4945-ba1b-6ffd44248509')\"\n",
              "              title=\"Convert this dataframe to an interactive table.\"\n",
              "              style=\"display:none;\">\n",
              "        \n",
              "  <svg xmlns=\"http://www.w3.org/2000/svg\" height=\"24px\"viewBox=\"0 0 24 24\"\n",
              "       width=\"24px\">\n",
              "    <path d=\"M0 0h24v24H0V0z\" fill=\"none\"/>\n",
              "    <path d=\"M18.56 5.44l.94 2.06.94-2.06 2.06-.94-2.06-.94-.94-2.06-.94 2.06-2.06.94zm-11 1L8.5 8.5l.94-2.06 2.06-.94-2.06-.94L8.5 2.5l-.94 2.06-2.06.94zm10 10l.94 2.06.94-2.06 2.06-.94-2.06-.94-.94-2.06-.94 2.06-2.06.94z\"/><path d=\"M17.41 7.96l-1.37-1.37c-.4-.4-.92-.59-1.43-.59-.52 0-1.04.2-1.43.59L10.3 9.45l-7.72 7.72c-.78.78-.78 2.05 0 2.83L4 21.41c.39.39.9.59 1.41.59.51 0 1.02-.2 1.41-.59l7.78-7.78 2.81-2.81c.8-.78.8-2.07 0-2.86zM5.41 20L4 18.59l7.72-7.72 1.47 1.35L5.41 20z\"/>\n",
              "  </svg>\n",
              "      </button>\n",
              "      \n",
              "  <style>\n",
              "    .colab-df-container {\n",
              "      display:flex;\n",
              "      flex-wrap:wrap;\n",
              "      gap: 12px;\n",
              "    }\n",
              "\n",
              "    .colab-df-convert {\n",
              "      background-color: #E8F0FE;\n",
              "      border: none;\n",
              "      border-radius: 50%;\n",
              "      cursor: pointer;\n",
              "      display: none;\n",
              "      fill: #1967D2;\n",
              "      height: 32px;\n",
              "      padding: 0 0 0 0;\n",
              "      width: 32px;\n",
              "    }\n",
              "\n",
              "    .colab-df-convert:hover {\n",
              "      background-color: #E2EBFA;\n",
              "      box-shadow: 0px 1px 2px rgba(60, 64, 67, 0.3), 0px 1px 3px 1px rgba(60, 64, 67, 0.15);\n",
              "      fill: #174EA6;\n",
              "    }\n",
              "\n",
              "    [theme=dark] .colab-df-convert {\n",
              "      background-color: #3B4455;\n",
              "      fill: #D2E3FC;\n",
              "    }\n",
              "\n",
              "    [theme=dark] .colab-df-convert:hover {\n",
              "      background-color: #434B5C;\n",
              "      box-shadow: 0px 1px 3px 1px rgba(0, 0, 0, 0.15);\n",
              "      filter: drop-shadow(0px 1px 2px rgba(0, 0, 0, 0.3));\n",
              "      fill: #FFFFFF;\n",
              "    }\n",
              "  </style>\n",
              "\n",
              "      <script>\n",
              "        const buttonEl =\n",
              "          document.querySelector('#df-78f9980b-ce09-4945-ba1b-6ffd44248509 button.colab-df-convert');\n",
              "        buttonEl.style.display =\n",
              "          google.colab.kernel.accessAllowed ? 'block' : 'none';\n",
              "\n",
              "        async function convertToInteractive(key) {\n",
              "          const element = document.querySelector('#df-78f9980b-ce09-4945-ba1b-6ffd44248509');\n",
              "          const dataTable =\n",
              "            await google.colab.kernel.invokeFunction('convertToInteractive',\n",
              "                                                     [key], {});\n",
              "          if (!dataTable) return;\n",
              "\n",
              "          const docLinkHtml = 'Like what you see? Visit the ' +\n",
              "            '<a target=\"_blank\" href=https://colab.research.google.com/notebooks/data_table.ipynb>data table notebook</a>'\n",
              "            + ' to learn more about interactive tables.';\n",
              "          element.innerHTML = '';\n",
              "          dataTable['output_type'] = 'display_data';\n",
              "          await google.colab.output.renderOutput(dataTable, element);\n",
              "          const docLink = document.createElement('div');\n",
              "          docLink.innerHTML = docLinkHtml;\n",
              "          element.appendChild(docLink);\n",
              "        }\n",
              "      </script>\n",
              "    </div>\n",
              "  </div>\n",
              "  "
            ],
            "text/plain": [
              "      spam  to_multiple  from  cc  ...  urgent_subj  exclaim_mess  number  number_tf\n",
              "0        0            0     1   0  ...            0             0     big          0\n",
              "1        0            0     1   0  ...            0             1   small          2\n",
              "2        0            0     1   0  ...            0            48   small          2\n",
              "3        0            0     1   0  ...            0             1    none          1\n",
              "4        0            0     1   0  ...            0             1    none          1\n",
              "...    ...          ...   ...  ..  ...          ...           ...     ...        ...\n",
              "3131     1            0     1   0  ...            0             3   small          2\n",
              "3132     1            0     1   0  ...            0             0     big          0\n",
              "3133     1            0     1   0  ...            0             0   small          2\n",
              "3134     1            0     1   0  ...            0             1   small          2\n",
              "3135     1            0     1   0  ...            0             0   small          2\n",
              "\n",
              "[3136 rows x 22 columns]"
            ]
          },
          "metadata": {},
          "execution_count": 212
        }
      ]
    },
    {
      "cell_type": "code",
      "source": [
        "#Lets Drop original column in dataframe\n",
        "spam_class_train_data_tf= spam_class_train_data_tf.drop(['winner','number'], axis=1)\n",
        "spam_class_train_data_tf\n"
      ],
      "metadata": {
        "colab": {
          "base_uri": "https://localhost:8080/",
          "height": 487
        },
        "id": "FVN1azpBZLVe",
        "outputId": "830a9756-2203-4255-f70b-ed5b6f0fb5cc"
      },
      "execution_count": 213,
      "outputs": [
        {
          "output_type": "execute_result",
          "data": {
            "text/html": [
              "\n",
              "  <div id=\"df-aef6ceec-6558-464b-a1a5-4c917c2b3fd4\">\n",
              "    <div class=\"colab-df-container\">\n",
              "      <div>\n",
              "<style scoped>\n",
              "    .dataframe tbody tr th:only-of-type {\n",
              "        vertical-align: middle;\n",
              "    }\n",
              "\n",
              "    .dataframe tbody tr th {\n",
              "        vertical-align: top;\n",
              "    }\n",
              "\n",
              "    .dataframe thead th {\n",
              "        text-align: right;\n",
              "    }\n",
              "</style>\n",
              "<table border=\"1\" class=\"dataframe\">\n",
              "  <thead>\n",
              "    <tr style=\"text-align: right;\">\n",
              "      <th></th>\n",
              "      <th>spam</th>\n",
              "      <th>to_multiple</th>\n",
              "      <th>from</th>\n",
              "      <th>cc</th>\n",
              "      <th>sent_email</th>\n",
              "      <th>image</th>\n",
              "      <th>attach</th>\n",
              "      <th>dollar</th>\n",
              "      <th>winner_tf</th>\n",
              "      <th>inherit</th>\n",
              "      <th>viagra</th>\n",
              "      <th>password</th>\n",
              "      <th>num_char</th>\n",
              "      <th>line_breaks</th>\n",
              "      <th>format</th>\n",
              "      <th>re_subj</th>\n",
              "      <th>exclaim_subj</th>\n",
              "      <th>urgent_subj</th>\n",
              "      <th>exclaim_mess</th>\n",
              "      <th>number_tf</th>\n",
              "    </tr>\n",
              "  </thead>\n",
              "  <tbody>\n",
              "    <tr>\n",
              "      <th>0</th>\n",
              "      <td>0</td>\n",
              "      <td>0</td>\n",
              "      <td>1</td>\n",
              "      <td>0</td>\n",
              "      <td>0</td>\n",
              "      <td>0</td>\n",
              "      <td>0</td>\n",
              "      <td>0</td>\n",
              "      <td>0</td>\n",
              "      <td>0</td>\n",
              "      <td>0</td>\n",
              "      <td>0</td>\n",
              "      <td>11.370</td>\n",
              "      <td>202</td>\n",
              "      <td>1</td>\n",
              "      <td>0</td>\n",
              "      <td>0</td>\n",
              "      <td>0</td>\n",
              "      <td>0</td>\n",
              "      <td>0</td>\n",
              "    </tr>\n",
              "    <tr>\n",
              "      <th>1</th>\n",
              "      <td>0</td>\n",
              "      <td>0</td>\n",
              "      <td>1</td>\n",
              "      <td>0</td>\n",
              "      <td>0</td>\n",
              "      <td>0</td>\n",
              "      <td>0</td>\n",
              "      <td>0</td>\n",
              "      <td>0</td>\n",
              "      <td>0</td>\n",
              "      <td>0</td>\n",
              "      <td>0</td>\n",
              "      <td>10.504</td>\n",
              "      <td>202</td>\n",
              "      <td>1</td>\n",
              "      <td>0</td>\n",
              "      <td>0</td>\n",
              "      <td>0</td>\n",
              "      <td>1</td>\n",
              "      <td>2</td>\n",
              "    </tr>\n",
              "    <tr>\n",
              "      <th>2</th>\n",
              "      <td>0</td>\n",
              "      <td>0</td>\n",
              "      <td>1</td>\n",
              "      <td>0</td>\n",
              "      <td>0</td>\n",
              "      <td>0</td>\n",
              "      <td>0</td>\n",
              "      <td>0</td>\n",
              "      <td>0</td>\n",
              "      <td>0</td>\n",
              "      <td>0</td>\n",
              "      <td>0</td>\n",
              "      <td>13.256</td>\n",
              "      <td>255</td>\n",
              "      <td>1</td>\n",
              "      <td>0</td>\n",
              "      <td>0</td>\n",
              "      <td>0</td>\n",
              "      <td>48</td>\n",
              "      <td>2</td>\n",
              "    </tr>\n",
              "    <tr>\n",
              "      <th>3</th>\n",
              "      <td>0</td>\n",
              "      <td>0</td>\n",
              "      <td>1</td>\n",
              "      <td>0</td>\n",
              "      <td>0</td>\n",
              "      <td>0</td>\n",
              "      <td>0</td>\n",
              "      <td>0</td>\n",
              "      <td>0</td>\n",
              "      <td>0</td>\n",
              "      <td>0</td>\n",
              "      <td>2</td>\n",
              "      <td>1.231</td>\n",
              "      <td>29</td>\n",
              "      <td>0</td>\n",
              "      <td>0</td>\n",
              "      <td>0</td>\n",
              "      <td>0</td>\n",
              "      <td>1</td>\n",
              "      <td>1</td>\n",
              "    </tr>\n",
              "    <tr>\n",
              "      <th>4</th>\n",
              "      <td>0</td>\n",
              "      <td>0</td>\n",
              "      <td>1</td>\n",
              "      <td>0</td>\n",
              "      <td>0</td>\n",
              "      <td>0</td>\n",
              "      <td>0</td>\n",
              "      <td>0</td>\n",
              "      <td>0</td>\n",
              "      <td>0</td>\n",
              "      <td>0</td>\n",
              "      <td>2</td>\n",
              "      <td>1.091</td>\n",
              "      <td>25</td>\n",
              "      <td>0</td>\n",
              "      <td>0</td>\n",
              "      <td>0</td>\n",
              "      <td>0</td>\n",
              "      <td>1</td>\n",
              "      <td>1</td>\n",
              "    </tr>\n",
              "    <tr>\n",
              "      <th>...</th>\n",
              "      <td>...</td>\n",
              "      <td>...</td>\n",
              "      <td>...</td>\n",
              "      <td>...</td>\n",
              "      <td>...</td>\n",
              "      <td>...</td>\n",
              "      <td>...</td>\n",
              "      <td>...</td>\n",
              "      <td>...</td>\n",
              "      <td>...</td>\n",
              "      <td>...</td>\n",
              "      <td>...</td>\n",
              "      <td>...</td>\n",
              "      <td>...</td>\n",
              "      <td>...</td>\n",
              "      <td>...</td>\n",
              "      <td>...</td>\n",
              "      <td>...</td>\n",
              "      <td>...</td>\n",
              "      <td>...</td>\n",
              "    </tr>\n",
              "    <tr>\n",
              "      <th>3131</th>\n",
              "      <td>1</td>\n",
              "      <td>0</td>\n",
              "      <td>1</td>\n",
              "      <td>0</td>\n",
              "      <td>0</td>\n",
              "      <td>0</td>\n",
              "      <td>0</td>\n",
              "      <td>2</td>\n",
              "      <td>0</td>\n",
              "      <td>0</td>\n",
              "      <td>0</td>\n",
              "      <td>0</td>\n",
              "      <td>1.597</td>\n",
              "      <td>46</td>\n",
              "      <td>0</td>\n",
              "      <td>0</td>\n",
              "      <td>1</td>\n",
              "      <td>0</td>\n",
              "      <td>3</td>\n",
              "      <td>2</td>\n",
              "    </tr>\n",
              "    <tr>\n",
              "      <th>3132</th>\n",
              "      <td>1</td>\n",
              "      <td>0</td>\n",
              "      <td>1</td>\n",
              "      <td>0</td>\n",
              "      <td>0</td>\n",
              "      <td>0</td>\n",
              "      <td>0</td>\n",
              "      <td>1</td>\n",
              "      <td>0</td>\n",
              "      <td>0</td>\n",
              "      <td>0</td>\n",
              "      <td>0</td>\n",
              "      <td>0.333</td>\n",
              "      <td>13</td>\n",
              "      <td>0</td>\n",
              "      <td>0</td>\n",
              "      <td>0</td>\n",
              "      <td>0</td>\n",
              "      <td>0</td>\n",
              "      <td>0</td>\n",
              "    </tr>\n",
              "    <tr>\n",
              "      <th>3133</th>\n",
              "      <td>1</td>\n",
              "      <td>0</td>\n",
              "      <td>1</td>\n",
              "      <td>0</td>\n",
              "      <td>0</td>\n",
              "      <td>0</td>\n",
              "      <td>0</td>\n",
              "      <td>0</td>\n",
              "      <td>0</td>\n",
              "      <td>0</td>\n",
              "      <td>0</td>\n",
              "      <td>0</td>\n",
              "      <td>0.332</td>\n",
              "      <td>12</td>\n",
              "      <td>0</td>\n",
              "      <td>0</td>\n",
              "      <td>0</td>\n",
              "      <td>0</td>\n",
              "      <td>0</td>\n",
              "      <td>2</td>\n",
              "    </tr>\n",
              "    <tr>\n",
              "      <th>3134</th>\n",
              "      <td>1</td>\n",
              "      <td>0</td>\n",
              "      <td>1</td>\n",
              "      <td>0</td>\n",
              "      <td>0</td>\n",
              "      <td>0</td>\n",
              "      <td>0</td>\n",
              "      <td>2</td>\n",
              "      <td>1</td>\n",
              "      <td>0</td>\n",
              "      <td>0</td>\n",
              "      <td>0</td>\n",
              "      <td>2.225</td>\n",
              "      <td>65</td>\n",
              "      <td>0</td>\n",
              "      <td>0</td>\n",
              "      <td>1</td>\n",
              "      <td>0</td>\n",
              "      <td>1</td>\n",
              "      <td>2</td>\n",
              "    </tr>\n",
              "    <tr>\n",
              "      <th>3135</th>\n",
              "      <td>1</td>\n",
              "      <td>0</td>\n",
              "      <td>1</td>\n",
              "      <td>0</td>\n",
              "      <td>0</td>\n",
              "      <td>0</td>\n",
              "      <td>0</td>\n",
              "      <td>1</td>\n",
              "      <td>0</td>\n",
              "      <td>0</td>\n",
              "      <td>0</td>\n",
              "      <td>0</td>\n",
              "      <td>0.323</td>\n",
              "      <td>15</td>\n",
              "      <td>0</td>\n",
              "      <td>0</td>\n",
              "      <td>0</td>\n",
              "      <td>0</td>\n",
              "      <td>0</td>\n",
              "      <td>2</td>\n",
              "    </tr>\n",
              "  </tbody>\n",
              "</table>\n",
              "<p>3136 rows × 20 columns</p>\n",
              "</div>\n",
              "      <button class=\"colab-df-convert\" onclick=\"convertToInteractive('df-aef6ceec-6558-464b-a1a5-4c917c2b3fd4')\"\n",
              "              title=\"Convert this dataframe to an interactive table.\"\n",
              "              style=\"display:none;\">\n",
              "        \n",
              "  <svg xmlns=\"http://www.w3.org/2000/svg\" height=\"24px\"viewBox=\"0 0 24 24\"\n",
              "       width=\"24px\">\n",
              "    <path d=\"M0 0h24v24H0V0z\" fill=\"none\"/>\n",
              "    <path d=\"M18.56 5.44l.94 2.06.94-2.06 2.06-.94-2.06-.94-.94-2.06-.94 2.06-2.06.94zm-11 1L8.5 8.5l.94-2.06 2.06-.94-2.06-.94L8.5 2.5l-.94 2.06-2.06.94zm10 10l.94 2.06.94-2.06 2.06-.94-2.06-.94-.94-2.06-.94 2.06-2.06.94z\"/><path d=\"M17.41 7.96l-1.37-1.37c-.4-.4-.92-.59-1.43-.59-.52 0-1.04.2-1.43.59L10.3 9.45l-7.72 7.72c-.78.78-.78 2.05 0 2.83L4 21.41c.39.39.9.59 1.41.59.51 0 1.02-.2 1.41-.59l7.78-7.78 2.81-2.81c.8-.78.8-2.07 0-2.86zM5.41 20L4 18.59l7.72-7.72 1.47 1.35L5.41 20z\"/>\n",
              "  </svg>\n",
              "      </button>\n",
              "      \n",
              "  <style>\n",
              "    .colab-df-container {\n",
              "      display:flex;\n",
              "      flex-wrap:wrap;\n",
              "      gap: 12px;\n",
              "    }\n",
              "\n",
              "    .colab-df-convert {\n",
              "      background-color: #E8F0FE;\n",
              "      border: none;\n",
              "      border-radius: 50%;\n",
              "      cursor: pointer;\n",
              "      display: none;\n",
              "      fill: #1967D2;\n",
              "      height: 32px;\n",
              "      padding: 0 0 0 0;\n",
              "      width: 32px;\n",
              "    }\n",
              "\n",
              "    .colab-df-convert:hover {\n",
              "      background-color: #E2EBFA;\n",
              "      box-shadow: 0px 1px 2px rgba(60, 64, 67, 0.3), 0px 1px 3px 1px rgba(60, 64, 67, 0.15);\n",
              "      fill: #174EA6;\n",
              "    }\n",
              "\n",
              "    [theme=dark] .colab-df-convert {\n",
              "      background-color: #3B4455;\n",
              "      fill: #D2E3FC;\n",
              "    }\n",
              "\n",
              "    [theme=dark] .colab-df-convert:hover {\n",
              "      background-color: #434B5C;\n",
              "      box-shadow: 0px 1px 3px 1px rgba(0, 0, 0, 0.15);\n",
              "      filter: drop-shadow(0px 1px 2px rgba(0, 0, 0, 0.3));\n",
              "      fill: #FFFFFF;\n",
              "    }\n",
              "  </style>\n",
              "\n",
              "      <script>\n",
              "        const buttonEl =\n",
              "          document.querySelector('#df-aef6ceec-6558-464b-a1a5-4c917c2b3fd4 button.colab-df-convert');\n",
              "        buttonEl.style.display =\n",
              "          google.colab.kernel.accessAllowed ? 'block' : 'none';\n",
              "\n",
              "        async function convertToInteractive(key) {\n",
              "          const element = document.querySelector('#df-aef6ceec-6558-464b-a1a5-4c917c2b3fd4');\n",
              "          const dataTable =\n",
              "            await google.colab.kernel.invokeFunction('convertToInteractive',\n",
              "                                                     [key], {});\n",
              "          if (!dataTable) return;\n",
              "\n",
              "          const docLinkHtml = 'Like what you see? Visit the ' +\n",
              "            '<a target=\"_blank\" href=https://colab.research.google.com/notebooks/data_table.ipynb>data table notebook</a>'\n",
              "            + ' to learn more about interactive tables.';\n",
              "          element.innerHTML = '';\n",
              "          dataTable['output_type'] = 'display_data';\n",
              "          await google.colab.output.renderOutput(dataTable, element);\n",
              "          const docLink = document.createElement('div');\n",
              "          docLink.innerHTML = docLinkHtml;\n",
              "          element.appendChild(docLink);\n",
              "        }\n",
              "      </script>\n",
              "    </div>\n",
              "  </div>\n",
              "  "
            ],
            "text/plain": [
              "      spam  to_multiple  from  ...  urgent_subj  exclaim_mess  number_tf\n",
              "0        0            0     1  ...            0             0          0\n",
              "1        0            0     1  ...            0             1          2\n",
              "2        0            0     1  ...            0            48          2\n",
              "3        0            0     1  ...            0             1          1\n",
              "4        0            0     1  ...            0             1          1\n",
              "...    ...          ...   ...  ...          ...           ...        ...\n",
              "3131     1            0     1  ...            0             3          2\n",
              "3132     1            0     1  ...            0             0          0\n",
              "3133     1            0     1  ...            0             0          2\n",
              "3134     1            0     1  ...            0             1          2\n",
              "3135     1            0     1  ...            0             0          2\n",
              "\n",
              "[3136 rows x 20 columns]"
            ]
          },
          "metadata": {},
          "execution_count": 213
        }
      ]
    },
    {
      "cell_type": "markdown",
      "source": [
        "Now Lets transform the test data"
      ],
      "metadata": {
        "id": "or9GkJaAbYDs"
      }
    },
    {
      "cell_type": "code",
      "source": [
        "spam_class_test_data = pd.read_excel('https://github.com/arvind-maurya/MachineLearning/blob/master/Assignment/Q2/Q2_classification_test.xlsx?raw=true', index_col=False, header=0)\n",
        "\n",
        "#print the first few rows of the data \n",
        "spam_class_test_data.head()"
      ],
      "metadata": {
        "colab": {
          "base_uri": "https://localhost:8080/",
          "height": 250
        },
        "id": "dy2pVOrtbWOn",
        "outputId": "c2121b52-2c01-4c17-b4ae-72493a5cbe50"
      },
      "execution_count": 214,
      "outputs": [
        {
          "output_type": "execute_result",
          "data": {
            "text/html": [
              "\n",
              "  <div id=\"df-365c245a-be61-4453-8c27-115fc892fb0b\">\n",
              "    <div class=\"colab-df-container\">\n",
              "      <div>\n",
              "<style scoped>\n",
              "    .dataframe tbody tr th:only-of-type {\n",
              "        vertical-align: middle;\n",
              "    }\n",
              "\n",
              "    .dataframe tbody tr th {\n",
              "        vertical-align: top;\n",
              "    }\n",
              "\n",
              "    .dataframe thead th {\n",
              "        text-align: right;\n",
              "    }\n",
              "</style>\n",
              "<table border=\"1\" class=\"dataframe\">\n",
              "  <thead>\n",
              "    <tr style=\"text-align: right;\">\n",
              "      <th></th>\n",
              "      <th>spam</th>\n",
              "      <th>to_multiple</th>\n",
              "      <th>from</th>\n",
              "      <th>cc</th>\n",
              "      <th>sent_email</th>\n",
              "      <th>image</th>\n",
              "      <th>attach</th>\n",
              "      <th>dollar</th>\n",
              "      <th>winner</th>\n",
              "      <th>inherit</th>\n",
              "      <th>viagra</th>\n",
              "      <th>password</th>\n",
              "      <th>num_char</th>\n",
              "      <th>line_breaks</th>\n",
              "      <th>format</th>\n",
              "      <th>re_subj</th>\n",
              "      <th>exclaim_subj</th>\n",
              "      <th>urgent_subj</th>\n",
              "      <th>exclaim_mess</th>\n",
              "      <th>number</th>\n",
              "    </tr>\n",
              "  </thead>\n",
              "  <tbody>\n",
              "    <tr>\n",
              "      <th>0</th>\n",
              "      <td>1</td>\n",
              "      <td>0</td>\n",
              "      <td>1</td>\n",
              "      <td>0</td>\n",
              "      <td>0</td>\n",
              "      <td>0</td>\n",
              "      <td>0</td>\n",
              "      <td>0</td>\n",
              "      <td>no</td>\n",
              "      <td>0</td>\n",
              "      <td>0</td>\n",
              "      <td>0</td>\n",
              "      <td>20.133</td>\n",
              "      <td>364</td>\n",
              "      <td>1</td>\n",
              "      <td>0</td>\n",
              "      <td>0</td>\n",
              "      <td>0</td>\n",
              "      <td>8</td>\n",
              "      <td>small</td>\n",
              "    </tr>\n",
              "    <tr>\n",
              "      <th>1</th>\n",
              "      <td>1</td>\n",
              "      <td>0</td>\n",
              "      <td>1</td>\n",
              "      <td>0</td>\n",
              "      <td>0</td>\n",
              "      <td>0</td>\n",
              "      <td>0</td>\n",
              "      <td>0</td>\n",
              "      <td>no</td>\n",
              "      <td>0</td>\n",
              "      <td>0</td>\n",
              "      <td>0</td>\n",
              "      <td>3.796</td>\n",
              "      <td>71</td>\n",
              "      <td>1</td>\n",
              "      <td>0</td>\n",
              "      <td>0</td>\n",
              "      <td>0</td>\n",
              "      <td>4</td>\n",
              "      <td>small</td>\n",
              "    </tr>\n",
              "    <tr>\n",
              "      <th>2</th>\n",
              "      <td>1</td>\n",
              "      <td>0</td>\n",
              "      <td>1</td>\n",
              "      <td>0</td>\n",
              "      <td>0</td>\n",
              "      <td>0</td>\n",
              "      <td>0</td>\n",
              "      <td>0</td>\n",
              "      <td>no</td>\n",
              "      <td>0</td>\n",
              "      <td>0</td>\n",
              "      <td>0</td>\n",
              "      <td>2.705</td>\n",
              "      <td>35</td>\n",
              "      <td>1</td>\n",
              "      <td>0</td>\n",
              "      <td>0</td>\n",
              "      <td>0</td>\n",
              "      <td>0</td>\n",
              "      <td>none</td>\n",
              "    </tr>\n",
              "    <tr>\n",
              "      <th>3</th>\n",
              "      <td>1</td>\n",
              "      <td>0</td>\n",
              "      <td>1</td>\n",
              "      <td>4</td>\n",
              "      <td>0</td>\n",
              "      <td>0</td>\n",
              "      <td>2</td>\n",
              "      <td>0</td>\n",
              "      <td>no</td>\n",
              "      <td>0</td>\n",
              "      <td>0</td>\n",
              "      <td>0</td>\n",
              "      <td>0.537</td>\n",
              "      <td>22</td>\n",
              "      <td>0</td>\n",
              "      <td>0</td>\n",
              "      <td>0</td>\n",
              "      <td>0</td>\n",
              "      <td>3</td>\n",
              "      <td>small</td>\n",
              "    </tr>\n",
              "    <tr>\n",
              "      <th>4</th>\n",
              "      <td>1</td>\n",
              "      <td>0</td>\n",
              "      <td>1</td>\n",
              "      <td>0</td>\n",
              "      <td>0</td>\n",
              "      <td>0</td>\n",
              "      <td>0</td>\n",
              "      <td>0</td>\n",
              "      <td>no</td>\n",
              "      <td>0</td>\n",
              "      <td>0</td>\n",
              "      <td>0</td>\n",
              "      <td>4.174</td>\n",
              "      <td>2</td>\n",
              "      <td>0</td>\n",
              "      <td>0</td>\n",
              "      <td>0</td>\n",
              "      <td>0</td>\n",
              "      <td>0</td>\n",
              "      <td>none</td>\n",
              "    </tr>\n",
              "  </tbody>\n",
              "</table>\n",
              "</div>\n",
              "      <button class=\"colab-df-convert\" onclick=\"convertToInteractive('df-365c245a-be61-4453-8c27-115fc892fb0b')\"\n",
              "              title=\"Convert this dataframe to an interactive table.\"\n",
              "              style=\"display:none;\">\n",
              "        \n",
              "  <svg xmlns=\"http://www.w3.org/2000/svg\" height=\"24px\"viewBox=\"0 0 24 24\"\n",
              "       width=\"24px\">\n",
              "    <path d=\"M0 0h24v24H0V0z\" fill=\"none\"/>\n",
              "    <path d=\"M18.56 5.44l.94 2.06.94-2.06 2.06-.94-2.06-.94-.94-2.06-.94 2.06-2.06.94zm-11 1L8.5 8.5l.94-2.06 2.06-.94-2.06-.94L8.5 2.5l-.94 2.06-2.06.94zm10 10l.94 2.06.94-2.06 2.06-.94-2.06-.94-.94-2.06-.94 2.06-2.06.94z\"/><path d=\"M17.41 7.96l-1.37-1.37c-.4-.4-.92-.59-1.43-.59-.52 0-1.04.2-1.43.59L10.3 9.45l-7.72 7.72c-.78.78-.78 2.05 0 2.83L4 21.41c.39.39.9.59 1.41.59.51 0 1.02-.2 1.41-.59l7.78-7.78 2.81-2.81c.8-.78.8-2.07 0-2.86zM5.41 20L4 18.59l7.72-7.72 1.47 1.35L5.41 20z\"/>\n",
              "  </svg>\n",
              "      </button>\n",
              "      \n",
              "  <style>\n",
              "    .colab-df-container {\n",
              "      display:flex;\n",
              "      flex-wrap:wrap;\n",
              "      gap: 12px;\n",
              "    }\n",
              "\n",
              "    .colab-df-convert {\n",
              "      background-color: #E8F0FE;\n",
              "      border: none;\n",
              "      border-radius: 50%;\n",
              "      cursor: pointer;\n",
              "      display: none;\n",
              "      fill: #1967D2;\n",
              "      height: 32px;\n",
              "      padding: 0 0 0 0;\n",
              "      width: 32px;\n",
              "    }\n",
              "\n",
              "    .colab-df-convert:hover {\n",
              "      background-color: #E2EBFA;\n",
              "      box-shadow: 0px 1px 2px rgba(60, 64, 67, 0.3), 0px 1px 3px 1px rgba(60, 64, 67, 0.15);\n",
              "      fill: #174EA6;\n",
              "    }\n",
              "\n",
              "    [theme=dark] .colab-df-convert {\n",
              "      background-color: #3B4455;\n",
              "      fill: #D2E3FC;\n",
              "    }\n",
              "\n",
              "    [theme=dark] .colab-df-convert:hover {\n",
              "      background-color: #434B5C;\n",
              "      box-shadow: 0px 1px 3px 1px rgba(0, 0, 0, 0.15);\n",
              "      filter: drop-shadow(0px 1px 2px rgba(0, 0, 0, 0.3));\n",
              "      fill: #FFFFFF;\n",
              "    }\n",
              "  </style>\n",
              "\n",
              "      <script>\n",
              "        const buttonEl =\n",
              "          document.querySelector('#df-365c245a-be61-4453-8c27-115fc892fb0b button.colab-df-convert');\n",
              "        buttonEl.style.display =\n",
              "          google.colab.kernel.accessAllowed ? 'block' : 'none';\n",
              "\n",
              "        async function convertToInteractive(key) {\n",
              "          const element = document.querySelector('#df-365c245a-be61-4453-8c27-115fc892fb0b');\n",
              "          const dataTable =\n",
              "            await google.colab.kernel.invokeFunction('convertToInteractive',\n",
              "                                                     [key], {});\n",
              "          if (!dataTable) return;\n",
              "\n",
              "          const docLinkHtml = 'Like what you see? Visit the ' +\n",
              "            '<a target=\"_blank\" href=https://colab.research.google.com/notebooks/data_table.ipynb>data table notebook</a>'\n",
              "            + ' to learn more about interactive tables.';\n",
              "          element.innerHTML = '';\n",
              "          dataTable['output_type'] = 'display_data';\n",
              "          await google.colab.output.renderOutput(dataTable, element);\n",
              "          const docLink = document.createElement('div');\n",
              "          docLink.innerHTML = docLinkHtml;\n",
              "          element.appendChild(docLink);\n",
              "        }\n",
              "      </script>\n",
              "    </div>\n",
              "  </div>\n",
              "  "
            ],
            "text/plain": [
              "   spam  to_multiple  from  cc  ...  exclaim_subj  urgent_subj  exclaim_mess  number\n",
              "0     1            0     1   0  ...             0            0             8   small\n",
              "1     1            0     1   0  ...             0            0             4   small\n",
              "2     1            0     1   0  ...             0            0             0    none\n",
              "3     1            0     1   4  ...             0            0             3   small\n",
              "4     1            0     1   0  ...             0            0             0    none\n",
              "\n",
              "[5 rows x 20 columns]"
            ]
          },
          "metadata": {},
          "execution_count": 214
        }
      ]
    },
    {
      "cell_type": "code",
      "metadata": {
        "colab": {
          "base_uri": "https://localhost:8080/"
        },
        "outputId": "3ac4ea13-a7e0-4aa6-86e0-ac90512b7cdd",
        "id": "5tBER7DacJf8"
      },
      "source": [
        "#We see two data attributes namely winner and number as text data. We need to convert this to numerical data\n",
        "#Get the unique value of winner attribute\n",
        "winner = np.unique(spam_class_test_data['winner'])\n",
        "print('winner attribute unique value:',winner)\n",
        "\n",
        "number = np.unique(spam_class_test_data['number'])\n",
        "print('number attribute unique value:', number)\n",
        "#spam_class_train_data.describe()"
      ],
      "execution_count": 215,
      "outputs": [
        {
          "output_type": "stream",
          "name": "stdout",
          "text": [
            "winner attribute unique value: ['no' 'yes']\n",
            "number attribute unique value: ['big' 'none' 'small']\n"
          ]
        }
      ]
    },
    {
      "cell_type": "code",
      "source": [
        "from sklearn.preprocessing import LabelEncoder\n",
        "gle = LabelEncoder()\n",
        "#transform winner column into numerical column\n",
        "winner_tf = gle.fit_transform(spam_class_test_data['winner'])\n",
        "winner_mappings = {index: label for index, label in \n",
        "                  enumerate(gle.classes_)}\n",
        "winner_mappings"
      ],
      "metadata": {
        "outputId": "2d749ffb-01de-4f7a-d518-41977855d2f2",
        "colab": {
          "base_uri": "https://localhost:8080/"
        },
        "id": "nU3mK0ctb4JU"
      },
      "execution_count": 216,
      "outputs": [
        {
          "output_type": "execute_result",
          "data": {
            "text/plain": [
              "{0: 'no', 1: 'yes'}"
            ]
          },
          "metadata": {},
          "execution_count": 216
        }
      ]
    },
    {
      "cell_type": "code",
      "source": [
        "number_tf = gle.fit_transform(spam_class_test_data['number'])\n",
        "number_mappings = {index: label for index, label in \n",
        "                  enumerate(gle.classes_)}\n",
        "number_mappings"
      ],
      "metadata": {
        "outputId": "b6c5ff90-c5db-4e3c-ae13-4f6ce1b341bd",
        "colab": {
          "base_uri": "https://localhost:8080/"
        },
        "id": "YGeTftVAb4JV"
      },
      "execution_count": 217,
      "outputs": [
        {
          "output_type": "execute_result",
          "data": {
            "text/plain": [
              "{0: 'big', 1: 'none', 2: 'small'}"
            ]
          },
          "metadata": {},
          "execution_count": 217
        }
      ]
    },
    {
      "cell_type": "code",
      "source": [
        "spam_class_test_data['winner_tf'] = winner_tf\n",
        "spam_class_test_data['number_tf'] = number_tf\n",
        "spam_class_test_data"
      ],
      "metadata": {
        "outputId": "fcc8b46e-b542-45d7-c741-05cb79835822",
        "colab": {
          "base_uri": "https://localhost:8080/",
          "height": 487
        },
        "id": "il8cBrzOb4JV"
      },
      "execution_count": 218,
      "outputs": [
        {
          "output_type": "execute_result",
          "data": {
            "text/html": [
              "\n",
              "  <div id=\"df-cc7bdb09-a292-47ca-9ed8-734c62a34111\">\n",
              "    <div class=\"colab-df-container\">\n",
              "      <div>\n",
              "<style scoped>\n",
              "    .dataframe tbody tr th:only-of-type {\n",
              "        vertical-align: middle;\n",
              "    }\n",
              "\n",
              "    .dataframe tbody tr th {\n",
              "        vertical-align: top;\n",
              "    }\n",
              "\n",
              "    .dataframe thead th {\n",
              "        text-align: right;\n",
              "    }\n",
              "</style>\n",
              "<table border=\"1\" class=\"dataframe\">\n",
              "  <thead>\n",
              "    <tr style=\"text-align: right;\">\n",
              "      <th></th>\n",
              "      <th>spam</th>\n",
              "      <th>to_multiple</th>\n",
              "      <th>from</th>\n",
              "      <th>cc</th>\n",
              "      <th>sent_email</th>\n",
              "      <th>image</th>\n",
              "      <th>attach</th>\n",
              "      <th>dollar</th>\n",
              "      <th>winner</th>\n",
              "      <th>inherit</th>\n",
              "      <th>viagra</th>\n",
              "      <th>password</th>\n",
              "      <th>num_char</th>\n",
              "      <th>line_breaks</th>\n",
              "      <th>format</th>\n",
              "      <th>re_subj</th>\n",
              "      <th>exclaim_subj</th>\n",
              "      <th>urgent_subj</th>\n",
              "      <th>exclaim_mess</th>\n",
              "      <th>number</th>\n",
              "      <th>winner_tf</th>\n",
              "      <th>number_tf</th>\n",
              "    </tr>\n",
              "  </thead>\n",
              "  <tbody>\n",
              "    <tr>\n",
              "      <th>0</th>\n",
              "      <td>1</td>\n",
              "      <td>0</td>\n",
              "      <td>1</td>\n",
              "      <td>0</td>\n",
              "      <td>0</td>\n",
              "      <td>0</td>\n",
              "      <td>0</td>\n",
              "      <td>0</td>\n",
              "      <td>no</td>\n",
              "      <td>0</td>\n",
              "      <td>0</td>\n",
              "      <td>0</td>\n",
              "      <td>20.133</td>\n",
              "      <td>364</td>\n",
              "      <td>1</td>\n",
              "      <td>0</td>\n",
              "      <td>0</td>\n",
              "      <td>0</td>\n",
              "      <td>8</td>\n",
              "      <td>small</td>\n",
              "      <td>0</td>\n",
              "      <td>2</td>\n",
              "    </tr>\n",
              "    <tr>\n",
              "      <th>1</th>\n",
              "      <td>1</td>\n",
              "      <td>0</td>\n",
              "      <td>1</td>\n",
              "      <td>0</td>\n",
              "      <td>0</td>\n",
              "      <td>0</td>\n",
              "      <td>0</td>\n",
              "      <td>0</td>\n",
              "      <td>no</td>\n",
              "      <td>0</td>\n",
              "      <td>0</td>\n",
              "      <td>0</td>\n",
              "      <td>3.796</td>\n",
              "      <td>71</td>\n",
              "      <td>1</td>\n",
              "      <td>0</td>\n",
              "      <td>0</td>\n",
              "      <td>0</td>\n",
              "      <td>4</td>\n",
              "      <td>small</td>\n",
              "      <td>0</td>\n",
              "      <td>2</td>\n",
              "    </tr>\n",
              "    <tr>\n",
              "      <th>2</th>\n",
              "      <td>1</td>\n",
              "      <td>0</td>\n",
              "      <td>1</td>\n",
              "      <td>0</td>\n",
              "      <td>0</td>\n",
              "      <td>0</td>\n",
              "      <td>0</td>\n",
              "      <td>0</td>\n",
              "      <td>no</td>\n",
              "      <td>0</td>\n",
              "      <td>0</td>\n",
              "      <td>0</td>\n",
              "      <td>2.705</td>\n",
              "      <td>35</td>\n",
              "      <td>1</td>\n",
              "      <td>0</td>\n",
              "      <td>0</td>\n",
              "      <td>0</td>\n",
              "      <td>0</td>\n",
              "      <td>none</td>\n",
              "      <td>0</td>\n",
              "      <td>1</td>\n",
              "    </tr>\n",
              "    <tr>\n",
              "      <th>3</th>\n",
              "      <td>1</td>\n",
              "      <td>0</td>\n",
              "      <td>1</td>\n",
              "      <td>4</td>\n",
              "      <td>0</td>\n",
              "      <td>0</td>\n",
              "      <td>2</td>\n",
              "      <td>0</td>\n",
              "      <td>no</td>\n",
              "      <td>0</td>\n",
              "      <td>0</td>\n",
              "      <td>0</td>\n",
              "      <td>0.537</td>\n",
              "      <td>22</td>\n",
              "      <td>0</td>\n",
              "      <td>0</td>\n",
              "      <td>0</td>\n",
              "      <td>0</td>\n",
              "      <td>3</td>\n",
              "      <td>small</td>\n",
              "      <td>0</td>\n",
              "      <td>2</td>\n",
              "    </tr>\n",
              "    <tr>\n",
              "      <th>4</th>\n",
              "      <td>1</td>\n",
              "      <td>0</td>\n",
              "      <td>1</td>\n",
              "      <td>0</td>\n",
              "      <td>0</td>\n",
              "      <td>0</td>\n",
              "      <td>0</td>\n",
              "      <td>0</td>\n",
              "      <td>no</td>\n",
              "      <td>0</td>\n",
              "      <td>0</td>\n",
              "      <td>0</td>\n",
              "      <td>4.174</td>\n",
              "      <td>2</td>\n",
              "      <td>0</td>\n",
              "      <td>0</td>\n",
              "      <td>0</td>\n",
              "      <td>0</td>\n",
              "      <td>0</td>\n",
              "      <td>none</td>\n",
              "      <td>0</td>\n",
              "      <td>1</td>\n",
              "    </tr>\n",
              "    <tr>\n",
              "      <th>...</th>\n",
              "      <td>...</td>\n",
              "      <td>...</td>\n",
              "      <td>...</td>\n",
              "      <td>...</td>\n",
              "      <td>...</td>\n",
              "      <td>...</td>\n",
              "      <td>...</td>\n",
              "      <td>...</td>\n",
              "      <td>...</td>\n",
              "      <td>...</td>\n",
              "      <td>...</td>\n",
              "      <td>...</td>\n",
              "      <td>...</td>\n",
              "      <td>...</td>\n",
              "      <td>...</td>\n",
              "      <td>...</td>\n",
              "      <td>...</td>\n",
              "      <td>...</td>\n",
              "      <td>...</td>\n",
              "      <td>...</td>\n",
              "      <td>...</td>\n",
              "      <td>...</td>\n",
              "    </tr>\n",
              "    <tr>\n",
              "      <th>780</th>\n",
              "      <td>0</td>\n",
              "      <td>0</td>\n",
              "      <td>1</td>\n",
              "      <td>0</td>\n",
              "      <td>0</td>\n",
              "      <td>0</td>\n",
              "      <td>0</td>\n",
              "      <td>0</td>\n",
              "      <td>no</td>\n",
              "      <td>0</td>\n",
              "      <td>0</td>\n",
              "      <td>0</td>\n",
              "      <td>31.104</td>\n",
              "      <td>744</td>\n",
              "      <td>1</td>\n",
              "      <td>0</td>\n",
              "      <td>0</td>\n",
              "      <td>0</td>\n",
              "      <td>3</td>\n",
              "      <td>small</td>\n",
              "      <td>0</td>\n",
              "      <td>2</td>\n",
              "    </tr>\n",
              "    <tr>\n",
              "      <th>781</th>\n",
              "      <td>0</td>\n",
              "      <td>0</td>\n",
              "      <td>1</td>\n",
              "      <td>0</td>\n",
              "      <td>0</td>\n",
              "      <td>0</td>\n",
              "      <td>0</td>\n",
              "      <td>0</td>\n",
              "      <td>no</td>\n",
              "      <td>0</td>\n",
              "      <td>0</td>\n",
              "      <td>0</td>\n",
              "      <td>30.201</td>\n",
              "      <td>728</td>\n",
              "      <td>1</td>\n",
              "      <td>0</td>\n",
              "      <td>0</td>\n",
              "      <td>0</td>\n",
              "      <td>3</td>\n",
              "      <td>small</td>\n",
              "      <td>0</td>\n",
              "      <td>2</td>\n",
              "    </tr>\n",
              "    <tr>\n",
              "      <th>782</th>\n",
              "      <td>0</td>\n",
              "      <td>0</td>\n",
              "      <td>1</td>\n",
              "      <td>0</td>\n",
              "      <td>0</td>\n",
              "      <td>0</td>\n",
              "      <td>0</td>\n",
              "      <td>10</td>\n",
              "      <td>no</td>\n",
              "      <td>0</td>\n",
              "      <td>0</td>\n",
              "      <td>0</td>\n",
              "      <td>74.753</td>\n",
              "      <td>1953</td>\n",
              "      <td>1</td>\n",
              "      <td>0</td>\n",
              "      <td>0</td>\n",
              "      <td>0</td>\n",
              "      <td>27</td>\n",
              "      <td>small</td>\n",
              "      <td>0</td>\n",
              "      <td>2</td>\n",
              "    </tr>\n",
              "    <tr>\n",
              "      <th>783</th>\n",
              "      <td>0</td>\n",
              "      <td>0</td>\n",
              "      <td>1</td>\n",
              "      <td>0</td>\n",
              "      <td>0</td>\n",
              "      <td>0</td>\n",
              "      <td>0</td>\n",
              "      <td>25</td>\n",
              "      <td>no</td>\n",
              "      <td>0</td>\n",
              "      <td>0</td>\n",
              "      <td>0</td>\n",
              "      <td>16.863</td>\n",
              "      <td>570</td>\n",
              "      <td>1</td>\n",
              "      <td>0</td>\n",
              "      <td>0</td>\n",
              "      <td>0</td>\n",
              "      <td>3</td>\n",
              "      <td>small</td>\n",
              "      <td>0</td>\n",
              "      <td>2</td>\n",
              "    </tr>\n",
              "    <tr>\n",
              "      <th>784</th>\n",
              "      <td>0</td>\n",
              "      <td>1</td>\n",
              "      <td>1</td>\n",
              "      <td>0</td>\n",
              "      <td>0</td>\n",
              "      <td>0</td>\n",
              "      <td>0</td>\n",
              "      <td>0</td>\n",
              "      <td>no</td>\n",
              "      <td>0</td>\n",
              "      <td>0</td>\n",
              "      <td>0</td>\n",
              "      <td>13.436</td>\n",
              "      <td>272</td>\n",
              "      <td>1</td>\n",
              "      <td>1</td>\n",
              "      <td>0</td>\n",
              "      <td>0</td>\n",
              "      <td>2</td>\n",
              "      <td>big</td>\n",
              "      <td>0</td>\n",
              "      <td>0</td>\n",
              "    </tr>\n",
              "  </tbody>\n",
              "</table>\n",
              "<p>785 rows × 22 columns</p>\n",
              "</div>\n",
              "      <button class=\"colab-df-convert\" onclick=\"convertToInteractive('df-cc7bdb09-a292-47ca-9ed8-734c62a34111')\"\n",
              "              title=\"Convert this dataframe to an interactive table.\"\n",
              "              style=\"display:none;\">\n",
              "        \n",
              "  <svg xmlns=\"http://www.w3.org/2000/svg\" height=\"24px\"viewBox=\"0 0 24 24\"\n",
              "       width=\"24px\">\n",
              "    <path d=\"M0 0h24v24H0V0z\" fill=\"none\"/>\n",
              "    <path d=\"M18.56 5.44l.94 2.06.94-2.06 2.06-.94-2.06-.94-.94-2.06-.94 2.06-2.06.94zm-11 1L8.5 8.5l.94-2.06 2.06-.94-2.06-.94L8.5 2.5l-.94 2.06-2.06.94zm10 10l.94 2.06.94-2.06 2.06-.94-2.06-.94-.94-2.06-.94 2.06-2.06.94z\"/><path d=\"M17.41 7.96l-1.37-1.37c-.4-.4-.92-.59-1.43-.59-.52 0-1.04.2-1.43.59L10.3 9.45l-7.72 7.72c-.78.78-.78 2.05 0 2.83L4 21.41c.39.39.9.59 1.41.59.51 0 1.02-.2 1.41-.59l7.78-7.78 2.81-2.81c.8-.78.8-2.07 0-2.86zM5.41 20L4 18.59l7.72-7.72 1.47 1.35L5.41 20z\"/>\n",
              "  </svg>\n",
              "      </button>\n",
              "      \n",
              "  <style>\n",
              "    .colab-df-container {\n",
              "      display:flex;\n",
              "      flex-wrap:wrap;\n",
              "      gap: 12px;\n",
              "    }\n",
              "\n",
              "    .colab-df-convert {\n",
              "      background-color: #E8F0FE;\n",
              "      border: none;\n",
              "      border-radius: 50%;\n",
              "      cursor: pointer;\n",
              "      display: none;\n",
              "      fill: #1967D2;\n",
              "      height: 32px;\n",
              "      padding: 0 0 0 0;\n",
              "      width: 32px;\n",
              "    }\n",
              "\n",
              "    .colab-df-convert:hover {\n",
              "      background-color: #E2EBFA;\n",
              "      box-shadow: 0px 1px 2px rgba(60, 64, 67, 0.3), 0px 1px 3px 1px rgba(60, 64, 67, 0.15);\n",
              "      fill: #174EA6;\n",
              "    }\n",
              "\n",
              "    [theme=dark] .colab-df-convert {\n",
              "      background-color: #3B4455;\n",
              "      fill: #D2E3FC;\n",
              "    }\n",
              "\n",
              "    [theme=dark] .colab-df-convert:hover {\n",
              "      background-color: #434B5C;\n",
              "      box-shadow: 0px 1px 3px 1px rgba(0, 0, 0, 0.15);\n",
              "      filter: drop-shadow(0px 1px 2px rgba(0, 0, 0, 0.3));\n",
              "      fill: #FFFFFF;\n",
              "    }\n",
              "  </style>\n",
              "\n",
              "      <script>\n",
              "        const buttonEl =\n",
              "          document.querySelector('#df-cc7bdb09-a292-47ca-9ed8-734c62a34111 button.colab-df-convert');\n",
              "        buttonEl.style.display =\n",
              "          google.colab.kernel.accessAllowed ? 'block' : 'none';\n",
              "\n",
              "        async function convertToInteractive(key) {\n",
              "          const element = document.querySelector('#df-cc7bdb09-a292-47ca-9ed8-734c62a34111');\n",
              "          const dataTable =\n",
              "            await google.colab.kernel.invokeFunction('convertToInteractive',\n",
              "                                                     [key], {});\n",
              "          if (!dataTable) return;\n",
              "\n",
              "          const docLinkHtml = 'Like what you see? Visit the ' +\n",
              "            '<a target=\"_blank\" href=https://colab.research.google.com/notebooks/data_table.ipynb>data table notebook</a>'\n",
              "            + ' to learn more about interactive tables.';\n",
              "          element.innerHTML = '';\n",
              "          dataTable['output_type'] = 'display_data';\n",
              "          await google.colab.output.renderOutput(dataTable, element);\n",
              "          const docLink = document.createElement('div');\n",
              "          docLink.innerHTML = docLinkHtml;\n",
              "          element.appendChild(docLink);\n",
              "        }\n",
              "      </script>\n",
              "    </div>\n",
              "  </div>\n",
              "  "
            ],
            "text/plain": [
              "     spam  to_multiple  from  cc  ...  exclaim_mess  number  winner_tf  number_tf\n",
              "0       1            0     1   0  ...             8   small          0          2\n",
              "1       1            0     1   0  ...             4   small          0          2\n",
              "2       1            0     1   0  ...             0    none          0          1\n",
              "3       1            0     1   4  ...             3   small          0          2\n",
              "4       1            0     1   0  ...             0    none          0          1\n",
              "..    ...          ...   ...  ..  ...           ...     ...        ...        ...\n",
              "780     0            0     1   0  ...             3   small          0          2\n",
              "781     0            0     1   0  ...             3   small          0          2\n",
              "782     0            0     1   0  ...            27   small          0          2\n",
              "783     0            0     1   0  ...             3   small          0          2\n",
              "784     0            1     1   0  ...             2     big          0          0\n",
              "\n",
              "[785 rows x 22 columns]"
            ]
          },
          "metadata": {},
          "execution_count": 218
        }
      ]
    },
    {
      "cell_type": "code",
      "source": [
        "#Lets rearrange the transformed column and drop the original column\n",
        "column_names = ['spam', 'to_multiple', 'from', 'cc', 'sent_email', 'image', 'attach',\n",
        "       'dollar', 'winner', 'winner_tf' ,'inherit', 'viagra', 'password', 'num_char',\n",
        "       'line_breaks', 'format', 're_subj', 'exclaim_subj', 'urgent_subj',\n",
        "       'exclaim_mess', 'number', 'number_tf']\n",
        "\n",
        "spam_class_test_data_tf = spam_class_test_data.reindex(columns=column_names)\n",
        "spam_class_test_data_tf\n",
        "\n"
      ],
      "metadata": {
        "colab": {
          "base_uri": "https://localhost:8080/",
          "height": 487
        },
        "outputId": "73e2e905-ff92-42e2-a7d9-219ad6f5cc30",
        "id": "o_FMWa77b4JW"
      },
      "execution_count": 219,
      "outputs": [
        {
          "output_type": "execute_result",
          "data": {
            "text/html": [
              "\n",
              "  <div id=\"df-1b8e3f82-9e61-4dad-a751-532d274139e0\">\n",
              "    <div class=\"colab-df-container\">\n",
              "      <div>\n",
              "<style scoped>\n",
              "    .dataframe tbody tr th:only-of-type {\n",
              "        vertical-align: middle;\n",
              "    }\n",
              "\n",
              "    .dataframe tbody tr th {\n",
              "        vertical-align: top;\n",
              "    }\n",
              "\n",
              "    .dataframe thead th {\n",
              "        text-align: right;\n",
              "    }\n",
              "</style>\n",
              "<table border=\"1\" class=\"dataframe\">\n",
              "  <thead>\n",
              "    <tr style=\"text-align: right;\">\n",
              "      <th></th>\n",
              "      <th>spam</th>\n",
              "      <th>to_multiple</th>\n",
              "      <th>from</th>\n",
              "      <th>cc</th>\n",
              "      <th>sent_email</th>\n",
              "      <th>image</th>\n",
              "      <th>attach</th>\n",
              "      <th>dollar</th>\n",
              "      <th>winner</th>\n",
              "      <th>winner_tf</th>\n",
              "      <th>inherit</th>\n",
              "      <th>viagra</th>\n",
              "      <th>password</th>\n",
              "      <th>num_char</th>\n",
              "      <th>line_breaks</th>\n",
              "      <th>format</th>\n",
              "      <th>re_subj</th>\n",
              "      <th>exclaim_subj</th>\n",
              "      <th>urgent_subj</th>\n",
              "      <th>exclaim_mess</th>\n",
              "      <th>number</th>\n",
              "      <th>number_tf</th>\n",
              "    </tr>\n",
              "  </thead>\n",
              "  <tbody>\n",
              "    <tr>\n",
              "      <th>0</th>\n",
              "      <td>1</td>\n",
              "      <td>0</td>\n",
              "      <td>1</td>\n",
              "      <td>0</td>\n",
              "      <td>0</td>\n",
              "      <td>0</td>\n",
              "      <td>0</td>\n",
              "      <td>0</td>\n",
              "      <td>no</td>\n",
              "      <td>0</td>\n",
              "      <td>0</td>\n",
              "      <td>0</td>\n",
              "      <td>0</td>\n",
              "      <td>20.133</td>\n",
              "      <td>364</td>\n",
              "      <td>1</td>\n",
              "      <td>0</td>\n",
              "      <td>0</td>\n",
              "      <td>0</td>\n",
              "      <td>8</td>\n",
              "      <td>small</td>\n",
              "      <td>2</td>\n",
              "    </tr>\n",
              "    <tr>\n",
              "      <th>1</th>\n",
              "      <td>1</td>\n",
              "      <td>0</td>\n",
              "      <td>1</td>\n",
              "      <td>0</td>\n",
              "      <td>0</td>\n",
              "      <td>0</td>\n",
              "      <td>0</td>\n",
              "      <td>0</td>\n",
              "      <td>no</td>\n",
              "      <td>0</td>\n",
              "      <td>0</td>\n",
              "      <td>0</td>\n",
              "      <td>0</td>\n",
              "      <td>3.796</td>\n",
              "      <td>71</td>\n",
              "      <td>1</td>\n",
              "      <td>0</td>\n",
              "      <td>0</td>\n",
              "      <td>0</td>\n",
              "      <td>4</td>\n",
              "      <td>small</td>\n",
              "      <td>2</td>\n",
              "    </tr>\n",
              "    <tr>\n",
              "      <th>2</th>\n",
              "      <td>1</td>\n",
              "      <td>0</td>\n",
              "      <td>1</td>\n",
              "      <td>0</td>\n",
              "      <td>0</td>\n",
              "      <td>0</td>\n",
              "      <td>0</td>\n",
              "      <td>0</td>\n",
              "      <td>no</td>\n",
              "      <td>0</td>\n",
              "      <td>0</td>\n",
              "      <td>0</td>\n",
              "      <td>0</td>\n",
              "      <td>2.705</td>\n",
              "      <td>35</td>\n",
              "      <td>1</td>\n",
              "      <td>0</td>\n",
              "      <td>0</td>\n",
              "      <td>0</td>\n",
              "      <td>0</td>\n",
              "      <td>none</td>\n",
              "      <td>1</td>\n",
              "    </tr>\n",
              "    <tr>\n",
              "      <th>3</th>\n",
              "      <td>1</td>\n",
              "      <td>0</td>\n",
              "      <td>1</td>\n",
              "      <td>4</td>\n",
              "      <td>0</td>\n",
              "      <td>0</td>\n",
              "      <td>2</td>\n",
              "      <td>0</td>\n",
              "      <td>no</td>\n",
              "      <td>0</td>\n",
              "      <td>0</td>\n",
              "      <td>0</td>\n",
              "      <td>0</td>\n",
              "      <td>0.537</td>\n",
              "      <td>22</td>\n",
              "      <td>0</td>\n",
              "      <td>0</td>\n",
              "      <td>0</td>\n",
              "      <td>0</td>\n",
              "      <td>3</td>\n",
              "      <td>small</td>\n",
              "      <td>2</td>\n",
              "    </tr>\n",
              "    <tr>\n",
              "      <th>4</th>\n",
              "      <td>1</td>\n",
              "      <td>0</td>\n",
              "      <td>1</td>\n",
              "      <td>0</td>\n",
              "      <td>0</td>\n",
              "      <td>0</td>\n",
              "      <td>0</td>\n",
              "      <td>0</td>\n",
              "      <td>no</td>\n",
              "      <td>0</td>\n",
              "      <td>0</td>\n",
              "      <td>0</td>\n",
              "      <td>0</td>\n",
              "      <td>4.174</td>\n",
              "      <td>2</td>\n",
              "      <td>0</td>\n",
              "      <td>0</td>\n",
              "      <td>0</td>\n",
              "      <td>0</td>\n",
              "      <td>0</td>\n",
              "      <td>none</td>\n",
              "      <td>1</td>\n",
              "    </tr>\n",
              "    <tr>\n",
              "      <th>...</th>\n",
              "      <td>...</td>\n",
              "      <td>...</td>\n",
              "      <td>...</td>\n",
              "      <td>...</td>\n",
              "      <td>...</td>\n",
              "      <td>...</td>\n",
              "      <td>...</td>\n",
              "      <td>...</td>\n",
              "      <td>...</td>\n",
              "      <td>...</td>\n",
              "      <td>...</td>\n",
              "      <td>...</td>\n",
              "      <td>...</td>\n",
              "      <td>...</td>\n",
              "      <td>...</td>\n",
              "      <td>...</td>\n",
              "      <td>...</td>\n",
              "      <td>...</td>\n",
              "      <td>...</td>\n",
              "      <td>...</td>\n",
              "      <td>...</td>\n",
              "      <td>...</td>\n",
              "    </tr>\n",
              "    <tr>\n",
              "      <th>780</th>\n",
              "      <td>0</td>\n",
              "      <td>0</td>\n",
              "      <td>1</td>\n",
              "      <td>0</td>\n",
              "      <td>0</td>\n",
              "      <td>0</td>\n",
              "      <td>0</td>\n",
              "      <td>0</td>\n",
              "      <td>no</td>\n",
              "      <td>0</td>\n",
              "      <td>0</td>\n",
              "      <td>0</td>\n",
              "      <td>0</td>\n",
              "      <td>31.104</td>\n",
              "      <td>744</td>\n",
              "      <td>1</td>\n",
              "      <td>0</td>\n",
              "      <td>0</td>\n",
              "      <td>0</td>\n",
              "      <td>3</td>\n",
              "      <td>small</td>\n",
              "      <td>2</td>\n",
              "    </tr>\n",
              "    <tr>\n",
              "      <th>781</th>\n",
              "      <td>0</td>\n",
              "      <td>0</td>\n",
              "      <td>1</td>\n",
              "      <td>0</td>\n",
              "      <td>0</td>\n",
              "      <td>0</td>\n",
              "      <td>0</td>\n",
              "      <td>0</td>\n",
              "      <td>no</td>\n",
              "      <td>0</td>\n",
              "      <td>0</td>\n",
              "      <td>0</td>\n",
              "      <td>0</td>\n",
              "      <td>30.201</td>\n",
              "      <td>728</td>\n",
              "      <td>1</td>\n",
              "      <td>0</td>\n",
              "      <td>0</td>\n",
              "      <td>0</td>\n",
              "      <td>3</td>\n",
              "      <td>small</td>\n",
              "      <td>2</td>\n",
              "    </tr>\n",
              "    <tr>\n",
              "      <th>782</th>\n",
              "      <td>0</td>\n",
              "      <td>0</td>\n",
              "      <td>1</td>\n",
              "      <td>0</td>\n",
              "      <td>0</td>\n",
              "      <td>0</td>\n",
              "      <td>0</td>\n",
              "      <td>10</td>\n",
              "      <td>no</td>\n",
              "      <td>0</td>\n",
              "      <td>0</td>\n",
              "      <td>0</td>\n",
              "      <td>0</td>\n",
              "      <td>74.753</td>\n",
              "      <td>1953</td>\n",
              "      <td>1</td>\n",
              "      <td>0</td>\n",
              "      <td>0</td>\n",
              "      <td>0</td>\n",
              "      <td>27</td>\n",
              "      <td>small</td>\n",
              "      <td>2</td>\n",
              "    </tr>\n",
              "    <tr>\n",
              "      <th>783</th>\n",
              "      <td>0</td>\n",
              "      <td>0</td>\n",
              "      <td>1</td>\n",
              "      <td>0</td>\n",
              "      <td>0</td>\n",
              "      <td>0</td>\n",
              "      <td>0</td>\n",
              "      <td>25</td>\n",
              "      <td>no</td>\n",
              "      <td>0</td>\n",
              "      <td>0</td>\n",
              "      <td>0</td>\n",
              "      <td>0</td>\n",
              "      <td>16.863</td>\n",
              "      <td>570</td>\n",
              "      <td>1</td>\n",
              "      <td>0</td>\n",
              "      <td>0</td>\n",
              "      <td>0</td>\n",
              "      <td>3</td>\n",
              "      <td>small</td>\n",
              "      <td>2</td>\n",
              "    </tr>\n",
              "    <tr>\n",
              "      <th>784</th>\n",
              "      <td>0</td>\n",
              "      <td>1</td>\n",
              "      <td>1</td>\n",
              "      <td>0</td>\n",
              "      <td>0</td>\n",
              "      <td>0</td>\n",
              "      <td>0</td>\n",
              "      <td>0</td>\n",
              "      <td>no</td>\n",
              "      <td>0</td>\n",
              "      <td>0</td>\n",
              "      <td>0</td>\n",
              "      <td>0</td>\n",
              "      <td>13.436</td>\n",
              "      <td>272</td>\n",
              "      <td>1</td>\n",
              "      <td>1</td>\n",
              "      <td>0</td>\n",
              "      <td>0</td>\n",
              "      <td>2</td>\n",
              "      <td>big</td>\n",
              "      <td>0</td>\n",
              "    </tr>\n",
              "  </tbody>\n",
              "</table>\n",
              "<p>785 rows × 22 columns</p>\n",
              "</div>\n",
              "      <button class=\"colab-df-convert\" onclick=\"convertToInteractive('df-1b8e3f82-9e61-4dad-a751-532d274139e0')\"\n",
              "              title=\"Convert this dataframe to an interactive table.\"\n",
              "              style=\"display:none;\">\n",
              "        \n",
              "  <svg xmlns=\"http://www.w3.org/2000/svg\" height=\"24px\"viewBox=\"0 0 24 24\"\n",
              "       width=\"24px\">\n",
              "    <path d=\"M0 0h24v24H0V0z\" fill=\"none\"/>\n",
              "    <path d=\"M18.56 5.44l.94 2.06.94-2.06 2.06-.94-2.06-.94-.94-2.06-.94 2.06-2.06.94zm-11 1L8.5 8.5l.94-2.06 2.06-.94-2.06-.94L8.5 2.5l-.94 2.06-2.06.94zm10 10l.94 2.06.94-2.06 2.06-.94-2.06-.94-.94-2.06-.94 2.06-2.06.94z\"/><path d=\"M17.41 7.96l-1.37-1.37c-.4-.4-.92-.59-1.43-.59-.52 0-1.04.2-1.43.59L10.3 9.45l-7.72 7.72c-.78.78-.78 2.05 0 2.83L4 21.41c.39.39.9.59 1.41.59.51 0 1.02-.2 1.41-.59l7.78-7.78 2.81-2.81c.8-.78.8-2.07 0-2.86zM5.41 20L4 18.59l7.72-7.72 1.47 1.35L5.41 20z\"/>\n",
              "  </svg>\n",
              "      </button>\n",
              "      \n",
              "  <style>\n",
              "    .colab-df-container {\n",
              "      display:flex;\n",
              "      flex-wrap:wrap;\n",
              "      gap: 12px;\n",
              "    }\n",
              "\n",
              "    .colab-df-convert {\n",
              "      background-color: #E8F0FE;\n",
              "      border: none;\n",
              "      border-radius: 50%;\n",
              "      cursor: pointer;\n",
              "      display: none;\n",
              "      fill: #1967D2;\n",
              "      height: 32px;\n",
              "      padding: 0 0 0 0;\n",
              "      width: 32px;\n",
              "    }\n",
              "\n",
              "    .colab-df-convert:hover {\n",
              "      background-color: #E2EBFA;\n",
              "      box-shadow: 0px 1px 2px rgba(60, 64, 67, 0.3), 0px 1px 3px 1px rgba(60, 64, 67, 0.15);\n",
              "      fill: #174EA6;\n",
              "    }\n",
              "\n",
              "    [theme=dark] .colab-df-convert {\n",
              "      background-color: #3B4455;\n",
              "      fill: #D2E3FC;\n",
              "    }\n",
              "\n",
              "    [theme=dark] .colab-df-convert:hover {\n",
              "      background-color: #434B5C;\n",
              "      box-shadow: 0px 1px 3px 1px rgba(0, 0, 0, 0.15);\n",
              "      filter: drop-shadow(0px 1px 2px rgba(0, 0, 0, 0.3));\n",
              "      fill: #FFFFFF;\n",
              "    }\n",
              "  </style>\n",
              "\n",
              "      <script>\n",
              "        const buttonEl =\n",
              "          document.querySelector('#df-1b8e3f82-9e61-4dad-a751-532d274139e0 button.colab-df-convert');\n",
              "        buttonEl.style.display =\n",
              "          google.colab.kernel.accessAllowed ? 'block' : 'none';\n",
              "\n",
              "        async function convertToInteractive(key) {\n",
              "          const element = document.querySelector('#df-1b8e3f82-9e61-4dad-a751-532d274139e0');\n",
              "          const dataTable =\n",
              "            await google.colab.kernel.invokeFunction('convertToInteractive',\n",
              "                                                     [key], {});\n",
              "          if (!dataTable) return;\n",
              "\n",
              "          const docLinkHtml = 'Like what you see? Visit the ' +\n",
              "            '<a target=\"_blank\" href=https://colab.research.google.com/notebooks/data_table.ipynb>data table notebook</a>'\n",
              "            + ' to learn more about interactive tables.';\n",
              "          element.innerHTML = '';\n",
              "          dataTable['output_type'] = 'display_data';\n",
              "          await google.colab.output.renderOutput(dataTable, element);\n",
              "          const docLink = document.createElement('div');\n",
              "          docLink.innerHTML = docLinkHtml;\n",
              "          element.appendChild(docLink);\n",
              "        }\n",
              "      </script>\n",
              "    </div>\n",
              "  </div>\n",
              "  "
            ],
            "text/plain": [
              "     spam  to_multiple  from  cc  ...  urgent_subj  exclaim_mess  number  number_tf\n",
              "0       1            0     1   0  ...            0             8   small          2\n",
              "1       1            0     1   0  ...            0             4   small          2\n",
              "2       1            0     1   0  ...            0             0    none          1\n",
              "3       1            0     1   4  ...            0             3   small          2\n",
              "4       1            0     1   0  ...            0             0    none          1\n",
              "..    ...          ...   ...  ..  ...          ...           ...     ...        ...\n",
              "780     0            0     1   0  ...            0             3   small          2\n",
              "781     0            0     1   0  ...            0             3   small          2\n",
              "782     0            0     1   0  ...            0            27   small          2\n",
              "783     0            0     1   0  ...            0             3   small          2\n",
              "784     0            1     1   0  ...            0             2     big          0\n",
              "\n",
              "[785 rows x 22 columns]"
            ]
          },
          "metadata": {},
          "execution_count": 219
        }
      ]
    },
    {
      "cell_type": "code",
      "source": [
        "#Lets Drop original column in test dataframe\n",
        "spam_class_test_data_tf = spam_class_test_data_tf.drop(['winner', 'number'], axis=1)\n",
        "spam_class_test_data_tf"
      ],
      "metadata": {
        "colab": {
          "base_uri": "https://localhost:8080/",
          "height": 487
        },
        "outputId": "851666fd-e506-4c1e-92ac-280a38adcac3",
        "id": "F9hWBcAAb4JW"
      },
      "execution_count": 220,
      "outputs": [
        {
          "output_type": "execute_result",
          "data": {
            "text/html": [
              "\n",
              "  <div id=\"df-8e0d3b0f-1774-4735-8e1f-ff83ce5388e2\">\n",
              "    <div class=\"colab-df-container\">\n",
              "      <div>\n",
              "<style scoped>\n",
              "    .dataframe tbody tr th:only-of-type {\n",
              "        vertical-align: middle;\n",
              "    }\n",
              "\n",
              "    .dataframe tbody tr th {\n",
              "        vertical-align: top;\n",
              "    }\n",
              "\n",
              "    .dataframe thead th {\n",
              "        text-align: right;\n",
              "    }\n",
              "</style>\n",
              "<table border=\"1\" class=\"dataframe\">\n",
              "  <thead>\n",
              "    <tr style=\"text-align: right;\">\n",
              "      <th></th>\n",
              "      <th>spam</th>\n",
              "      <th>to_multiple</th>\n",
              "      <th>from</th>\n",
              "      <th>cc</th>\n",
              "      <th>sent_email</th>\n",
              "      <th>image</th>\n",
              "      <th>attach</th>\n",
              "      <th>dollar</th>\n",
              "      <th>winner_tf</th>\n",
              "      <th>inherit</th>\n",
              "      <th>viagra</th>\n",
              "      <th>password</th>\n",
              "      <th>num_char</th>\n",
              "      <th>line_breaks</th>\n",
              "      <th>format</th>\n",
              "      <th>re_subj</th>\n",
              "      <th>exclaim_subj</th>\n",
              "      <th>urgent_subj</th>\n",
              "      <th>exclaim_mess</th>\n",
              "      <th>number_tf</th>\n",
              "    </tr>\n",
              "  </thead>\n",
              "  <tbody>\n",
              "    <tr>\n",
              "      <th>0</th>\n",
              "      <td>1</td>\n",
              "      <td>0</td>\n",
              "      <td>1</td>\n",
              "      <td>0</td>\n",
              "      <td>0</td>\n",
              "      <td>0</td>\n",
              "      <td>0</td>\n",
              "      <td>0</td>\n",
              "      <td>0</td>\n",
              "      <td>0</td>\n",
              "      <td>0</td>\n",
              "      <td>0</td>\n",
              "      <td>20.133</td>\n",
              "      <td>364</td>\n",
              "      <td>1</td>\n",
              "      <td>0</td>\n",
              "      <td>0</td>\n",
              "      <td>0</td>\n",
              "      <td>8</td>\n",
              "      <td>2</td>\n",
              "    </tr>\n",
              "    <tr>\n",
              "      <th>1</th>\n",
              "      <td>1</td>\n",
              "      <td>0</td>\n",
              "      <td>1</td>\n",
              "      <td>0</td>\n",
              "      <td>0</td>\n",
              "      <td>0</td>\n",
              "      <td>0</td>\n",
              "      <td>0</td>\n",
              "      <td>0</td>\n",
              "      <td>0</td>\n",
              "      <td>0</td>\n",
              "      <td>0</td>\n",
              "      <td>3.796</td>\n",
              "      <td>71</td>\n",
              "      <td>1</td>\n",
              "      <td>0</td>\n",
              "      <td>0</td>\n",
              "      <td>0</td>\n",
              "      <td>4</td>\n",
              "      <td>2</td>\n",
              "    </tr>\n",
              "    <tr>\n",
              "      <th>2</th>\n",
              "      <td>1</td>\n",
              "      <td>0</td>\n",
              "      <td>1</td>\n",
              "      <td>0</td>\n",
              "      <td>0</td>\n",
              "      <td>0</td>\n",
              "      <td>0</td>\n",
              "      <td>0</td>\n",
              "      <td>0</td>\n",
              "      <td>0</td>\n",
              "      <td>0</td>\n",
              "      <td>0</td>\n",
              "      <td>2.705</td>\n",
              "      <td>35</td>\n",
              "      <td>1</td>\n",
              "      <td>0</td>\n",
              "      <td>0</td>\n",
              "      <td>0</td>\n",
              "      <td>0</td>\n",
              "      <td>1</td>\n",
              "    </tr>\n",
              "    <tr>\n",
              "      <th>3</th>\n",
              "      <td>1</td>\n",
              "      <td>0</td>\n",
              "      <td>1</td>\n",
              "      <td>4</td>\n",
              "      <td>0</td>\n",
              "      <td>0</td>\n",
              "      <td>2</td>\n",
              "      <td>0</td>\n",
              "      <td>0</td>\n",
              "      <td>0</td>\n",
              "      <td>0</td>\n",
              "      <td>0</td>\n",
              "      <td>0.537</td>\n",
              "      <td>22</td>\n",
              "      <td>0</td>\n",
              "      <td>0</td>\n",
              "      <td>0</td>\n",
              "      <td>0</td>\n",
              "      <td>3</td>\n",
              "      <td>2</td>\n",
              "    </tr>\n",
              "    <tr>\n",
              "      <th>4</th>\n",
              "      <td>1</td>\n",
              "      <td>0</td>\n",
              "      <td>1</td>\n",
              "      <td>0</td>\n",
              "      <td>0</td>\n",
              "      <td>0</td>\n",
              "      <td>0</td>\n",
              "      <td>0</td>\n",
              "      <td>0</td>\n",
              "      <td>0</td>\n",
              "      <td>0</td>\n",
              "      <td>0</td>\n",
              "      <td>4.174</td>\n",
              "      <td>2</td>\n",
              "      <td>0</td>\n",
              "      <td>0</td>\n",
              "      <td>0</td>\n",
              "      <td>0</td>\n",
              "      <td>0</td>\n",
              "      <td>1</td>\n",
              "    </tr>\n",
              "    <tr>\n",
              "      <th>...</th>\n",
              "      <td>...</td>\n",
              "      <td>...</td>\n",
              "      <td>...</td>\n",
              "      <td>...</td>\n",
              "      <td>...</td>\n",
              "      <td>...</td>\n",
              "      <td>...</td>\n",
              "      <td>...</td>\n",
              "      <td>...</td>\n",
              "      <td>...</td>\n",
              "      <td>...</td>\n",
              "      <td>...</td>\n",
              "      <td>...</td>\n",
              "      <td>...</td>\n",
              "      <td>...</td>\n",
              "      <td>...</td>\n",
              "      <td>...</td>\n",
              "      <td>...</td>\n",
              "      <td>...</td>\n",
              "      <td>...</td>\n",
              "    </tr>\n",
              "    <tr>\n",
              "      <th>780</th>\n",
              "      <td>0</td>\n",
              "      <td>0</td>\n",
              "      <td>1</td>\n",
              "      <td>0</td>\n",
              "      <td>0</td>\n",
              "      <td>0</td>\n",
              "      <td>0</td>\n",
              "      <td>0</td>\n",
              "      <td>0</td>\n",
              "      <td>0</td>\n",
              "      <td>0</td>\n",
              "      <td>0</td>\n",
              "      <td>31.104</td>\n",
              "      <td>744</td>\n",
              "      <td>1</td>\n",
              "      <td>0</td>\n",
              "      <td>0</td>\n",
              "      <td>0</td>\n",
              "      <td>3</td>\n",
              "      <td>2</td>\n",
              "    </tr>\n",
              "    <tr>\n",
              "      <th>781</th>\n",
              "      <td>0</td>\n",
              "      <td>0</td>\n",
              "      <td>1</td>\n",
              "      <td>0</td>\n",
              "      <td>0</td>\n",
              "      <td>0</td>\n",
              "      <td>0</td>\n",
              "      <td>0</td>\n",
              "      <td>0</td>\n",
              "      <td>0</td>\n",
              "      <td>0</td>\n",
              "      <td>0</td>\n",
              "      <td>30.201</td>\n",
              "      <td>728</td>\n",
              "      <td>1</td>\n",
              "      <td>0</td>\n",
              "      <td>0</td>\n",
              "      <td>0</td>\n",
              "      <td>3</td>\n",
              "      <td>2</td>\n",
              "    </tr>\n",
              "    <tr>\n",
              "      <th>782</th>\n",
              "      <td>0</td>\n",
              "      <td>0</td>\n",
              "      <td>1</td>\n",
              "      <td>0</td>\n",
              "      <td>0</td>\n",
              "      <td>0</td>\n",
              "      <td>0</td>\n",
              "      <td>10</td>\n",
              "      <td>0</td>\n",
              "      <td>0</td>\n",
              "      <td>0</td>\n",
              "      <td>0</td>\n",
              "      <td>74.753</td>\n",
              "      <td>1953</td>\n",
              "      <td>1</td>\n",
              "      <td>0</td>\n",
              "      <td>0</td>\n",
              "      <td>0</td>\n",
              "      <td>27</td>\n",
              "      <td>2</td>\n",
              "    </tr>\n",
              "    <tr>\n",
              "      <th>783</th>\n",
              "      <td>0</td>\n",
              "      <td>0</td>\n",
              "      <td>1</td>\n",
              "      <td>0</td>\n",
              "      <td>0</td>\n",
              "      <td>0</td>\n",
              "      <td>0</td>\n",
              "      <td>25</td>\n",
              "      <td>0</td>\n",
              "      <td>0</td>\n",
              "      <td>0</td>\n",
              "      <td>0</td>\n",
              "      <td>16.863</td>\n",
              "      <td>570</td>\n",
              "      <td>1</td>\n",
              "      <td>0</td>\n",
              "      <td>0</td>\n",
              "      <td>0</td>\n",
              "      <td>3</td>\n",
              "      <td>2</td>\n",
              "    </tr>\n",
              "    <tr>\n",
              "      <th>784</th>\n",
              "      <td>0</td>\n",
              "      <td>1</td>\n",
              "      <td>1</td>\n",
              "      <td>0</td>\n",
              "      <td>0</td>\n",
              "      <td>0</td>\n",
              "      <td>0</td>\n",
              "      <td>0</td>\n",
              "      <td>0</td>\n",
              "      <td>0</td>\n",
              "      <td>0</td>\n",
              "      <td>0</td>\n",
              "      <td>13.436</td>\n",
              "      <td>272</td>\n",
              "      <td>1</td>\n",
              "      <td>1</td>\n",
              "      <td>0</td>\n",
              "      <td>0</td>\n",
              "      <td>2</td>\n",
              "      <td>0</td>\n",
              "    </tr>\n",
              "  </tbody>\n",
              "</table>\n",
              "<p>785 rows × 20 columns</p>\n",
              "</div>\n",
              "      <button class=\"colab-df-convert\" onclick=\"convertToInteractive('df-8e0d3b0f-1774-4735-8e1f-ff83ce5388e2')\"\n",
              "              title=\"Convert this dataframe to an interactive table.\"\n",
              "              style=\"display:none;\">\n",
              "        \n",
              "  <svg xmlns=\"http://www.w3.org/2000/svg\" height=\"24px\"viewBox=\"0 0 24 24\"\n",
              "       width=\"24px\">\n",
              "    <path d=\"M0 0h24v24H0V0z\" fill=\"none\"/>\n",
              "    <path d=\"M18.56 5.44l.94 2.06.94-2.06 2.06-.94-2.06-.94-.94-2.06-.94 2.06-2.06.94zm-11 1L8.5 8.5l.94-2.06 2.06-.94-2.06-.94L8.5 2.5l-.94 2.06-2.06.94zm10 10l.94 2.06.94-2.06 2.06-.94-2.06-.94-.94-2.06-.94 2.06-2.06.94z\"/><path d=\"M17.41 7.96l-1.37-1.37c-.4-.4-.92-.59-1.43-.59-.52 0-1.04.2-1.43.59L10.3 9.45l-7.72 7.72c-.78.78-.78 2.05 0 2.83L4 21.41c.39.39.9.59 1.41.59.51 0 1.02-.2 1.41-.59l7.78-7.78 2.81-2.81c.8-.78.8-2.07 0-2.86zM5.41 20L4 18.59l7.72-7.72 1.47 1.35L5.41 20z\"/>\n",
              "  </svg>\n",
              "      </button>\n",
              "      \n",
              "  <style>\n",
              "    .colab-df-container {\n",
              "      display:flex;\n",
              "      flex-wrap:wrap;\n",
              "      gap: 12px;\n",
              "    }\n",
              "\n",
              "    .colab-df-convert {\n",
              "      background-color: #E8F0FE;\n",
              "      border: none;\n",
              "      border-radius: 50%;\n",
              "      cursor: pointer;\n",
              "      display: none;\n",
              "      fill: #1967D2;\n",
              "      height: 32px;\n",
              "      padding: 0 0 0 0;\n",
              "      width: 32px;\n",
              "    }\n",
              "\n",
              "    .colab-df-convert:hover {\n",
              "      background-color: #E2EBFA;\n",
              "      box-shadow: 0px 1px 2px rgba(60, 64, 67, 0.3), 0px 1px 3px 1px rgba(60, 64, 67, 0.15);\n",
              "      fill: #174EA6;\n",
              "    }\n",
              "\n",
              "    [theme=dark] .colab-df-convert {\n",
              "      background-color: #3B4455;\n",
              "      fill: #D2E3FC;\n",
              "    }\n",
              "\n",
              "    [theme=dark] .colab-df-convert:hover {\n",
              "      background-color: #434B5C;\n",
              "      box-shadow: 0px 1px 3px 1px rgba(0, 0, 0, 0.15);\n",
              "      filter: drop-shadow(0px 1px 2px rgba(0, 0, 0, 0.3));\n",
              "      fill: #FFFFFF;\n",
              "    }\n",
              "  </style>\n",
              "\n",
              "      <script>\n",
              "        const buttonEl =\n",
              "          document.querySelector('#df-8e0d3b0f-1774-4735-8e1f-ff83ce5388e2 button.colab-df-convert');\n",
              "        buttonEl.style.display =\n",
              "          google.colab.kernel.accessAllowed ? 'block' : 'none';\n",
              "\n",
              "        async function convertToInteractive(key) {\n",
              "          const element = document.querySelector('#df-8e0d3b0f-1774-4735-8e1f-ff83ce5388e2');\n",
              "          const dataTable =\n",
              "            await google.colab.kernel.invokeFunction('convertToInteractive',\n",
              "                                                     [key], {});\n",
              "          if (!dataTable) return;\n",
              "\n",
              "          const docLinkHtml = 'Like what you see? Visit the ' +\n",
              "            '<a target=\"_blank\" href=https://colab.research.google.com/notebooks/data_table.ipynb>data table notebook</a>'\n",
              "            + ' to learn more about interactive tables.';\n",
              "          element.innerHTML = '';\n",
              "          dataTable['output_type'] = 'display_data';\n",
              "          await google.colab.output.renderOutput(dataTable, element);\n",
              "          const docLink = document.createElement('div');\n",
              "          docLink.innerHTML = docLinkHtml;\n",
              "          element.appendChild(docLink);\n",
              "        }\n",
              "      </script>\n",
              "    </div>\n",
              "  </div>\n",
              "  "
            ],
            "text/plain": [
              "     spam  to_multiple  from  ...  urgent_subj  exclaim_mess  number_tf\n",
              "0       1            0     1  ...            0             8          2\n",
              "1       1            0     1  ...            0             4          2\n",
              "2       1            0     1  ...            0             0          1\n",
              "3       1            0     1  ...            0             3          2\n",
              "4       1            0     1  ...            0             0          1\n",
              "..    ...          ...   ...  ...          ...           ...        ...\n",
              "780     0            0     1  ...            0             3          2\n",
              "781     0            0     1  ...            0             3          2\n",
              "782     0            0     1  ...            0            27          2\n",
              "783     0            0     1  ...            0             3          2\n",
              "784     0            1     1  ...            0             2          0\n",
              "\n",
              "[785 rows x 20 columns]"
            ]
          },
          "metadata": {},
          "execution_count": 220
        }
      ]
    },
    {
      "cell_type": "code",
      "source": [
        "#Let us now compute the size of train and test data post transformation of non numeric column\n",
        "n_train = len(spam_class_train_data_tf.index) #number of data points in the data set\n",
        "print('number of data points in the train data set:',n_train)\n",
        "n_test = len(spam_class_test_data_tf.index) #number of data points in the data set\n",
        "print('number of data points in the test data set:',n_test)"
      ],
      "metadata": {
        "colab": {
          "base_uri": "https://localhost:8080/"
        },
        "outputId": "b58c80f7-de39-45c9-d1ec-712085f10173",
        "id": "X62uM5qnVzNy"
      },
      "execution_count": 221,
      "outputs": [
        {
          "output_type": "stream",
          "name": "stdout",
          "text": [
            "number of data points in the train data set: 3136\n",
            "number of data points in the test data set: 785\n"
          ]
        }
      ]
    },
    {
      "cell_type": "code",
      "source": [
        "#extract the predictor variable columns(X variables) from train and test transform dataset.\n",
        "X_train = spam_class_train_data_tf[spam_class_train_data_tf.columns[1:20]]\n",
        "y_train = spam_class_train_data_tf[spam_class_train_data_tf.columns[0]]\n",
        "X_test = spam_class_test_data_tf[spam_class_test_data_tf.columns[1:20]]\n",
        "y_test = spam_class_test_data_tf[spam_class_test_data_tf.columns[0]]\n",
        "\n"
      ],
      "metadata": {
        "id": "hEIo6SQqVzN0"
      },
      "execution_count": 222,
      "outputs": []
    },
    {
      "cell_type": "code",
      "source": [
        "spam_class_test_data_tf.info()"
      ],
      "metadata": {
        "id": "RDnkwlSJ8fSE",
        "outputId": "acddc3ae-9e96-4e0b-b860-02d4de1a6ee0",
        "colab": {
          "base_uri": "https://localhost:8080/"
        }
      },
      "execution_count": 223,
      "outputs": [
        {
          "output_type": "stream",
          "name": "stdout",
          "text": [
            "<class 'pandas.core.frame.DataFrame'>\n",
            "RangeIndex: 785 entries, 0 to 784\n",
            "Data columns (total 20 columns):\n",
            " #   Column        Non-Null Count  Dtype  \n",
            "---  ------        --------------  -----  \n",
            " 0   spam          785 non-null    int64  \n",
            " 1   to_multiple   785 non-null    int64  \n",
            " 2   from          785 non-null    int64  \n",
            " 3   cc            785 non-null    int64  \n",
            " 4   sent_email    785 non-null    int64  \n",
            " 5   image         785 non-null    int64  \n",
            " 6   attach        785 non-null    int64  \n",
            " 7   dollar        785 non-null    int64  \n",
            " 8   winner_tf     785 non-null    int64  \n",
            " 9   inherit       785 non-null    int64  \n",
            " 10  viagra        785 non-null    int64  \n",
            " 11  password      785 non-null    int64  \n",
            " 12  num_char      785 non-null    float64\n",
            " 13  line_breaks   785 non-null    int64  \n",
            " 14  format        785 non-null    int64  \n",
            " 15  re_subj       785 non-null    int64  \n",
            " 16  exclaim_subj  785 non-null    int64  \n",
            " 17  urgent_subj   785 non-null    int64  \n",
            " 18  exclaim_mess  785 non-null    int64  \n",
            " 19  number_tf     785 non-null    int64  \n",
            "dtypes: float64(1), int64(19)\n",
            "memory usage: 122.8 KB\n"
          ]
        }
      ]
    },
    {
      "cell_type": "markdown",
      "metadata": {
        "id": "mH8Dg8VjyUkB"
      },
      "source": [
        "================================================================================"
      ]
    },
    {
      "cell_type": "markdown",
      "source": [
        "### **(c) [C, R] How did you handle class imbalance when building the classification models? Explain.**\n",
        "**Analysing the Class Imbalance for train and test data and balanced it** "
      ],
      "metadata": {
        "id": "okfrjio8P0AQ"
      }
    },
    {
      "cell_type": "code",
      "source": [
        "#Print the count of each spam class data\n",
        "print('Train Data class count:\\n', spam_class_train_data_tf['spam'].value_counts())  \n",
        "#We see that data has two class for spam which is 0 and 1.\n",
        "#Print the count of each spam class data\n",
        "print('Test Data class count:\\n', spam_class_test_data_tf['spam'].value_counts())  \n",
        "#We see that data has two class for spam which is 0 and 1."
      ],
      "metadata": {
        "id": "aQsIfDHjLr8_",
        "outputId": "d1bf87ea-53c4-44b7-a328-05b295398ebe",
        "colab": {
          "base_uri": "https://localhost:8080/"
        }
      },
      "execution_count": 224,
      "outputs": [
        {
          "output_type": "stream",
          "name": "stdout",
          "text": [
            "Train Data class count:\n",
            " 0    2842\n",
            "1     294\n",
            "Name: spam, dtype: int64\n",
            "Test Data class count:\n",
            " 0    712\n",
            "1     73\n",
            "Name: spam, dtype: int64\n"
          ]
        }
      ]
    },
    {
      "cell_type": "code",
      "source": [
        "# visualize the target variable for class imbalance for Train and Test Data\n",
        "import seaborn as sns\n",
        "import matplotlib.pyplot as plt\n",
        "fig, axes = plt.subplots(ncols=2, figsize=(10, 5))\n",
        "ax1, ax2 = axes\n",
        "sns.countplot(spam_class_train_data_tf['spam'],  ax=ax1)\n",
        "sns.countplot(spam_class_test_data_tf['spam'],  ax=ax2)\n",
        "ax1.set_title('Train Data Class Count')\n",
        "ax1.xaxis.set_ticklabels(['Class-0','Class-1'])\n",
        "ax2.set_title('Test Data Class count')\n",
        "ax2.xaxis.set_ticklabels(['Class-0','Class-1'])\n",
        "fig.suptitle('Class count info on Train and Test data')"
      ],
      "metadata": {
        "id": "SQR698xbPBzA",
        "outputId": "a09b5f26-20d9-44c4-9059-58024df3d873",
        "colab": {
          "base_uri": "https://localhost:8080/",
          "height": 477
        }
      },
      "execution_count": 225,
      "outputs": [
        {
          "output_type": "stream",
          "name": "stderr",
          "text": [
            "/usr/local/lib/python3.7/dist-packages/seaborn/_decorators.py:43: FutureWarning: Pass the following variable as a keyword arg: x. From version 0.12, the only valid positional argument will be `data`, and passing other arguments without an explicit keyword will result in an error or misinterpretation.\n",
            "  FutureWarning\n",
            "/usr/local/lib/python3.7/dist-packages/seaborn/_decorators.py:43: FutureWarning: Pass the following variable as a keyword arg: x. From version 0.12, the only valid positional argument will be `data`, and passing other arguments without an explicit keyword will result in an error or misinterpretation.\n",
            "  FutureWarning\n"
          ]
        },
        {
          "output_type": "execute_result",
          "data": {
            "text/plain": [
              "Text(0.5, 0.98, 'Class count info on Train and Test data')"
            ]
          },
          "metadata": {},
          "execution_count": 225
        },
        {
          "output_type": "display_data",
          "data": {
            "image/png": "[encoded data removed]",
            "text/plain": [
              "<Figure size 720x360 with 2 Axes>"
            ]
          },
          "metadata": {
            "needs_background": "light"
          }
        }
      ]
    },
    {
      "cell_type": "markdown",
      "source": [
        "We can see the dataset is highly imbalance and various classifier would predict class-0 with high accuracy totally ignoring the class-1. To avoid such situation we need to balance the data using various technique available."
      ],
      "metadata": {
        "id": "7sgEnIADK6OX"
      }
    },
    {
      "cell_type": "code",
      "source": [
        "# class count\n",
        "spam_class_0_count, spam_class_1_count = spam_class_train_data_tf['spam'].value_counts()\n",
        "print(spam_class_0_count , spam_class_1_count)\n",
        "# Separate class\n",
        "spam_class_0 = spam_class_train_data_tf[spam_class_train_data_tf['spam'] == 0]\n",
        "spam_class_1 = spam_class_train_data_tf[spam_class_train_data_tf['spam'] == 1]\n",
        "# print the shape of the class\n",
        "print('Spam class 0:', spam_class_0.shape)\n",
        "print('Spam class 1:', spam_class_1.shape)"
      ],
      "metadata": {
        "id": "kQbPs3l4SJSP",
        "outputId": "0492fab3-de2e-40f7-d8ad-0aafe5cf4095",
        "colab": {
          "base_uri": "https://localhost:8080/"
        }
      },
      "execution_count": 226,
      "outputs": [
        {
          "output_type": "stream",
          "name": "stdout",
          "text": [
            "2842 294\n",
            "Spam class 0: (2842, 20)\n",
            "Spam class 1: (294, 20)\n"
          ]
        }
      ]
    },
    {
      "cell_type": "markdown",
      "source": [
        "We will use the Synthetic Minority Oversampling Technique (SMOTE) to generates synthetic data for the minority class.SMOTE (Synthetic Minority Oversampling Technique) works by randomly picking a point from the minority class and computing the k-nearest neighbors for this point. The synthetic points are added between the chosen point and its neighbors\n",
        "\n",
        "SMOTE algorithm works in 4 simple steps:\n",
        "1. Choose a minority class as the input vector\n",
        "2. Find its k nearest neighbors (k_neighbors is specified as an argument in the SMOTE() function)\n",
        "3. Choose one of these neighbors and place a synthetic point anywhere on the line joining the point under consideration and its chosen neighbor\n",
        "4. Repeat the steps until data is balanced"
      ],
      "metadata": {
        "id": "spnkgd1UZPIp"
      }
    },
    {
      "cell_type": "code",
      "source": [
        "# import library\n",
        "from imblearn.over_sampling import SMOTE\n",
        "from collections import Counter\n",
        "y_train_counter = Counter(y_train.ravel())\n",
        "print('Original train dataset shape: : ', y_train_counter)\n",
        "smote = SMOTE(random_state=0)\n",
        "\n",
        "# fit predictor and target variable\n",
        "X_train_smote, y_train_smote = smote.fit_resample(X_train, y_train)\n",
        "\n",
        "print('Resample train dataset shape', Counter(y_train_smote))\n"
      ],
      "metadata": {
        "id": "jifkuJcNZzpn",
        "outputId": "ba74fd1e-0e5e-4ca9-cfa6-2ee9c9b0bbb9",
        "colab": {
          "base_uri": "https://localhost:8080/"
        }
      },
      "execution_count": 227,
      "outputs": [
        {
          "output_type": "stream",
          "name": "stdout",
          "text": [
            "Original train dataset shape: :  Counter({0: 2842, 1: 294})\n",
            "Resample train dataset shape Counter({0: 2842, 1: 2842})\n"
          ]
        }
      ]
    },
    {
      "cell_type": "code",
      "source": [
        "y_test_counter = Counter(y_test.ravel())\n",
        "print('Original test dataset shape', y_test_counter)\n",
        "smote = SMOTE(random_state=0)\n",
        "\n",
        "# fit predictor and target variable\n",
        "X_test_smote, y_test_smote = smote.fit_resample(X_test, y_test)\n",
        "\n",
        "print('Resample test dataset shape', Counter(y_test_smote))\n",
        "\n",
        "n_train_smote = len(X_train_smote)\n",
        "n_test_smote = len(X_test_smote)\n",
        "\n",
        "print(n_train_smote,n_test_smote)"
      ],
      "metadata": {
        "id": "_J7fDAbmdgTb",
        "outputId": "13b3a0ac-71d8-4641-f573-d88afbdf02e2",
        "colab": {
          "base_uri": "https://localhost:8080/"
        }
      },
      "execution_count": 228,
      "outputs": [
        {
          "output_type": "stream",
          "name": "stdout",
          "text": [
            "Original test dataset shape Counter({0: 712, 1: 73})\n",
            "Resample test dataset shape Counter({1: 712, 0: 712})\n",
            "5684 1424\n"
          ]
        }
      ]
    },
    {
      "cell_type": "markdown",
      "source": [
        "With above we see that we have balanced both the train and test dataset."
      ],
      "metadata": {
        "id": "TL6ZIcKleWWS"
      }
    },
    {
      "cell_type": "markdown",
      "source": [
        "##**(b) [C] For each of the following classification methods, build a classification model using the training data:**"
      ],
      "metadata": {
        "id": "TN9W7sQREvVA"
      }
    },
    {
      "cell_type": "markdown",
      "source": [
        "### ===================================================================="
      ],
      "metadata": {
        "id": "ozLZNkAJQbnO"
      }
    },
    {
      "cell_type": "markdown",
      "source": [
        "### **Creating some common utilities function**"
      ],
      "metadata": {
        "id": "1NtF7VDp_Joi"
      }
    },
    {
      "cell_type": "code",
      "source": [
        "#Creating some common function\n",
        "#Creating Function for plotting the confusion Matrix\n",
        "def plot_confusion_matrix(p_y_train, p_y_train_predictions, p_y_test, p_y_test_predictions):\n",
        "          \n",
        "    #Lets Calculate the confusion Matrix\n",
        "    from sklearn.metrics import confusion_matrix\n",
        "    train_conf_matrix = confusion_matrix(p_y_train,p_y_train_predictions)\n",
        "    test_conf_matrix = confusion_matrix(p_y_test,p_y_test_predictions)\n",
        "    print( \"Train confusion matrix: \\n\", train_conf_matrix)\n",
        "    print(\"Test confusion matrix: \\n\", test_conf_matrix)\n",
        "    \n",
        "    #Plotting the confusion matrix for better interpretation\n",
        "    import seaborn as sns\n",
        "    import matplotlib.pyplot as plt\n",
        "    fig, axes = plt.subplots(ncols=2, figsize=(8, 3))\n",
        "    ax1, ax2 = axes\n",
        "    sns.heatmap(train_conf_matrix, annot=True, fmt='g', ax=ax1)\n",
        "    sns.heatmap(test_conf_matrix, annot=True, fmt='g', ax=ax2)\n",
        "    ax1.set_title('Train Data')\n",
        "    ax1.xaxis.set_ticklabels(['0', '1'])\n",
        "    ax1.yaxis.set_ticklabels(['0', '1'])\n",
        "    ax2.set_title('Test Data')\n",
        "    ax2.xaxis.set_ticklabels(['0', '1'])\n",
        "    ax2.yaxis.set_ticklabels(['0', '1'])\n",
        "    fig.suptitle('Confusion Matrix')\n",
        "\n",
        "def print_classification_report(p_y_train, p_y_train_predictions, p_y_test, p_y_test_predictions):\n",
        "    from sklearn.metrics import classification_report\n",
        "    train_class_rpt = classification_report(p_y_train, p_y_train_predictions)\n",
        "    print(\"======================================================\")\n",
        "    print(\"Train Classification Report:\")\n",
        "    print(train_class_rpt)\n",
        "    print(\"======================================================\")\n",
        "    test_class_rpt = classification_report(p_y_test, p_y_test_predictions)\n",
        "    print(\"Test Classification Report:\")\n",
        "    print(test_class_rpt)\n",
        "    print(\"======================================================\")\n",
        "\n",
        "def print_shape_type_of_dataset(x_train,x_test,y_train, y_test):\n",
        "    print('X train Dataset Shape: ',x_train.shape , 'Type of X train dataset: ', type(x_train) )\n",
        "    print('X test Dataset Shape: ',x_test.shape , 'Type of X train dataset: ', type(x_test) ) \n",
        "    print('Y train Dataset Shape: ',y_train.shape , 'Type of X train dataset: ', type(y_train) )\n",
        "    print('Y test Dataset Shape: ',y_test.shape , 'Type of X train dataset: ', type(x_test) )"
      ],
      "metadata": {
        "id": "OqWgneMM7qEc"
      },
      "execution_count": 229,
      "outputs": []
    },
    {
      "cell_type": "markdown",
      "source": [
        "### **b.i) Implementing the Naive Bayes Classifier**"
      ],
      "metadata": {
        "id": "qtM5U42pQToA"
      }
    },
    {
      "cell_type": "code",
      "source": [
        "#print the type and data shape of dataset\n",
        "print_shape_type_of_dataset(X_train, X_test, y_train, y_test)"
      ],
      "metadata": {
        "id": "WHx23agx2Cye",
        "outputId": "e16fe14f-b5be-401c-92b2-8c9718f452fa",
        "colab": {
          "base_uri": "https://localhost:8080/"
        }
      },
      "execution_count": 230,
      "outputs": [
        {
          "output_type": "stream",
          "name": "stdout",
          "text": [
            "X train Dataset Shape:  (3136, 19) Type of X train dataset:  <class 'pandas.core.frame.DataFrame'>\n",
            "X test Dataset Shape:  (785, 19) Type of X train dataset:  <class 'pandas.core.frame.DataFrame'>\n",
            "Y train Dataset Shape:  (3136,) Type of X train dataset:  <class 'pandas.core.series.Series'>\n",
            "Y test Dataset Shape:  (785,) Type of X train dataset:  <class 'pandas.core.frame.DataFrame'>\n"
          ]
        }
      ]
    },
    {
      "cell_type": "code",
      "source": [
        "from sklearn.naive_bayes import GaussianNB\n",
        "nb_model = GaussianNB() #define a model using Gaussian version Naive Bayes classifier\n",
        "nb_model.fit(X_train, y_train) #fit the model using the training data\n",
        "\n",
        "y_train_predicted_nb = nb_model.predict(X_train)\n",
        "y_test_predicted_nb = nb_model.predict(X_test)"
      ],
      "metadata": {
        "id": "a-y_AQH9QsBP"
      },
      "execution_count": 231,
      "outputs": []
    },
    {
      "cell_type": "markdown",
      "source": [
        "**GaussianNB(priors, var_smoothing=1e-09)** command in *scikit-learn* package uses the following parameters:\n",
        "\n",
        "\n",
        "*   *priors* as probabilities of the classes. (If specified the priors are not adjusted according to the data.)\n",
        "*   *var_smoothing* is the portion of the largest variance of all features that is added to variances for calculation stability."
      ],
      "metadata": {
        "id": "ljJYbf4PRRGx"
      }
    },
    {
      "cell_type": "code",
      "source": [
        "print('Naive Bayes Classifier statistics:\\n')\n",
        "print_classification_report(y_train,y_train_predicted_nb,y_test,y_test_predicted_nb)\n",
        "plot_confusion_matrix( y_train,y_train_predicted_nb,y_test,y_test_predicted_nb)"
      ],
      "metadata": {
        "colab": {
          "base_uri": "https://localhost:8080/",
          "height": 771
        },
        "id": "dTldHJ8k8Y9k",
        "outputId": "a583ca46-ac38-407a-f6ab-56e231432f68"
      },
      "execution_count": 232,
      "outputs": [
        {
          "output_type": "stream",
          "name": "stdout",
          "text": [
            "Naive Bayes Classifier statistics:\n",
            "\n",
            "======================================================\n",
            "Train Classification Report:\n",
            "              precision    recall  f1-score   support\n",
            "\n",
            "           0       0.92      0.97      0.94      2842\n",
            "           1       0.29      0.14      0.18       294\n",
            "\n",
            "    accuracy                           0.89      3136\n",
            "   macro avg       0.60      0.55      0.56      3136\n",
            "weighted avg       0.86      0.89      0.87      3136\n",
            "\n",
            "======================================================\n",
            "Test Classification Report:\n",
            "              precision    recall  f1-score   support\n",
            "\n",
            "           0       0.93      0.96      0.95       712\n",
            "           1       0.46      0.30      0.36        73\n",
            "\n",
            "    accuracy                           0.90       785\n",
            "   macro avg       0.69      0.63      0.66       785\n",
            "weighted avg       0.89      0.90      0.89       785\n",
            "\n",
            "======================================================\n",
            "Train confusion matrix: \n",
            " [[2743   99]\n",
            " [ 254   40]]\n",
            "Test confusion matrix: \n",
            " [[686  26]\n",
            " [ 51  22]]\n"
          ]
        },
        {
          "output_type": "display_data",
          "data": {
            "image/png": "[encoded data removed]",
            "text/plain": [
              "<Figure size 576x216 with 4 Axes>"
            ]
          },
          "metadata": {
            "needs_background": "light"
          }
        }
      ]
    },
    {
      "cell_type": "markdown",
      "source": [
        "**Lets calculate the prediction using the class balanced Data**"
      ],
      "metadata": {
        "id": "ssSVkphguWls"
      }
    },
    {
      "cell_type": "code",
      "source": [
        "print(\"Shape of X Class Balanced: \", X_train_smote.shape)\n",
        "print(\"Shape of y Class Balanced: \", y_train_smote.shape)\n",
        "\n",
        "nb_model = GaussianNB() #define a model using Gaussian version Naive Bayes classifier\n",
        "nb_model.fit(X_train_smote, y_train_smote) #fit the model using the training class balanced data\n",
        "\n",
        "y_train_predicted_nb_bal = nb_model.predict(X_train_smote)\n",
        "y_test_predicted_nb_bal = nb_model.predict(X_test_smote)\n",
        "print('\\nNaive Bayes Classifier statistics with Class Balanced Dataset:\\n')\n",
        "print_classification_report(y_train_smote,y_train_predicted_nb_bal , y_test_smote, y_test_predicted_nb_bal)\n",
        "plot_confusion_matrix(y_train_smote,y_train_predicted_nb_bal , y_test_smote, y_test_predicted_nb_bal)"
      ],
      "metadata": {
        "colab": {
          "base_uri": "https://localhost:8080/",
          "height": 823
        },
        "id": "yhD_S6mmuBAF",
        "outputId": "08fac7a0-b5a8-4ff9-cdf7-49db058cb54a"
      },
      "execution_count": 233,
      "outputs": [
        {
          "output_type": "stream",
          "name": "stdout",
          "text": [
            "Shape of X Class Balanced:  (5684, 19)\n",
            "Shape of y Class Balanced:  (5684,)\n",
            "\n",
            "Naive Bayes Classifier statistics with Class Balanced Dataset:\n",
            "\n",
            "======================================================\n",
            "Train Classification Report:\n",
            "              precision    recall  f1-score   support\n",
            "\n",
            "           0       0.93      0.57      0.71      2842\n",
            "           1       0.69      0.96      0.80      2842\n",
            "\n",
            "    accuracy                           0.77      5684\n",
            "   macro avg       0.81      0.77      0.76      5684\n",
            "weighted avg       0.81      0.77      0.76      5684\n",
            "\n",
            "======================================================\n",
            "Test Classification Report:\n",
            "              precision    recall  f1-score   support\n",
            "\n",
            "           0       0.93      0.62      0.74       712\n",
            "           1       0.71      0.96      0.82       712\n",
            "\n",
            "    accuracy                           0.79      1424\n",
            "   macro avg       0.82      0.79      0.78      1424\n",
            "weighted avg       0.82      0.79      0.78      1424\n",
            "\n",
            "======================================================\n",
            "Train confusion matrix: \n",
            " [[1632 1210]\n",
            " [ 120 2722]]\n",
            "Test confusion matrix: \n",
            " [[439 273]\n",
            " [ 31 681]]\n"
          ]
        },
        {
          "output_type": "display_data",
          "data": {
            "image/png": "[encoded data removed]",
            "text/plain": [
              "<Figure size 576x216 with 4 Axes>"
            ]
          },
          "metadata": {
            "needs_background": "light"
          }
        }
      ]
    },
    {
      "cell_type": "markdown",
      "source": [
        "**Plot Correlation heat Map:**\n",
        "\n"
      ],
      "metadata": {
        "id": "bK7tNVC3Z51m"
      }
    },
    {
      "cell_type": "code",
      "source": [
        "import seaborn as sns\n",
        "import matplotlib.pyplot as plt\n",
        "#Using Pearson Correlation\n",
        "plt.figure(figsize=(12,10))\n",
        "cor = X_train.corr()\n",
        "sns.heatmap(cor, annot=False, cmap=plt.cm.CMRmap_r)\n",
        "plt.show()"
      ],
      "metadata": {
        "id": "xGNjAKuJS-uI",
        "colab": {
          "base_uri": "https://localhost:8080/",
          "height": 656
        },
        "outputId": "6cd1a6a0-a33b-4686-c95f-196e431c9811"
      },
      "execution_count": 234,
      "outputs": [
        {
          "output_type": "display_data",
          "data": {
            "image/png": "[encoded data removed]",
            "text/plain": [
              "<Figure size 864x720 with 2 Axes>"
            ]
          },
          "metadata": {
            "needs_background": "light"
          }
        }
      ]
    },
    {
      "cell_type": "markdown",
      "source": [
        "**Implement Naive bayes on reduced feature train and test data**"
      ],
      "metadata": {
        "id": "PYlPcuy9OOnp"
      }
    },
    {
      "cell_type": "markdown",
      "source": [
        "Analysis of the heat map suggest that not all column are correlated to each except num_char and line_breaks.\n",
        "Since Naive Bayes assume that feature(x varibale column) should not be correlated. So we are just dropping the correlated column to check if model give better performance."
      ],
      "metadata": {
        "id": "Psm_OXHWCB-j"
      }
    },
    {
      "cell_type": "code",
      "source": [
        "#Dropping line_breaks features from the train data\n",
        "train_X_df = X_train.copy()\n",
        "train_X_df= train_X_df.drop(['line_breaks'], axis=1)\n",
        "print(train_X_df)\n",
        "\n",
        "#Dropping  line_breaks features from the test data\n",
        "\n",
        "test_X_df = X_test.copy()\n",
        "test_X_df= test_X_df.drop(['line_breaks'], axis=1)\n",
        "print(test_X_df)\n",
        "\n",
        "print(\"\\nSee the number of feature has dropped from 19 to 18\\n\")\n",
        "\n",
        "#Convert the reduced train and test data into numpy array\n",
        "train_X_reduced = train_X_df.to_numpy()\n",
        "print('Shape of Reduced Train Dataset :', np.shape(train_X_reduced))\n",
        "test_X_reduced = test_X_df.to_numpy()\n",
        "print('Shape of Reduced Test Dataset :', np.shape(test_X_reduced))\n"
      ],
      "metadata": {
        "id": "YvGcASetZ1uo",
        "colab": {
          "base_uri": "https://localhost:8080/"
        },
        "outputId": "93972a7b-c124-473a-bca0-1bf600aa9b8f"
      },
      "execution_count": 235,
      "outputs": [
        {
          "output_type": "stream",
          "name": "stdout",
          "text": [
            "      to_multiple  from  cc  ...  urgent_subj  exclaim_mess  number_tf\n",
            "0               0     1   0  ...            0             0          0\n",
            "1               0     1   0  ...            0             1          2\n",
            "2               0     1   0  ...            0            48          2\n",
            "3               0     1   0  ...            0             1          1\n",
            "4               0     1   0  ...            0             1          1\n",
            "...           ...   ...  ..  ...          ...           ...        ...\n",
            "3131            0     1   0  ...            0             3          2\n",
            "3132            0     1   0  ...            0             0          0\n",
            "3133            0     1   0  ...            0             0          2\n",
            "3134            0     1   0  ...            0             1          2\n",
            "3135            0     1   0  ...            0             0          2\n",
            "\n",
            "[3136 rows x 18 columns]\n",
            "     to_multiple  from  cc  ...  urgent_subj  exclaim_mess  number_tf\n",
            "0              0     1   0  ...            0             8          2\n",
            "1              0     1   0  ...            0             4          2\n",
            "2              0     1   0  ...            0             0          1\n",
            "3              0     1   4  ...            0             3          2\n",
            "4              0     1   0  ...            0             0          1\n",
            "..           ...   ...  ..  ...          ...           ...        ...\n",
            "780            0     1   0  ...            0             3          2\n",
            "781            0     1   0  ...            0             3          2\n",
            "782            0     1   0  ...            0            27          2\n",
            "783            0     1   0  ...            0             3          2\n",
            "784            1     1   0  ...            0             2          0\n",
            "\n",
            "[785 rows x 18 columns]\n",
            "\n",
            "See the number of feature has dropped from 19 to 18\n",
            "\n",
            "Shape of Reduced Train Dataset : (3136, 18)\n",
            "Shape of Reduced Test Dataset : (785, 18)\n"
          ]
        }
      ]
    },
    {
      "cell_type": "code",
      "source": [
        "#Implement Naive bayes on reduced train and test data\n",
        "nb_reduced_model = GaussianNB()\n",
        "nb_reduced_model.fit(train_X_reduced, y_train)\n",
        "\n",
        "predicted_train_reduced_y = nb_reduced_model.predict(train_X_reduced)\n",
        "predicted_test_reduced_y = nb_reduced_model.predict(test_X_reduced)\n",
        "\n",
        "print('Naive Bayes Classifier statistics with reduced feature dataset:\\n')\n",
        "print_classification_report(y_train,predicted_train_reduced_y, y_test, predicted_test_reduced_y)\n",
        "plot_confusion_matrix(y_train,predicted_train_reduced_y, y_test, predicted_test_reduced_y)"
      ],
      "metadata": {
        "id": "Hx-5GjVRdqFt",
        "colab": {
          "base_uri": "https://localhost:8080/",
          "height": 771
        },
        "outputId": "e687ed3c-e250-4bf3-94d1-4e602ac3fd27"
      },
      "execution_count": 236,
      "outputs": [
        {
          "output_type": "stream",
          "name": "stdout",
          "text": [
            "Naive Bayes Classifier statistics with reduced feature dataset:\n",
            "\n",
            "======================================================\n",
            "Train Classification Report:\n",
            "              precision    recall  f1-score   support\n",
            "\n",
            "           0       0.91      0.97      0.94      2842\n",
            "           1       0.29      0.11      0.16       294\n",
            "\n",
            "    accuracy                           0.89      3136\n",
            "   macro avg       0.60      0.54      0.55      3136\n",
            "weighted avg       0.85      0.89      0.87      3136\n",
            "\n",
            "======================================================\n",
            "Test Classification Report:\n",
            "              precision    recall  f1-score   support\n",
            "\n",
            "           0       0.92      0.97      0.94       712\n",
            "           1       0.38      0.18      0.24        73\n",
            "\n",
            "    accuracy                           0.90       785\n",
            "   macro avg       0.65      0.57      0.59       785\n",
            "weighted avg       0.87      0.90      0.88       785\n",
            "\n",
            "======================================================\n",
            "Train confusion matrix: \n",
            " [[2762   80]\n",
            " [ 262   32]]\n",
            "Test confusion matrix: \n",
            " [[691  21]\n",
            " [ 60  13]]\n"
          ]
        },
        {
          "output_type": "display_data",
          "data": {
            "image/png": "[encoded data removed]",
            "text/plain": [
              "<Figure size 576x216 with 4 Axes>"
            ]
          },
          "metadata": {
            "needs_background": "light"
          }
        }
      ]
    },
    {
      "cell_type": "markdown",
      "source": [
        "Conclusion :  Reducing the fetaure have hardly any effect on the accurary prediction."
      ],
      "metadata": {
        "id": "oNyoy4JafJom"
      }
    },
    {
      "cell_type": "markdown",
      "source": [
        "### **b.ii) Implementing the Logistic Regresssion Model**"
      ],
      "metadata": {
        "id": "tL7XnXl5Eby_"
      }
    },
    {
      "cell_type": "code",
      "source": [
        "#Let us now compute the size of train and test data\n",
        "n_train_lrm = len(spam_class_train_data_tf.index) #number of data points in the data set\n",
        "print('number of data points in the train data set:',n_train_lrm)\n",
        "n_test_lrm = len(spam_class_test_data_tf.index) #number of data points in the data set\n",
        "print('number of data points in the test data set:',n_test_lrm)\n",
        "\n",
        "#extract the predictor variable columns(X variables) from train and test data.\n",
        "X_train_lrm = spam_class_train_data_tf[spam_class_train_data_tf.columns[1:20]]\n",
        "y_train_lrm = spam_class_train_data_tf[spam_class_train_data_tf.columns[0]]\n",
        "X_test_lrm = spam_class_test_data_tf[spam_class_test_data_tf.columns[1:20]]\n",
        "y_test_lrm = spam_class_test_data_tf[spam_class_test_data_tf.columns[0]]"
      ],
      "metadata": {
        "id": "nK9mYorjfuy_",
        "colab": {
          "base_uri": "https://localhost:8080/"
        },
        "outputId": "481a8765-4ebf-40ea-e0ed-c19856442159"
      },
      "execution_count": 237,
      "outputs": [
        {
          "output_type": "stream",
          "name": "stdout",
          "text": [
            "number of data points in the train data set: 3136\n",
            "number of data points in the test data set: 785\n"
          ]
        }
      ]
    },
    {
      "cell_type": "code",
      "source": [
        "#Train the model\n",
        "from sklearn.linear_model import LogisticRegression\n",
        "logmodel = LogisticRegression(C=1e6)\n",
        "logmodel.fit(X_train_lrm, y_train_lrm)\n",
        "\n",
        "#Predict the y test\n",
        "y_train_predictions_lrm = logmodel.predict(X_train_lrm)\n",
        "y_test_predictions_lrm = logmodel.predict(X_test_lrm)"
      ],
      "metadata": {
        "id": "XTOjspqK-VzZ",
        "colab": {
          "base_uri": "https://localhost:8080/"
        },
        "outputId": "bd277ed2-c666-44e3-8c8c-441b87dfd355"
      },
      "execution_count": 238,
      "outputs": [
        {
          "output_type": "stream",
          "name": "stderr",
          "text": [
            "/usr/local/lib/python3.7/dist-packages/sklearn/linear_model/_logistic.py:818: ConvergenceWarning: lbfgs failed to converge (status=1):\n",
            "STOP: TOTAL NO. of ITERATIONS REACHED LIMIT.\n",
            "\n",
            "Increase the number of iterations (max_iter) or scale the data as shown in:\n",
            "    https://scikit-learn.org/stable/modules/preprocessing.html\n",
            "Please also refer to the documentation for alternative solver options:\n",
            "    https://scikit-learn.org/stable/modules/linear_model.html#logistic-regression\n",
            "  extra_warning_msg=_LOGISTIC_SOLVER_CONVERGENCE_MSG,\n"
          ]
        }
      ]
    },
    {
      "cell_type": "markdown",
      "source": [
        "**Metrics\tDefinition:**\n",
        "\n",
        "**Precision**: Precision is defined as the ratio of true positives to the sum of true and false positives.\n",
        "\n",
        "**Recall**:Recall is defined as the ratio of true positives to the sum of true positives and false negatives.\n",
        "\n",
        "**F1 Score**:\tThe F1 is the weighted harmonic mean of precision and recall. The closer the value of the F1 score is to 1.0, the better the expected performance of the model is.\n",
        "\n",
        "**Support**: Support is the number of actual occurrences of the class in the dataset. It doesn’t vary between models, it just diagnoses the performance evaluation process."
      ],
      "metadata": {
        "id": "eLwjeWftGTWw"
      }
    },
    {
      "cell_type": "code",
      "source": [
        "print('Logistic Regression model statistics with original dataset:\\n')\n",
        "#Print Classificatin Report and confusion matrix\n",
        "print_classification_report(y_train_lrm,y_train_predictions_lrm,y_test_lrm, y_test_predictions_lrm )\n",
        "\n",
        "#Average accuracy on training data\n",
        "print('Train Accuracy:', logmodel.score(X_train_lrm,y_train_lrm))\n",
        "\n",
        "#Calculating the test accuracy\n",
        "from sklearn.metrics import accuracy_score\n",
        "test_accuracy_rm = accuracy_score(y_test_lrm, y_test_predictions_lrm)\n",
        "print('Test Accuracy:', test_accuracy_rm) #Average accuracy on test data\n",
        "print('=============================\\n')\n",
        "\n",
        "plot_confusion_matrix(y_train_lrm,y_train_predictions_lrm,y_test_lrm, y_test_predictions_lrm )"
      ],
      "metadata": {
        "id": "m7nXH2dT_Zd5",
        "colab": {
          "base_uri": "https://localhost:8080/",
          "height": 841
        },
        "outputId": "e3b2aaa0-dc00-48fc-948d-f4559a31f871"
      },
      "execution_count": 239,
      "outputs": [
        {
          "output_type": "stream",
          "name": "stdout",
          "text": [
            "Logistic Regression model statistics with original dataset:\n",
            "\n",
            "======================================================\n",
            "Train Classification Report:\n",
            "              precision    recall  f1-score   support\n",
            "\n",
            "           0       0.91      0.99      0.95      2842\n",
            "           1       0.54      0.07      0.13       294\n",
            "\n",
            "    accuracy                           0.91      3136\n",
            "   macro avg       0.73      0.53      0.54      3136\n",
            "weighted avg       0.88      0.91      0.87      3136\n",
            "\n",
            "======================================================\n",
            "Test Classification Report:\n",
            "              precision    recall  f1-score   support\n",
            "\n",
            "           0       0.92      0.99      0.96       712\n",
            "           1       0.73      0.15      0.25        73\n",
            "\n",
            "    accuracy                           0.92       785\n",
            "   macro avg       0.83      0.57      0.60       785\n",
            "weighted avg       0.90      0.92      0.89       785\n",
            "\n",
            "======================================================\n",
            "Train Accuracy: 0.9072066326530612\n",
            "Test Accuracy: 0.9159235668789809\n",
            "=============================\n",
            "\n",
            "Train confusion matrix: \n",
            " [[2824   18]\n",
            " [ 273   21]]\n",
            "Test confusion matrix: \n",
            " [[708   4]\n",
            " [ 62  11]]\n"
          ]
        },
        {
          "output_type": "display_data",
          "data": {
            "image/png": "[encoded data removed]",
            "text/plain": [
              "<Figure size 576x216 with 4 Axes>"
            ]
          },
          "metadata": {
            "needs_background": "light"
          }
        }
      ]
    },
    {
      "cell_type": "markdown",
      "source": [
        "**Implement logistic Regression using class balance dataset**"
      ],
      "metadata": {
        "id": "aL2ZhrRhNkdC"
      }
    },
    {
      "cell_type": "code",
      "source": [
        "#implement logistic Regression using class balance data\n",
        "#Train the model\n",
        "from sklearn.linear_model import LogisticRegression\n",
        "logmodel = LogisticRegression(C=1e6)\n",
        "logmodel.fit(X_train_smote, y_train_smote)\n",
        "\n",
        "#Predict the y test\n",
        "y_train_predictions_bal_lrm = logmodel.predict(X_train_smote)\n",
        "y_test_predictions_bal_lrm = logmodel.predict(X_test_smote)\n"
      ],
      "metadata": {
        "colab": {
          "base_uri": "https://localhost:8080/"
        },
        "id": "hqATsDgs1YCo",
        "outputId": "f7a8fa3b-0f75-41c1-de62-c5464ac7b5c2"
      },
      "execution_count": 240,
      "outputs": [
        {
          "output_type": "stream",
          "name": "stderr",
          "text": [
            "/usr/local/lib/python3.7/dist-packages/sklearn/linear_model/_logistic.py:818: ConvergenceWarning: lbfgs failed to converge (status=1):\n",
            "STOP: TOTAL NO. of ITERATIONS REACHED LIMIT.\n",
            "\n",
            "Increase the number of iterations (max_iter) or scale the data as shown in:\n",
            "    https://scikit-learn.org/stable/modules/preprocessing.html\n",
            "Please also refer to the documentation for alternative solver options:\n",
            "    https://scikit-learn.org/stable/modules/linear_model.html#logistic-regression\n",
            "  extra_warning_msg=_LOGISTIC_SOLVER_CONVERGENCE_MSG,\n"
          ]
        }
      ]
    },
    {
      "cell_type": "code",
      "source": [
        "print('Logistic Regression Model with Class Balanced Dataset:\\n')\n",
        "print_classification_report(y_train_smote,y_train_predictions_bal_lrm,y_test_smote, y_test_predictions_bal_lrm )\n",
        "plot_confusion_matrix(y_train_smote,y_train_predictions_bal_lrm,y_test_smote, y_test_predictions_bal_lrm )"
      ],
      "metadata": {
        "colab": {
          "base_uri": "https://localhost:8080/",
          "height": 771
        },
        "id": "2BWqaGBWMkpz",
        "outputId": "c848970f-d33f-4467-d8a7-0e7a8e8e884e"
      },
      "execution_count": 241,
      "outputs": [
        {
          "output_type": "stream",
          "name": "stdout",
          "text": [
            "Logistic Regression Model with Class Balanced Dataset:\n",
            "\n",
            "======================================================\n",
            "Train Classification Report:\n",
            "              precision    recall  f1-score   support\n",
            "\n",
            "           0       0.79      0.83      0.81      2842\n",
            "           1       0.82      0.77      0.80      2842\n",
            "\n",
            "    accuracy                           0.80      5684\n",
            "   macro avg       0.80      0.80      0.80      5684\n",
            "weighted avg       0.80      0.80      0.80      5684\n",
            "\n",
            "======================================================\n",
            "Test Classification Report:\n",
            "              precision    recall  f1-score   support\n",
            "\n",
            "           0       0.82      0.84      0.83       712\n",
            "           1       0.83      0.81      0.82       712\n",
            "\n",
            "    accuracy                           0.82      1424\n",
            "   macro avg       0.82      0.82      0.82      1424\n",
            "weighted avg       0.82      0.82      0.82      1424\n",
            "\n",
            "======================================================\n",
            "Train confusion matrix: \n",
            " [[2363  479]\n",
            " [ 640 2202]]\n",
            "Test confusion matrix: \n",
            " [[595 117]\n",
            " [135 577]]\n"
          ]
        },
        {
          "output_type": "display_data",
          "data": {
            "image/png": "[encoded data removed]",
            "text/plain": [
              "<Figure size 576x216 with 4 Axes>"
            ]
          },
          "metadata": {
            "needs_background": "light"
          }
        }
      ]
    },
    {
      "cell_type": "markdown",
      "source": [
        "### **=================================================================**"
      ],
      "metadata": {
        "id": "ozPb7P_ZfTYF"
      }
    },
    {
      "cell_type": "markdown",
      "source": [
        "### **b.iii) Implementing the Soft Margin SVM**"
      ],
      "metadata": {
        "id": "h5J93mCUffcJ"
      }
    },
    {
      "cell_type": "code",
      "source": [
        "from sklearn.svm import LinearSVC #linear svm from scikit learn \n",
        "clf = LinearSVC(random_state=0, tol=1e-5) #max_iter=10000"
      ],
      "metadata": {
        "id": "G7n3LT-Nfeby"
      },
      "execution_count": 242,
      "outputs": []
    },
    {
      "cell_type": "code",
      "source": [
        "#copy some variable for SVM perspective\n",
        "train_label= y_train_smote.copy()\n",
        "train_features = X_train_smote.copy()\n",
        "test_features = X_test_smote.copy()\n",
        "test_label = y_test_smote.copy()\n",
        "num_train = n_train_smote\n",
        "num_test = n_test_smote\n",
        "\n",
        "train_label = train_label.to_frame(name='spam')\n",
        "test_label = test_label.to_frame(name='spam')\n",
        "\n",
        "train_label = train_label.to_numpy()\n",
        "train_features = train_features.to_numpy()\n",
        "test_features= test_features.to_numpy()\n",
        "test_label = test_label.to_numpy()\n",
        "\n",
        "print('train_label:', train_label.shape, 'Type: ', type(train_label))\n",
        "print('train_features:', train_features.shape ,'Type: ',  type(train_features))\n",
        "print('test_features:', test_features.shape ,'Type: ',  type(test_features))\n",
        "print('test_label:', test_label.shape,'Type: ',  type(test_label))"
      ],
      "metadata": {
        "id": "PVLv85602F_Y",
        "colab": {
          "base_uri": "https://localhost:8080/"
        },
        "outputId": "062bf3ae-1904-47c4-bfde-ca739663c4ee"
      },
      "execution_count": 243,
      "outputs": [
        {
          "output_type": "stream",
          "name": "stdout",
          "text": [
            "train_label: (5684, 1) Type:  <class 'numpy.ndarray'>\n",
            "train_features: (5684, 19) Type:  <class 'numpy.ndarray'>\n",
            "test_features: (1424, 19) Type:  <class 'numpy.ndarray'>\n",
            "test_label: (1424, 1) Type:  <class 'numpy.ndarray'>\n"
          ]
        }
      ]
    },
    {
      "cell_type": "code",
      "source": [
        "#Get the trained model in clf_model\n",
        "train_label = np.reshape(train_label,(train_label.shape[0],))\n",
        "clf_model = clf.fit(train_features,train_label)\n",
        "#We will now use the trained model for predition on the test data set\n",
        "predicted_test_labels = clf_model.predict(test_features)\n"
      ],
      "metadata": {
        "id": "QkKnXH4n2jHx",
        "colab": {
          "base_uri": "https://localhost:8080/"
        },
        "outputId": "40c12a85-e3b5-4114-bd28-19c12cb1c648"
      },
      "execution_count": 244,
      "outputs": [
        {
          "output_type": "stream",
          "name": "stderr",
          "text": [
            "/usr/local/lib/python3.7/dist-packages/sklearn/svm/_base.py:1208: ConvergenceWarning: Liblinear failed to converge, increase the number of iterations.\n",
            "  ConvergenceWarning,\n"
          ]
        }
      ]
    },
    {
      "cell_type": "code",
      "source": [
        "#reshaping predicted_labels so that it is of the same shape as test_label\n",
        "predicted_test_labels = np.reshape(predicted_test_labels.data,(num_test,1))\n",
        "#If you wish to see how predicted_labels and test_label look, you can print them and check\n",
        "# print(predicted_test_labels)\n",
        "\n",
        "#compute test set error and test set accuracy \n",
        "test_error = np.sum(0.5*np.abs(predicted_test_labels-test_label))/len(test_label)*100.0#Try to understand this equation\n",
        "test_accuracy = 100.0-test_error \n",
        "#print the test set accuracy \n",
        "print('Test set accuracy:', test_accuracy)   "
      ],
      "metadata": {
        "id": "AtRr04Mj3aH6",
        "colab": {
          "base_uri": "https://localhost:8080/"
        },
        "outputId": "e142938d-af0c-4987-ba1f-1165fd065f6c"
      },
      "execution_count": 245,
      "outputs": [
        {
          "output_type": "stream",
          "name": "stdout",
          "text": [
            "Test set accuracy: 90.55477528089888\n"
          ]
        }
      ]
    },
    {
      "cell_type": "code",
      "source": [
        "#We can also use the trained model clf_model to predict the train set \n",
        "predicted_train_labels = clf_model.predict(train_features)\n",
        "#reshaping predicted_train_labels so that it is of the same shape as train_label\n",
        "predicted_train_labels = np.reshape(predicted_train_labels.data,(num_train,1))\n",
        "#compute train set error and train set accuracy\n",
        "train_label = np.reshape(train_label,(num_train,1))\n",
        "train_error = np.sum(0.5*np.abs(predicted_train_labels-train_label))/len(train_label)*100.0\n",
        "train_accuracy = 100.0-train_error \n",
        "#print the train set accuracy\n",
        "print('Train set accuracy:', train_accuracy)"
      ],
      "metadata": {
        "id": "JSzYZuICDAAG",
        "colab": {
          "base_uri": "https://localhost:8080/"
        },
        "outputId": "74f215ac-c36a-4ca7-c351-3a35d847f513"
      },
      "execution_count": 246,
      "outputs": [
        {
          "output_type": "stream",
          "name": "stdout",
          "text": [
            "Train set accuracy: 90.93947923997185\n"
          ]
        }
      ]
    },
    {
      "cell_type": "code",
      "source": [
        "print('Soft Margin SVM Statistics with balanced dataset: \\n')\n",
        "print_classification_report(train_label, predicted_train_labels,test_label, predicted_test_labels)\n",
        "plot_confusion_matrix(train_label, predicted_train_labels,test_label, predicted_test_labels)\n"
      ],
      "metadata": {
        "id": "c8NdniIaDFMJ",
        "colab": {
          "base_uri": "https://localhost:8080/",
          "height": 771
        },
        "outputId": "48128abe-e2a6-43b3-bb48-3234aef944ff"
      },
      "execution_count": 247,
      "outputs": [
        {
          "output_type": "stream",
          "name": "stdout",
          "text": [
            "Soft Margin SVM Statistics with balanced dataset: \n",
            "\n",
            "======================================================\n",
            "Train Classification Report:\n",
            "              precision    recall  f1-score   support\n",
            "\n",
            "           0       0.90      0.72      0.80      2842\n",
            "           1       0.77      0.92      0.84      2842\n",
            "\n",
            "    accuracy                           0.82      5684\n",
            "   macro avg       0.83      0.82      0.82      5684\n",
            "weighted avg       0.83      0.82      0.82      5684\n",
            "\n",
            "======================================================\n",
            "Test Classification Report:\n",
            "              precision    recall  f1-score   support\n",
            "\n",
            "           0       0.90      0.70      0.79       712\n",
            "           1       0.76      0.92      0.83       712\n",
            "\n",
            "    accuracy                           0.81      1424\n",
            "   macro avg       0.83      0.81      0.81      1424\n",
            "weighted avg       0.83      0.81      0.81      1424\n",
            "\n",
            "======================================================\n",
            "Train confusion matrix: \n",
            " [[2046  796]\n",
            " [ 234 2608]]\n",
            "Test confusion matrix: \n",
            " [[501 211]\n",
            " [ 58 654]]\n"
          ]
        },
        {
          "output_type": "display_data",
          "data": {
            "image/png": "[encoded data removed]",
            "text/plain": [
              "<Figure size 576x216 with 4 Axes>"
            ]
          },
          "metadata": {
            "needs_background": "light"
          }
        }
      ]
    },
    {
      "cell_type": "markdown",
      "source": [
        "### **=============================================================**"
      ],
      "metadata": {
        "id": "jS0XabBYDUPU"
      }
    },
    {
      "cell_type": "markdown",
      "source": [
        "### **b.iv) Implementing Descision Tree Classification**"
      ],
      "metadata": {
        "id": "EZ6n1_gDDaQ4"
      }
    },
    {
      "cell_type": "markdown",
      "source": [
        "Here we will implement the decision Tree classifier"
      ],
      "metadata": {
        "id": "AxdJR0K4F7XF"
      }
    },
    {
      "cell_type": "code",
      "source": [
        "#import the decision tree from scikit learn \n",
        "from sklearn import tree\n",
        "from sklearn.model_selection import cross_val_score \n",
        "\n",
        "#copy some variable for SVM perspective\n",
        "train_label= y_train_smote.copy()\n",
        "train_features = X_train_smote.copy()\n",
        "test_features = X_test_smote.copy()\n",
        "test_label = y_test_smote.copy()\n",
        "num_train = n_train_smote\n",
        "num_test = n_test_smote\n",
        "\n",
        "train_label = train_label.to_frame(name='spam')\n",
        "test_label = test_label.to_frame(name='spam')\n",
        "\n",
        "train_label = train_label.to_numpy()\n",
        "train_features = train_features.to_numpy()\n",
        "test_features= test_features.to_numpy()\n",
        "test_label = test_label.to_numpy()\n",
        "\n",
        "print('train_label:', train_label.shape, 'Type: ', type(train_label))\n",
        "print('train_features:', train_features.shape ,'Type: ',  type(train_features))\n",
        "print('test_features:', test_features.shape ,'Type: ',  type(test_features))\n",
        "print('test_label:', test_label.shape,'Type: ',  type(test_label))"
      ],
      "metadata": {
        "id": "m1w2F5fNG4M2",
        "colab": {
          "base_uri": "https://localhost:8080/"
        },
        "outputId": "674167ce-7b08-41b4-85d9-11de54b66536"
      },
      "execution_count": 248,
      "outputs": [
        {
          "output_type": "stream",
          "name": "stdout",
          "text": [
            "train_label: (5684, 1) Type:  <class 'numpy.ndarray'>\n",
            "train_features: (5684, 19) Type:  <class 'numpy.ndarray'>\n",
            "test_features: (1424, 19) Type:  <class 'numpy.ndarray'>\n",
            "test_label: (1424, 1) Type:  <class 'numpy.ndarray'>\n"
          ]
        }
      ]
    },
    {
      "cell_type": "code",
      "source": [
        "#Lets tune the best depth by tuning some hyperparameter\n",
        "criteria = ['entropy', 'gini']\n",
        "max_depth = np.array([1,2,3,5,10,15,20,25])\n",
        "best_depth = {}\n",
        "cv_k = 5 #5-fold cross validation\n",
        "for criterion in criteria:\n",
        "  avg_score = np.zeros(len(max_depth))\n",
        "  \n",
        "  for depth in max_depth:\n",
        "    clf_dt = tree.DecisionTreeClassifier(criterion=criterion, max_depth=depth, random_state=0)\n",
        "    scores = cross_val_score(clf_dt, train_features , train_label.ravel(), cv=cv_k) \n",
        "    \n",
        "    avg_score[np.where(max_depth==depth)] = np.mean(scores)\n",
        "\n",
        "  print('Criterion:', criterion)\n",
        "  print ('Avg score',avg_score)\n",
        "  max_score_index = np.argmax(avg_score)\n",
        "  \n",
        "  best_depth[criterion] = max_depth[int(max_score_index)]\n",
        "\n",
        "print ('Best hyperparameter for tree depth = ', best_depth)"
      ],
      "metadata": {
        "colab": {
          "base_uri": "https://localhost:8080/"
        },
        "id": "7ZfLhhGYY8cq",
        "outputId": "6b142b8e-52dc-48e5-90c9-753b2db8cfa2"
      },
      "execution_count": 249,
      "outputs": [
        {
          "output_type": "stream",
          "name": "stdout",
          "text": [
            "Criterion: entropy\n",
            "Avg score [0.64689819 0.76424787 0.84306304 0.86558261 0.89144648 0.91642898\n",
            " 0.91871508 0.91818738]\n",
            "Criterion: gini\n",
            "Avg score [0.71463451 0.81016714 0.83725721 0.86030386 0.89373304 0.91114884\n",
            " 0.91466703 0.91255652]\n",
            "Best hyperparameter for tree depth =  {'entropy': 20, 'gini': 20}\n"
          ]
        }
      ]
    },
    {
      "cell_type": "code",
      "source": [
        "clf = tree.DecisionTreeClassifier(criterion='entropy',max_depth=20)\n",
        "#train using decision tree classifier and plot the resultant decision tree\n",
        "# tree.plot_tree(clf.fit(train_features, train_label))  "
      ],
      "metadata": {
        "id": "4CBknsjOHDMl"
      },
      "execution_count": 250,
      "outputs": []
    },
    {
      "cell_type": "code",
      "source": [
        "#Get the trained model in clf_model\n",
        "clf_model = clf.fit(train_features,train_label)\n",
        "#We will now use the trained model for predition on the test data set\n",
        "predicted_test_labels = clf_model.predict(test_features)\n",
        "\n",
        "#reshaping predicted_labels so that it is of the same shape as test_label\n",
        "predicted_test_labels = np.reshape(predicted_test_labels.data,(num_test,1))\n",
        "#If you wish to see how predicted_labels and test_label look, you can print them and check\n",
        "#print(predicted_test_labels)"
      ],
      "metadata": {
        "id": "26uw40URHVXi"
      },
      "execution_count": 251,
      "outputs": []
    },
    {
      "cell_type": "code",
      "source": [
        "#We can also use the trained model clf_model to predict the train set \n",
        "predicted_train_labels = clf_model.predict(train_features)\n",
        "#reshaping predicted_train_labels so that it is of the same shape as train_label\n",
        "predicted_train_labels = np.reshape(predicted_train_labels.data,(num_train,1))\n",
        "#compute train set error and train set accuracy \n",
        "train_error = np.sum(0.5*np.abs(predicted_train_labels-train_label))/len(train_label)*100.0\n",
        "train_accuracy = 100.0-train_error \n",
        "#print the test set accuracy \n",
        "print('Train set accuracy:', train_accuracy)"
      ],
      "metadata": {
        "id": "EJQvDC7hHl-n",
        "colab": {
          "base_uri": "https://localhost:8080/"
        },
        "outputId": "a949e65c-7b35-4b9a-d9b1-0d0a403a9b61"
      },
      "execution_count": 252,
      "outputs": [
        {
          "output_type": "stream",
          "name": "stdout",
          "text": [
            "Train set accuracy: 99.75369458128078\n"
          ]
        }
      ]
    },
    {
      "cell_type": "code",
      "source": [
        "#compute test set error and test set accuracy \n",
        "test_error = np.sum(0.5*np.abs(predicted_test_labels-test_label))/len(test_label)*100.0#Try to understand this equation\n",
        "test_accuracy = 100.0-test_error \n",
        "#print the test set accuracy \n",
        "print('Test set accuracy:', test_accuracy)"
      ],
      "metadata": {
        "id": "I1WbAdUUHeqB",
        "colab": {
          "base_uri": "https://localhost:8080/"
        },
        "outputId": "4305ea4b-aef5-42d8-a1e3-9d21924d2724"
      },
      "execution_count": 253,
      "outputs": [
        {
          "output_type": "stream",
          "name": "stdout",
          "text": [
            "Test set accuracy: 92.16994382022472\n"
          ]
        }
      ]
    },
    {
      "cell_type": "code",
      "source": [
        "print('Decision Tree Statistics with balanced dataset: \\n')\n",
        "print_classification_report(train_label, predicted_train_labels,test_label, predicted_test_labels)\n",
        "plot_confusion_matrix(train_label, predicted_train_labels,test_label, predicted_test_labels)\n"
      ],
      "metadata": {
        "id": "cZ4mVDj5IPuA",
        "colab": {
          "base_uri": "https://localhost:8080/",
          "height": 771
        },
        "outputId": "34c17e99-a634-4ca9-8baa-b5ab3c94661a"
      },
      "execution_count": 254,
      "outputs": [
        {
          "output_type": "stream",
          "name": "stdout",
          "text": [
            "Decision Tree Statistics with balanced dataset: \n",
            "\n",
            "======================================================\n",
            "Train Classification Report:\n",
            "              precision    recall  f1-score   support\n",
            "\n",
            "           0       1.00      0.99      1.00      2842\n",
            "           1       0.99      1.00      1.00      2842\n",
            "\n",
            "    accuracy                           1.00      5684\n",
            "   macro avg       1.00      1.00      1.00      5684\n",
            "weighted avg       1.00      1.00      1.00      5684\n",
            "\n",
            "======================================================\n",
            "Test Classification Report:\n",
            "              precision    recall  f1-score   support\n",
            "\n",
            "           0       0.80      0.92      0.85       712\n",
            "           1       0.90      0.77      0.83       712\n",
            "\n",
            "    accuracy                           0.84      1424\n",
            "   macro avg       0.85      0.84      0.84      1424\n",
            "weighted avg       0.85      0.84      0.84      1424\n",
            "\n",
            "======================================================\n",
            "Train confusion matrix: \n",
            " [[2823   19]\n",
            " [   9 2833]]\n",
            "Test confusion matrix: \n",
            " [[653  59]\n",
            " [164 548]]\n"
          ]
        },
        {
          "output_type": "display_data",
          "data": {
            "image/png": "[encoded data removed]",
            "text/plain": [
              "<Figure size 576x216 with 4 Axes>"
            ]
          },
          "metadata": {
            "needs_background": "light"
          }
        }
      ]
    },
    {
      "cell_type": "markdown",
      "source": [
        "### **=============================================================**"
      ],
      "metadata": {
        "id": "VNQisvCJKdaz"
      }
    },
    {
      "cell_type": "markdown",
      "source": [
        "### **b.v) Implementing Random Forest Classification**"
      ],
      "metadata": {
        "id": "BFvj5BoIKda1"
      }
    },
    {
      "cell_type": "code",
      "source": [
        "X_train = X_train_smote.copy()\n",
        "y_train = y_train_smote.copy()\n",
        "X_test = X_test_smote.copy()\n",
        "y_test = y_test_smote.copy()\n",
        "\n",
        "print('shape of train data features:',X_train.shape)\n",
        "print('shape of train data labels',y_train.shape)\n",
        "print('shape of test data features:',X_test.shape)\n",
        "print('shape of test data labels', y_test.shape)\n",
        "\n",
        "num_features = X_train.shape[1]\n",
        "print('No of Feature:', num_features)"
      ],
      "metadata": {
        "id": "BXJ_edp1wZFK",
        "colab": {
          "base_uri": "https://localhost:8080/"
        },
        "outputId": "d61b4602-89a4-4b7f-c043-78555fe345d8"
      },
      "execution_count": 255,
      "outputs": [
        {
          "output_type": "stream",
          "name": "stdout",
          "text": [
            "shape of train data features: (5684, 19)\n",
            "shape of train data labels (5684,)\n",
            "shape of test data features: (1424, 19)\n",
            "shape of test data labels (1424,)\n",
            "No of Feature: 19\n"
          ]
        }
      ]
    },
    {
      "cell_type": "code",
      "source": [
        "#Let us now use cross validation to find random forest hyperparameters.\n",
        "# We will first find best max depths for a given set of estimators\n",
        "from sklearn.ensemble import RandomForestClassifier\n",
        "from sklearn.model_selection import cross_val_score\n",
        "import math\n",
        "import numpy as np\n",
        "\n",
        "num_features = X_train.shape[1]\n",
        "estimators = [5, 10,50,100,150,200]\n",
        "constant = math.sqrt(num_features)\n",
        "max_depth = constant*np.array([0.25,0.5, 0.75,1,1.25,1.50,1.75,2])\n",
        "max_depth = np.ceil(max_depth)\n",
        "print ('maximum depth', max_depth)\n",
        "best_depth = {}\n",
        "cv_k = 5 #5-fold cross validation\n",
        "for n_estimate in estimators:\n",
        "  avg_score = np.zeros(len(max_depth))\n",
        "  # print (avg_score)\n",
        "  for depth in max_depth:\n",
        "    clf_rf = RandomForestClassifier(n_estimators = n_estimate,max_depth = depth,  random_state=0)\n",
        "    scores = cross_val_score(clf_rf, X_train, y_train.ravel(), cv=cv_k) \n",
        "    # print ('scores',scores)\n",
        "    avg_score[np.where(max_depth==depth)] = np.mean(scores)\n",
        "\n",
        "  # print ('avg score',avg_score)\n",
        "  max_score_index = np.argmax(avg_score)\n",
        "  # print (max_score_index)\n",
        "  best_depth[n_estimate] = max_depth[int(max_score_index)]\n",
        "\n",
        "print ('maximum depth = ', best_depth)"
      ],
      "metadata": {
        "id": "F4kcNougwtPI",
        "colab": {
          "base_uri": "https://localhost:8080/"
        },
        "outputId": "197fea11-4754-4596-d9fc-51ab6ff7adae"
      },
      "execution_count": 256,
      "outputs": [
        {
          "output_type": "stream",
          "name": "stdout",
          "text": [
            "maximum depth [2. 3. 4. 5. 6. 7. 8. 9.]\n",
            "maximum depth =  {5: 9.0, 10: 9.0, 50: 9.0, 100: 9.0, 150: 9.0, 200: 9.0}\n"
          ]
        }
      ]
    },
    {
      "cell_type": "code",
      "source": [
        "## Now let's find the number of estimators\n",
        "avg_score = np.zeros(len(estimators))\n",
        "# print (estimators)\n",
        "for n_estimate in estimators:\n",
        "    depth = best_depth[n_estimate]\n",
        "    clf_rf = RandomForestClassifier(n_estimators = n_estimate,max_depth = depth,  random_state=0)\n",
        "    scores = cross_val_score(clf_rf, X_train, y_train.ravel(), cv=cv_k) \n",
        "    avg_score[estimators.index(n_estimate)] = np.mean(scores)\n",
        "\n",
        "print ('avg score =',avg_score)\n",
        "max_score_index = np.argmax(avg_score)\n",
        "best_estimator = estimators[max_score_index]\n",
        "best_max_depth = best_depth[best_estimator]\n",
        "print ('Number of estimators = ',best_estimator)\n",
        "print ('maximum depth =',best_max_depth)"
      ],
      "metadata": {
        "id": "rCApyYNRxrmp",
        "colab": {
          "base_uri": "https://localhost:8080/"
        },
        "outputId": "ff19131c-994b-4320-d3a9-1cf7cf4db642"
      },
      "execution_count": 257,
      "outputs": [
        {
          "output_type": "stream",
          "name": "stdout",
          "text": [
            "avg score = [0.89127089 0.89567013 0.89918677 0.89918599 0.8990104  0.89830679]\n",
            "Number of estimators =  50\n",
            "maximum depth = 9.0\n"
          ]
        }
      ]
    },
    {
      "cell_type": "code",
      "source": [
        "# train and test accuracy using random forest classifier\n",
        "from sklearn.metrics import accuracy_score\n",
        "clf_rf = RandomForestClassifier(n_estimators = best_estimator,max_depth = best_max_depth,  random_state=0)\n",
        "clf_model = clf_rf.fit(X_train, y_train)\n",
        "train_y_predicted = clf_model.predict(X_train)\n",
        "train_acc_rf = accuracy_score(y_train, train_y_predicted)\n",
        "test_y_predicted = clf_model.predict(X_test)\n",
        "test_acc_rf = accuracy_score(y_test, test_y_predicted)\n",
        "print('Train accuracy from Random forest:', train_acc_rf)\n",
        "print('Test accuracy from Random forest:', test_acc_rf)"
      ],
      "metadata": {
        "id": "hibB7NGStkZz",
        "colab": {
          "base_uri": "https://localhost:8080/"
        },
        "outputId": "415562df-7410-4c14-b4fc-51a8f8fcc3bd"
      },
      "execution_count": 258,
      "outputs": [
        {
          "output_type": "stream",
          "name": "stdout",
          "text": [
            "Train accuracy from Random forest: 0.9108022519352569\n",
            "Test accuracy from Random forest: 0.8658707865168539\n"
          ]
        }
      ]
    },
    {
      "cell_type": "code",
      "source": [
        "## We will first find the appropriate max depth of decision tree using cross validation.\n",
        "from sklearn import tree #decision tree from scikit learn \n",
        "\n",
        "avg_score = np.zeros(len(max_depth))\n",
        "for depth in max_depth:\n",
        "    clf = tree.DecisionTreeClassifier(criterion='entropy',max_depth=depth)\n",
        "    scores = cross_val_score(clf, X_train, y_train, cv=cv_k) \n",
        "    avg_score[np.where(max_depth == depth)] = np.mean(scores)\n",
        "\n",
        "print ('avg score =',avg_score)\n",
        "max_score_index = np.argmax(avg_score)\n",
        "best_max_depth = max_depth[max_score_index]\n",
        "print ('maximum depth =',best_max_depth)"
      ],
      "metadata": {
        "id": "l1AilQy45Sb8",
        "colab": {
          "base_uri": "https://localhost:8080/"
        },
        "outputId": "0d85a6a3-c345-439a-c1fd-1dc767b19caf"
      },
      "execution_count": 259,
      "outputs": [
        {
          "output_type": "stream",
          "name": "stdout",
          "text": [
            "avg score = [0.76424787 0.84306304 0.86083234 0.86540671 0.86628591 0.87631508\n",
            " 0.88493673 0.88634425]\n",
            "maximum depth = 9.0\n"
          ]
        }
      ]
    },
    {
      "cell_type": "code",
      "source": [
        "# train and test accuracy using decision tree\n",
        "\n",
        "clf = tree.DecisionTreeClassifier(criterion='entropy',max_depth=best_max_depth)\n",
        "clf_model = clf.fit(X_train, y_train)\n",
        "train_y_predicted = clf_model.predict(X_train)\n",
        "train_acc = accuracy_score(y_train, train_y_predicted)\n",
        "test_y_predicted = clf_model.predict(X_test)\n",
        "test_acc = accuracy_score(y_test, test_y_predicted)\n",
        "print('Train accuracy from decision tree:', train_acc)\n",
        "print('Test accuracy from decision tree:', test_acc)\n",
        "print ('##############')\n",
        "print('Train accuracy from Random forest:', train_acc_rf)\n",
        "print('Test accuracy from Random forest:', test_acc_rf)"
      ],
      "metadata": {
        "id": "B2GDzu-25goF",
        "colab": {
          "base_uri": "https://localhost:8080/"
        },
        "outputId": "fd0b4294-9163-4a94-f07e-be10d43e6fd3"
      },
      "execution_count": 260,
      "outputs": [
        {
          "output_type": "stream",
          "name": "stdout",
          "text": [
            "Train accuracy from decision tree: 0.9046446164672766\n",
            "Test accuracy from decision tree: 0.8300561797752809\n",
            "##############\n",
            "Train accuracy from Random forest: 0.9108022519352569\n",
            "Test accuracy from Random forest: 0.8658707865168539\n"
          ]
        }
      ]
    },
    {
      "cell_type": "code",
      "source": [
        "print('Random Forest Classifier Statistics with balanced dataset:\\n')\n",
        "print_classification_report(y_train,train_y_predicted,y_test,test_y_predicted)\n",
        "plot_confusion_matrix(y_train,train_y_predicted,y_test,test_y_predicted)"
      ],
      "metadata": {
        "id": "U99oGIsf5zla",
        "colab": {
          "base_uri": "https://localhost:8080/",
          "height": 771
        },
        "outputId": "8577b024-2e4e-486d-e8df-c0a70e8c0d03"
      },
      "execution_count": 261,
      "outputs": [
        {
          "output_type": "stream",
          "name": "stdout",
          "text": [
            "Random Forest Classifier Statistics with balanced dataset:\n",
            "\n",
            "======================================================\n",
            "Train Classification Report:\n",
            "              precision    recall  f1-score   support\n",
            "\n",
            "           0       0.93      0.87      0.90      2842\n",
            "           1       0.88      0.94      0.91      2842\n",
            "\n",
            "    accuracy                           0.90      5684\n",
            "   macro avg       0.91      0.90      0.90      5684\n",
            "weighted avg       0.91      0.90      0.90      5684\n",
            "\n",
            "======================================================\n",
            "Test Classification Report:\n",
            "              precision    recall  f1-score   support\n",
            "\n",
            "           0       0.83      0.82      0.83       712\n",
            "           1       0.83      0.84      0.83       712\n",
            "\n",
            "    accuracy                           0.83      1424\n",
            "   macro avg       0.83      0.83      0.83      1424\n",
            "weighted avg       0.83      0.83      0.83      1424\n",
            "\n",
            "======================================================\n",
            "Train confusion matrix: \n",
            " [[2484  358]\n",
            " [ 184 2658]]\n",
            "Test confusion matrix: \n",
            " [[586 126]\n",
            " [116 596]]\n"
          ]
        },
        {
          "output_type": "display_data",
          "data": {
            "image/png": "[encoded data removed]",
            "text/plain": [
              "<Figure size 576x216 with 4 Axes>"
            ]
          },
          "metadata": {
            "needs_background": "light"
          }
        }
      ]
    },
    {
      "cell_type": "markdown",
      "source": [
        "### **=============================================================**"
      ],
      "metadata": {
        "id": "fdI8QmnR90Ga"
      }
    },
    {
      "cell_type": "markdown",
      "source": [
        "### **b.vi) Implementing Kernel Machine Classification**"
      ],
      "metadata": {
        "id": "poqP7rPk90Gb"
      }
    },
    {
      "cell_type": "markdown",
      "source": [
        "To train the kernel SVM, we use the same SVC class of the Scikit-Learn's svm library. The difference lies in the value for the kernel parameter of the SVC class. In the case of the simple SVM we used \"linear\" as the value for the kernel parameter. However, for kernel SVM you can use Gaussian, polynomial, sigmoid, or computable kernel. We will implement polynomial, Gaussian, and sigmoid kernels to see which one works better for our problem."
      ],
      "metadata": {
        "id": "OjYHeZFnGDtb"
      }
    },
    {
      "cell_type": "code",
      "source": [
        "X_train = X_train_smote.copy()\n",
        "y_train = y_train_smote.copy()\n",
        "X_test = X_test_smote.copy()\n",
        "y_test = y_test_smote.copy()\n",
        "\n",
        "print('shape of train data features:',X_train.shape)\n",
        "print('shape of train data labels',y_train.shape)\n",
        "print('shape of test data features:',X_test.shape)\n",
        "print('shape of test data labels', y_test.shape)\n",
        "\n",
        "num_features = X_train.shape[1]\n",
        "print('No of Feature:', num_features)"
      ],
      "metadata": {
        "colab": {
          "base_uri": "https://localhost:8080/"
        },
        "id": "3bB-7HT_tOtL",
        "outputId": "4a23fa32-6fa4-4830-dbad-cff2d27d898d"
      },
      "execution_count": 262,
      "outputs": [
        {
          "output_type": "stream",
          "name": "stdout",
          "text": [
            "shape of train data features: (5684, 19)\n",
            "shape of train data labels (5684,)\n",
            "shape of test data features: (1424, 19)\n",
            "shape of test data labels (1424,)\n",
            "No of Feature: 19\n"
          ]
        }
      ]
    },
    {
      "cell_type": "code",
      "source": [
        "#Finding the best Hyperparameter\n",
        "from sklearn.svm import SVC\n",
        "\n",
        "gammas = [0.0001,0.001, 0.01, 0.1, 1,2, 3,5, 20, 40, 60, 80, 100]\n",
        "kernels = ['sigmoid','rbf'] \n",
        "best_gamma = {}\n",
        "cv_k = 5 #5-fold cross validation\n",
        "for i_kernel in kernels:\n",
        "  print ('kernel :',i_kernel)\n",
        "  avg_score = np.zeros(len(gammas))\n",
        "  for i_gamma in gammas:\n",
        "    clf = SVC(kernel=i_kernel, gamma=i_gamma, random_state=1)\n",
        "    scores = cross_val_score(clf, X_train, y_train, cv=cv_k) \n",
        "    avg_score[gammas.index(i_gamma)] = np.mean(scores)\n",
        "   \n",
        "  print ('Average_score:', avg_score)\n",
        "  max_score_index = np.argmax(avg_score)\n",
        " \n",
        "  best_gamma[i_kernel] = gammas[int(max_score_index)]\n",
        "\n",
        "print ('Best hyper-parameters for Kernel Machine = ', best_gamma)"
      ],
      "metadata": {
        "colab": {
          "base_uri": "https://localhost:8080/"
        },
        "id": "SZyw7TlgsygX",
        "outputId": "011ccc7d-7b26-4796-c22b-b8ce183e108c"
      },
      "execution_count": 263,
      "outputs": [
        {
          "output_type": "stream",
          "name": "stdout",
          "text": [
            "kernel : sigmoid\n",
            "Average_score: [0.61171572 0.70742208 0.37127495 0.38335284 0.49647918 0.49647918\n",
            " 0.49331017 0.49894397 0.4996482  0.4996482  0.4996482  0.4996482\n",
            " 0.4996482 ]\n",
            "kernel : rbf\n",
            "Average_score: [0.74823944 0.79045998 0.86030665 0.89496466 0.89514568 0.87368105\n",
            " 0.87280123 0.87121781 0.86505986 0.86013369 0.85591144 0.85204067\n",
            " 0.84957805]\n",
            "Best hyper-parameters for Kernel Machine =  {'sigmoid': 0.001, 'rbf': 1}\n"
          ]
        }
      ]
    },
    {
      "cell_type": "code",
      "source": [
        "#Implement Gaussian Kernel\n",
        "from sklearn.svm import SVC\n",
        "svclassifier = SVC(kernel='rbf',gamma=1, max_iter = 10000, random_state = 0 )\n",
        "svclassifier.fit(X_train, y_train)\n",
        "\n",
        "y_test_pred_rbf = svclassifier.predict(X_test)\n",
        "y_train_pred_rbf = svclassifier.predict(X_train)\n",
        "\n",
        "print('Kernel Machine Classifier Statistics with balanced dataset with rbf kernel:\\n')\n",
        "print_classification_report(y_train,y_train_pred_rbf, y_test ,y_test_pred_rbf  )\n",
        "plot_confusion_matrix(y_train,y_train_pred_rbf, y_test ,y_test_pred_rbf )"
      ],
      "metadata": {
        "id": "IiM02OXKHT0l",
        "colab": {
          "base_uri": "https://localhost:8080/",
          "height": 771
        },
        "outputId": "db7ba34a-c8d5-423a-ad3b-3f6912bb68cf"
      },
      "execution_count": 264,
      "outputs": [
        {
          "output_type": "stream",
          "name": "stdout",
          "text": [
            "Kernel Machine Classifier Statistics with balanced dataset with rbf kernel:\n",
            "\n",
            "======================================================\n",
            "Train Classification Report:\n",
            "              precision    recall  f1-score   support\n",
            "\n",
            "           0       1.00      0.97      0.98      2842\n",
            "           1       0.97      1.00      0.99      2842\n",
            "\n",
            "    accuracy                           0.98      5684\n",
            "   macro avg       0.99      0.98      0.98      5684\n",
            "weighted avg       0.99      0.98      0.98      5684\n",
            "\n",
            "======================================================\n",
            "Test Classification Report:\n",
            "              precision    recall  f1-score   support\n",
            "\n",
            "           0       0.65      0.95      0.77       712\n",
            "           1       0.91      0.49      0.64       712\n",
            "\n",
            "    accuracy                           0.72      1424\n",
            "   macro avg       0.78      0.72      0.70      1424\n",
            "weighted avg       0.78      0.72      0.70      1424\n",
            "\n",
            "======================================================\n",
            "Train confusion matrix: \n",
            " [[2765   77]\n",
            " [   9 2833]]\n",
            "Test confusion matrix: \n",
            " [[677  35]\n",
            " [364 348]]\n"
          ]
        },
        {
          "output_type": "display_data",
          "data": {
            "image/png": "[encoded data removed]",
            "text/plain": [
              "<Figure size 576x216 with 4 Axes>"
            ]
          },
          "metadata": {
            "needs_background": "light"
          }
        }
      ]
    },
    {
      "cell_type": "code",
      "source": [
        "#implement Sigmoid Kernel\n",
        "from sklearn.svm import SVC\n",
        "svclassifier = SVC(kernel='sigmoid', gamma= 0.001,max_iter = 10000, random_state = 0)\n",
        "svclassifier.fit(X_train, y_train)\n",
        "\n",
        "y_test_pred_sig = svclassifier.predict(X_test)\n",
        "y_train_pred_sig = svclassifier.predict(X_train)\n",
        "\n",
        "print('Kernel Machine Classifier Statistics with balanced dataset with sigmoid kernel:\\n')\n",
        "print_classification_report(y_train,y_train_pred_sig, y_test ,y_test_pred_sig  )\n",
        "plot_confusion_matrix(y_train,y_train_pred_sig, y_test ,y_test_pred_sig )"
      ],
      "metadata": {
        "id": "ykiW24XjHvzP",
        "colab": {
          "base_uri": "https://localhost:8080/",
          "height": 771
        },
        "outputId": "a6a9ee7d-5549-4d3d-fde8-6be34d9bef24"
      },
      "execution_count": 265,
      "outputs": [
        {
          "output_type": "stream",
          "name": "stdout",
          "text": [
            "Kernel Machine Classifier Statistics with balanced dataset with sigmoid kernel:\n",
            "\n",
            "======================================================\n",
            "Train Classification Report:\n",
            "              precision    recall  f1-score   support\n",
            "\n",
            "           0       0.71      0.71      0.71      2842\n",
            "           1       0.71      0.71      0.71      2842\n",
            "\n",
            "    accuracy                           0.71      5684\n",
            "   macro avg       0.71      0.71      0.71      5684\n",
            "weighted avg       0.71      0.71      0.71      5684\n",
            "\n",
            "======================================================\n",
            "Test Classification Report:\n",
            "              precision    recall  f1-score   support\n",
            "\n",
            "           0       0.77      0.69      0.73       712\n",
            "           1       0.72      0.79      0.75       712\n",
            "\n",
            "    accuracy                           0.74      1424\n",
            "   macro avg       0.74      0.74      0.74      1424\n",
            "weighted avg       0.74      0.74      0.74      1424\n",
            "\n",
            "======================================================\n",
            "Train confusion matrix: \n",
            " [[2015  827]\n",
            " [ 828 2014]]\n",
            "Test confusion matrix: \n",
            " [[489 223]\n",
            " [146 566]]\n"
          ]
        },
        {
          "output_type": "display_data",
          "data": {
            "image/png": "[encoded data removed]",
            "text/plain": [
              "<Figure size 576x216 with 4 Axes>"
            ]
          },
          "metadata": {
            "needs_background": "light"
          }
        }
      ]
    },
    {
      "cell_type": "markdown",
      "source": [
        "##**(f) [C, R] Design a suitable normalization scheme so that the attributes cc,num char, line breaks and exclaim mess are scaled between 0 and 1 in both train and test data sets. Explain the normalization scheme you designed. Rebuild the classification models with this modified data set and compare the performance metrics obtained for this modified data set with those obtained before. Using the comparison, comment whether normalization helps in improving the performance metrics for the test data set for each classification method.**\n"
      ],
      "metadata": {
        "id": "hd5KeXGfVtz7"
      }
    },
    {
      "cell_type": "markdown",
      "source": [
        "Normalization is a scaling technique in which values are shifted and rescaled so that they end up ranging between 0 and 1. It is also known as Min-Max scaling.\n",
        "\n",
        "Here’s the formula for normalization:\n",
        "\n",
        "\n",
        "$\n",
        "\\begin{align}\n",
        "X' = \\frac{X - X_{min}}{X_{max} - X_{min}}.\n",
        "\\end{align}\n",
        "$\n",
        "\n",
        "\n",
        "Normalization equation\n",
        "\n",
        "Here, $X_{max}$ and $X_{min}$ are the maximum and the minimum values of the feature respectively.\n",
        "\n",
        "When the value of X is the minimum value in the column, the numerator will be 0, and hence X’ is 0\n",
        "On the other hand, when the value of X is the maximum value in the column, the numerator is equal to the denominator and thus the value of X’ is 1\n",
        "If the value of X is between the minimum and the maximum value, then the value of X’ is between 0 and 1"
      ],
      "metadata": {
        "id": "eWdXXgXJhVt1"
      }
    },
    {
      "cell_type": "code",
      "source": [
        "X_train_q3f = X_train_smote.copy()\n",
        "X_test_q3f = X_test_smote.copy()\n",
        "y_train_q3f = y_train_smote.copy()\n",
        "y_test_q3f = y_test_smote.copy()"
      ],
      "metadata": {
        "id": "g4xyZkhBmG6q"
      },
      "execution_count": 266,
      "outputs": []
    },
    {
      "cell_type": "code",
      "source": [
        "X_train_q3f.describe()"
      ],
      "metadata": {
        "id": "qcjV9ZOVvNk8",
        "outputId": "9bed9111-cba4-4013-dcb9-0815efd822be",
        "colab": {
          "base_uri": "https://localhost:8080/",
          "height": 364
        }
      },
      "execution_count": 267,
      "outputs": [
        {
          "output_type": "execute_result",
          "data": {
            "text/html": [
              "\n",
              "  <div id=\"df-aef57222-c983-46f9-b1c0-3b19e8f0ef0e\">\n",
              "    <div class=\"colab-df-container\">\n",
              "      <div>\n",
              "<style scoped>\n",
              "    .dataframe tbody tr th:only-of-type {\n",
              "        vertical-align: middle;\n",
              "    }\n",
              "\n",
              "    .dataframe tbody tr th {\n",
              "        vertical-align: top;\n",
              "    }\n",
              "\n",
              "    .dataframe thead th {\n",
              "        text-align: right;\n",
              "    }\n",
              "</style>\n",
              "<table border=\"1\" class=\"dataframe\">\n",
              "  <thead>\n",
              "    <tr style=\"text-align: right;\">\n",
              "      <th></th>\n",
              "      <th>to_multiple</th>\n",
              "      <th>from</th>\n",
              "      <th>cc</th>\n",
              "      <th>sent_email</th>\n",
              "      <th>image</th>\n",
              "      <th>attach</th>\n",
              "      <th>dollar</th>\n",
              "      <th>winner_tf</th>\n",
              "      <th>inherit</th>\n",
              "      <th>viagra</th>\n",
              "      <th>password</th>\n",
              "      <th>num_char</th>\n",
              "      <th>line_breaks</th>\n",
              "      <th>format</th>\n",
              "      <th>re_subj</th>\n",
              "      <th>exclaim_subj</th>\n",
              "      <th>urgent_subj</th>\n",
              "      <th>exclaim_mess</th>\n",
              "      <th>number_tf</th>\n",
              "    </tr>\n",
              "  </thead>\n",
              "  <tbody>\n",
              "    <tr>\n",
              "      <th>count</th>\n",
              "      <td>5684.000000</td>\n",
              "      <td>5684.000000</td>\n",
              "      <td>5684.000000</td>\n",
              "      <td>5684.000000</td>\n",
              "      <td>5684.000000</td>\n",
              "      <td>5684.000000</td>\n",
              "      <td>5684.00000</td>\n",
              "      <td>5684.000000</td>\n",
              "      <td>5684.000000</td>\n",
              "      <td>5684.000000</td>\n",
              "      <td>5684.000000</td>\n",
              "      <td>5684.000000</td>\n",
              "      <td>5684.000000</td>\n",
              "      <td>5684.000000</td>\n",
              "      <td>5684.000000</td>\n",
              "      <td>5684.000000</td>\n",
              "      <td>5684.000000</td>\n",
              "      <td>5684.000000</td>\n",
              "      <td>5684.000000</td>\n",
              "    </tr>\n",
              "    <tr>\n",
              "      <th>mean</th>\n",
              "      <td>0.095883</td>\n",
              "      <td>0.995954</td>\n",
              "      <td>0.331281</td>\n",
              "      <td>0.146904</td>\n",
              "      <td>0.023751</td>\n",
              "      <td>0.147607</td>\n",
              "      <td>1.04627</td>\n",
              "      <td>0.011436</td>\n",
              "      <td>0.029557</td>\n",
              "      <td>0.004926</td>\n",
              "      <td>0.063512</td>\n",
              "      <td>8.639753</td>\n",
              "      <td>180.134412</td>\n",
              "      <td>0.532372</td>\n",
              "      <td>0.140042</td>\n",
              "      <td>0.045039</td>\n",
              "      <td>0.001232</td>\n",
              "      <td>7.732759</td>\n",
              "      <td>1.423293</td>\n",
              "    </tr>\n",
              "    <tr>\n",
              "      <th>std</th>\n",
              "      <td>0.294457</td>\n",
              "      <td>0.063488</td>\n",
              "      <td>2.271444</td>\n",
              "      <td>0.354041</td>\n",
              "      <td>0.328641</td>\n",
              "      <td>0.664734</td>\n",
              "      <td>3.97752</td>\n",
              "      <td>0.106334</td>\n",
              "      <td>0.289117</td>\n",
              "      <td>0.152325</td>\n",
              "      <td>0.767783</td>\n",
              "      <td>15.455489</td>\n",
              "      <td>326.609485</td>\n",
              "      <td>0.498995</td>\n",
              "      <td>0.347061</td>\n",
              "      <td>0.207407</td>\n",
              "      <td>0.035075</td>\n",
              "      <td>67.447942</td>\n",
              "      <td>0.717734</td>\n",
              "    </tr>\n",
              "    <tr>\n",
              "      <th>min</th>\n",
              "      <td>0.000000</td>\n",
              "      <td>0.000000</td>\n",
              "      <td>0.000000</td>\n",
              "      <td>0.000000</td>\n",
              "      <td>0.000000</td>\n",
              "      <td>0.000000</td>\n",
              "      <td>0.00000</td>\n",
              "      <td>0.000000</td>\n",
              "      <td>0.000000</td>\n",
              "      <td>0.000000</td>\n",
              "      <td>0.000000</td>\n",
              "      <td>0.001000</td>\n",
              "      <td>1.000000</td>\n",
              "      <td>0.000000</td>\n",
              "      <td>0.000000</td>\n",
              "      <td>0.000000</td>\n",
              "      <td>0.000000</td>\n",
              "      <td>0.000000</td>\n",
              "      <td>0.000000</td>\n",
              "    </tr>\n",
              "    <tr>\n",
              "      <th>25%</th>\n",
              "      <td>0.000000</td>\n",
              "      <td>1.000000</td>\n",
              "      <td>0.000000</td>\n",
              "      <td>0.000000</td>\n",
              "      <td>0.000000</td>\n",
              "      <td>0.000000</td>\n",
              "      <td>0.00000</td>\n",
              "      <td>0.000000</td>\n",
              "      <td>0.000000</td>\n",
              "      <td>0.000000</td>\n",
              "      <td>0.000000</td>\n",
              "      <td>0.734126</td>\n",
              "      <td>17.000000</td>\n",
              "      <td>0.000000</td>\n",
              "      <td>0.000000</td>\n",
              "      <td>0.000000</td>\n",
              "      <td>0.000000</td>\n",
              "      <td>0.000000</td>\n",
              "      <td>1.000000</td>\n",
              "    </tr>\n",
              "    <tr>\n",
              "      <th>50%</th>\n",
              "      <td>0.000000</td>\n",
              "      <td>1.000000</td>\n",
              "      <td>0.000000</td>\n",
              "      <td>0.000000</td>\n",
              "      <td>0.000000</td>\n",
              "      <td>0.000000</td>\n",
              "      <td>0.00000</td>\n",
              "      <td>0.000000</td>\n",
              "      <td>0.000000</td>\n",
              "      <td>0.000000</td>\n",
              "      <td>0.000000</td>\n",
              "      <td>2.599152</td>\n",
              "      <td>56.000000</td>\n",
              "      <td>1.000000</td>\n",
              "      <td>0.000000</td>\n",
              "      <td>0.000000</td>\n",
              "      <td>0.000000</td>\n",
              "      <td>1.000000</td>\n",
              "      <td>2.000000</td>\n",
              "    </tr>\n",
              "    <tr>\n",
              "      <th>75%</th>\n",
              "      <td>0.000000</td>\n",
              "      <td>1.000000</td>\n",
              "      <td>0.000000</td>\n",
              "      <td>0.000000</td>\n",
              "      <td>0.000000</td>\n",
              "      <td>0.000000</td>\n",
              "      <td>0.00000</td>\n",
              "      <td>0.000000</td>\n",
              "      <td>0.000000</td>\n",
              "      <td>0.000000</td>\n",
              "      <td>0.000000</td>\n",
              "      <td>11.346250</td>\n",
              "      <td>197.000000</td>\n",
              "      <td>1.000000</td>\n",
              "      <td>0.000000</td>\n",
              "      <td>0.000000</td>\n",
              "      <td>0.000000</td>\n",
              "      <td>2.000000</td>\n",
              "      <td>2.000000</td>\n",
              "    </tr>\n",
              "    <tr>\n",
              "      <th>max</th>\n",
              "      <td>1.000000</td>\n",
              "      <td>1.000000</td>\n",
              "      <td>64.000000</td>\n",
              "      <td>1.000000</td>\n",
              "      <td>20.000000</td>\n",
              "      <td>21.000000</td>\n",
              "      <td>64.00000</td>\n",
              "      <td>1.000000</td>\n",
              "      <td>9.000000</td>\n",
              "      <td>8.000000</td>\n",
              "      <td>28.000000</td>\n",
              "      <td>190.087000</td>\n",
              "      <td>4022.000000</td>\n",
              "      <td>1.000000</td>\n",
              "      <td>1.000000</td>\n",
              "      <td>1.000000</td>\n",
              "      <td>1.000000</td>\n",
              "      <td>1236.000000</td>\n",
              "      <td>2.000000</td>\n",
              "    </tr>\n",
              "  </tbody>\n",
              "</table>\n",
              "</div>\n",
              "      <button class=\"colab-df-convert\" onclick=\"convertToInteractive('df-aef57222-c983-46f9-b1c0-3b19e8f0ef0e')\"\n",
              "              title=\"Convert this dataframe to an interactive table.\"\n",
              "              style=\"display:none;\">\n",
              "        \n",
              "  <svg xmlns=\"http://www.w3.org/2000/svg\" height=\"24px\"viewBox=\"0 0 24 24\"\n",
              "       width=\"24px\">\n",
              "    <path d=\"M0 0h24v24H0V0z\" fill=\"none\"/>\n",
              "    <path d=\"M18.56 5.44l.94 2.06.94-2.06 2.06-.94-2.06-.94-.94-2.06-.94 2.06-2.06.94zm-11 1L8.5 8.5l.94-2.06 2.06-.94-2.06-.94L8.5 2.5l-.94 2.06-2.06.94zm10 10l.94 2.06.94-2.06 2.06-.94-2.06-.94-.94-2.06-.94 2.06-2.06.94z\"/><path d=\"M17.41 7.96l-1.37-1.37c-.4-.4-.92-.59-1.43-.59-.52 0-1.04.2-1.43.59L10.3 9.45l-7.72 7.72c-.78.78-.78 2.05 0 2.83L4 21.41c.39.39.9.59 1.41.59.51 0 1.02-.2 1.41-.59l7.78-7.78 2.81-2.81c.8-.78.8-2.07 0-2.86zM5.41 20L4 18.59l7.72-7.72 1.47 1.35L5.41 20z\"/>\n",
              "  </svg>\n",
              "      </button>\n",
              "      \n",
              "  <style>\n",
              "    .colab-df-container {\n",
              "      display:flex;\n",
              "      flex-wrap:wrap;\n",
              "      gap: 12px;\n",
              "    }\n",
              "\n",
              "    .colab-df-convert {\n",
              "      background-color: #E8F0FE;\n",
              "      border: none;\n",
              "      border-radius: 50%;\n",
              "      cursor: pointer;\n",
              "      display: none;\n",
              "      fill: #1967D2;\n",
              "      height: 32px;\n",
              "      padding: 0 0 0 0;\n",
              "      width: 32px;\n",
              "    }\n",
              "\n",
              "    .colab-df-convert:hover {\n",
              "      background-color: #E2EBFA;\n",
              "      box-shadow: 0px 1px 2px rgba(60, 64, 67, 0.3), 0px 1px 3px 1px rgba(60, 64, 67, 0.15);\n",
              "      fill: #174EA6;\n",
              "    }\n",
              "\n",
              "    [theme=dark] .colab-df-convert {\n",
              "      background-color: #3B4455;\n",
              "      fill: #D2E3FC;\n",
              "    }\n",
              "\n",
              "    [theme=dark] .colab-df-convert:hover {\n",
              "      background-color: #434B5C;\n",
              "      box-shadow: 0px 1px 3px 1px rgba(0, 0, 0, 0.15);\n",
              "      filter: drop-shadow(0px 1px 2px rgba(0, 0, 0, 0.3));\n",
              "      fill: #FFFFFF;\n",
              "    }\n",
              "  </style>\n",
              "\n",
              "      <script>\n",
              "        const buttonEl =\n",
              "          document.querySelector('#df-aef57222-c983-46f9-b1c0-3b19e8f0ef0e button.colab-df-convert');\n",
              "        buttonEl.style.display =\n",
              "          google.colab.kernel.accessAllowed ? 'block' : 'none';\n",
              "\n",
              "        async function convertToInteractive(key) {\n",
              "          const element = document.querySelector('#df-aef57222-c983-46f9-b1c0-3b19e8f0ef0e');\n",
              "          const dataTable =\n",
              "            await google.colab.kernel.invokeFunction('convertToInteractive',\n",
              "                                                     [key], {});\n",
              "          if (!dataTable) return;\n",
              "\n",
              "          const docLinkHtml = 'Like what you see? Visit the ' +\n",
              "            '<a target=\"_blank\" href=https://colab.research.google.com/notebooks/data_table.ipynb>data table notebook</a>'\n",
              "            + ' to learn more about interactive tables.';\n",
              "          element.innerHTML = '';\n",
              "          dataTable['output_type'] = 'display_data';\n",
              "          await google.colab.output.renderOutput(dataTable, element);\n",
              "          const docLink = document.createElement('div');\n",
              "          docLink.innerHTML = docLinkHtml;\n",
              "          element.appendChild(docLink);\n",
              "        }\n",
              "      </script>\n",
              "    </div>\n",
              "  </div>\n",
              "  "
            ],
            "text/plain": [
              "       to_multiple         from  ...  exclaim_mess    number_tf\n",
              "count  5684.000000  5684.000000  ...   5684.000000  5684.000000\n",
              "mean      0.095883     0.995954  ...      7.732759     1.423293\n",
              "std       0.294457     0.063488  ...     67.447942     0.717734\n",
              "min       0.000000     0.000000  ...      0.000000     0.000000\n",
              "25%       0.000000     1.000000  ...      0.000000     1.000000\n",
              "50%       0.000000     1.000000  ...      1.000000     2.000000\n",
              "75%       0.000000     1.000000  ...      2.000000     2.000000\n",
              "max       1.000000     1.000000  ...   1236.000000     2.000000\n",
              "\n",
              "[8 rows x 19 columns]"
            ]
          },
          "metadata": {},
          "execution_count": 267
        }
      ]
    },
    {
      "cell_type": "code",
      "source": [
        "print('shape of train data features:',X_train_q3f.shape)\n",
        "print('shape of train data labels',y_train_q3f.shape)\n",
        "print('shape of test data features:',X_test_q3f.shape)\n",
        "print('shape of test data labels', y_test_q3f.shape)"
      ],
      "metadata": {
        "id": "0CIJelZsmlev",
        "outputId": "900a41a6-e4f1-4611-dffc-c1881aa10d50",
        "colab": {
          "base_uri": "https://localhost:8080/"
        }
      },
      "execution_count": 268,
      "outputs": [
        {
          "output_type": "stream",
          "name": "stdout",
          "text": [
            "shape of train data features: (5684, 19)\n",
            "shape of train data labels (5684,)\n",
            "shape of test data features: (1424, 19)\n",
            "shape of test data labels (1424,)\n"
          ]
        }
      ]
    },
    {
      "cell_type": "code",
      "source": [
        "#attributes cc,num char, line breaks and exclaim mess are scaled between 0 and 1 in both train and test data sets\n",
        "X_train_q3f.columns"
      ],
      "metadata": {
        "id": "ACz9Q7sIm29P",
        "outputId": "d780f592-5212-4e21-c626-8a63042b3d4a",
        "colab": {
          "base_uri": "https://localhost:8080/"
        }
      },
      "execution_count": 269,
      "outputs": [
        {
          "output_type": "execute_result",
          "data": {
            "text/plain": [
              "Index(['to_multiple', 'from', 'cc', 'sent_email', 'image', 'attach', 'dollar',\n",
              "       'winner_tf', 'inherit', 'viagra', 'password', 'num_char', 'line_breaks',\n",
              "       'format', 're_subj', 'exclaim_subj', 'urgent_subj', 'exclaim_mess',\n",
              "       'number_tf'],\n",
              "      dtype='object')"
            ]
          },
          "metadata": {},
          "execution_count": 269
        }
      ]
    },
    {
      "cell_type": "code",
      "source": [
        "# data normalization with sklearn\n",
        "from sklearn.preprocessing import MinMaxScaler\n",
        "\n",
        "# fit scaler on training data\n",
        "norm = MinMaxScaler().fit(X_train_q3f,)\n",
        "\n",
        "# transform training data\n",
        "X_train_norm = norm.transform(X_train_q3f)\n",
        "\n",
        "# transform testing dataabs\n",
        "X_test_norm = norm.transform(X_test_q3f)"
      ],
      "metadata": {
        "id": "9oo_2CDfnVAr"
      },
      "execution_count": 270,
      "outputs": []
    },
    {
      "cell_type": "code",
      "source": [
        "#Train data normalization\n",
        "X_train_norm = pd.DataFrame(X_train_norm,columns=['to_multiple', 'from', 'cc', 'sent_email', 'image', 'attach', 'dollar',\n",
        "       'winner_tf', 'inherit', 'viagra', 'password', 'num_char', 'line_breaks',\n",
        "       'format', 're_subj', 'exclaim_subj', 'urgent_subj', 'exclaim_mess',\n",
        "       'number_tf'])\n",
        "X_train_norm.describe()"
      ],
      "metadata": {
        "id": "ulkaBQXtnj7v",
        "outputId": "d4a0a428-2509-4944-9d50-9d1ad9f88ff6",
        "colab": {
          "base_uri": "https://localhost:8080/",
          "height": 364
        }
      },
      "execution_count": 271,
      "outputs": [
        {
          "output_type": "execute_result",
          "data": {
            "text/html": [
              "\n",
              "  <div id=\"df-ac22d434-5581-402e-aa41-56582a13251f\">\n",
              "    <div class=\"colab-df-container\">\n",
              "      <div>\n",
              "<style scoped>\n",
              "    .dataframe tbody tr th:only-of-type {\n",
              "        vertical-align: middle;\n",
              "    }\n",
              "\n",
              "    .dataframe tbody tr th {\n",
              "        vertical-align: top;\n",
              "    }\n",
              "\n",
              "    .dataframe thead th {\n",
              "        text-align: right;\n",
              "    }\n",
              "</style>\n",
              "<table border=\"1\" class=\"dataframe\">\n",
              "  <thead>\n",
              "    <tr style=\"text-align: right;\">\n",
              "      <th></th>\n",
              "      <th>to_multiple</th>\n",
              "      <th>from</th>\n",
              "      <th>cc</th>\n",
              "      <th>sent_email</th>\n",
              "      <th>image</th>\n",
              "      <th>attach</th>\n",
              "      <th>dollar</th>\n",
              "      <th>winner_tf</th>\n",
              "      <th>inherit</th>\n",
              "      <th>viagra</th>\n",
              "      <th>password</th>\n",
              "      <th>num_char</th>\n",
              "      <th>line_breaks</th>\n",
              "      <th>format</th>\n",
              "      <th>re_subj</th>\n",
              "      <th>exclaim_subj</th>\n",
              "      <th>urgent_subj</th>\n",
              "      <th>exclaim_mess</th>\n",
              "      <th>number_tf</th>\n",
              "    </tr>\n",
              "  </thead>\n",
              "  <tbody>\n",
              "    <tr>\n",
              "      <th>count</th>\n",
              "      <td>5684.000000</td>\n",
              "      <td>5684.000000</td>\n",
              "      <td>5684.000000</td>\n",
              "      <td>5684.000000</td>\n",
              "      <td>5684.000000</td>\n",
              "      <td>5684.000000</td>\n",
              "      <td>5684.000000</td>\n",
              "      <td>5684.000000</td>\n",
              "      <td>5684.000000</td>\n",
              "      <td>5684.000000</td>\n",
              "      <td>5684.000000</td>\n",
              "      <td>5684.000000</td>\n",
              "      <td>5684.000000</td>\n",
              "      <td>5684.000000</td>\n",
              "      <td>5684.000000</td>\n",
              "      <td>5684.000000</td>\n",
              "      <td>5684.000000</td>\n",
              "      <td>5684.000000</td>\n",
              "      <td>5684.000000</td>\n",
              "    </tr>\n",
              "    <tr>\n",
              "      <th>mean</th>\n",
              "      <td>0.095883</td>\n",
              "      <td>0.995954</td>\n",
              "      <td>0.005176</td>\n",
              "      <td>0.146904</td>\n",
              "      <td>0.001188</td>\n",
              "      <td>0.007029</td>\n",
              "      <td>0.016348</td>\n",
              "      <td>0.011436</td>\n",
              "      <td>0.003284</td>\n",
              "      <td>0.000616</td>\n",
              "      <td>0.002268</td>\n",
              "      <td>0.045447</td>\n",
              "      <td>0.044550</td>\n",
              "      <td>0.532372</td>\n",
              "      <td>0.140042</td>\n",
              "      <td>0.045039</td>\n",
              "      <td>0.001232</td>\n",
              "      <td>0.006256</td>\n",
              "      <td>0.711647</td>\n",
              "    </tr>\n",
              "    <tr>\n",
              "      <th>std</th>\n",
              "      <td>0.294457</td>\n",
              "      <td>0.063488</td>\n",
              "      <td>0.035491</td>\n",
              "      <td>0.354041</td>\n",
              "      <td>0.016432</td>\n",
              "      <td>0.031654</td>\n",
              "      <td>0.062149</td>\n",
              "      <td>0.106334</td>\n",
              "      <td>0.032124</td>\n",
              "      <td>0.019041</td>\n",
              "      <td>0.027421</td>\n",
              "      <td>0.081308</td>\n",
              "      <td>0.081226</td>\n",
              "      <td>0.498995</td>\n",
              "      <td>0.347061</td>\n",
              "      <td>0.207407</td>\n",
              "      <td>0.035075</td>\n",
              "      <td>0.054570</td>\n",
              "      <td>0.358867</td>\n",
              "    </tr>\n",
              "    <tr>\n",
              "      <th>min</th>\n",
              "      <td>0.000000</td>\n",
              "      <td>0.000000</td>\n",
              "      <td>0.000000</td>\n",
              "      <td>0.000000</td>\n",
              "      <td>0.000000</td>\n",
              "      <td>0.000000</td>\n",
              "      <td>0.000000</td>\n",
              "      <td>0.000000</td>\n",
              "      <td>0.000000</td>\n",
              "      <td>0.000000</td>\n",
              "      <td>0.000000</td>\n",
              "      <td>0.000000</td>\n",
              "      <td>0.000000</td>\n",
              "      <td>0.000000</td>\n",
              "      <td>0.000000</td>\n",
              "      <td>0.000000</td>\n",
              "      <td>0.000000</td>\n",
              "      <td>0.000000</td>\n",
              "      <td>0.000000</td>\n",
              "    </tr>\n",
              "    <tr>\n",
              "      <th>25%</th>\n",
              "      <td>0.000000</td>\n",
              "      <td>1.000000</td>\n",
              "      <td>0.000000</td>\n",
              "      <td>0.000000</td>\n",
              "      <td>0.000000</td>\n",
              "      <td>0.000000</td>\n",
              "      <td>0.000000</td>\n",
              "      <td>0.000000</td>\n",
              "      <td>0.000000</td>\n",
              "      <td>0.000000</td>\n",
              "      <td>0.000000</td>\n",
              "      <td>0.003857</td>\n",
              "      <td>0.003979</td>\n",
              "      <td>0.000000</td>\n",
              "      <td>0.000000</td>\n",
              "      <td>0.000000</td>\n",
              "      <td>0.000000</td>\n",
              "      <td>0.000000</td>\n",
              "      <td>0.500000</td>\n",
              "    </tr>\n",
              "    <tr>\n",
              "      <th>50%</th>\n",
              "      <td>0.000000</td>\n",
              "      <td>1.000000</td>\n",
              "      <td>0.000000</td>\n",
              "      <td>0.000000</td>\n",
              "      <td>0.000000</td>\n",
              "      <td>0.000000</td>\n",
              "      <td>0.000000</td>\n",
              "      <td>0.000000</td>\n",
              "      <td>0.000000</td>\n",
              "      <td>0.000000</td>\n",
              "      <td>0.000000</td>\n",
              "      <td>0.013668</td>\n",
              "      <td>0.013678</td>\n",
              "      <td>1.000000</td>\n",
              "      <td>0.000000</td>\n",
              "      <td>0.000000</td>\n",
              "      <td>0.000000</td>\n",
              "      <td>0.000809</td>\n",
              "      <td>1.000000</td>\n",
              "    </tr>\n",
              "    <tr>\n",
              "      <th>75%</th>\n",
              "      <td>0.000000</td>\n",
              "      <td>1.000000</td>\n",
              "      <td>0.000000</td>\n",
              "      <td>0.000000</td>\n",
              "      <td>0.000000</td>\n",
              "      <td>0.000000</td>\n",
              "      <td>0.000000</td>\n",
              "      <td>0.000000</td>\n",
              "      <td>0.000000</td>\n",
              "      <td>0.000000</td>\n",
              "      <td>0.000000</td>\n",
              "      <td>0.059685</td>\n",
              "      <td>0.048744</td>\n",
              "      <td>1.000000</td>\n",
              "      <td>0.000000</td>\n",
              "      <td>0.000000</td>\n",
              "      <td>0.000000</td>\n",
              "      <td>0.001618</td>\n",
              "      <td>1.000000</td>\n",
              "    </tr>\n",
              "    <tr>\n",
              "      <th>max</th>\n",
              "      <td>1.000000</td>\n",
              "      <td>1.000000</td>\n",
              "      <td>1.000000</td>\n",
              "      <td>1.000000</td>\n",
              "      <td>1.000000</td>\n",
              "      <td>1.000000</td>\n",
              "      <td>1.000000</td>\n",
              "      <td>1.000000</td>\n",
              "      <td>1.000000</td>\n",
              "      <td>1.000000</td>\n",
              "      <td>1.000000</td>\n",
              "      <td>1.000000</td>\n",
              "      <td>1.000000</td>\n",
              "      <td>1.000000</td>\n",
              "      <td>1.000000</td>\n",
              "      <td>1.000000</td>\n",
              "      <td>1.000000</td>\n",
              "      <td>1.000000</td>\n",
              "      <td>1.000000</td>\n",
              "    </tr>\n",
              "  </tbody>\n",
              "</table>\n",
              "</div>\n",
              "      <button class=\"colab-df-convert\" onclick=\"convertToInteractive('df-ac22d434-5581-402e-aa41-56582a13251f')\"\n",
              "              title=\"Convert this dataframe to an interactive table.\"\n",
              "              style=\"display:none;\">\n",
              "        \n",
              "  <svg xmlns=\"http://www.w3.org/2000/svg\" height=\"24px\"viewBox=\"0 0 24 24\"\n",
              "       width=\"24px\">\n",
              "    <path d=\"M0 0h24v24H0V0z\" fill=\"none\"/>\n",
              "    <path d=\"M18.56 5.44l.94 2.06.94-2.06 2.06-.94-2.06-.94-.94-2.06-.94 2.06-2.06.94zm-11 1L8.5 8.5l.94-2.06 2.06-.94-2.06-.94L8.5 2.5l-.94 2.06-2.06.94zm10 10l.94 2.06.94-2.06 2.06-.94-2.06-.94-.94-2.06-.94 2.06-2.06.94z\"/><path d=\"M17.41 7.96l-1.37-1.37c-.4-.4-.92-.59-1.43-.59-.52 0-1.04.2-1.43.59L10.3 9.45l-7.72 7.72c-.78.78-.78 2.05 0 2.83L4 21.41c.39.39.9.59 1.41.59.51 0 1.02-.2 1.41-.59l7.78-7.78 2.81-2.81c.8-.78.8-2.07 0-2.86zM5.41 20L4 18.59l7.72-7.72 1.47 1.35L5.41 20z\"/>\n",
              "  </svg>\n",
              "      </button>\n",
              "      \n",
              "  <style>\n",
              "    .colab-df-container {\n",
              "      display:flex;\n",
              "      flex-wrap:wrap;\n",
              "      gap: 12px;\n",
              "    }\n",
              "\n",
              "    .colab-df-convert {\n",
              "      background-color: #E8F0FE;\n",
              "      border: none;\n",
              "      border-radius: 50%;\n",
              "      cursor: pointer;\n",
              "      display: none;\n",
              "      fill: #1967D2;\n",
              "      height: 32px;\n",
              "      padding: 0 0 0 0;\n",
              "      width: 32px;\n",
              "    }\n",
              "\n",
              "    .colab-df-convert:hover {\n",
              "      background-color: #E2EBFA;\n",
              "      box-shadow: 0px 1px 2px rgba(60, 64, 67, 0.3), 0px 1px 3px 1px rgba(60, 64, 67, 0.15);\n",
              "      fill: #174EA6;\n",
              "    }\n",
              "\n",
              "    [theme=dark] .colab-df-convert {\n",
              "      background-color: #3B4455;\n",
              "      fill: #D2E3FC;\n",
              "    }\n",
              "\n",
              "    [theme=dark] .colab-df-convert:hover {\n",
              "      background-color: #434B5C;\n",
              "      box-shadow: 0px 1px 3px 1px rgba(0, 0, 0, 0.15);\n",
              "      filter: drop-shadow(0px 1px 2px rgba(0, 0, 0, 0.3));\n",
              "      fill: #FFFFFF;\n",
              "    }\n",
              "  </style>\n",
              "\n",
              "      <script>\n",
              "        const buttonEl =\n",
              "          document.querySelector('#df-ac22d434-5581-402e-aa41-56582a13251f button.colab-df-convert');\n",
              "        buttonEl.style.display =\n",
              "          google.colab.kernel.accessAllowed ? 'block' : 'none';\n",
              "\n",
              "        async function convertToInteractive(key) {\n",
              "          const element = document.querySelector('#df-ac22d434-5581-402e-aa41-56582a13251f');\n",
              "          const dataTable =\n",
              "            await google.colab.kernel.invokeFunction('convertToInteractive',\n",
              "                                                     [key], {});\n",
              "          if (!dataTable) return;\n",
              "\n",
              "          const docLinkHtml = 'Like what you see? Visit the ' +\n",
              "            '<a target=\"_blank\" href=https://colab.research.google.com/notebooks/data_table.ipynb>data table notebook</a>'\n",
              "            + ' to learn more about interactive tables.';\n",
              "          element.innerHTML = '';\n",
              "          dataTable['output_type'] = 'display_data';\n",
              "          await google.colab.output.renderOutput(dataTable, element);\n",
              "          const docLink = document.createElement('div');\n",
              "          docLink.innerHTML = docLinkHtml;\n",
              "          element.appendChild(docLink);\n",
              "        }\n",
              "      </script>\n",
              "    </div>\n",
              "  </div>\n",
              "  "
            ],
            "text/plain": [
              "       to_multiple         from  ...  exclaim_mess    number_tf\n",
              "count  5684.000000  5684.000000  ...   5684.000000  5684.000000\n",
              "mean      0.095883     0.995954  ...      0.006256     0.711647\n",
              "std       0.294457     0.063488  ...      0.054570     0.358867\n",
              "min       0.000000     0.000000  ...      0.000000     0.000000\n",
              "25%       0.000000     1.000000  ...      0.000000     0.500000\n",
              "50%       0.000000     1.000000  ...      0.000809     1.000000\n",
              "75%       0.000000     1.000000  ...      0.001618     1.000000\n",
              "max       1.000000     1.000000  ...      1.000000     1.000000\n",
              "\n",
              "[8 rows x 19 columns]"
            ]
          },
          "metadata": {},
          "execution_count": 271
        }
      ]
    },
    {
      "cell_type": "code",
      "source": [
        "# Test data normlization\n",
        "X_test_norm = pd.DataFrame(X_test_norm,columns=['to_multiple', 'from', 'cc', 'sent_email', 'image', 'attach', 'dollar',\n",
        "       'winner_tf', 'inherit', 'viagra', 'password', 'num_char', 'line_breaks',\n",
        "       'format', 're_subj', 'exclaim_subj', 'urgent_subj', 'exclaim_mess',\n",
        "       'number_tf'])\n",
        "X_test_norm.describe()"
      ],
      "metadata": {
        "id": "ocLv0BWby82j",
        "outputId": "926129c1-6381-475d-c118-3cc4769d575f",
        "colab": {
          "base_uri": "https://localhost:8080/",
          "height": 364
        }
      },
      "execution_count": 272,
      "outputs": [
        {
          "output_type": "execute_result",
          "data": {
            "text/html": [
              "\n",
              "  <div id=\"df-dc70a87a-0724-495a-8325-063a212cfd49\">\n",
              "    <div class=\"colab-df-container\">\n",
              "      <div>\n",
              "<style scoped>\n",
              "    .dataframe tbody tr th:only-of-type {\n",
              "        vertical-align: middle;\n",
              "    }\n",
              "\n",
              "    .dataframe tbody tr th {\n",
              "        vertical-align: top;\n",
              "    }\n",
              "\n",
              "    .dataframe thead th {\n",
              "        text-align: right;\n",
              "    }\n",
              "</style>\n",
              "<table border=\"1\" class=\"dataframe\">\n",
              "  <thead>\n",
              "    <tr style=\"text-align: right;\">\n",
              "      <th></th>\n",
              "      <th>to_multiple</th>\n",
              "      <th>from</th>\n",
              "      <th>cc</th>\n",
              "      <th>sent_email</th>\n",
              "      <th>image</th>\n",
              "      <th>attach</th>\n",
              "      <th>dollar</th>\n",
              "      <th>winner_tf</th>\n",
              "      <th>inherit</th>\n",
              "      <th>viagra</th>\n",
              "      <th>password</th>\n",
              "      <th>num_char</th>\n",
              "      <th>line_breaks</th>\n",
              "      <th>format</th>\n",
              "      <th>re_subj</th>\n",
              "      <th>exclaim_subj</th>\n",
              "      <th>urgent_subj</th>\n",
              "      <th>exclaim_mess</th>\n",
              "      <th>number_tf</th>\n",
              "    </tr>\n",
              "  </thead>\n",
              "  <tbody>\n",
              "    <tr>\n",
              "      <th>count</th>\n",
              "      <td>1424.000000</td>\n",
              "      <td>1424.000000</td>\n",
              "      <td>1424.000000</td>\n",
              "      <td>1424.000000</td>\n",
              "      <td>1424.000000</td>\n",
              "      <td>1424.000000</td>\n",
              "      <td>1424.000000</td>\n",
              "      <td>1424.000000</td>\n",
              "      <td>1424.000000</td>\n",
              "      <td>1424.0</td>\n",
              "      <td>1424.000000</td>\n",
              "      <td>1424.000000</td>\n",
              "      <td>1424.000000</td>\n",
              "      <td>1424.000000</td>\n",
              "      <td>1424.000000</td>\n",
              "      <td>1424.000000</td>\n",
              "      <td>1424.0</td>\n",
              "      <td>1424.000000</td>\n",
              "      <td>1424.000000</td>\n",
              "    </tr>\n",
              "    <tr>\n",
              "      <th>mean</th>\n",
              "      <td>0.076545</td>\n",
              "      <td>0.988062</td>\n",
              "      <td>0.005344</td>\n",
              "      <td>0.179073</td>\n",
              "      <td>0.001931</td>\n",
              "      <td>0.009163</td>\n",
              "      <td>0.016338</td>\n",
              "      <td>0.018258</td>\n",
              "      <td>0.002965</td>\n",
              "      <td>0.0</td>\n",
              "      <td>0.002032</td>\n",
              "      <td>0.037316</td>\n",
              "      <td>0.037460</td>\n",
              "      <td>0.507725</td>\n",
              "      <td>0.164326</td>\n",
              "      <td>0.057584</td>\n",
              "      <td>0.0</td>\n",
              "      <td>0.003100</td>\n",
              "      <td>0.647472</td>\n",
              "    </tr>\n",
              "    <tr>\n",
              "      <th>std</th>\n",
              "      <td>0.265961</td>\n",
              "      <td>0.108646</td>\n",
              "      <td>0.035435</td>\n",
              "      <td>0.383548</td>\n",
              "      <td>0.018119</td>\n",
              "      <td>0.029151</td>\n",
              "      <td>0.071261</td>\n",
              "      <td>0.133932</td>\n",
              "      <td>0.024817</td>\n",
              "      <td>0.0</td>\n",
              "      <td>0.016354</td>\n",
              "      <td>0.063134</td>\n",
              "      <td>0.065482</td>\n",
              "      <td>0.500116</td>\n",
              "      <td>0.370701</td>\n",
              "      <td>0.233037</td>\n",
              "      <td>0.0</td>\n",
              "      <td>0.027962</td>\n",
              "      <td>0.391432</td>\n",
              "    </tr>\n",
              "    <tr>\n",
              "      <th>min</th>\n",
              "      <td>0.000000</td>\n",
              "      <td>0.000000</td>\n",
              "      <td>0.000000</td>\n",
              "      <td>0.000000</td>\n",
              "      <td>0.000000</td>\n",
              "      <td>0.000000</td>\n",
              "      <td>0.000000</td>\n",
              "      <td>0.000000</td>\n",
              "      <td>0.000000</td>\n",
              "      <td>0.0</td>\n",
              "      <td>0.000000</td>\n",
              "      <td>0.000011</td>\n",
              "      <td>0.000249</td>\n",
              "      <td>0.000000</td>\n",
              "      <td>0.000000</td>\n",
              "      <td>0.000000</td>\n",
              "      <td>0.0</td>\n",
              "      <td>0.000000</td>\n",
              "      <td>0.000000</td>\n",
              "    </tr>\n",
              "    <tr>\n",
              "      <th>25%</th>\n",
              "      <td>0.000000</td>\n",
              "      <td>1.000000</td>\n",
              "      <td>0.000000</td>\n",
              "      <td>0.000000</td>\n",
              "      <td>0.000000</td>\n",
              "      <td>0.000000</td>\n",
              "      <td>0.000000</td>\n",
              "      <td>0.000000</td>\n",
              "      <td>0.000000</td>\n",
              "      <td>0.0</td>\n",
              "      <td>0.000000</td>\n",
              "      <td>0.003784</td>\n",
              "      <td>0.004228</td>\n",
              "      <td>0.000000</td>\n",
              "      <td>0.000000</td>\n",
              "      <td>0.000000</td>\n",
              "      <td>0.0</td>\n",
              "      <td>0.000000</td>\n",
              "      <td>0.500000</td>\n",
              "    </tr>\n",
              "    <tr>\n",
              "      <th>50%</th>\n",
              "      <td>0.000000</td>\n",
              "      <td>1.000000</td>\n",
              "      <td>0.000000</td>\n",
              "      <td>0.000000</td>\n",
              "      <td>0.000000</td>\n",
              "      <td>0.000000</td>\n",
              "      <td>0.000000</td>\n",
              "      <td>0.000000</td>\n",
              "      <td>0.000000</td>\n",
              "      <td>0.0</td>\n",
              "      <td>0.000000</td>\n",
              "      <td>0.011506</td>\n",
              "      <td>0.011191</td>\n",
              "      <td>1.000000</td>\n",
              "      <td>0.000000</td>\n",
              "      <td>0.000000</td>\n",
              "      <td>0.0</td>\n",
              "      <td>0.000000</td>\n",
              "      <td>0.500000</td>\n",
              "    </tr>\n",
              "    <tr>\n",
              "      <th>75%</th>\n",
              "      <td>0.000000</td>\n",
              "      <td>1.000000</td>\n",
              "      <td>0.000000</td>\n",
              "      <td>0.000000</td>\n",
              "      <td>0.000000</td>\n",
              "      <td>0.000000</td>\n",
              "      <td>0.000000</td>\n",
              "      <td>0.000000</td>\n",
              "      <td>0.000000</td>\n",
              "      <td>0.0</td>\n",
              "      <td>0.000000</td>\n",
              "      <td>0.043840</td>\n",
              "      <td>0.041345</td>\n",
              "      <td>1.000000</td>\n",
              "      <td>0.000000</td>\n",
              "      <td>0.000000</td>\n",
              "      <td>0.0</td>\n",
              "      <td>0.001618</td>\n",
              "      <td>1.000000</td>\n",
              "    </tr>\n",
              "    <tr>\n",
              "      <th>max</th>\n",
              "      <td>1.000000</td>\n",
              "      <td>1.000000</td>\n",
              "      <td>1.062500</td>\n",
              "      <td>1.000000</td>\n",
              "      <td>0.450000</td>\n",
              "      <td>0.428571</td>\n",
              "      <td>1.000000</td>\n",
              "      <td>1.000000</td>\n",
              "      <td>0.666667</td>\n",
              "      <td>0.0</td>\n",
              "      <td>0.214286</td>\n",
              "      <td>0.831687</td>\n",
              "      <td>0.864213</td>\n",
              "      <td>1.000000</td>\n",
              "      <td>1.000000</td>\n",
              "      <td>1.000000</td>\n",
              "      <td>0.0</td>\n",
              "      <td>0.973301</td>\n",
              "      <td>1.000000</td>\n",
              "    </tr>\n",
              "  </tbody>\n",
              "</table>\n",
              "</div>\n",
              "      <button class=\"colab-df-convert\" onclick=\"convertToInteractive('df-dc70a87a-0724-495a-8325-063a212cfd49')\"\n",
              "              title=\"Convert this dataframe to an interactive table.\"\n",
              "              style=\"display:none;\">\n",
              "        \n",
              "  <svg xmlns=\"http://www.w3.org/2000/svg\" height=\"24px\"viewBox=\"0 0 24 24\"\n",
              "       width=\"24px\">\n",
              "    <path d=\"M0 0h24v24H0V0z\" fill=\"none\"/>\n",
              "    <path d=\"M18.56 5.44l.94 2.06.94-2.06 2.06-.94-2.06-.94-.94-2.06-.94 2.06-2.06.94zm-11 1L8.5 8.5l.94-2.06 2.06-.94-2.06-.94L8.5 2.5l-.94 2.06-2.06.94zm10 10l.94 2.06.94-2.06 2.06-.94-2.06-.94-.94-2.06-.94 2.06-2.06.94z\"/><path d=\"M17.41 7.96l-1.37-1.37c-.4-.4-.92-.59-1.43-.59-.52 0-1.04.2-1.43.59L10.3 9.45l-7.72 7.72c-.78.78-.78 2.05 0 2.83L4 21.41c.39.39.9.59 1.41.59.51 0 1.02-.2 1.41-.59l7.78-7.78 2.81-2.81c.8-.78.8-2.07 0-2.86zM5.41 20L4 18.59l7.72-7.72 1.47 1.35L5.41 20z\"/>\n",
              "  </svg>\n",
              "      </button>\n",
              "      \n",
              "  <style>\n",
              "    .colab-df-container {\n",
              "      display:flex;\n",
              "      flex-wrap:wrap;\n",
              "      gap: 12px;\n",
              "    }\n",
              "\n",
              "    .colab-df-convert {\n",
              "      background-color: #E8F0FE;\n",
              "      border: none;\n",
              "      border-radius: 50%;\n",
              "      cursor: pointer;\n",
              "      display: none;\n",
              "      fill: #1967D2;\n",
              "      height: 32px;\n",
              "      padding: 0 0 0 0;\n",
              "      width: 32px;\n",
              "    }\n",
              "\n",
              "    .colab-df-convert:hover {\n",
              "      background-color: #E2EBFA;\n",
              "      box-shadow: 0px 1px 2px rgba(60, 64, 67, 0.3), 0px 1px 3px 1px rgba(60, 64, 67, 0.15);\n",
              "      fill: #174EA6;\n",
              "    }\n",
              "\n",
              "    [theme=dark] .colab-df-convert {\n",
              "      background-color: #3B4455;\n",
              "      fill: #D2E3FC;\n",
              "    }\n",
              "\n",
              "    [theme=dark] .colab-df-convert:hover {\n",
              "      background-color: #434B5C;\n",
              "      box-shadow: 0px 1px 3px 1px rgba(0, 0, 0, 0.15);\n",
              "      filter: drop-shadow(0px 1px 2px rgba(0, 0, 0, 0.3));\n",
              "      fill: #FFFFFF;\n",
              "    }\n",
              "  </style>\n",
              "\n",
              "      <script>\n",
              "        const buttonEl =\n",
              "          document.querySelector('#df-dc70a87a-0724-495a-8325-063a212cfd49 button.colab-df-convert');\n",
              "        buttonEl.style.display =\n",
              "          google.colab.kernel.accessAllowed ? 'block' : 'none';\n",
              "\n",
              "        async function convertToInteractive(key) {\n",
              "          const element = document.querySelector('#df-dc70a87a-0724-495a-8325-063a212cfd49');\n",
              "          const dataTable =\n",
              "            await google.colab.kernel.invokeFunction('convertToInteractive',\n",
              "                                                     [key], {});\n",
              "          if (!dataTable) return;\n",
              "\n",
              "          const docLinkHtml = 'Like what you see? Visit the ' +\n",
              "            '<a target=\"_blank\" href=https://colab.research.google.com/notebooks/data_table.ipynb>data table notebook</a>'\n",
              "            + ' to learn more about interactive tables.';\n",
              "          element.innerHTML = '';\n",
              "          dataTable['output_type'] = 'display_data';\n",
              "          await google.colab.output.renderOutput(dataTable, element);\n",
              "          const docLink = document.createElement('div');\n",
              "          docLink.innerHTML = docLinkHtml;\n",
              "          element.appendChild(docLink);\n",
              "        }\n",
              "      </script>\n",
              "    </div>\n",
              "  </div>\n",
              "  "
            ],
            "text/plain": [
              "       to_multiple         from  ...  exclaim_mess    number_tf\n",
              "count  1424.000000  1424.000000  ...   1424.000000  1424.000000\n",
              "mean      0.076545     0.988062  ...      0.003100     0.647472\n",
              "std       0.265961     0.108646  ...      0.027962     0.391432\n",
              "min       0.000000     0.000000  ...      0.000000     0.000000\n",
              "25%       0.000000     1.000000  ...      0.000000     0.500000\n",
              "50%       0.000000     1.000000  ...      0.000000     0.500000\n",
              "75%       0.000000     1.000000  ...      0.001618     1.000000\n",
              "max       1.000000     1.000000  ...      0.973301     1.000000\n",
              "\n",
              "[8 rows x 19 columns]"
            ]
          },
          "metadata": {},
          "execution_count": 272
        }
      ]
    },
    {
      "cell_type": "markdown",
      "source": [
        "If you see the Train and test data is normalized between 0 and 1. I took liberty to normalized all column in train and test data set. "
      ],
      "metadata": {
        "id": "zjd4vfedzuEH"
      }
    },
    {
      "cell_type": "code",
      "source": [
        "#copy the y varibale to have similar to x varibale name\n",
        "y_train_norm = y_train_q3f.copy()\n",
        "y_test_norm = y_test_q3f.copy()"
      ],
      "metadata": {
        "id": "8HcyY5Er0kIQ"
      },
      "execution_count": 273,
      "outputs": []
    },
    {
      "cell_type": "code",
      "source": [
        "#Shape and Type of data set\n",
        "print_shape_type_of_dataset(X_train_norm,X_test_norm,y_train_norm,y_test_norm)"
      ],
      "metadata": {
        "id": "9jMYkOGf02JK",
        "outputId": "d2d05d1a-5a2b-44e4-ab1f-bce838e8e415",
        "colab": {
          "base_uri": "https://localhost:8080/"
        }
      },
      "execution_count": 274,
      "outputs": [
        {
          "output_type": "stream",
          "name": "stdout",
          "text": [
            "X train Dataset Shape:  (5684, 19) Type of X train dataset:  <class 'pandas.core.frame.DataFrame'>\n",
            "X test Dataset Shape:  (1424, 19) Type of X train dataset:  <class 'pandas.core.frame.DataFrame'>\n",
            "Y train Dataset Shape:  (5684,) Type of X train dataset:  <class 'pandas.core.series.Series'>\n",
            "Y test Dataset Shape:  (1424,) Type of X train dataset:  <class 'pandas.core.frame.DataFrame'>\n"
          ]
        }
      ]
    },
    {
      "cell_type": "markdown",
      "source": [
        "**1. Naiver Bayes Classifier**"
      ],
      "metadata": {
        "id": "01KH8pnd7MpK"
      }
    },
    {
      "cell_type": "code",
      "source": [
        "\n",
        "nb_model = GaussianNB() #define a model using Gaussian version Naive Bayes classifier\n",
        "nb_model.fit(X_train_norm, y_train_norm) #fit the model using the training class balanced data\n",
        "\n",
        "y_train_predicted_nb_norm = nb_model.predict(X_train_norm)\n",
        "y_test_predicted_nb_norm = nb_model.predict(X_test_norm)\n",
        "print('\\nNaive Bayes Classifier statistics with Class Balanced Dataset:\\n')\n",
        "print_classification_report(y_train_norm,y_train_predicted_nb_norm , y_test_norm, y_test_predicted_nb_norm)\n",
        "plot_confusion_matrix(y_train_norm,y_train_predicted_nb_norm , y_test_norm, y_test_predicted_nb_norm)"
      ],
      "metadata": {
        "id": "PizUN_LZ53nQ",
        "outputId": "808ce546-2f68-42b7-9988-dc70341264a4",
        "colab": {
          "base_uri": "https://localhost:8080/",
          "height": 788
        }
      },
      "execution_count": 275,
      "outputs": [
        {
          "output_type": "stream",
          "name": "stdout",
          "text": [
            "\n",
            "Naive Bayes Classifier statistics with Class Balanced Dataset:\n",
            "\n",
            "======================================================\n",
            "Train Classification Report:\n",
            "              precision    recall  f1-score   support\n",
            "\n",
            "           0       0.92      0.59      0.72      2842\n",
            "           1       0.70      0.95      0.80      2842\n",
            "\n",
            "    accuracy                           0.77      5684\n",
            "   macro avg       0.81      0.77      0.76      5684\n",
            "weighted avg       0.81      0.77      0.76      5684\n",
            "\n",
            "======================================================\n",
            "Test Classification Report:\n",
            "              precision    recall  f1-score   support\n",
            "\n",
            "           0       0.92      0.63      0.75       712\n",
            "           1       0.72      0.95      0.82       712\n",
            "\n",
            "    accuracy                           0.79      1424\n",
            "   macro avg       0.82      0.79      0.78      1424\n",
            "weighted avg       0.82      0.79      0.78      1424\n",
            "\n",
            "======================================================\n",
            "Train confusion matrix: \n",
            " [[1674 1168]\n",
            " [ 149 2693]]\n",
            "Test confusion matrix: \n",
            " [[447 265]\n",
            " [ 38 674]]\n"
          ]
        },
        {
          "output_type": "display_data",
          "data": {
            "image/png": "[encoded data removed]",
            "text/plain": [
              "<Figure size 576x216 with 4 Axes>"
            ]
          },
          "metadata": {
            "needs_background": "light"
          }
        }
      ]
    },
    {
      "cell_type": "markdown",
      "source": [
        "**2. Logistic Regresssion Model**"
      ],
      "metadata": {
        "id": "KuYeFGhi7Sav"
      }
    },
    {
      "cell_type": "code",
      "source": [
        "#implement logistic Regression using class balance data\n",
        "#Train the model\n",
        "from sklearn.linear_model import LogisticRegression\n",
        "logmodel = LogisticRegression(C=1e6)\n",
        "logmodel.fit(X_train_norm, y_train_norm)\n",
        "\n",
        "#Predict the y test\n",
        "y_train_predictions_lrm_norm = logmodel.predict(X_train_norm)\n",
        "y_test_predictions_lrm_norm = logmodel.predict(X_test_norm)\n"
      ],
      "metadata": {
        "id": "t_ajWvRD7bTV",
        "outputId": "f651419b-32b2-48b1-9d59-5b6bed611bff",
        "colab": {
          "base_uri": "https://localhost:8080/"
        }
      },
      "execution_count": 276,
      "outputs": [
        {
          "output_type": "stream",
          "name": "stderr",
          "text": [
            "/usr/local/lib/python3.7/dist-packages/sklearn/linear_model/_logistic.py:818: ConvergenceWarning: lbfgs failed to converge (status=1):\n",
            "STOP: TOTAL NO. of ITERATIONS REACHED LIMIT.\n",
            "\n",
            "Increase the number of iterations (max_iter) or scale the data as shown in:\n",
            "    https://scikit-learn.org/stable/modules/preprocessing.html\n",
            "Please also refer to the documentation for alternative solver options:\n",
            "    https://scikit-learn.org/stable/modules/linear_model.html#logistic-regression\n",
            "  extra_warning_msg=_LOGISTIC_SOLVER_CONVERGENCE_MSG,\n"
          ]
        }
      ]
    },
    {
      "cell_type": "code",
      "source": [
        "\n",
        "print('Logistic Regression Model with Class Balance Dataset and normalization:\\n')\n",
        "print_classification_report(y_train_norm,y_train_predictions_lrm_norm,y_test_norm, y_test_predictions_lrm_norm )\n",
        "plot_confusion_matrix(y_train_norm,y_train_predictions_lrm_norm,y_test_norm, y_test_predictions_lrm_norm )"
      ],
      "metadata": {
        "id": "0q3VPFdx8Ojc",
        "outputId": "54138c88-d069-4da5-b7c3-d804829c67f8",
        "colab": {
          "base_uri": "https://localhost:8080/",
          "height": 771
        }
      },
      "execution_count": 277,
      "outputs": [
        {
          "output_type": "stream",
          "name": "stdout",
          "text": [
            "Logistic Regression Model with Class Balance Dataset and normalization:\n",
            "\n",
            "======================================================\n",
            "Train Classification Report:\n",
            "              precision    recall  f1-score   support\n",
            "\n",
            "           0       0.89      0.78      0.83      2842\n",
            "           1       0.81      0.90      0.85      2842\n",
            "\n",
            "    accuracy                           0.84      5684\n",
            "   macro avg       0.85      0.84      0.84      5684\n",
            "weighted avg       0.85      0.84      0.84      5684\n",
            "\n",
            "======================================================\n",
            "Test Classification Report:\n",
            "              precision    recall  f1-score   support\n",
            "\n",
            "           0       0.84      0.78      0.81       712\n",
            "           1       0.79      0.85      0.82       712\n",
            "\n",
            "    accuracy                           0.82      1424\n",
            "   macro avg       0.82      0.82      0.82      1424\n",
            "weighted avg       0.82      0.82      0.82      1424\n",
            "\n",
            "======================================================\n",
            "Train confusion matrix: \n",
            " [[2223  619]\n",
            " [ 274 2568]]\n",
            "Test confusion matrix: \n",
            " [[555 157]\n",
            " [105 607]]\n"
          ]
        },
        {
          "output_type": "display_data",
          "data": {
            "image/png": "[encoded data removed]",
            "text/plain": [
              "<Figure size 576x216 with 4 Axes>"
            ]
          },
          "metadata": {
            "needs_background": "light"
          }
        }
      ]
    },
    {
      "cell_type": "markdown",
      "source": [
        "**3. Soft Margin SVM**"
      ],
      "metadata": {
        "id": "GhjNceMc8Sg6"
      }
    },
    {
      "cell_type": "code",
      "source": [
        "from sklearn.svm import LinearSVC #linear svm from scikit learn \n",
        "clf = LinearSVC(random_state=0, tol=1e-5) #max_iter=10000\n",
        "#copy some variable for SVM perspective\n",
        "train_label= y_train_norm.copy()\n",
        "train_features = X_train_norm.copy()\n",
        "test_features = X_test_norm.copy()\n",
        "test_label = y_test_norm.copy()\n",
        "num_train_norm = n_train_smote\n",
        "num_test_norm = n_test_smote\n",
        "\n",
        "train_label = train_label.to_frame(name='spam')\n",
        "test_label = test_label.to_frame(name='spam')\n",
        "\n",
        "train_label = train_label.to_numpy()\n",
        "train_features = train_features.to_numpy()\n",
        "test_features= test_features.to_numpy()\n",
        "test_label = test_label.to_numpy()\n",
        "\n",
        "print_shape_type_of_dataset(train_features,test_features, train_label, test_label)"
      ],
      "metadata": {
        "id": "avBYrf1q8hB0",
        "outputId": "5f1e26d8-c788-4ab0-bf39-8eb33dcf4266",
        "colab": {
          "base_uri": "https://localhost:8080/"
        }
      },
      "execution_count": 278,
      "outputs": [
        {
          "output_type": "stream",
          "name": "stdout",
          "text": [
            "X train Dataset Shape:  (5684, 19) Type of X train dataset:  <class 'numpy.ndarray'>\n",
            "X test Dataset Shape:  (1424, 19) Type of X train dataset:  <class 'numpy.ndarray'>\n",
            "Y train Dataset Shape:  (5684, 1) Type of X train dataset:  <class 'numpy.ndarray'>\n",
            "Y test Dataset Shape:  (1424, 1) Type of X train dataset:  <class 'numpy.ndarray'>\n"
          ]
        }
      ]
    },
    {
      "cell_type": "code",
      "source": [
        "#Get the trained model in clf_model\n",
        "train_label = np.reshape(train_label,(train_label.shape[0],))\n",
        "clf_model = clf.fit(train_features,train_label)\n",
        "#We will now use the trained model for predition on the test data set\n",
        "predicted_test_labels = clf_model.predict(test_features)"
      ],
      "metadata": {
        "id": "eIQLDgbD9GZi"
      },
      "execution_count": 279,
      "outputs": []
    },
    {
      "cell_type": "code",
      "source": [
        "#reshaping predicted_labels so that it is of the same shape as test_label\n",
        "predicted_test_labels = np.reshape(predicted_test_labels.data,(num_test,1))\n",
        "#If you wish to see how predicted_labels and test_label look, you can print them and check\n",
        "# print(predicted_test_labels)\n",
        "\n",
        "#compute test set error and test set accuracy \n",
        "test_error = np.sum(0.5*np.abs(predicted_test_labels-test_label))/len(test_label)*100.0#Try to understand this equation\n",
        "test_accuracy = 100.0-test_error \n",
        "#print the test set accuracy \n",
        "print('Test set accuracy:', test_accuracy)"
      ],
      "metadata": {
        "id": "vcShI_BC9OAz",
        "outputId": "f1a83f88-0b2d-4bba-c885-23f8d9c98e04",
        "colab": {
          "base_uri": "https://localhost:8080/"
        }
      },
      "execution_count": 280,
      "outputs": [
        {
          "output_type": "stream",
          "name": "stdout",
          "text": [
            "Test set accuracy: 91.29213483146067\n"
          ]
        }
      ]
    },
    {
      "cell_type": "code",
      "source": [
        "#We can also use the trained model clf_model to predict the train set \n",
        "predicted_train_labels = clf_model.predict(train_features)\n",
        "#reshaping predicted_train_labels so that it is of the same shape as train_label\n",
        "predicted_train_labels = np.reshape(predicted_train_labels.data,(num_train,1))\n",
        "#compute train set error and train set accuracy\n",
        "train_label = np.reshape(train_label,(num_train,1))\n",
        "train_error = np.sum(0.5*np.abs(predicted_train_labels-train_label))/len(train_label)*100.0\n",
        "train_accuracy = 100.0-train_error \n",
        "#print the train set accuracy\n",
        "print('Train set accuracy:', train_accuracy)"
      ],
      "metadata": {
        "id": "3E6Jjx5Q9Qv5",
        "outputId": "990beff6-a39f-4044-833f-547004bf0506",
        "colab": {
          "base_uri": "https://localhost:8080/"
        }
      },
      "execution_count": 281,
      "outputs": [
        {
          "output_type": "stream",
          "name": "stdout",
          "text": [
            "Train set accuracy: 92.47888810696692\n"
          ]
        }
      ]
    },
    {
      "cell_type": "code",
      "source": [
        "print('Soft Margin SVM Statistics with balanced dataset and Normalization: \\n')\n",
        "print_classification_report(train_label, predicted_train_labels,test_label, predicted_test_labels)\n",
        "plot_confusion_matrix(train_label, predicted_train_labels,test_label, predicted_test_labels)"
      ],
      "metadata": {
        "id": "54kOjdOz9TXw",
        "outputId": "68f1dec0-0986-41ad-85ba-b9f48e88ada5",
        "colab": {
          "base_uri": "https://localhost:8080/",
          "height": 771
        }
      },
      "execution_count": 282,
      "outputs": [
        {
          "output_type": "stream",
          "name": "stdout",
          "text": [
            "Soft Margin SVM Statistics with balanced dataset and Normalization: \n",
            "\n",
            "======================================================\n",
            "Train Classification Report:\n",
            "              precision    recall  f1-score   support\n",
            "\n",
            "           0       0.89      0.80      0.84      2842\n",
            "           1       0.82      0.90      0.86      2842\n",
            "\n",
            "    accuracy                           0.85      5684\n",
            "   macro avg       0.85      0.85      0.85      5684\n",
            "weighted avg       0.85      0.85      0.85      5684\n",
            "\n",
            "======================================================\n",
            "Test Classification Report:\n",
            "              precision    recall  f1-score   support\n",
            "\n",
            "           0       0.85      0.79      0.82       712\n",
            "           1       0.80      0.86      0.83       712\n",
            "\n",
            "    accuracy                           0.83      1424\n",
            "   macro avg       0.83      0.83      0.83      1424\n",
            "weighted avg       0.83      0.83      0.83      1424\n",
            "\n",
            "======================================================\n",
            "Train confusion matrix: \n",
            " [[2273  569]\n",
            " [ 286 2556]]\n",
            "Test confusion matrix: \n",
            " [[561 151]\n",
            " [ 97 615]]\n"
          ]
        },
        {
          "output_type": "display_data",
          "data": {
            "image/png": "[encoded data removed]",
            "text/plain": [
              "<Figure size 576x216 with 4 Axes>"
            ]
          },
          "metadata": {
            "needs_background": "light"
          }
        }
      ]
    },
    {
      "cell_type": "markdown",
      "source": [
        "**4. Descision Tree Classification**"
      ],
      "metadata": {
        "id": "MlP4p7i79aBj"
      }
    },
    {
      "cell_type": "code",
      "source": [
        "#import the decision tree from scikit learn \n",
        "from sklearn import tree\n",
        "from sklearn.model_selection import cross_val_score \n",
        "\n",
        "#copy some variable for SVM perspective\n",
        "train_label= y_train_norm.copy()\n",
        "train_features = X_train_smote.copy()\n",
        "test_features = X_test_norm.copy()\n",
        "test_label = y_test_norm.copy()\n",
        "num_train = n_train_smote\n",
        "num_test = n_test_smote\n",
        "\n",
        "train_label = train_label.to_frame(name='spam')\n",
        "test_label = test_label.to_frame(name='spam')\n",
        "\n",
        "train_label = train_label.to_numpy()\n",
        "train_features = train_features.to_numpy()\n",
        "test_features= test_features.to_numpy()\n",
        "test_label = test_label.to_numpy()\n",
        "\n",
        "print_shape_type_of_dataset(train_features,test_features, train_label, test_label)"
      ],
      "metadata": {
        "id": "B5xvOS9c99PL",
        "outputId": "17374630-df71-4bbd-b790-e6f24ab4b8a7",
        "colab": {
          "base_uri": "https://localhost:8080/"
        }
      },
      "execution_count": 283,
      "outputs": [
        {
          "output_type": "stream",
          "name": "stdout",
          "text": [
            "X train Dataset Shape:  (5684, 19) Type of X train dataset:  <class 'numpy.ndarray'>\n",
            "X test Dataset Shape:  (1424, 19) Type of X train dataset:  <class 'numpy.ndarray'>\n",
            "Y train Dataset Shape:  (5684, 1) Type of X train dataset:  <class 'numpy.ndarray'>\n",
            "Y test Dataset Shape:  (1424, 1) Type of X train dataset:  <class 'numpy.ndarray'>\n"
          ]
        }
      ]
    },
    {
      "cell_type": "code",
      "source": [
        "#Lets tune the best depth by tuning some hyperparameter\n",
        "criteria = ['entropy', 'gini']\n",
        "max_depth = np.array([1,2,3,5,10,15,20,25])\n",
        "best_depth = {}\n",
        "cv_k = 5 #5-fold cross validation\n",
        "for criterion in criteria:\n",
        "  avg_score = np.zeros(len(max_depth))\n",
        "  \n",
        "  for depth in max_depth:\n",
        "    clf_dt = tree.DecisionTreeClassifier(criterion=criterion, max_depth=depth, random_state=0)\n",
        "    scores = cross_val_score(clf_dt, train_features , train_label.ravel(), cv=cv_k) \n",
        "    \n",
        "    avg_score[np.where(max_depth==depth)] = np.mean(scores)\n",
        "\n",
        "  print('Criterion:', criterion)\n",
        "  print ('Avg score',avg_score)\n",
        "  max_score_index = np.argmax(avg_score)\n",
        "  \n",
        "  best_depth[criterion] = max_depth[int(max_score_index)]\n",
        "\n",
        "print ('Best hyperparameter for tree depth = ', best_depth)"
      ],
      "metadata": {
        "id": "m10IHCJG-OA6",
        "outputId": "a83c39bc-a799-4f24-ea87-3986c7519ab8",
        "colab": {
          "base_uri": "https://localhost:8080/"
        }
      },
      "execution_count": 284,
      "outputs": [
        {
          "output_type": "stream",
          "name": "stdout",
          "text": [
            "Criterion: entropy\n",
            "Avg score [0.64689819 0.76424787 0.84306304 0.86558261 0.89144648 0.91642898\n",
            " 0.91871508 0.91818738]\n",
            "Criterion: gini\n",
            "Avg score [0.71463451 0.81016714 0.83725721 0.86030386 0.89373304 0.91114884\n",
            " 0.91466703 0.91255652]\n",
            "Best hyperparameter for tree depth =  {'entropy': 20, 'gini': 20}\n"
          ]
        }
      ]
    },
    {
      "cell_type": "code",
      "source": [
        "clf = tree.DecisionTreeClassifier(criterion='entropy',max_depth=20)\n",
        "#train using decision tree classifier and plot the resultant decision tree\n",
        "# tree.plot_tree(clf.fit(train_features, train_label))\n",
        "\n",
        "#Get the trained model in clf_model\n",
        "clf_model = clf.fit(train_features,train_label)\n",
        "#We will now use the trained model for predition on the test data set\n",
        "predicted_test_labels = clf_model.predict(test_features)\n",
        "\n",
        "#reshaping predicted_labels so that it is of the same shape as test_label\n",
        "predicted_test_labels = np.reshape(predicted_test_labels.data,(num_test,1))\n",
        "#If you wish to see how predicted_labels and test_label look, you can print them and check\n",
        "#print(predicted_test_labels)\n",
        "\n",
        "#We can also use the trained model clf_model to predict the train set \n",
        "predicted_train_labels = clf_model.predict(train_features)\n",
        "#reshaping predicted_train_labels so that it is of the same shape as train_label\n",
        "predicted_train_labels = np.reshape(predicted_train_labels.data,(num_train,1))\n",
        "#compute train set error and train set accuracy \n",
        "train_error = np.sum(0.5*np.abs(predicted_train_labels-train_label))/len(train_label)*100.0\n",
        "train_accuracy = 100.0-train_error \n",
        "#print the test set accuracy \n",
        "print('Train set accuracy:', train_accuracy)\n",
        "\n",
        "#compute test set error and test set accuracy \n",
        "test_error = np.sum(0.5*np.abs(predicted_test_labels-test_label))/len(test_label)*100.0#Try to understand this equation\n",
        "test_accuracy = 100.0-test_error \n",
        "#print the test set accuracy \n",
        "print('Test set accuracy:', test_accuracy)"
      ],
      "metadata": {
        "id": "jFGb2_dI-UTi",
        "outputId": "5a45f7ee-897e-43b7-ffa2-1b5eb6b3c2a1",
        "colab": {
          "base_uri": "https://localhost:8080/"
        }
      },
      "execution_count": 285,
      "outputs": [
        {
          "output_type": "stream",
          "name": "stdout",
          "text": [
            "Train set accuracy: 99.75369458128078\n",
            "Test set accuracy: 86.34129213483146\n"
          ]
        }
      ]
    },
    {
      "cell_type": "code",
      "source": [
        "print('Decision Tree Statistics with balanced dataset and normalization: \\n')\n",
        "print_classification_report(train_label, predicted_train_labels,test_label, predicted_test_labels)\n",
        "plot_confusion_matrix(train_label, predicted_train_labels,test_label, predicted_test_labels)"
      ],
      "metadata": {
        "id": "LD4704RW-iVM",
        "outputId": "31048db3-23e2-4c31-99a6-12329d76bfd1",
        "colab": {
          "base_uri": "https://localhost:8080/",
          "height": 771
        }
      },
      "execution_count": 286,
      "outputs": [
        {
          "output_type": "stream",
          "name": "stdout",
          "text": [
            "Decision Tree Statistics with balanced dataset and normalization: \n",
            "\n",
            "======================================================\n",
            "Train Classification Report:\n",
            "              precision    recall  f1-score   support\n",
            "\n",
            "           0       1.00      0.99      1.00      2842\n",
            "           1       0.99      1.00      1.00      2842\n",
            "\n",
            "    accuracy                           1.00      5684\n",
            "   macro avg       1.00      1.00      1.00      5684\n",
            "weighted avg       1.00      1.00      1.00      5684\n",
            "\n",
            "======================================================\n",
            "Test Classification Report:\n",
            "              precision    recall  f1-score   support\n",
            "\n",
            "           0       0.95      0.48      0.64       712\n",
            "           1       0.65      0.97      0.78       712\n",
            "\n",
            "    accuracy                           0.73      1424\n",
            "   macro avg       0.80      0.73      0.71      1424\n",
            "weighted avg       0.80      0.73      0.71      1424\n",
            "\n",
            "======================================================\n",
            "Train confusion matrix: \n",
            " [[2823   19]\n",
            " [   9 2833]]\n",
            "Test confusion matrix: \n",
            " [[341 371]\n",
            " [ 18 694]]\n"
          ]
        },
        {
          "output_type": "display_data",
          "data": {
            "image/png": "[encoded data removed]",
            "text/plain": [
              "<Figure size 576x216 with 4 Axes>"
            ]
          },
          "metadata": {
            "needs_background": "light"
          }
        }
      ]
    },
    {
      "cell_type": "markdown",
      "source": [
        "**5. Random Forest Classification**"
      ],
      "metadata": {
        "id": "dghxnb8a-0-s"
      }
    },
    {
      "cell_type": "code",
      "source": [
        "X_train = X_train_norm.copy()\n",
        "y_train = y_train_norm.copy()\n",
        "X_test = X_test_norm.copy()\n",
        "y_test = y_test_norm.copy()\n",
        "\n",
        "\n",
        "print_shape_type_of_dataset(X_train,X_test,y_train, y_test)\n",
        "\n",
        "num_features = X_train.shape[1]\n",
        "print('No of Feature:', num_features)"
      ],
      "metadata": {
        "id": "ezcLtFqB-5Er",
        "outputId": "5b2527d3-0671-4050-ce36-890cf02b6000",
        "colab": {
          "base_uri": "https://localhost:8080/"
        }
      },
      "execution_count": 287,
      "outputs": [
        {
          "output_type": "stream",
          "name": "stdout",
          "text": [
            "X train Dataset Shape:  (5684, 19) Type of X train dataset:  <class 'pandas.core.frame.DataFrame'>\n",
            "X test Dataset Shape:  (1424, 19) Type of X train dataset:  <class 'pandas.core.frame.DataFrame'>\n",
            "Y train Dataset Shape:  (5684,) Type of X train dataset:  <class 'pandas.core.series.Series'>\n",
            "Y test Dataset Shape:  (1424,) Type of X train dataset:  <class 'pandas.core.frame.DataFrame'>\n",
            "No of Feature: 19\n"
          ]
        }
      ]
    },
    {
      "cell_type": "code",
      "source": [
        "#Let us now use cross validation to find random forest hyperparameters.\n",
        "# We will first find best max depths for a given set of estimators\n",
        "from sklearn.ensemble import RandomForestClassifier\n",
        "from sklearn.model_selection import cross_val_score\n",
        "import math\n",
        "import numpy as np\n",
        "\n",
        "num_features = X_train.shape[1]\n",
        "estimators = [5, 10,50,100,150,200]\n",
        "constant = math.sqrt(num_features)\n",
        "max_depth = constant*np.array([0.25,0.5, 0.75,1,1.25,1.50,1.75,2])\n",
        "max_depth = np.ceil(max_depth)\n",
        "print ('maximum depth', max_depth)\n",
        "best_depth = {}\n",
        "cv_k = 5 #5-fold cross validation\n",
        "for n_estimate in estimators:\n",
        "  avg_score = np.zeros(len(max_depth))\n",
        "  # print (avg_score)\n",
        "  for depth in max_depth:\n",
        "    clf_rf = RandomForestClassifier(n_estimators = n_estimate,max_depth = depth,  random_state=0)\n",
        "    scores = cross_val_score(clf_rf, X_train, y_train.ravel(), cv=cv_k) \n",
        "    # print ('scores',scores)\n",
        "    avg_score[np.where(max_depth==depth)] = np.mean(scores)\n",
        "\n",
        "  # print ('avg score',avg_score)\n",
        "  max_score_index = np.argmax(avg_score)\n",
        "  # print (max_score_index)\n",
        "  best_depth[n_estimate] = max_depth[int(max_score_index)]\n",
        "\n",
        "print ('maximum depth = ', best_depth)"
      ],
      "metadata": {
        "id": "K60v1DvS_XKB",
        "outputId": "5248e740-45d8-4789-cb63-bf02d8219a8f",
        "colab": {
          "base_uri": "https://localhost:8080/"
        }
      },
      "execution_count": 288,
      "outputs": [
        {
          "output_type": "stream",
          "name": "stdout",
          "text": [
            "maximum depth [2. 3. 4. 5. 6. 7. 8. 9.]\n",
            "maximum depth =  {5: 9.0, 10: 9.0, 50: 9.0, 100: 9.0, 150: 9.0, 200: 9.0}\n"
          ]
        }
      ]
    },
    {
      "cell_type": "code",
      "source": [
        "## Now let's find the number of estimators\n",
        "avg_score = np.zeros(len(estimators))\n",
        "# print (estimators)\n",
        "for n_estimate in estimators:\n",
        "    depth = best_depth[n_estimate]\n",
        "    clf_rf = RandomForestClassifier(n_estimators = n_estimate,max_depth = depth,  random_state=0)\n",
        "    scores = cross_val_score(clf_rf, X_train, y_train.ravel(), cv=cv_k) \n",
        "    avg_score[estimators.index(n_estimate)] = np.mean(scores)\n",
        "\n",
        "print ('avg score =',avg_score)\n",
        "max_score_index = np.argmax(avg_score)\n",
        "best_estimator = estimators[max_score_index]\n",
        "best_max_depth = best_depth[best_estimator]\n",
        "print ('Number of estimators = ',best_estimator)\n",
        "print ('maximum depth =',best_max_depth)"
      ],
      "metadata": {
        "id": "OdXSaF0R_m31",
        "outputId": "17c1dda1-54a6-4efb-ddf8-124a0f7ad553",
        "colab": {
          "base_uri": "https://localhost:8080/"
        }
      },
      "execution_count": 289,
      "outputs": [
        {
          "output_type": "stream",
          "name": "stdout",
          "text": [
            "avg score = [0.89144679 0.89567013 0.89936267 0.89936189 0.8990104  0.8986586 ]\n",
            "Number of estimators =  50\n",
            "maximum depth = 9.0\n"
          ]
        }
      ]
    },
    {
      "cell_type": "code",
      "source": [
        "# train and test accuracy using random forest classifier\n",
        "from sklearn.metrics import accuracy_score\n",
        "clf_rf = RandomForestClassifier(n_estimators = best_estimator,max_depth = best_max_depth,  random_state=0)\n",
        "clf_model = clf_rf.fit(X_train, y_train)\n",
        "train_y_predicted = clf_model.predict(X_train)\n",
        "train_acc_rf = accuracy_score(y_train, train_y_predicted)\n",
        "test_y_predicted = clf_model.predict(X_test)\n",
        "test_acc_rf = accuracy_score(y_test, test_y_predicted)\n",
        "print('Train accuracy from Random forest:', train_acc_rf)\n",
        "print('Test accuracy from Random forest:', test_acc_rf)"
      ],
      "metadata": {
        "id": "OQJazrJp_ucs",
        "outputId": "28cf71c3-aaae-4ad5-a022-8c151f348eb4",
        "colab": {
          "base_uri": "https://localhost:8080/"
        }
      },
      "execution_count": 290,
      "outputs": [
        {
          "output_type": "stream",
          "name": "stdout",
          "text": [
            "Train accuracy from Random forest: 0.9093947923997185\n",
            "Test accuracy from Random forest: 0.8651685393258427\n"
          ]
        }
      ]
    },
    {
      "cell_type": "code",
      "source": [
        "## We will first find the appropriate max depth of decision tree using cross validation.\n",
        "from sklearn import tree #decision tree from scikit learn \n",
        "\n",
        "avg_score = np.zeros(len(max_depth))\n",
        "for depth in max_depth:\n",
        "    clf = tree.DecisionTreeClassifier(criterion='entropy',max_depth=depth)\n",
        "    scores = cross_val_score(clf, X_train, y_train, cv=cv_k) \n",
        "    avg_score[np.where(max_depth == depth)] = np.mean(scores)\n",
        "\n",
        "print ('avg score =',avg_score)\n",
        "max_score_index = np.argmax(avg_score)\n",
        "best_max_depth = max_depth[max_score_index]\n",
        "print ('maximum depth =',best_max_depth)"
      ],
      "metadata": {
        "id": "MWwi7mcs_5uz",
        "outputId": "0b9e3748-e30d-4652-de4a-97ffb15d870a",
        "colab": {
          "base_uri": "https://localhost:8080/"
        }
      },
      "execution_count": 291,
      "outputs": [
        {
          "output_type": "stream",
          "name": "stdout",
          "text": [
            "avg score = [0.76424787 0.84306304 0.86083234 0.86558261 0.86628591 0.87631493\n",
            " 0.88511263 0.88704786]\n",
            "maximum depth = 9.0\n"
          ]
        }
      ]
    },
    {
      "cell_type": "code",
      "source": [
        "# train and test accuracy using decision tree\n",
        "\n",
        "clf = tree.DecisionTreeClassifier(criterion='entropy',max_depth=best_max_depth)\n",
        "clf_model = clf.fit(X_train, y_train)\n",
        "train_y_predicted = clf_model.predict(X_train)\n",
        "train_acc = accuracy_score(y_train, train_y_predicted)\n",
        "test_y_predicted = clf_model.predict(X_test)\n",
        "test_acc = accuracy_score(y_test, test_y_predicted)\n",
        "print('Train accuracy from decision tree:', train_acc)\n",
        "print('Test accuracy from decision tree:', test_acc)\n",
        "print ('##############')\n",
        "print('Train accuracy from Random forest:', train_acc_rf)\n",
        "print('Test accuracy from Random forest:', test_acc_rf)"
      ],
      "metadata": {
        "id": "v2ghNEbg_8Jv",
        "outputId": "29134b1c-54cb-44a1-fbf6-b3024d20bc25",
        "colab": {
          "base_uri": "https://localhost:8080/"
        }
      },
      "execution_count": 292,
      "outputs": [
        {
          "output_type": "stream",
          "name": "stdout",
          "text": [
            "Train accuracy from decision tree: 0.9046446164672766\n",
            "Test accuracy from decision tree: 0.8307584269662921\n",
            "##############\n",
            "Train accuracy from Random forest: 0.9093947923997185\n",
            "Test accuracy from Random forest: 0.8651685393258427\n"
          ]
        }
      ]
    },
    {
      "cell_type": "code",
      "source": [
        "print('Random Forest Classifier Statistics with balanced dataset and normalization:\\n')\n",
        "print_classification_report(y_train,train_y_predicted,y_test,test_y_predicted)\n",
        "plot_confusion_matrix(y_train,train_y_predicted,y_test,test_y_predicted)"
      ],
      "metadata": {
        "id": "AvwD4-t2AB8l",
        "outputId": "fce0ffcf-e3fc-487c-bd74-41bad6d48e92",
        "colab": {
          "base_uri": "https://localhost:8080/",
          "height": 771
        }
      },
      "execution_count": 293,
      "outputs": [
        {
          "output_type": "stream",
          "name": "stdout",
          "text": [
            "Random Forest Classifier Statistics with balanced dataset and normalization:\n",
            "\n",
            "======================================================\n",
            "Train Classification Report:\n",
            "              precision    recall  f1-score   support\n",
            "\n",
            "           0       0.93      0.87      0.90      2842\n",
            "           1       0.88      0.94      0.91      2842\n",
            "\n",
            "    accuracy                           0.90      5684\n",
            "   macro avg       0.91      0.90      0.90      5684\n",
            "weighted avg       0.91      0.90      0.90      5684\n",
            "\n",
            "======================================================\n",
            "Test Classification Report:\n",
            "              precision    recall  f1-score   support\n",
            "\n",
            "           0       0.84      0.82      0.83       712\n",
            "           1       0.83      0.84      0.83       712\n",
            "\n",
            "    accuracy                           0.83      1424\n",
            "   macro avg       0.83      0.83      0.83      1424\n",
            "weighted avg       0.83      0.83      0.83      1424\n",
            "\n",
            "======================================================\n",
            "Train confusion matrix: \n",
            " [[2484  358]\n",
            " [ 184 2658]]\n",
            "Test confusion matrix: \n",
            " [[586 126]\n",
            " [115 597]]\n"
          ]
        },
        {
          "output_type": "display_data",
          "data": {
            "image/png": "[encoded data removed]",
            "text/plain": [
              "<Figure size 576x216 with 4 Axes>"
            ]
          },
          "metadata": {
            "needs_background": "light"
          }
        }
      ]
    },
    {
      "cell_type": "markdown",
      "source": [
        "**6. Kernel Machine Classification**"
      ],
      "metadata": {
        "id": "-BCP0qtsAJAb"
      }
    },
    {
      "cell_type": "code",
      "source": [
        "X_train = X_train_norm.copy()\n",
        "y_train = y_train_norm.copy()\n",
        "X_test = X_test_norm.copy()\n",
        "y_test = y_test_norm.copy()\n",
        "\n",
        "print_shape_type_of_dataset(X_train,X_test,y_train, y_test)\n",
        "\n",
        "num_features = X_train.shape[1]\n",
        "print('No of Feature:', num_features)"
      ],
      "metadata": {
        "id": "sBCpj7_dALZW",
        "outputId": "65c88139-4786-40bb-b085-e1ded6fabd58",
        "colab": {
          "base_uri": "https://localhost:8080/"
        }
      },
      "execution_count": 294,
      "outputs": [
        {
          "output_type": "stream",
          "name": "stdout",
          "text": [
            "X train Dataset Shape:  (5684, 19) Type of X train dataset:  <class 'pandas.core.frame.DataFrame'>\n",
            "X test Dataset Shape:  (1424, 19) Type of X train dataset:  <class 'pandas.core.frame.DataFrame'>\n",
            "Y train Dataset Shape:  (5684,) Type of X train dataset:  <class 'pandas.core.series.Series'>\n",
            "Y test Dataset Shape:  (1424,) Type of X train dataset:  <class 'pandas.core.frame.DataFrame'>\n",
            "No of Feature: 19\n"
          ]
        }
      ]
    },
    {
      "cell_type": "code",
      "source": [
        "#Finding the best Hyperparameter\n",
        "from sklearn.svm import SVC\n",
        "\n",
        "gammas = [0.0001,0.001, 0.01, 0.1, 1,2, 3,5, 20, 40, 60, 80, 100]\n",
        "kernels = ['sigmoid','rbf'] \n",
        "best_gamma = {}\n",
        "cv_k = 5 #5-fold cross validation\n",
        "for i_kernel in kernels:\n",
        "  print ('kernel :',i_kernel)\n",
        "  avg_score = np.zeros(len(gammas))\n",
        "  for i_gamma in gammas:\n",
        "    clf = SVC(kernel=i_kernel, gamma=i_gamma, random_state=1)\n",
        "    scores = cross_val_score(clf, X_train, y_train, cv=cv_k) \n",
        "    avg_score[gammas.index(i_gamma)] = np.mean(scores)\n",
        "   \n",
        "  print ('Average_score:', avg_score)\n",
        "  max_score_index = np.argmax(avg_score)\n",
        " \n",
        "  best_gamma[i_kernel] = gammas[int(max_score_index)]\n",
        "\n",
        "print ('Best hyper-parameters for Kernel Machine = ', best_gamma)"
      ],
      "metadata": {
        "id": "uP6P2yFgAaS5",
        "outputId": "62295e15-80a3-458a-a257-748b9b7ea3a5",
        "colab": {
          "base_uri": "https://localhost:8080/"
        }
      },
      "execution_count": 295,
      "outputs": [
        {
          "output_type": "stream",
          "name": "stdout",
          "text": [
            "kernel : sigmoid\n",
            "Average_score: [0.52728904 0.74981667 0.76530498 0.79872936 0.63617935 0.40744159\n",
            " 0.30717217 0.4750223  0.49929655 0.49525066 0.49190838 0.48909426\n",
            " 0.48751115]\n",
            "kernel : rbf\n",
            "Average_score: [0.52728904 0.76020058 0.76688794 0.81139643 0.84253766 0.85326966\n",
            " 0.8573171  0.8611874  0.87403037 0.87965984 0.88124326 0.88317772\n",
            " 0.88476067]\n",
            "Best hyper-parameters for Kernel Machine =  {'sigmoid': 0.1, 'rbf': 100}\n"
          ]
        }
      ]
    },
    {
      "cell_type": "code",
      "source": [
        "#Implement Gaussian Kernel\n",
        "from sklearn.svm import SVC\n",
        "svclassifier = SVC(kernel='rbf',gamma=1, max_iter = 10000, random_state = 0 )\n",
        "svclassifier.fit(X_train, y_train)\n",
        "\n",
        "y_test_pred_rbf = svclassifier.predict(X_test)\n",
        "y_train_pred_rbf = svclassifier.predict(X_train)\n",
        "\n",
        "print('Kernel Machine Classifier Statistics with balanced dataset with rbf kernel and normalization:\\n')\n",
        "print_classification_report(y_train,y_train_pred_rbf, y_test ,y_test_pred_rbf  )\n",
        "plot_confusion_matrix(y_train,y_train_pred_rbf, y_test ,y_test_pred_rbf )"
      ],
      "metadata": {
        "id": "KYnLNFOdA4ip",
        "outputId": "7de95883-534f-43d8-c54e-a7cf682ad0a0",
        "colab": {
          "base_uri": "https://localhost:8080/",
          "height": 771
        }
      },
      "execution_count": 296,
      "outputs": [
        {
          "output_type": "stream",
          "name": "stdout",
          "text": [
            "Kernel Machine Classifier Statistics with balanced dataset with rbf kernel and normalization:\n",
            "\n",
            "======================================================\n",
            "Train Classification Report:\n",
            "              precision    recall  f1-score   support\n",
            "\n",
            "           0       0.97      0.72      0.83      2842\n",
            "           1       0.78      0.97      0.87      2842\n",
            "\n",
            "    accuracy                           0.85      5684\n",
            "   macro avg       0.87      0.85      0.85      5684\n",
            "weighted avg       0.87      0.85      0.85      5684\n",
            "\n",
            "======================================================\n",
            "Test Classification Report:\n",
            "              precision    recall  f1-score   support\n",
            "\n",
            "           0       0.94      0.70      0.80       712\n",
            "           1       0.76      0.95      0.85       712\n",
            "\n",
            "    accuracy                           0.83      1424\n",
            "   macro avg       0.85      0.83      0.82      1424\n",
            "weighted avg       0.85      0.83      0.82      1424\n",
            "\n",
            "======================================================\n",
            "Train confusion matrix: \n",
            " [[2058  784]\n",
            " [  74 2768]]\n",
            "Test confusion matrix: \n",
            " [[496 216]\n",
            " [ 33 679]]\n"
          ]
        },
        {
          "output_type": "display_data",
          "data": {
            "image/png": "[encoded data removed]",
            "text/plain": [
              "<Figure size 576x216 with 4 Axes>"
            ]
          },
          "metadata": {
            "needs_background": "light"
          }
        }
      ]
    },
    {
      "cell_type": "code",
      "source": [
        "#implement Sigmoid Kernel\n",
        "from sklearn.svm import SVC\n",
        "svclassifier = SVC(kernel='sigmoid', gamma= 0.001,max_iter = 10000, random_state = 0)\n",
        "svclassifier.fit(X_train, y_train)\n",
        "\n",
        "y_test_pred_sig = svclassifier.predict(X_test)\n",
        "y_train_pred_sig = svclassifier.predict(X_train)\n",
        "\n",
        "print('Kernel Machine Classifier Statistics with balanced dataset with sigmoid kernel and normalization:\\n')\n",
        "print_classification_report(y_train,y_train_pred_sig, y_test ,y_test_pred_sig  )\n",
        "plot_confusion_matrix(y_train,y_train_pred_sig, y_test ,y_test_pred_sig )"
      ],
      "metadata": {
        "id": "zAeAo_5GBCr5",
        "outputId": "83586dfb-4a35-415a-f705-dfbb36c580b9",
        "colab": {
          "base_uri": "https://localhost:8080/",
          "height": 771
        }
      },
      "execution_count": 297,
      "outputs": [
        {
          "output_type": "stream",
          "name": "stdout",
          "text": [
            "Kernel Machine Classifier Statistics with balanced dataset with sigmoid kernel and normalization:\n",
            "\n",
            "======================================================\n",
            "Train Classification Report:\n",
            "              precision    recall  f1-score   support\n",
            "\n",
            "           0       0.98      0.40      0.57      2842\n",
            "           1       0.62      0.99      0.77      2842\n",
            "\n",
            "    accuracy                           0.70      5684\n",
            "   macro avg       0.80      0.70      0.67      5684\n",
            "weighted avg       0.80      0.70      0.67      5684\n",
            "\n",
            "======================================================\n",
            "Test Classification Report:\n",
            "              precision    recall  f1-score   support\n",
            "\n",
            "           0       0.98      0.45      0.62       712\n",
            "           1       0.64      0.99      0.78       712\n",
            "\n",
            "    accuracy                           0.72      1424\n",
            "   macro avg       0.81      0.72      0.70      1424\n",
            "weighted avg       0.81      0.72      0.70      1424\n",
            "\n",
            "======================================================\n",
            "Train confusion matrix: \n",
            " [[1151 1691]\n",
            " [  24 2818]]\n",
            "Test confusion matrix: \n",
            " [[322 390]\n",
            " [  6 706]]\n"
          ]
        },
        {
          "output_type": "display_data",
          "data": {
            "image/png": "[encoded data removed]",
            "text/plain": [
              "<Figure size 576x216 with 4 Axes>"
            ]
          },
          "metadata": {
            "needs_background": "light"
          }
        }
      ]
    }
  ]
}