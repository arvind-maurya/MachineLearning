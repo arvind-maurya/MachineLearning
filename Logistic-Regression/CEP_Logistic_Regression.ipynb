{
  "nbformat": 4,
  "nbformat_minor": 0,
  "metadata": {
    "colab": {
      "name": "Copy of CEP_Logistic_Regression.ipynb",
      "provenance": [],
      "collapsed_sections": [],
      "include_colab_link": true
    },
    "kernelspec": {
      "name": "python3",
      "display_name": "Python 3"
    },
    "language_info": {
      "name": "python"
    }
  },
  "cells": [
    {
      "cell_type": "markdown",
      "metadata": {
        "id": "view-in-github",
        "colab_type": "text"
      },
      "source": [
        "<a href=\"https://colab.research.google.com/github/arvind-maurya/MachineLearning/blob/master/Logistic-Regression/CEP_Logistic_Regression.ipynb\" target=\"_parent\"><img src=\"https://colab.research.google.com/assets/colab-badge.svg\" alt=\"Open In Colab\"/></a>"
      ]
    },
    {
      "cell_type": "markdown",
      "metadata": {
        "id": "49XDDPG96YBS"
      },
      "source": [
        "$\\Huge{\\text{Logistic Regression}}$"
      ]
    },
    {
      "cell_type": "markdown",
      "metadata": {
        "id": "eLRi3Z8M6oEb"
      },
      "source": [
        "In this session, we shall learn about the basics of logistic regression."
      ]
    },
    {
      "cell_type": "markdown",
      "metadata": {
        "id": "omPJTFwf6tKz"
      },
      "source": [
        "Let us first consider a sample data, which will be useful for our study of logistic regression."
      ]
    },
    {
      "cell_type": "code",
      "metadata": {
        "id": "EKjOKXDr60y5"
      },
      "source": [
        "#First, we import the required packages\n",
        "import pandas as pd #the pandas library is useful for data processing \n",
        "import numpy as np #numpy package will be useful for numerical computations\n",
        "import matplotlib.pyplot as plt #the matplotlib library is useful for plotting purposes\n",
        "\n",
        "# The following python directive helps to plot the graph in the notebook directly\n",
        "%matplotlib inline"
      ],
      "execution_count": 4,
      "outputs": []
    },
    {
      "cell_type": "markdown",
      "metadata": {
        "id": "fsQxUCEy_S6o"
      },
      "source": [
        "Now let us consider some open source data sets available in the internet. \n"
      ]
    },
    {
      "cell_type": "code",
      "metadata": {
        "colab": {
          "base_uri": "https://localhost:8080/",
          "height": 203
        },
        "id": "IHcf8Q4q7cNX",
        "outputId": "b92f2fae-7c3e-4deb-bf07-bee957bf5fd6"
      },
      "source": [
        "#Let us explore the data and the description \n",
        "\n",
        "#Get the data from the web \n",
        "data = pd.read_csv('http://users.stat.ufl.edu/~winner/data/smkdth.dat', delim_whitespace=True, index_col=False, header=None)\n",
        "\n",
        "#print the first few rows of the data \n",
        "data.head()\n"
      ],
      "execution_count": 5,
      "outputs": [
        {
          "output_type": "execute_result",
          "data": {
            "text/html": [
              "<div>\n",
              "<style scoped>\n",
              "    .dataframe tbody tr th:only-of-type {\n",
              "        vertical-align: middle;\n",
              "    }\n",
              "\n",
              "    .dataframe tbody tr th {\n",
              "        vertical-align: top;\n",
              "    }\n",
              "\n",
              "    .dataframe thead th {\n",
              "        text-align: right;\n",
              "    }\n",
              "</style>\n",
              "<table border=\"1\" class=\"dataframe\">\n",
              "  <thead>\n",
              "    <tr style=\"text-align: right;\">\n",
              "      <th></th>\n",
              "      <th>0</th>\n",
              "      <th>1</th>\n",
              "      <th>2</th>\n",
              "      <th>3</th>\n",
              "    </tr>\n",
              "  </thead>\n",
              "  <tbody>\n",
              "    <tr>\n",
              "      <th>0</th>\n",
              "      <td>0</td>\n",
              "      <td>1</td>\n",
              "      <td>0</td>\n",
              "      <td>20132</td>\n",
              "    </tr>\n",
              "    <tr>\n",
              "      <th>1</th>\n",
              "      <td>0</td>\n",
              "      <td>2</td>\n",
              "      <td>0</td>\n",
              "      <td>21671</td>\n",
              "    </tr>\n",
              "    <tr>\n",
              "      <th>2</th>\n",
              "      <td>0</td>\n",
              "      <td>3</td>\n",
              "      <td>0</td>\n",
              "      <td>19790</td>\n",
              "    </tr>\n",
              "    <tr>\n",
              "      <th>3</th>\n",
              "      <td>0</td>\n",
              "      <td>4</td>\n",
              "      <td>0</td>\n",
              "      <td>16499</td>\n",
              "    </tr>\n",
              "    <tr>\n",
              "      <th>4</th>\n",
              "      <td>1</td>\n",
              "      <td>1</td>\n",
              "      <td>0</td>\n",
              "      <td>39990</td>\n",
              "    </tr>\n",
              "  </tbody>\n",
              "</table>\n",
              "</div>"
            ],
            "text/plain": [
              "   0  1  2      3\n",
              "0  0  1  0  20132\n",
              "1  0  2  0  21671\n",
              "2  0  3  0  19790\n",
              "3  0  4  0  16499\n",
              "4  1  1  0  39990"
            ]
          },
          "metadata": {},
          "execution_count": 5
        }
      ]
    },
    {
      "cell_type": "code",
      "metadata": {
        "colab": {
          "base_uri": "https://localhost:8080/",
          "height": 542
        },
        "id": "e30rAQsUAOJU",
        "outputId": "eadf984f-b0e5-4b8c-edfe-2be69adb890d"
      },
      "source": [
        "#if you wish to print the entire data, then use the following\n",
        "data"
      ],
      "execution_count": 6,
      "outputs": [
        {
          "output_type": "execute_result",
          "data": {
            "text/html": [
              "<div>\n",
              "<style scoped>\n",
              "    .dataframe tbody tr th:only-of-type {\n",
              "        vertical-align: middle;\n",
              "    }\n",
              "\n",
              "    .dataframe tbody tr th {\n",
              "        vertical-align: top;\n",
              "    }\n",
              "\n",
              "    .dataframe thead th {\n",
              "        text-align: right;\n",
              "    }\n",
              "</style>\n",
              "<table border=\"1\" class=\"dataframe\">\n",
              "  <thead>\n",
              "    <tr style=\"text-align: right;\">\n",
              "      <th></th>\n",
              "      <th>0</th>\n",
              "      <th>1</th>\n",
              "      <th>2</th>\n",
              "      <th>3</th>\n",
              "    </tr>\n",
              "  </thead>\n",
              "  <tbody>\n",
              "    <tr>\n",
              "      <th>0</th>\n",
              "      <td>0</td>\n",
              "      <td>1</td>\n",
              "      <td>0</td>\n",
              "      <td>20132</td>\n",
              "    </tr>\n",
              "    <tr>\n",
              "      <th>1</th>\n",
              "      <td>0</td>\n",
              "      <td>2</td>\n",
              "      <td>0</td>\n",
              "      <td>21671</td>\n",
              "    </tr>\n",
              "    <tr>\n",
              "      <th>2</th>\n",
              "      <td>0</td>\n",
              "      <td>3</td>\n",
              "      <td>0</td>\n",
              "      <td>19790</td>\n",
              "    </tr>\n",
              "    <tr>\n",
              "      <th>3</th>\n",
              "      <td>0</td>\n",
              "      <td>4</td>\n",
              "      <td>0</td>\n",
              "      <td>16499</td>\n",
              "    </tr>\n",
              "    <tr>\n",
              "      <th>4</th>\n",
              "      <td>1</td>\n",
              "      <td>1</td>\n",
              "      <td>0</td>\n",
              "      <td>39990</td>\n",
              "    </tr>\n",
              "    <tr>\n",
              "      <th>5</th>\n",
              "      <td>1</td>\n",
              "      <td>2</td>\n",
              "      <td>0</td>\n",
              "      <td>32894</td>\n",
              "    </tr>\n",
              "    <tr>\n",
              "      <th>6</th>\n",
              "      <td>1</td>\n",
              "      <td>3</td>\n",
              "      <td>0</td>\n",
              "      <td>20739</td>\n",
              "    </tr>\n",
              "    <tr>\n",
              "      <th>7</th>\n",
              "      <td>1</td>\n",
              "      <td>4</td>\n",
              "      <td>0</td>\n",
              "      <td>11197</td>\n",
              "    </tr>\n",
              "    <tr>\n",
              "      <th>8</th>\n",
              "      <td>0</td>\n",
              "      <td>1</td>\n",
              "      <td>1</td>\n",
              "      <td>204</td>\n",
              "    </tr>\n",
              "    <tr>\n",
              "      <th>9</th>\n",
              "      <td>0</td>\n",
              "      <td>2</td>\n",
              "      <td>1</td>\n",
              "      <td>394</td>\n",
              "    </tr>\n",
              "    <tr>\n",
              "      <th>10</th>\n",
              "      <td>0</td>\n",
              "      <td>3</td>\n",
              "      <td>1</td>\n",
              "      <td>488</td>\n",
              "    </tr>\n",
              "    <tr>\n",
              "      <th>11</th>\n",
              "      <td>0</td>\n",
              "      <td>4</td>\n",
              "      <td>1</td>\n",
              "      <td>766</td>\n",
              "    </tr>\n",
              "    <tr>\n",
              "      <th>12</th>\n",
              "      <td>1</td>\n",
              "      <td>1</td>\n",
              "      <td>1</td>\n",
              "      <td>647</td>\n",
              "    </tr>\n",
              "    <tr>\n",
              "      <th>13</th>\n",
              "      <td>1</td>\n",
              "      <td>2</td>\n",
              "      <td>1</td>\n",
              "      <td>857</td>\n",
              "    </tr>\n",
              "    <tr>\n",
              "      <th>14</th>\n",
              "      <td>1</td>\n",
              "      <td>3</td>\n",
              "      <td>1</td>\n",
              "      <td>855</td>\n",
              "    </tr>\n",
              "    <tr>\n",
              "      <th>15</th>\n",
              "      <td>1</td>\n",
              "      <td>4</td>\n",
              "      <td>1</td>\n",
              "      <td>643</td>\n",
              "    </tr>\n",
              "  </tbody>\n",
              "</table>\n",
              "</div>"
            ],
            "text/plain": [
              "    0  1  2      3\n",
              "0   0  1  0  20132\n",
              "1   0  2  0  21671\n",
              "2   0  3  0  19790\n",
              "3   0  4  0  16499\n",
              "4   1  1  0  39990\n",
              "5   1  2  0  32894\n",
              "6   1  3  0  20739\n",
              "7   1  4  0  11197\n",
              "8   0  1  1    204\n",
              "9   0  2  1    394\n",
              "10  0  3  1    488\n",
              "11  0  4  1    766\n",
              "12  1  1  1    647\n",
              "13  1  2  1    857\n",
              "14  1  3  1    855\n",
              "15  1  4  1    643"
            ]
          },
          "metadata": {},
          "execution_count": 6
        }
      ]
    },
    {
      "cell_type": "markdown",
      "metadata": {
        "id": "dWpqpERQAf-T"
      },
      "source": [
        "What do the numbers in the above data mean? Let us understand the data by seeing its description. "
      ]
    },
    {
      "cell_type": "code",
      "metadata": {
        "colab": {
          "base_uri": "https://localhost:8080/"
        },
        "id": "j2pWNPCM8apJ",
        "outputId": "1ded703f-4010-4710-ef4f-646dce8b8afc"
      },
      "source": [
        "import urllib.request  #this package is useful for accessing text files over internet \n",
        "data_description_file = urllib.request.urlopen('http://users.stat.ufl.edu/~winner/data/smkdth.txt')\n",
        "\n",
        "\n",
        "for line in data_description_file:\n",
        "  decoded_line = line.decode(\"utf-8\")\n",
        "  print(decoded_line) "
      ],
      "execution_count": 7,
      "outputs": [
        {
          "output_type": "stream",
          "name": "stdout",
          "text": [
            "Dataset: smkdth.dat\n",
            "\n",
            "\n",
            "\n",
            "Source: E.C. Hammond and D. Horn (1954). \"The Relationship Between\n",
            "\n",
            "Human Smoking Habits and Death Rates\", JAMA, Aug. 7, 1954, pp1316-1328.\n",
            "\n",
            "\n",
            "\n",
            "Description: Classification of adult males by smoking status, age\n",
            "\n",
            "classification and occurence of death during 2 year cohort study.\n",
            "\n",
            "\n",
            "\n",
            "Variables/Columns\n",
            "\n",
            "\n",
            "\n",
            "Smoking status  8  /* 0=No, 1=Yes  */\n",
            "\n",
            "Age classification  16  /* 1=50-54, 2=55-59, 3=60-64, 4=65-69  */\n",
            "\n",
            "Death staus  24   /* 0=Survival   1=Death   */\n",
            "\n",
            "Number of cases   28-32\n",
            "\n"
          ]
        }
      ]
    },
    {
      "cell_type": "markdown",
      "metadata": {
        "id": "4zeP3YWfBstW"
      },
      "source": [
        "Having known the data description, let us insert the descriptions into the data now."
      ]
    },
    {
      "cell_type": "code",
      "metadata": {
        "colab": {
          "base_uri": "https://localhost:8080/",
          "height": 203
        },
        "id": "6vn3zD4SB3ht",
        "outputId": "a0a2e9a2-9a31-41c9-9461-fa9f7a9c3a64"
      },
      "source": [
        "data.columns = ['Smoking status', 'Age classification', 'Death staus','Number of cases']\n",
        "\n",
        "\n",
        "#check by printing the data again\n",
        "data.head()"
      ],
      "execution_count": 8,
      "outputs": [
        {
          "output_type": "execute_result",
          "data": {
            "text/html": [
              "<div>\n",
              "<style scoped>\n",
              "    .dataframe tbody tr th:only-of-type {\n",
              "        vertical-align: middle;\n",
              "    }\n",
              "\n",
              "    .dataframe tbody tr th {\n",
              "        vertical-align: top;\n",
              "    }\n",
              "\n",
              "    .dataframe thead th {\n",
              "        text-align: right;\n",
              "    }\n",
              "</style>\n",
              "<table border=\"1\" class=\"dataframe\">\n",
              "  <thead>\n",
              "    <tr style=\"text-align: right;\">\n",
              "      <th></th>\n",
              "      <th>Smoking status</th>\n",
              "      <th>Age classification</th>\n",
              "      <th>Death staus</th>\n",
              "      <th>Number of cases</th>\n",
              "    </tr>\n",
              "  </thead>\n",
              "  <tbody>\n",
              "    <tr>\n",
              "      <th>0</th>\n",
              "      <td>0</td>\n",
              "      <td>1</td>\n",
              "      <td>0</td>\n",
              "      <td>20132</td>\n",
              "    </tr>\n",
              "    <tr>\n",
              "      <th>1</th>\n",
              "      <td>0</td>\n",
              "      <td>2</td>\n",
              "      <td>0</td>\n",
              "      <td>21671</td>\n",
              "    </tr>\n",
              "    <tr>\n",
              "      <th>2</th>\n",
              "      <td>0</td>\n",
              "      <td>3</td>\n",
              "      <td>0</td>\n",
              "      <td>19790</td>\n",
              "    </tr>\n",
              "    <tr>\n",
              "      <th>3</th>\n",
              "      <td>0</td>\n",
              "      <td>4</td>\n",
              "      <td>0</td>\n",
              "      <td>16499</td>\n",
              "    </tr>\n",
              "    <tr>\n",
              "      <th>4</th>\n",
              "      <td>1</td>\n",
              "      <td>1</td>\n",
              "      <td>0</td>\n",
              "      <td>39990</td>\n",
              "    </tr>\n",
              "  </tbody>\n",
              "</table>\n",
              "</div>"
            ],
            "text/plain": [
              "   Smoking status  Age classification  Death staus  Number of cases\n",
              "0               0                   1            0            20132\n",
              "1               0                   2            0            21671\n",
              "2               0                   3            0            19790\n",
              "3               0                   4            0            16499\n",
              "4               1                   1            0            39990"
            ]
          },
          "metadata": {},
          "execution_count": 8
        }
      ]
    },
    {
      "cell_type": "markdown",
      "metadata": {
        "id": "ydpFzxa-h1vq"
      },
      "source": [
        "We will consider Temperature and Erosion Indicator for analysis, therefore we will drop other columns."
      ]
    },
    {
      "cell_type": "code",
      "metadata": {
        "colab": {
          "base_uri": "https://localhost:8080/",
          "height": 221
        },
        "id": "rXmMPskJiDUt",
        "outputId": "569a7800-aab3-4d63-fe76-683fa36871ed"
      },
      "source": [
        "# drop columns 'Flight sequence number' and 'Number of O-Ring Field Joints with erosion'\n",
        "data.pop('Number of cases') \n",
        "#data.pop('Number of O-Ring Field joints with erosion') \n",
        "\n",
        "print('After dropping Number of cases')\n",
        "data.head() \n",
        "  \n"
      ],
      "execution_count": 9,
      "outputs": [
        {
          "output_type": "stream",
          "name": "stdout",
          "text": [
            "After dropping Number of cases\n"
          ]
        },
        {
          "output_type": "execute_result",
          "data": {
            "text/html": [
              "<div>\n",
              "<style scoped>\n",
              "    .dataframe tbody tr th:only-of-type {\n",
              "        vertical-align: middle;\n",
              "    }\n",
              "\n",
              "    .dataframe tbody tr th {\n",
              "        vertical-align: top;\n",
              "    }\n",
              "\n",
              "    .dataframe thead th {\n",
              "        text-align: right;\n",
              "    }\n",
              "</style>\n",
              "<table border=\"1\" class=\"dataframe\">\n",
              "  <thead>\n",
              "    <tr style=\"text-align: right;\">\n",
              "      <th></th>\n",
              "      <th>Smoking status</th>\n",
              "      <th>Age classification</th>\n",
              "      <th>Death staus</th>\n",
              "    </tr>\n",
              "  </thead>\n",
              "  <tbody>\n",
              "    <tr>\n",
              "      <th>0</th>\n",
              "      <td>0</td>\n",
              "      <td>1</td>\n",
              "      <td>0</td>\n",
              "    </tr>\n",
              "    <tr>\n",
              "      <th>1</th>\n",
              "      <td>0</td>\n",
              "      <td>2</td>\n",
              "      <td>0</td>\n",
              "    </tr>\n",
              "    <tr>\n",
              "      <th>2</th>\n",
              "      <td>0</td>\n",
              "      <td>3</td>\n",
              "      <td>0</td>\n",
              "    </tr>\n",
              "    <tr>\n",
              "      <th>3</th>\n",
              "      <td>0</td>\n",
              "      <td>4</td>\n",
              "      <td>0</td>\n",
              "    </tr>\n",
              "    <tr>\n",
              "      <th>4</th>\n",
              "      <td>1</td>\n",
              "      <td>1</td>\n",
              "      <td>0</td>\n",
              "    </tr>\n",
              "  </tbody>\n",
              "</table>\n",
              "</div>"
            ],
            "text/plain": [
              "   Smoking status  Age classification  Death staus\n",
              "0               0                   1            0\n",
              "1               0                   2            0\n",
              "2               0                   3            0\n",
              "3               0                   4            0\n",
              "4               1                   1            0"
            ]
          },
          "metadata": {},
          "execution_count": 9
        }
      ]
    },
    {
      "cell_type": "markdown",
      "metadata": {
        "id": "oxMzgEmuBYaP"
      },
      "source": [
        "Seeing the data as mere numbers might not be interesting. So, let us use some graphical ways to visualize the data. "
      ]
    },
    {
      "cell_type": "code",
      "metadata": {
        "colab": {
          "base_uri": "https://localhost:8080/",
          "height": 573
        },
        "id": "aGs0mgVU9aTe",
        "outputId": "082a24e4-9fc8-4f5d-bef9-e0840e3dfff5"
      },
      "source": [
        "#We will plot a scatter plot of Temperature vs Erosion Indicator\n",
        "\n",
        "plt.scatter(data['Smoking status'], data['Death staus'])\n",
        "#plt.scatter(data.iloc[:,0], data.iloc[:,1])\n",
        "plt.title(\"Smoking status vs Death staus\")\n",
        "plt.xlabel(\"Smoking status\")\n",
        "plt.ylabel(\"Death staus\")\n",
        "plt.show()\n",
        "plt.scatter(data['Age classification'], data['Death staus'])\n",
        "#plt.scatter(data.iloc[:,0], data.iloc[:,1])\n",
        "plt.title(\"Age classification vs Death staus\")\n",
        "plt.xlabel(\"Age classification\")\n",
        "plt.ylabel(\"Death staus\")\n",
        "plt.show()"
      ],
      "execution_count": 11,
      "outputs": [
        {
          "output_type": "display_data",
          "data": {
            "image/png": "[encoded data removed]",
            "text/plain": [
              "<Figure size 432x288 with 1 Axes>"
            ]
          },
          "metadata": {
            "needs_background": "light"
          }
        },
        {
          "output_type": "display_data",
          "data": {
            "image/png": "[encoded data removed]",
            "text/plain": [
              "<Figure size 432x288 with 1 Axes>"
            ]
          },
          "metadata": {
            "needs_background": "light"
          }
        }
      ]
    },
    {
      "cell_type": "markdown",
      "metadata": {
        "id": "QAUgxkr_JPm6"
      },
      "source": [
        "We see that the $y$ coordinates of the points (corresponding to the Erosion Indicator) are simply 0 and 1. Hence it would be unsuitable to model the given data using linear regression model. "
      ]
    },
    {
      "cell_type": "markdown",
      "metadata": {
        "id": "1RomqGNjJict"
      },
      "source": [
        "$\\large{\\text{Question:}}$ How do we model the response variable in this situation? "
      ]
    },
    {
      "cell_type": "markdown",
      "metadata": {
        "id": "eEEpTGVimfq9"
      },
      "source": [
        "$\\large{\\text{One Possible Solution:}}$ We will discuss logistic regression as a possible approach to model such situations where the response variable is dichotomous (or) binary-valued.  "
      ]
    },
    {
      "cell_type": "markdown",
      "metadata": {
        "id": "cEhKyzh0xka9"
      },
      "source": [
        "$\\Large{\\text{Probabilistic interpretation}}$ \n",
        "\n",
        "$\\textbf{Recall:}$ In linear regression, we assumed that in terms of probability, the response variable $Y \\in {\\mathbb{R}}$ was dependent on the predictor variable $X \\in {\\mathbb{R}}$ using the relation:\n",
        "\n",
        "$\n",
        "E[Y|X=x] =  \\beta_0 + \\beta_1 x.\n",
        "$\n",
        "\n",
        "However $\\textbf{note}$ that the response variable $Y$ in linear regression was a real-valued quantity.  \n",
        "\n",
        "However for our current data, $Y$ takes only the values $0$ and $1$. Hence if we wish to use a probabilistic idea for such binary-valued response variable, one straightforward idea comes from Bernoulli random variables. \n",
        "\n",
        "\n",
        "$\\large{\\text{Bernoulli Random Variable}}$ \n",
        "\n",
        "Let $Z$ be a Bernoulli random variable taking values $0$ and $1$. Then the distribution of $Z$ is given by:\n",
        "\n",
        "$\n",
        "\\begin{align}\n",
        "P(Z=1) &= p, \\\\\n",
        "P(Z=0) &= 1-p \n",
        "\\end{align}\n",
        "$\n",
        "\n",
        "where $p$ is the probability with which $Z$ takes the value $1$. $p$ is called the parameter of the Bernoulli distribution. \n",
        "\n",
        "Also note that the expected value of $Z$ is given by: $E[Z] = p$. \n",
        "\n",
        "Now considering our response random variable $Y$ as a Bernoulli random variable,we would have: $E[Y]=p$, where $p$ is the probability that $Y$ takes the value $1$. \n",
        "\n",
        "However in the presence of a predictor random variable $X$, we can write the conditional expectation of $Y$ given an observation $x$ of $X$ as:\n",
        "\n",
        "$\n",
        "\\begin{align}\n",
        "E[Y|X=x] = p(x)\n",
        "\\end{align}\n",
        "$\n",
        "\n",
        "where we have assumed that the probability now has a dependence on the observation $x$. \n",
        "\n",
        "For example, in our data, since $Y$ denotes the Erosion Indicator, and $X$ denotes the Temperature, we can assume that the probability that Erosion happens is somehow related to the observed value of Temperature. \n",
        "\n",
        "There are multiple ways to model $p(x)$. In logistic regression, we assume the following:\n",
        "\n",
        "$\n",
        "p(x)=p(x;\\beta_0,\\beta_1) = \\frac{e^{(\\beta_0 + \\beta_1 x)}}{1+e^{(\\beta_0 + \\beta_1 x)}}.\n",
        "$\n",
        "\n",
        "$\\textbf{Note:}$ The form of $p(x)$ is assumed to be parametric, dependent on parameters $\\beta_0, \\beta_1$. The form of $p(x)$ in the previous equation is specifically called a $\\textbf{(logistic) sigmoid}$ function. \n",
        "\n"
      ]
    },
    {
      "cell_type": "code",
      "metadata": {
        "colab": {
          "base_uri": "https://localhost:8080/",
          "height": 295
        },
        "id": "vhS1J094yWfM",
        "outputId": "805e5f92-f278-420d-df5b-6195196d530b"
      },
      "source": [
        "#let us plot the logistic sigmoid function\n",
        "x = np.linspace(-5,5,100) #creates a series of points in x axis\n",
        "y = np.exp(x)/(1.0+np.exp(x))\n",
        "y1 = np.exp(0.5*x)/(1.0+np.exp(0.5*x))\n",
        "y2=np.exp(50*x)/(1.0+np.exp(50*x))\n",
        "plt.plot(x, y, '-g', label='logistic sigmoid function')\n",
        "plt.plot(x, y1, '-r', label='logistic sigmoid function - 1')\n",
        "plt.plot(x, y2, '-b', label='logistic sigmoid function - 2')\n",
        "\n",
        "\n",
        "plt.title(\"Logistic sigmoid\")\n",
        "plt.xlabel(\"x\")\n",
        "plt.ylabel(\"exp(x)/(1+exp(x))\")\n",
        "plt.legend(loc='lower right')\n",
        "#plt.grid()\n",
        "plt.show()"
      ],
      "execution_count": 12,
      "outputs": [
        {
          "output_type": "display_data",
          "data": {
            "image/png": "[encoded data removed]",
            "text/plain": [
              "<Figure size 432x288 with 1 Axes>"
            ]
          },
          "metadata": {
            "needs_background": "light"
          }
        }
      ]
    },
    {
      "cell_type": "markdown",
      "metadata": {
        "id": "QMalZbFjy8w0"
      },
      "source": [
        "We can further write $p(x)$ equivalently as:\n",
        "\n",
        "$\n",
        "p(x)=p(x;\\beta_0,\\beta_1) = \\frac{1}{1+e^{-(\\beta_0 + \\beta_1 x)}}.\n",
        "$\n",
        "\n",
        "If we denote $p(x)$ simply as $p$ and if we have the notations $\\mathbf{x}=\\begin{bmatrix}\n",
        "x \\\\ 1\n",
        "\\end{bmatrix}, \\beta=\\begin{bmatrix}\n",
        "\\beta_1 \\\\ \\beta_0\n",
        "\\end{bmatrix}$\n",
        "then we can write:\n",
        "\n",
        "$\n",
        "\\begin{align}\n",
        "p = \\frac{1}{1+e^{-\\beta^\\top \\mathbf{x}}}.\n",
        "\\end{align}\n",
        "$\n",
        "\n",
        "Then note the following that the following algebraic manipulations hold:\n",
        "\n",
        "$\n",
        "\\begin{align}\n",
        "p &= \\frac{1}{1+e^{-\\beta^\\top \\mathbf{x}}} \\\\\n",
        "\\implies 1 + e^{-\\beta^\\top \\mathbf{x}} &= \\frac{1}{p} \\\\\n",
        "\\implies  e^{-\\beta^\\top \\mathbf{x}} &= \\frac{1}{p} - 1 \\\\\n",
        "\\implies  e^{-\\beta^\\top \\mathbf{x}} &= \\frac{1-p}{p} \\\\\n",
        "\\implies \\ln e^{-\\beta^\\top \\mathbf{x}} &= \\ln \\frac{1-p}{p} \\\\\n",
        "\\implies -\\beta^\\top \\mathbf{x} &= \\ln \\frac{1-p}{p} \\\\\n",
        "\\implies \\beta^\\top \\mathbf{x} &= \\ln \\frac{p}{1-p} \\\\\n",
        "\\implies \\beta_0 + \\beta_1 x &= \\ln \\frac{p}{1-p}.\n",
        "\\end{align}\n",
        "$\n",
        "\n",
        "Thus, even if we did not have a straightforward dependence of $Y$ on an observation $x$ of $X$ as a linear relation, we see that the linear relation $\\beta_0 + \\beta_1 x$ is related to the probability $p$ using:\n",
        "\n",
        "$\n",
        "\\ln\\frac{p}{1-p}=\\beta^\\top \\mathbf{x}.\n",
        "$\n",
        "\n",
        "Note that the ratio $\\frac{p}{1-p}$ is called $\\textbf{odds}$ that the event $Y=1$ occurs, and hence $\\ln \\frac{p}{1-p}$ denotes the $\\textbf{log odds}$. \n",
        "\n",
        "More popularly, the log odds $\\ln \\frac{p}{1-p}$ is called the $\\textbf{logit}$ function. \n"
      ]
    },
    {
      "cell_type": "code",
      "metadata": {
        "colab": {
          "base_uri": "https://localhost:8080/",
          "height": 366
        },
        "id": "l1TSIepkzAUT",
        "outputId": "7a5106c4-c0e9-43f4-d0d5-ffea3d336622"
      },
      "source": [
        "#let us plot the logit function\n",
        "x = np.linspace(0,1,100) #creates a series of points in x axis\n",
        "y = np.log(x/(1-x))\n",
        "plt.plot(x, y, '-g', label='logit function')\n",
        "\n",
        "\n",
        "plt.title(\"Logit\")\n",
        "plt.xlabel(\"p\")\n",
        "plt.ylabel(\"ln p/(1-p)\")\n",
        "plt.legend(loc='upper left')\n",
        "#plt.grid()\n",
        "plt.show()"
      ],
      "execution_count": 13,
      "outputs": [
        {
          "output_type": "stream",
          "name": "stderr",
          "text": [
            "/usr/local/lib/python3.7/dist-packages/ipykernel_launcher.py:3: RuntimeWarning: divide by zero encountered in true_divide\n",
            "  This is separate from the ipykernel package so we can avoid doing imports until\n",
            "/usr/local/lib/python3.7/dist-packages/ipykernel_launcher.py:3: RuntimeWarning: divide by zero encountered in log\n",
            "  This is separate from the ipykernel package so we can avoid doing imports until\n"
          ]
        },
        {
          "output_type": "display_data",
          "data": {
            "image/png": "[encoded data removed]",
            "text/plain": [
              "<Figure size 432x288 with 1 Axes>"
            ]
          },
          "metadata": {
            "needs_background": "light"
          }
        }
      ]
    },
    {
      "cell_type": "markdown",
      "metadata": {
        "id": "qxAowGDw9e7P"
      },
      "source": [
        "$\\Large{\\text{Likelihood function}}$ \n",
        "\n",
        "We now define a quantity which will be useful in the estimation of the parameters $\\beta_0, \\beta_1$ used to model $p$.\n",
        "\n",
        "\n",
        "Given an observation $X=x$ we define the $\\textbf{likelihood function}$ as: \n",
        "\n",
        "$\n",
        "L(y;p) = p^y(1-p)^{(1-y)}\n",
        "$\n",
        "\n",
        "where recall that $p=p(x)=p(x;\\beta_0,\\beta_1)=\\frac{1}{1+e^{-{(\\beta_0 + \\beta_1 x)}}}$. Note that likelihood function is simply an equivalent way to represent $P[Y=y]$, when $Y$ is assumed to be Bernoulli random variable. \n",
        "\n",
        "Then observe that the natural goal is to maximize the likelihood function with respect to parameters $\\beta_0, \\beta_1$. \n",
        "\n",
        "Now given a data set $D$ containing $n$ observations of the form $\\{({x}^1,y^1), ({x}^2,y^2), \\ldots, ({x}^n,y^n)\\}$, and assuming that the pairs $({x}^i,y^i)$ are independent observations, then it is possible to extend the likelihood function as: \n",
        "\n",
        "$\n",
        "\\begin{align}\n",
        "L(y^1,\\ldots,y^n;p^1,\\ldots,p^n) = \\Pi_{i=1}^{n} {(p^i)}^{y^i}(1-p^i)^{(1-y^i)}.\n",
        "\\end{align}\n",
        "$\n",
        "\n",
        "We can now write the $\\textbf{log likelihood}$ function as:\n",
        "\n",
        "$\n",
        "\\begin{align}\n",
        "\\ln L(y^1,\\ldots,y^n;p^1,\\ldots,p^n) = \\sum_{i=1}^{n} y^i \\ln {(p^i)} + (1-y^i) \\ln (1-p^i).\n",
        "\\end{align}\n",
        "$\n",
        "\n",
        "Since log likelihood function is monotonic, maximizing the likelihood function is equivalent to maximizing the log likelihood function. \n",
        "\n",
        "Hence the concerned optimization problem is: \n",
        "\n",
        "$\n",
        "\\max_{\\beta_0, \\beta_1} \\ln L(y^1,\\ldots,y^n;p^1;\\ldots,p^n)= \\sum_{i=1}^{n} y^i \\ln {(p^i)} + (1-y^i) \\ln (1-p^i).\n",
        "$\n",
        "\n",
        "Note that $p^i = p(x^i) = p(x^i; \\beta_0, \\beta_1) = \\frac{1}{1+e^{-{(\\beta_0 + \\beta_1 x^i)}}}, \\forall i = 1,\\ldots,n$.\n",
        "\n"
      ]
    },
    {
      "cell_type": "markdown",
      "metadata": {
        "id": "bTscS5Nn22Vp"
      },
      "source": [
        "$\\Large{\\text{Solving the likelihood maximization problem}}:$\n",
        "\n",
        "To solve \n",
        "\n",
        "$\n",
        "\\max_{\\beta_0, \\beta_1} \\ln L(y^1,\\ldots,y^n;p^1;\\ldots,p^n)= \\sum_{i=1}^{n} y^i \\ln {(p^i)} + (1-y^i) \\ln (1-p^i).\n",
        "$\n",
        "\n",
        "we can find the derivatives of the objective function with respect to $\\beta_0$ and $\\beta_1$ as:\n",
        "\n",
        "$\n",
        "\\begin{align}\n",
        "\\frac{\\partial{ \\ln L }} {\\partial \\beta_0} &= \\sum_{i=1}^{n} y^i (1-p^i) - (1-y^i) p^i \\\\ \n",
        "\\frac{\\partial{ \\ln L }} {\\partial \\beta_1} &= \\sum_{i=1}^{n} x^i(y^i (1-p^i) - (1-y^i) p^i)\n",
        "\\end{align}. \n",
        "$\n",
        "\n",
        "Equating these derivatives to zero will lead to system of non-linear equations which is generally difficult to solve to obtain closed form expression. \n",
        "\n",
        "Hence we generally adopt an iterative procedure as follows to find the optimal $\\beta_0, \\beta_1$. \n",
        "\n",
        "$\\large{\\text{Gradient ascent for solving the likelihood maximization problem}}:$\n",
        "\n",
        "$\n",
        "\\begin{align}\n",
        "&\\textbf{Step 0:}  \\text{Input data set $D$, tolerances $\\epsilon_1, \\epsilon_2$.} \\\\\n",
        "&\\textbf{Step 1:}  \\text{Start with arbitrary $\\beta_0, \\beta_1$.} \\\\\n",
        "&\\textbf{Step 2:}  \\text{For $k=1,2,\\ldots$} \\\\\n",
        "&\\quad \\quad \\textbf{Step 2.1:} \\text{Compute differentials  $\\frac{\\partial{ \\ln L }} {\\partial \\beta_0}$ and $\\frac{\\partial{ \\ln L }} {\\partial \\beta_1}$} \\\\\n",
        "&\\quad \\quad \\textbf{Step 2.2:}  \\text{Compute step length $\\eta$ using line search procedure} \\\\\n",
        "&\\quad \\quad \\textbf{Step 2.3:}  \\beta_0 = \\beta_0 + \\eta \\frac{\\partial{ \\ln L }} {\\partial \\beta_0} \\\\\n",
        "&\\quad \\quad \\textbf{Step 2.4:}  \\beta_1 = \\beta_1 + \\eta \\frac{\\partial{ \\ln L }} {\\partial \\beta_1} \\\\\n",
        "&\\quad \\quad \\textbf{Step 2.5:}  \\text{if $\\|\\nabla_{\\beta} \\ln L\\|_2 \\leq \\epsilon_1$ break from loop} \\\\\n",
        "&\\quad \\quad \\textbf{Step 2.6:}  \\text{if relative change in function value is $\\leq \\epsilon_2$ break from loop} \\\\\n",
        "&\\textbf{Step 3:}  \\text{ Output $\\beta_0, \\beta_1$}\n",
        "\\end{align}\n",
        "$\n",
        "\n",
        "Note that $\\nabla_{\\beta} \\ln L$ denotes the gradient of $\\ln L$ with respect to $\\beta$ given by:\n",
        "\n",
        "$\n",
        "\\nabla_{\\beta} \\ln L = \\begin{bmatrix}\n",
        "\\frac{\\partial{ \\ln L }} {\\partial \\beta_0}\\\\\n",
        "\\frac{\\partial{ \\ln L }} {\\partial \\beta_1}\n",
        "\\end{bmatrix}\n",
        "$\n",
        "\n",
        "and $\\eta$ denotes the learning rate. \n"
      ]
    },
    {
      "cell_type": "markdown",
      "metadata": {
        "id": "JZgcnaqX-q1W"
      },
      "source": [
        "$\\Large{\\text{Computing } \\beta \\text{ for the erosion data set}}:$"
      ]
    },
    {
      "cell_type": "code",
      "metadata": {
        "colab": {
          "base_uri": "https://localhost:8080/"
        },
        "id": "q9X7RNSU_g4e",
        "outputId": "d893874e-c314-49c1-fa77-e06f1458fb2b"
      },
      "source": [
        "#Let us now compute beta \n",
        "n = len(data.index) #number of data points in the data set\n",
        "print('number of data points in the data set:',n)"
      ],
      "execution_count": 14,
      "outputs": [
        {
          "output_type": "stream",
          "name": "stdout",
          "text": [
            "number of data points in the data set: 16\n"
          ]
        }
      ]
    },
    {
      "cell_type": "code",
      "metadata": {
        "id": "ygaV2UamZuL1"
      },
      "source": [
        "import numpy as np\n",
        "#computing log likelihood function\n",
        "def log_likelihood(beta_0,beta_1):\n",
        "  log_likelihood = 0.0\n",
        "  for i in range(n):\n",
        "    x_i = float(data.iat[i,0]) #access element at smoking column\n",
        "    y_i = float(data.iat[i,2]) #access element at death status column\n",
        "    p_i = 1.0/(1.0+np.exp(-beta_0 - beta_1*x_i)) #probability with the current beta_0, beta_1\n",
        "    log_likelihood += y_i * np.log(p_i) + (1.0-y_i)*np.log(1-p_i)\n",
        "  return log_likelihood"
      ],
      "execution_count": 20,
      "outputs": []
    },
    {
      "cell_type": "code",
      "metadata": {
        "colab": {
          "base_uri": "https://localhost:8080/",
          "height": 348
        },
        "id": "UXHouanUVESS",
        "outputId": "dcc56a1b-d843-4a87-96c1-8b5f66d4645a"
      },
      "source": [
        "#gradient ascent for likelihood maximization \n",
        "beta_0 = 0.0\n",
        "beta_1 = 0.0\n",
        "max_iter = 500000\n",
        "eps_1 = 0.1 #tolerance for gradient norm\n",
        "eps_2 = 1e-9 #tolerance for relative function value difference\n",
        "\n",
        "f_val = log_likelihood(beta_0,beta_1)\n",
        "\n",
        "#store the objective function values for plotting purposes\n",
        "f_val_list = [] \n",
        "f_val_list.append(f_val)\n",
        "\n",
        "print('Initial values: beta_0:',beta_0, ' beta_1:',beta_1, ' log likeihood:', f_val)\n",
        "#the loop \n",
        "for k in range(max_iter):\n",
        "  \n",
        "  grad_beta_0 = 0.0\n",
        "  grad_beta_1= 0.0\n",
        "  #pass through the data to compute gradients\n",
        "  for i in range(n):\n",
        "    x_i = float(data.iat[i,0]) #access element at smoking column\n",
        "    y_i = float(data.iat[i,2]) #access element at death status column\n",
        "    p_i = 1.0/(1.0+np.exp(-beta_0 - beta_1*x_i)) #probability with the current beta_0, beta_1\n",
        "    grad_beta_0 +=  (y_i * (1.0-p_i)) - ((1.0-y_i) * p_i)\n",
        "    grad_beta_1 +=  x_i * (y_i * (1.0-p_i) - (1.0-y_i) * p_i)\n",
        "  \n",
        "  #lr = linesearch(beta_0, beta_1, grad_beta_0, grad_beta_1, float(f_val_list[-1]))\n",
        "  lr = 0.0001\n",
        "  beta_0 += lr * grad_beta_0\n",
        "  beta_1 += lr * grad_beta_1\n",
        "  #print('k: ', k, ' grad beta_0: ', grad_beta_0, 'grad beta_1: ',grad_beta_1, 'beta_0:', beta_0, 'beta_1:',beta_1)\n",
        "  grad_norm = np.sqrt(grad_beta_0**2 + grad_beta_1**2)\n",
        "  f_val = log_likelihood(beta_0,beta_1)\n",
        "  f_val_list.append(f_val)\n",
        "\n",
        "  rel_change_in_fval = np.abs((f_val - f_val_list[-2])/f_val_list[-2])\n",
        "\n",
        "  if k%1000+1 == 1:\n",
        "    print('k: ', k,  ' beta_0:', beta_0, ' beta_1:',beta_1, ' grad norm:', grad_norm, 'log likeihood:', f_val)\n",
        "  if grad_norm <= eps_1 or rel_change_in_fval <= eps_2:\n",
        "    break\n",
        "print('Final: k: ', k,  ' beta_0:', beta_0, ' beta_1:',beta_1, ' grad norm:', grad_norm, 'log likeihood:', f_val)\n",
        "\n",
        "\n",
        "#plot the function values during optimization \n",
        "plt.plot( f_val_list, '-r', label='Log Likelihood values')\n",
        "plt.title(\"Log likelihood function values vs iterations\")\n",
        "plt.xlabel(\"Iteration\")\n",
        "plt.ylabel(\"Log Likelihood\")\n",
        "plt.legend(loc='lower right')\n",
        "#plt.grid()\n",
        "plt.show()\n"
      ],
      "execution_count": 25,
      "outputs": [
        {
          "output_type": "stream",
          "name": "stdout",
          "text": [
            "Initial values: beta_0: 0.0  beta_1: 0.0  log likeihood: -11.090354888959125\n",
            "k:  0  beta_0: 0.0  beta_1: 0.0  grad norm: 0.0 log likeihood: -11.090354888959125\n",
            "Final: k:  0  beta_0: 0.0  beta_1: 0.0  grad norm: 0.0 log likeihood: -11.090354888959125\n"
          ]
        },
        {
          "output_type": "display_data",
          "data": {
            "image/png": "[encoded data removed]",
            "text/plain": [
              "<Figure size 432x288 with 1 Axes>"
            ]
          },
          "metadata": {
            "needs_background": "light"
          }
        }
      ]
    },
    {
      "cell_type": "code",
      "metadata": {
        "colab": {
          "base_uri": "https://localhost:8080/",
          "height": 295
        },
        "id": "RW1UGYZDqycy",
        "outputId": "b12b439d-c985-4547-c2d4-32465eb19a7a"
      },
      "source": [
        "#It would be useful to check the acutal y_i values against the predicted probabilities \\hat{y}_i\n",
        "\n",
        "predicted_probabilities = []\n",
        "for i in range(n):\n",
        "    x_i = float(data.iat[i,0]) #access element at Temperature column\n",
        "    y_i = float(data.iat[i,1]) #access element at Erosion Indicator column\n",
        "    p_i = 1.0/(1.0+np.exp(-beta_0 - beta_1*x_i)) #probability with the current beta_0, beta_1\n",
        "    predicted_probabilities.append(p_i)\n",
        "\n",
        "\n",
        "plt.scatter(data['Smoking status'], data['Death staus'],label='actual')\n",
        "plt.scatter(data['Smoking status'], predicted_probabilities,label='predicted')\n",
        "\n",
        "plt.title(\"Actual vs Predicted Probabilities\")\n",
        "plt.xlabel(\"Smoking status\")\n",
        "plt.ylabel(\"Death staus\")\n",
        "plt.legend(loc='center right')\n",
        "#plt.grid()\n",
        "plt.show()"
      ],
      "execution_count": 24,
      "outputs": [
        {
          "output_type": "display_data",
          "data": {
            "image/png": "[encoded data removed]",
            "text/plain": [
              "<Figure size 432x288 with 1 Axes>"
            ]
          },
          "metadata": {
            "needs_background": "light"
          }
        }
      ]
    },
    {
      "cell_type": "markdown",
      "metadata": {
        "id": "WqeRvDki6yMH"
      },
      "source": [
        "$\\Large{\\text{Exercise:}}$\n",
        "\n",
        "Perform logistic regression with the following data sets:\n",
        "1. Data: http://users.stat.ufl.edu/~winner/data/smkdth.dat\n",
        "   Description: http://users.stat.ufl.edu/~winner/data/smkdth.txt\n",
        "   \n",
        "   Take the age and smoking status as predictor variables and survival status as response variable. \n",
        "   \n",
        "   For computing  prediction $\\hat{y}(x)$ for an observation $X=x$, use the following rule: \n",
        "   $\n",
        "   \\hat{y}(x) = \\begin{cases} \n",
        "          1 & \\text { when } p(x) >= 0.5 \\\\ \n",
        "          0 &  \\text { otherwise. }   \n",
        "          \\end{cases}\n",
        "   $\n",
        "   \n",
        "   Report the accuracy as the percent of correctly predicted samples using the logistic regression model. \n",
        "\n",
        "2. Data: http://users.stat.ufl.edu/~winner/data/subscript.dat \n",
        "   Description: http://users.stat.ufl.edu/~winner/data/subscript.txt \n",
        "\n",
        "   Take the subscription category as predictor variable and renewal status as response variable.\n",
        "\n",
        "Plot the predictions and actual values in a scatter plot. Report the accuracy as the percent of correctly predicted samples using the logistic regression model. \n",
        "Explain your observations. \n"
      ]
    },
    {
      "cell_type": "markdown",
      "metadata": {
        "id": "wb6j953Vun8Z"
      },
      "source": [
        "$\\Large{\\text{References:}}$\n",
        "\n",
        "\n",
        "\n",
        "1.   Joseph M. Hilbe, $\\textit{Practical Guide to Logistic Regression}$. CRC Press,  2015.\n",
        "2.   David Hosmer, Stanley Lameshow and Rodney Sturdivant. $\\textit{Applied Logistic Regression}$. John Wiley $\\&$ Sons, Inc., Hoboken, New Jersey, 2013.\n",
        "\n"
      ]
    },
    {
      "cell_type": "code",
      "metadata": {
        "id": "T47ZSd4DiFa_"
      },
      "source": [
        ""
      ],
      "execution_count": null,
      "outputs": []
    }
  ]
}