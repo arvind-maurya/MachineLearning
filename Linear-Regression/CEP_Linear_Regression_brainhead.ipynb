{
  "nbformat": 4,
  "nbformat_minor": 0,
  "metadata": {
    "colab": {
      "name": "Copy of CEP_Linear_Regression_part2.ipynb",
      "provenance": [],
      "collapsed_sections": [],
      "include_colab_link": true
    },
    "kernelspec": {
      "name": "python3",
      "display_name": "Python 3"
    },
    "language_info": {
      "name": "python"
    }
  },
  "cells": [
    {
      "cell_type": "markdown",
      "metadata": {
        "id": "view-in-github",
        "colab_type": "text"
      },
      "source": [
        "<a href=\"https://colab.research.google.com/github/arvind-maurya/MachineLearning/blob/master/Linear-Regression/CEP_Linear_Regression_brainhead.ipynb\" target=\"_parent\"><img src=\"https://colab.research.google.com/assets/colab-badge.svg\" alt=\"Open In Colab\"/></a>"
      ]
    },
    {
      "cell_type": "markdown",
      "metadata": {
        "id": "49XDDPG96YBS"
      },
      "source": [
        "$\\Huge{\\text{Linear Regression}}$\n",
        "\n",
        "$\\Large{\\text{More examples}}$\n"
      ]
    },
    {
      "cell_type": "markdown",
      "metadata": {
        "id": "eLRi3Z8M6oEb"
      },
      "source": [
        "In this session, we shall learn about some limitations of linear regression. "
      ]
    },
    {
      "cell_type": "markdown",
      "metadata": {
        "id": "omPJTFwf6tKz"
      },
      "source": [
        "Let us first consider a sample data, which will be useful for our study. "
      ]
    },
    {
      "cell_type": "code",
      "metadata": {
        "id": "EKjOKXDr60y5"
      },
      "source": [
        "#First, we import the required packages\n",
        "import pandas as pd #the pandas library is useful for data processing \n",
        "import matplotlib.pyplot as plt #the matplotlib library is useful for plotting purposes\n",
        "\n",
        "# The following python directive helps to plot the graph in the notebook directly\n",
        "%matplotlib inline"
      ],
      "execution_count": 1,
      "outputs": []
    },
    {
      "cell_type": "markdown",
      "metadata": {
        "id": "fsQxUCEy_S6o"
      },
      "source": [
        "Now let us consider a data set originally due to Anscombe.\n",
        "The data set contains a predictor and response variable."
      ]
    },
    {
      "cell_type": "code",
      "metadata": {
        "colab": {
          "base_uri": "https://localhost:8080/",
          "height": 203
        },
        "id": "IHcf8Q4q7cNX",
        "outputId": "a966697c-eec7-420b-84a7-fbdec7f49c27"
      },
      "source": [
        "#Let us explore the data and the description \n",
        "\n",
        "#Get the data from the web \n",
        "brainhead_data = pd.read_csv('http://users.stat.ufl.edu/~winner/data/brainhead.dat', delim_whitespace=True, index_col=False, header=None)\n",
        "\n",
        "#print the first few rows of the data \n",
        "brainhead_data.head()\n"
      ],
      "execution_count": 29,
      "outputs": [
        {
          "output_type": "execute_result",
          "data": {
            "text/html": [
              "<div>\n",
              "<style scoped>\n",
              "    .dataframe tbody tr th:only-of-type {\n",
              "        vertical-align: middle;\n",
              "    }\n",
              "\n",
              "    .dataframe tbody tr th {\n",
              "        vertical-align: top;\n",
              "    }\n",
              "\n",
              "    .dataframe thead th {\n",
              "        text-align: right;\n",
              "    }\n",
              "</style>\n",
              "<table border=\"1\" class=\"dataframe\">\n",
              "  <thead>\n",
              "    <tr style=\"text-align: right;\">\n",
              "      <th></th>\n",
              "      <th>0</th>\n",
              "      <th>1</th>\n",
              "      <th>2</th>\n",
              "      <th>3</th>\n",
              "    </tr>\n",
              "  </thead>\n",
              "  <tbody>\n",
              "    <tr>\n",
              "      <th>0</th>\n",
              "      <td>1</td>\n",
              "      <td>1</td>\n",
              "      <td>4512</td>\n",
              "      <td>1530</td>\n",
              "    </tr>\n",
              "    <tr>\n",
              "      <th>1</th>\n",
              "      <td>1</td>\n",
              "      <td>1</td>\n",
              "      <td>3738</td>\n",
              "      <td>1297</td>\n",
              "    </tr>\n",
              "    <tr>\n",
              "      <th>2</th>\n",
              "      <td>1</td>\n",
              "      <td>1</td>\n",
              "      <td>4261</td>\n",
              "      <td>1335</td>\n",
              "    </tr>\n",
              "    <tr>\n",
              "      <th>3</th>\n",
              "      <td>1</td>\n",
              "      <td>1</td>\n",
              "      <td>3777</td>\n",
              "      <td>1282</td>\n",
              "    </tr>\n",
              "    <tr>\n",
              "      <th>4</th>\n",
              "      <td>1</td>\n",
              "      <td>1</td>\n",
              "      <td>4177</td>\n",
              "      <td>1590</td>\n",
              "    </tr>\n",
              "  </tbody>\n",
              "</table>\n",
              "</div>"
            ],
            "text/plain": [
              "   0  1     2     3\n",
              "0  1  1  4512  1530\n",
              "1  1  1  3738  1297\n",
              "2  1  1  4261  1335\n",
              "3  1  1  3777  1282\n",
              "4  1  1  4177  1590"
            ]
          },
          "metadata": {},
          "execution_count": 29
        }
      ]
    },
    {
      "cell_type": "code",
      "metadata": {
        "colab": {
          "base_uri": "https://localhost:8080/"
        },
        "id": "e30rAQsUAOJU",
        "outputId": "812a2d34-e0e3-44ad-f4d7-d2fbc3404a37"
      },
      "source": [
        "#if you wish to print the entire data, then use the following\n",
        "print(brainhead_data)"
      ],
      "execution_count": 30,
      "outputs": [
        {
          "output_type": "stream",
          "name": "stdout",
          "text": [
            "     0  1     2     3\n",
            "0    1  1  4512  1530\n",
            "1    1  1  3738  1297\n",
            "2    1  1  4261  1335\n",
            "3    1  1  3777  1282\n",
            "4    1  1  4177  1590\n",
            "..  .. ..   ...   ...\n",
            "232  2  2  3214  1110\n",
            "233  2  2  3394  1215\n",
            "234  2  2  3233  1104\n",
            "235  2  2  3352  1170\n",
            "236  2  2  3391  1120\n",
            "\n",
            "[237 rows x 4 columns]\n"
          ]
        }
      ]
    },
    {
      "cell_type": "markdown",
      "metadata": {
        "id": "dWpqpERQAf-T"
      },
      "source": [
        "What do the numbers in the above data mean? Let us understand the data by seeing its description. "
      ]
    },
    {
      "cell_type": "code",
      "metadata": {
        "colab": {
          "base_uri": "https://localhost:8080/"
        },
        "id": "j2pWNPCM8apJ",
        "outputId": "0d8c03ca-ae1d-4561-ffcf-82bf144ff0ef"
      },
      "source": [
        "import urllib.request   #this package is useful for accessing text files over internet \n",
        "brainhead_data_description_file = urllib.request.urlopen('http://users.stat.ufl.edu/~winner/data/brainhead.txt')\n",
        "\n",
        "\n",
        "for line in brainhead_data_description_file:\n",
        "  decoded_line = line.decode(\"utf-8\")\n",
        "  print(decoded_line) "
      ],
      "execution_count": 31,
      "outputs": [
        {
          "output_type": "stream",
          "name": "stdout",
          "text": [
            "Dataset:  brainhead.dat\n",
            "\n",
            "\n",
            "\n",
            "Source: R.J. Gladstone (1905). \"A Study of the Relations of the Brain to \n",
            "\n",
            "to the Size of the Head\", Biometrika, Vol. 4, pp105-123\n",
            "\n",
            "\n",
            "\n",
            "Description: Brain weight (grams) and head size (cubic cm) for 237\n",
            "\n",
            "adults classified by gender and age group.\n",
            "\n",
            "\n",
            "\n",
            "Variables/Columns\n",
            "\n",
            "Gender   8   /* 1=Male, 2=Female  */\n",
            "\n",
            "Age Range  16   /* 1=20-46, 2=46+  */\n",
            "\n",
            "Head size (cm^3)  21-24\n",
            "\n",
            "Brain weight (grams)  29-32\n",
            "\n",
            "\n",
            "\n"
          ]
        }
      ]
    },
    {
      "cell_type": "markdown",
      "metadata": {
        "id": "4zeP3YWfBstW"
      },
      "source": [
        "Having known the data description, let us insert the descriptions into the data now."
      ]
    },
    {
      "cell_type": "code",
      "metadata": {
        "colab": {
          "base_uri": "https://localhost:8080/",
          "height": 357
        },
        "id": "6vn3zD4SB3ht",
        "outputId": "7347b60f-cd43-461c-a831-e2ef7262378e"
      },
      "source": [
        "brainhead_data.columns = ['Gender', 'Age Range' , 'Head size' , 'Brain weight']\n",
        "\n",
        "#check by printing the data again\n",
        "brainhead_data.head(10)"
      ],
      "execution_count": 32,
      "outputs": [
        {
          "output_type": "execute_result",
          "data": {
            "text/html": [
              "<div>\n",
              "<style scoped>\n",
              "    .dataframe tbody tr th:only-of-type {\n",
              "        vertical-align: middle;\n",
              "    }\n",
              "\n",
              "    .dataframe tbody tr th {\n",
              "        vertical-align: top;\n",
              "    }\n",
              "\n",
              "    .dataframe thead th {\n",
              "        text-align: right;\n",
              "    }\n",
              "</style>\n",
              "<table border=\"1\" class=\"dataframe\">\n",
              "  <thead>\n",
              "    <tr style=\"text-align: right;\">\n",
              "      <th></th>\n",
              "      <th>Gender</th>\n",
              "      <th>Age Range</th>\n",
              "      <th>Head size</th>\n",
              "      <th>Brain weight</th>\n",
              "    </tr>\n",
              "  </thead>\n",
              "  <tbody>\n",
              "    <tr>\n",
              "      <th>0</th>\n",
              "      <td>1</td>\n",
              "      <td>1</td>\n",
              "      <td>4512</td>\n",
              "      <td>1530</td>\n",
              "    </tr>\n",
              "    <tr>\n",
              "      <th>1</th>\n",
              "      <td>1</td>\n",
              "      <td>1</td>\n",
              "      <td>3738</td>\n",
              "      <td>1297</td>\n",
              "    </tr>\n",
              "    <tr>\n",
              "      <th>2</th>\n",
              "      <td>1</td>\n",
              "      <td>1</td>\n",
              "      <td>4261</td>\n",
              "      <td>1335</td>\n",
              "    </tr>\n",
              "    <tr>\n",
              "      <th>3</th>\n",
              "      <td>1</td>\n",
              "      <td>1</td>\n",
              "      <td>3777</td>\n",
              "      <td>1282</td>\n",
              "    </tr>\n",
              "    <tr>\n",
              "      <th>4</th>\n",
              "      <td>1</td>\n",
              "      <td>1</td>\n",
              "      <td>4177</td>\n",
              "      <td>1590</td>\n",
              "    </tr>\n",
              "    <tr>\n",
              "      <th>5</th>\n",
              "      <td>1</td>\n",
              "      <td>1</td>\n",
              "      <td>3585</td>\n",
              "      <td>1300</td>\n",
              "    </tr>\n",
              "    <tr>\n",
              "      <th>6</th>\n",
              "      <td>1</td>\n",
              "      <td>1</td>\n",
              "      <td>3785</td>\n",
              "      <td>1400</td>\n",
              "    </tr>\n",
              "    <tr>\n",
              "      <th>7</th>\n",
              "      <td>1</td>\n",
              "      <td>1</td>\n",
              "      <td>3559</td>\n",
              "      <td>1255</td>\n",
              "    </tr>\n",
              "    <tr>\n",
              "      <th>8</th>\n",
              "      <td>1</td>\n",
              "      <td>1</td>\n",
              "      <td>3613</td>\n",
              "      <td>1355</td>\n",
              "    </tr>\n",
              "    <tr>\n",
              "      <th>9</th>\n",
              "      <td>1</td>\n",
              "      <td>1</td>\n",
              "      <td>3982</td>\n",
              "      <td>1375</td>\n",
              "    </tr>\n",
              "  </tbody>\n",
              "</table>\n",
              "</div>"
            ],
            "text/plain": [
              "   Gender  Age Range  Head size  Brain weight\n",
              "0       1          1       4512          1530\n",
              "1       1          1       3738          1297\n",
              "2       1          1       4261          1335\n",
              "3       1          1       3777          1282\n",
              "4       1          1       4177          1590\n",
              "5       1          1       3585          1300\n",
              "6       1          1       3785          1400\n",
              "7       1          1       3559          1255\n",
              "8       1          1       3613          1355\n",
              "9       1          1       3982          1375"
            ]
          },
          "metadata": {},
          "execution_count": 32
        }
      ]
    },
    {
      "cell_type": "markdown",
      "metadata": {
        "id": "oxMzgEmuBYaP"
      },
      "source": [
        "Seeing the data as mere numbers might not be interesting. So, let us use some graphical ways to visualize the data. "
      ]
    },
    {
      "cell_type": "code",
      "metadata": {
        "colab": {
          "base_uri": "https://localhost:8080/",
          "height": 295
        },
        "id": "aGs0mgVU9aTe",
        "outputId": "d1247852-19c3-4032-d707-e5d671727088"
      },
      "source": [
        "#We will plot a scatter plot of the math score vs tissue concentration \n",
        "\n",
        "plt.scatter(brainhead_data['Head size'], brainhead_data['Brain weight'])\n",
        "plt.title(\"brainhead_data: Head size vs Brain weight\")\n",
        "plt.xlabel(\"Head size\")\n",
        "plt.ylabel(\"Brain weight\")\n",
        "plt.show()"
      ],
      "execution_count": 34,
      "outputs": [
        {
          "output_type": "display_data",
          "data": {
            "image/png": "[encoded data removed]",
            "text/plain": [
              "<Figure size 432x288 with 1 Axes>"
            ]
          },
          "metadata": {
            "needs_background": "light"
          }
        }
      ]
    },
    {
      "cell_type": "markdown",
      "metadata": {
        "id": "Lcj0fEb9mXvF"
      },
      "source": [
        "$\\large{\\text{Question:}}$ Is the trend linear (or) at least linear looking? "
      ]
    },
    {
      "cell_type": "markdown",
      "metadata": {
        "id": "JZgcnaqX-q1W"
      },
      "source": [
        "$\\Large{\\text{Computing } \\beta_0, \\beta_1 \\text{ for the Anscombe data set 2}}:$"
      ]
    },
    {
      "cell_type": "code",
      "metadata": {
        "colab": {
          "base_uri": "https://localhost:8080/"
        },
        "id": "q9X7RNSU_g4e",
        "outputId": "1fff4174-5842-4391-cec3-663c9a13bd71"
      },
      "source": [
        "#Let us now compute beta_0 and beta_1 from the anscombe data set 2\n",
        "n = len(brainhead_data.index) #number of data points in the data set\n",
        "print('number of data points in the data set:',n)"
      ],
      "execution_count": 35,
      "outputs": [
        {
          "output_type": "stream",
          "name": "stdout",
          "text": [
            "number of data points in the data set: 237\n"
          ]
        }
      ]
    },
    {
      "cell_type": "code",
      "metadata": {
        "colab": {
          "base_uri": "https://localhost:8080/"
        },
        "id": "YCuKqQqBFklC",
        "outputId": "f05fe751-754d-4f71-e60b-7c7636319622"
      },
      "source": [
        "#First let us compute x_bar and y_bar \n",
        "x_bar = 0 \n",
        "y_bar = 0\n",
        "\n",
        "for i in range(n): #access each row from the data set \n",
        "  x_bar += float(brainhead_data.iat[i,2]) #access element at X column\n",
        "  y_bar += float(brainhead_data.iat[i,3]) #access element at Y column\n",
        "x_bar /= n\n",
        "y_bar /= n\n",
        "print('x bar:',x_bar, 'y bar:',y_bar)"
      ],
      "execution_count": 36,
      "outputs": [
        {
          "output_type": "stream",
          "name": "stdout",
          "text": [
            "x bar: 3633.9915611814345 y bar: 1282.873417721519\n"
          ]
        }
      ]
    },
    {
      "cell_type": "code",
      "metadata": {
        "colab": {
          "base_uri": "https://localhost:8080/"
        },
        "id": "yOOBCb5bFtKr",
        "outputId": "591ed02a-8c84-40a6-86a8-a1742031e59c"
      },
      "source": [
        "#Then we will compute Sigma_XX and Sigma_XY \n",
        "sigma_xx = 0\n",
        "sigma_xy = 0\n",
        "\n",
        "for i in range(n): #access each row from the data set \n",
        "  sigma_xx += (float(brainhead_data.iat[i,2]) - x_bar)**2 #computing (x^i - x_bar)^2 \n",
        "  sigma_xy += (float(brainhead_data.iat[i,2]) - x_bar) * (float(brainhead_data.iat[i,3])-y_bar) #computing (x^i - x_bar)(y^i-y_bar)\n",
        "print('sigma_xx:',sigma_xx, 'sigma_xy:',sigma_xy)"
      ],
      "execution_count": 37,
      "outputs": [
        {
          "output_type": "stream",
          "name": "stdout",
          "text": [
            "sigma_xx: 31486153.983122338 sigma_xy: 8294376.74683544\n"
          ]
        }
      ]
    },
    {
      "cell_type": "code",
      "metadata": {
        "colab": {
          "base_uri": "https://localhost:8080/"
        },
        "id": "y5WC5Rs4FuOg",
        "outputId": "11f3f1a8-5033-4728-e249-5233d4053f3f"
      },
      "source": [
        "#Now we can compute beta_0 and beta_1\n",
        "beta_1 = sigma_xy/sigma_xx\n",
        "beta_0 = y_bar - beta_1* x_bar \n",
        "\n",
        "print('beta_0:', beta_0, 'beta_1', beta_1)\n"
      ],
      "execution_count": 38,
      "outputs": [
        {
          "output_type": "stream",
          "name": "stdout",
          "text": [
            "beta_0: 325.57342104944223 beta_1 0.26342933948939945\n"
          ]
        }
      ]
    },
    {
      "cell_type": "markdown",
      "metadata": {
        "id": "g1192ijjJbhW"
      },
      "source": [
        "$\\Large{\\text{Plotting the regression line}}$\n",
        " \n",
        "Having computed $\\beta_0$ and $\\beta_1$, we will now plot the line $y=\\beta_1 x + \\beta_0$ along with the points in the data set. "
      ]
    },
    {
      "cell_type": "code",
      "metadata": {
        "colab": {
          "base_uri": "https://localhost:8080/"
        },
        "id": "8jWKeE7OKR7Y",
        "outputId": "39b96410-a2fb-4a42-98f8-ee023c5deedd"
      },
      "source": [
        "#compute the left and right limits of the x-axis\n",
        "x_min = 9999\n",
        "x_max = -9999\n",
        "\n",
        "for i in range(n): #access each row from the data set \n",
        "  x_i = float(brainhead_data.iat[i,2]) #access element at X column\n",
        "  if x_i > x_max:\n",
        "    x_max = x_i \n",
        "  if x_i < x_min:\n",
        "    x_min = x_i\n",
        "\n",
        "x_min = x_min - 1\n",
        "x_max = x_max + 1 \n",
        "\n",
        "print('x_min:',x_min,'x_max:',x_max)\n",
        "\n",
        "\n"
      ],
      "execution_count": 40,
      "outputs": [
        {
          "output_type": "stream",
          "name": "stdout",
          "text": [
            "x_min: 2719.0 x_max: 4748.0\n"
          ]
        }
      ]
    },
    {
      "cell_type": "code",
      "metadata": {
        "colab": {
          "base_uri": "https://localhost:8080/",
          "height": 295
        },
        "id": "Fku6RIQILQzd",
        "outputId": "d3d7a8df-cc6c-4965-beb9-9620fa5e8a7b"
      },
      "source": [
        "import numpy as np\n",
        "x = np.linspace(x_min,x_max,100) #creates a series of points in x axis\n",
        "y = beta_1*x+beta_0\n",
        "plt.plot(x, y, '-r', label='regression line')\n",
        "plt.scatter(brainhead_data['Head size'], brainhead_data['Brain weight'])\n",
        "\n",
        "plt.title(\"brainhead_data  set 2 X vs Y Regression\")\n",
        "plt.xlabel(\"Head Size\")\n",
        "plt.ylabel(\"Brain weight\")\n",
        "plt.legend(loc='upper left')\n",
        "#plt.grid()\n",
        "plt.show()"
      ],
      "execution_count": 43,
      "outputs": [
        {
          "output_type": "display_data",
          "data": {
            "image/png": "[encoded data removed]",
            "text/plain": [
              "<Figure size 432x288 with 1 Axes>"
            ]
          },
          "metadata": {
            "needs_background": "light"
          }
        }
      ]
    },
    {
      "cell_type": "markdown",
      "metadata": {
        "id": "FoBI7g6Gc5H_"
      },
      "source": [
        "$\\Large{\\text{Residual Plot}}$\n",
        "\n",
        "Sometimes it would be useful to plot the error (or) $\\textbf{residual}$ $e^i$ versus the fitted values $\\hat{y}^i=\\beta_1 x^i + \\beta_0$.  "
      ]
    },
    {
      "cell_type": "code",
      "metadata": {
        "colab": {
          "base_uri": "https://localhost:8080/",
          "height": 295
        },
        "id": "ymSVWrHgql4y",
        "outputId": "7e9b4840-09be-41c0-be77-0698c7cef104"
      },
      "source": [
        "e_i_residuals_list = [] \n",
        "for i in range(n): #access each row from the data set \n",
        "  x_i = float(brainhead_data.iat[i,2]) #access element at X column\n",
        "  y_i = float(brainhead_data.iat[i,3]) #access element at Y column\n",
        "\n",
        "  y_pred_i = beta_1 * x_i + beta_0 #compute the prediction obtained using the regression coefficients \n",
        "  e_i = y_i - y_pred_i #compute the difference between the actual observation y_i and prediction y_pred_i\n",
        "\n",
        "  e_i_residuals_list.append(e_i) #append the value of e_i to the list \n",
        "\n",
        "#plot the residuals e_i against the actual observations y_i\n",
        "plt.scatter(anscombe_data_2['Brain weight'], e_i_residuals_list,color='r')\n",
        "plt.title(\"Residual plot\")\n",
        "plt.xlabel(\"Y responses\")\n",
        "plt.ylabel(\"Residuals\")\n",
        "plt.grid()\n",
        "plt.show()"
      ],
      "execution_count": 44,
      "outputs": [
        {
          "output_type": "display_data",
          "data": {
            "image/png": "[encoded data removed]",
            "text/plain": [
              "<Figure size 432x288 with 1 Axes>"
            ]
          },
          "metadata": {
            "needs_background": "light"
          }
        }
      ]
    },
    {
      "cell_type": "markdown",
      "metadata": {
        "id": "QE8zP-1bsOjO"
      },
      "source": [
        "Note that the residual plot helps to check the variance in the errors $e^i$. "
      ]
    },
    {
      "cell_type": "markdown",
      "metadata": {
        "id": "k9ZtwNTq29kx"
      },
      "source": [
        "Let us now compute the sample correlation."
      ]
    },
    {
      "cell_type": "code",
      "metadata": {
        "colab": {
          "base_uri": "https://localhost:8080/"
        },
        "id": "mvN3xkfg3AZs",
        "outputId": "f59d8d27-adae-4bcd-9a70-d19ce7a59be5"
      },
      "source": [
        "#Note that sigma_XY and sigma_XX have already been computed. \n",
        "#Hence we will now compute sigma_YY\n",
        "\n",
        "#Also note that y_bar is computed before\n",
        "\n",
        "sigma_yy = 0\n",
        "for i in range(n): #access each row from the data set \n",
        "  y_i = float(brainhead_data.iat[i,2]) #access element at Y column\n",
        "  sigma_yy += (y_i-y_bar)**2\n",
        "\n",
        "print('sigma_yy:', sigma_yy)\n",
        "\n",
        "#Then we will compute the sample correlation\n",
        "sample_correlation = sigma_xy/(np.sqrt(sigma_xx * sigma_yy))\n",
        "print('sample correlation:',sample_correlation)"
      ],
      "execution_count": 45,
      "outputs": [
        {
          "output_type": "stream",
          "name": "stdout",
          "text": [
            "sigma_yy: 1341564450.2911386\n",
            "sample correlation: 0.040356935407015584\n"
          ]
        }
      ]
    },
    {
      "cell_type": "markdown",
      "metadata": {
        "id": "u9YHIsongthK"
      },
      "source": [
        "Let us compute $R^2$. "
      ]
    },
    {
      "cell_type": "code",
      "metadata": {
        "colab": {
          "base_uri": "https://localhost:8080/"
        },
        "id": "NpaMDr5syhMe",
        "outputId": "4aae1c6c-b4e9-4b61-fda1-884ddd34f6f7"
      },
      "source": [
        "#Note that sum of squared residuals needs to be computed \n",
        "\n",
        "sum_sq_residuals = 0\n",
        "for i in range(n): #access each row from the data set \n",
        "  x_i = float(brainhead_data.iat[i,2]) #access element at X column\n",
        "  y_i = float(brainhead_data.iat[i,3]) #access element at Y column\n",
        "  y_pred_i = beta_1*x_i + beta_0\n",
        "  sum_sq_residuals += (y_i-y_pred_i)**2\n",
        "\n",
        "print('sum of squared residuals:', sum_sq_residuals)\n",
        "\n",
        "#Then we will compute the R^2 quantity\n",
        "R_sq = 1-sum_sq_residuals/sigma_yy\n",
        "print('R^2:',R_sq)"
      ],
      "execution_count": 47,
      "outputs": [
        {
          "output_type": "stream",
          "name": "stdout",
          "text": [
            "sum of squared residuals: 1232728.0146365522\n",
            "R^2: 0.999081126505425\n"
          ]
        }
      ]
    },
    {
      "cell_type": "markdown",
      "metadata": {
        "id": "g6PRtAMDwEgG"
      },
      "source": [
        "$\\Large{\\text{Exercises:}}$\n",
        "\n",
        "\n",
        "1.   Try to use data sets from $\\text{anscombe}\\_\\text{data}\\_\\text{3.txt}$ and $\\text{anscombe}\\_\\text{data}\\_\\text{4.txt}$ and find the linear regression model for these data sets. Summarize your findings.  \n",
        "\n",
        "2.   Consider the data from http://users.stat.ufl.edu/~winner/data/brainhead.dat and the corresponding data description from http://users.stat.ufl.edu/~winner/data/brainhead.txt. Choose the predictor variable to be $\\textit{head size}$ and the $\\textit{brain weight}$ to be response variable. Use linear regression to model the relationship between head size and brain weight. Explain your findings. \n",
        "\n"
      ]
    },
    {
      "cell_type": "code",
      "metadata": {
        "id": "T47ZSd4DiFa_"
      },
      "source": [
        ""
      ],
      "execution_count": 47,
      "outputs": []
    }
  ]
}